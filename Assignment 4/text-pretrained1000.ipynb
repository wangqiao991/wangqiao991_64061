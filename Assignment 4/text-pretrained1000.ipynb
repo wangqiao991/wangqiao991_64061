{
 "cells": [
  {
   "cell_type": "markdown",
   "metadata": {
    "id": "RI6PZ9bnv8U5"
   },
   "source": [
    "### Processing words as a sequence: The sequence model approach"
   ]
  },
  {
   "cell_type": "markdown",
   "metadata": {
    "id": "EQoWfktCv8U6"
   },
   "source": [
    "#### A first practical example"
   ]
  },
  {
   "cell_type": "markdown",
   "metadata": {
    "id": "-1GA3XRdv8U6"
   },
   "source": [
    "**Downloading the data**"
   ]
  },
  {
   "cell_type": "code",
   "execution_count": 1,
   "metadata": {
    "colab": {
     "base_uri": "https://localhost:8080/"
    },
    "execution": {
     "iopub.execute_input": "2023-11-22T06:02:01.126433Z",
     "iopub.status.busy": "2023-11-22T06:02:01.123024Z",
     "iopub.status.idle": "2023-11-22T06:02:01.128004Z",
     "shell.execute_reply": "2023-11-22T06:02:01.129094Z"
    },
    "id": "P04emzBiv8U6",
    "outputId": "96ad2dc4-e3ae-4415-c5f6-8d06981d20f0"
   },
   "outputs": [],
   "source": [
    "#!curl -O https://ai.stanford.edu/~amaas/data/sentiment/aclImdb_v1.tar.gz\n",
    "#!tar -xf aclImdb_v1.tar.gz\n",
    "#!rm -r aclImdb/train/unsup"
   ]
  },
  {
   "cell_type": "markdown",
   "metadata": {
    "id": "YnH2-4KGv8U7"
   },
   "source": [
    "**Preparing the data**"
   ]
  },
  {
   "cell_type": "code",
   "execution_count": 2,
   "metadata": {
    "colab": {
     "base_uri": "https://localhost:8080/"
    },
    "execution": {
     "iopub.execute_input": "2023-11-22T06:02:01.160633Z",
     "iopub.status.busy": "2023-11-22T06:02:01.159475Z",
     "iopub.status.idle": "2023-11-22T06:03:11.218621Z",
     "shell.execute_reply": "2023-11-22T06:03:11.217193Z"
    },
    "id": "XNBFeYIRv8U7",
    "outputId": "dd132892-2914-439e-b9ec-9dbae0c64432"
   },
   "outputs": [
    {
     "name": "stdout",
     "output_type": "stream",
     "text": [
      "Found 1002 files belonging to 2 classes.\n",
      "Found 10000 files belonging to 2 classes.\n",
      "Found 13998 files belonging to 2 classes.\n",
      "Found 25000 files belonging to 2 classes.\n"
     ]
    }
   ],
   "source": [
    "import os, pathlib, shutil, random\n",
    "from tensorflow import keras\n",
    "batch_size = 32\n",
    "base_dir = pathlib.Path(\"aclImdb\")\n",
    "val_dir = base_dir / \"val\"\n",
    "train_dir = base_dir / \"train\"\n",
    "remain_dir = base_dir / \"remain\"\n",
    "for category in (\"neg\", \"pos\"):\n",
    "    os.makedirs(val_dir / category)\n",
    "    files = os.listdir(train_dir / category)\n",
    "    random.Random(1337).shuffle(files)\n",
    "    num_val_samples = int(0.4 * len(files))   # number of validation is 0.4*25000=10000\n",
    "    val_files = files[-num_val_samples:]\n",
    "    for fname in val_files:\n",
    "        shutil.move(train_dir / category / fname,\n",
    "                    val_dir / category / fname)\n",
    "\n",
    "for category in (\"neg\", \"pos\"):    # this part is to move all files not in use to remain folder\n",
    "    os.makedirs(remain_dir / category)\n",
    "    files = os.listdir(train_dir / category)\n",
    "    random.Random(1337).shuffle(files)\n",
    "    num_remain_samples = int(0.933333333333 * len(files))   # number of files remaining is (25000-10000) * 0.933333333333=14000, then training sample is 1000\n",
    "    remain_files = files[:num_remain_samples]\n",
    "    for fname in remain_files:\n",
    "        shutil.move(train_dir / category / fname,\n",
    "                    remain_dir / category / fname)\n",
    "\n",
    "train_ds = keras.utils.text_dataset_from_directory(\n",
    "    \"aclImdb/train\", batch_size=batch_size\n",
    ")\n",
    "val_ds = keras.utils.text_dataset_from_directory(\n",
    "    \"aclImdb/val\", batch_size=batch_size\n",
    ")\n",
    "remain_ds = keras.utils.text_dataset_from_directory(\n",
    "    \"aclImdb/remain\", batch_size=batch_size\n",
    ")\n",
    "test_ds = keras.utils.text_dataset_from_directory(\n",
    "    \"aclImdb/test\", batch_size=batch_size\n",
    ")\n",
    "text_only_train_ds = train_ds.map(lambda x, y: x)"
   ]
  },
  {
   "cell_type": "markdown",
   "metadata": {
    "id": "f5kUVe_-v8U7"
   },
   "source": [
    "**Preparing integer sequence datasets**"
   ]
  },
  {
   "cell_type": "code",
   "execution_count": 3,
   "metadata": {
    "execution": {
     "iopub.execute_input": "2023-11-22T06:03:11.227619Z",
     "iopub.status.busy": "2023-11-22T06:03:11.226064Z",
     "iopub.status.idle": "2023-11-22T06:03:16.104851Z",
     "shell.execute_reply": "2023-11-22T06:03:16.103120Z"
    },
    "id": "dzi1p2sNv8U8"
   },
   "outputs": [],
   "source": [
    "from tensorflow.keras import layers\n",
    "\n",
    "max_length = 150     # Cutoff reviews after 150 words\n",
    "max_tokens = 10000   # Consider only the top 10,000 words\n",
    "text_vectorization = layers.TextVectorization(\n",
    "    max_tokens=max_tokens,\n",
    "    output_mode=\"int\",\n",
    "    output_sequence_length=max_length,\n",
    ")\n",
    "text_vectorization.adapt(text_only_train_ds)\n",
    "\n",
    "int_train_ds = train_ds.map(\n",
    "    lambda x, y: (text_vectorization(x), y),\n",
    "    num_parallel_calls=4)\n",
    "int_val_ds = val_ds.map(\n",
    "    lambda x, y: (text_vectorization(x), y),\n",
    "    num_parallel_calls=4)\n",
    "int_test_ds = test_ds.map(\n",
    "    lambda x, y: (text_vectorization(x), y),\n",
    "    num_parallel_calls=4)"
   ]
  },
  {
   "cell_type": "markdown",
   "metadata": {
    "id": "GlEGqiyCv8U_"
   },
   "source": [
    "#### Using pretrained word embeddings"
   ]
  },
  {
   "cell_type": "code",
   "execution_count": 4,
   "metadata": {
    "execution": {
     "iopub.execute_input": "2023-11-22T06:03:16.111285Z",
     "iopub.status.busy": "2023-11-22T06:03:16.109792Z",
     "iopub.status.idle": "2023-11-22T06:03:16.114434Z",
     "shell.execute_reply": "2023-11-22T06:03:16.112955Z"
    },
    "id": "KQcreJUFv8U_"
   },
   "outputs": [],
   "source": [
    "#!wget http://nlp.stanford.edu/data/glove.6B.zip\n",
    "#!unzip -q glove.6B.zip"
   ]
  },
  {
   "cell_type": "markdown",
   "metadata": {
    "id": "4Z0HOHiTv8VA"
   },
   "source": [
    "**Parsing the GloVe word-embeddings file**"
   ]
  },
  {
   "cell_type": "code",
   "execution_count": 5,
   "metadata": {
    "execution": {
     "iopub.execute_input": "2023-11-22T06:03:16.122050Z",
     "iopub.status.busy": "2023-11-22T06:03:16.120670Z",
     "iopub.status.idle": "2023-11-22T06:03:22.511002Z",
     "shell.execute_reply": "2023-11-22T06:03:22.512338Z"
    },
    "id": "8YIeysCrv8VA"
   },
   "outputs": [
    {
     "name": "stdout",
     "output_type": "stream",
     "text": [
      "Found 400000 word vectors.\n"
     ]
    }
   ],
   "source": [
    "import numpy as np\n",
    "path_to_glove_file = \"glove.6B.100d.txt\"\n",
    "\n",
    "embeddings_index = {}\n",
    "with open(path_to_glove_file) as f:\n",
    "    for line in f:\n",
    "        word, coefs = line.split(maxsplit=1)\n",
    "        coefs = np.fromstring(coefs, \"f\", sep=\" \")\n",
    "        embeddings_index[word] = coefs\n",
    "\n",
    "print(f\"Found {len(embeddings_index)} word vectors.\")"
   ]
  },
  {
   "cell_type": "markdown",
   "metadata": {
    "id": "8tKCO437v8VA"
   },
   "source": [
    "**Preparing the GloVe word-embeddings matrix**"
   ]
  },
  {
   "cell_type": "code",
   "execution_count": 6,
   "metadata": {
    "execution": {
     "iopub.execute_input": "2023-11-22T06:03:22.518329Z",
     "iopub.status.busy": "2023-11-22T06:03:22.517828Z",
     "iopub.status.idle": "2023-11-22T06:03:22.593814Z",
     "shell.execute_reply": "2023-11-22T06:03:22.593100Z"
    },
    "id": "hyQNLqxSv8VA"
   },
   "outputs": [],
   "source": [
    "embedding_dim = 100\n",
    "\n",
    "vocabulary = text_vectorization.get_vocabulary()\n",
    "word_index = dict(zip(vocabulary, range(len(vocabulary))))\n",
    "\n",
    "embedding_matrix = np.zeros((max_tokens, embedding_dim))\n",
    "for word, i in word_index.items():\n",
    "    if i < max_tokens:\n",
    "        embedding_vector = embeddings_index.get(word)\n",
    "    if embedding_vector is not None:\n",
    "        embedding_matrix[i] = embedding_vector"
   ]
  },
  {
   "cell_type": "code",
   "execution_count": 7,
   "metadata": {
    "execution": {
     "iopub.execute_input": "2023-11-22T06:03:22.606784Z",
     "iopub.status.busy": "2023-11-22T06:03:22.605980Z",
     "iopub.status.idle": "2023-11-22T06:03:22.610390Z",
     "shell.execute_reply": "2023-11-22T06:03:22.609759Z"
    },
    "id": "eDlGe4dwv8VA"
   },
   "outputs": [],
   "source": [
    "embedding_layer = layers.Embedding(\n",
    "    max_tokens,\n",
    "    embedding_dim,\n",
    "    embeddings_initializer=keras.initializers.Constant(embedding_matrix),\n",
    "    trainable=False,\n",
    "    mask_zero=True,\n",
    ")"
   ]
  },
  {
   "cell_type": "markdown",
   "metadata": {
    "id": "awbFwXUov8VA"
   },
   "source": [
    "**Model that uses a pretrained Embedding layer**"
   ]
  },
  {
   "cell_type": "code",
   "execution_count": 8,
   "metadata": {
    "execution": {
     "iopub.execute_input": "2023-11-22T06:03:22.626224Z",
     "iopub.status.busy": "2023-11-22T06:03:22.619901Z",
     "iopub.status.idle": "2023-11-22T06:04:30.902376Z",
     "shell.execute_reply": "2023-11-22T06:04:30.903067Z"
    },
    "id": "f3uteyKRv8VB"
   },
   "outputs": [
    {
     "name": "stdout",
     "output_type": "stream",
     "text": [
      "Model: \"model\"\n",
      "_________________________________________________________________\n",
      "Layer (type)                 Output Shape              Param #   \n",
      "=================================================================\n",
      "input_1 (InputLayer)         [(None, None)]            0         \n",
      "_________________________________________________________________\n",
      "embedding (Embedding)        (None, None, 100)         1000000   \n",
      "_________________________________________________________________\n",
      "bidirectional (Bidirectional (None, 64)                34048     \n",
      "_________________________________________________________________\n",
      "dropout (Dropout)            (None, 64)                0         \n",
      "_________________________________________________________________\n",
      "dense (Dense)                (None, 1)                 65        \n",
      "=================================================================\n",
      "Total params: 1,034,113\n",
      "Trainable params: 34,113\n",
      "Non-trainable params: 1,000,000\n",
      "_________________________________________________________________\n",
      "Epoch 1/10\n",
      "32/32 [==============================] - 12s 191ms/step - loss: 0.7014 - accuracy: 0.5200 - val_loss: 0.7005 - val_accuracy: 0.5123\n",
      "Epoch 2/10\n",
      "32/32 [==============================] - 4s 131ms/step - loss: 0.6802 - accuracy: 0.5649 - val_loss: 0.6776 - val_accuracy: 0.5694\n",
      "Epoch 3/10\n",
      "32/32 [==============================] - 4s 123ms/step - loss: 0.6585 - accuracy: 0.6257 - val_loss: 0.7256 - val_accuracy: 0.5213\n",
      "Epoch 4/10\n",
      "32/32 [==============================] - 4s 128ms/step - loss: 0.6416 - accuracy: 0.6417 - val_loss: 0.6484 - val_accuracy: 0.6233\n",
      "Epoch 5/10\n",
      "32/32 [==============================] - 4s 127ms/step - loss: 0.6176 - accuracy: 0.6677 - val_loss: 0.6241 - val_accuracy: 0.6534\n",
      "Epoch 6/10\n",
      "32/32 [==============================] - 4s 125ms/step - loss: 0.5932 - accuracy: 0.6747 - val_loss: 0.6082 - val_accuracy: 0.6727\n",
      "Epoch 7/10\n",
      "32/32 [==============================] - 4s 130ms/step - loss: 0.5539 - accuracy: 0.7046 - val_loss: 0.6226 - val_accuracy: 0.6458\n",
      "Epoch 8/10\n",
      "32/32 [==============================] - 4s 125ms/step - loss: 0.5603 - accuracy: 0.6996 - val_loss: 0.7232 - val_accuracy: 0.5936\n",
      "Epoch 9/10\n",
      "32/32 [==============================] - 4s 127ms/step - loss: 0.5362 - accuracy: 0.7255 - val_loss: 0.5950 - val_accuracy: 0.6872\n",
      "Epoch 10/10\n",
      "32/32 [==============================] - 4s 124ms/step - loss: 0.4890 - accuracy: 0.7715 - val_loss: 0.8028 - val_accuracy: 0.5728\n",
      "782/782 [==============================] - 11s 12ms/step - loss: 0.5993 - accuracy: 0.6755\n",
      "Test acc: 0.676\n"
     ]
    }
   ],
   "source": [
    "inputs = keras.Input(shape=(None,), dtype=\"int64\")\n",
    "embedded = embedding_layer(inputs)\n",
    "x = layers.Bidirectional(layers.LSTM(32))(embedded)\n",
    "x = layers.Dropout(0.5)(x)\n",
    "outputs = layers.Dense(1, activation=\"sigmoid\")(x)\n",
    "model = keras.Model(inputs, outputs)\n",
    "model.compile(optimizer=\"rmsprop\",\n",
    "              loss=\"binary_crossentropy\",\n",
    "              metrics=[\"accuracy\"])\n",
    "model.summary()\n",
    "\n",
    "callbacks = [\n",
    "    keras.callbacks.ModelCheckpoint(\"glove_embeddings_sequence_model.keras\",\n",
    "                                    save_best_only=True)\n",
    "]\n",
    "model.fit(int_train_ds, validation_data=int_val_ds, epochs=10, callbacks=callbacks)\n",
    "model = keras.models.load_model(\"glove_embeddings_sequence_model.keras\")\n",
    "print(f\"Test acc: {model.evaluate(int_test_ds)[1]:.3f}\")"
   ]
  }
 ],
 "metadata": {
  "colab": {
   "provenance": []
  },
  "kernelspec": {
   "display_name": "Python 3",
   "language": "python",
   "name": "python3"
  },
  "language_info": {
   "codemirror_mode": {
    "name": "ipython",
    "version": 3
   },
   "file_extension": ".py",
   "mimetype": "text/x-python",
   "name": "python",
   "nbconvert_exporter": "python",
   "pygments_lexer": "ipython3",
   "version": "3.6.8"
  }
 },
 "nbformat": 4,
 "nbformat_minor": 4
}
