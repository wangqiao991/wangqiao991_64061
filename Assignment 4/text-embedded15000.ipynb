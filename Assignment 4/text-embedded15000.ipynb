{
 "cells": [
  {
   "cell_type": "markdown",
   "metadata": {
    "id": "RI6PZ9bnv8U5"
   },
   "source": [
    "### Processing words as a sequence: The sequence model approach"
   ]
  },
  {
   "cell_type": "markdown",
   "metadata": {
    "id": "EQoWfktCv8U6"
   },
   "source": [
    "#### A first practical example"
   ]
  },
  {
   "cell_type": "markdown",
   "metadata": {
    "id": "-1GA3XRdv8U6"
   },
   "source": [
    "**Downloading the data**"
   ]
  },
  {
   "cell_type": "code",
   "execution_count": 1,
   "metadata": {
    "colab": {
     "base_uri": "https://localhost:8080/"
    },
    "execution": {
     "iopub.execute_input": "2023-11-22T06:23:14.418788Z",
     "iopub.status.busy": "2023-11-22T06:23:14.415444Z",
     "iopub.status.idle": "2023-11-22T06:23:14.420347Z",
     "shell.execute_reply": "2023-11-22T06:23:14.421440Z"
    },
    "id": "P04emzBiv8U6",
    "outputId": "96ad2dc4-e3ae-4415-c5f6-8d06981d20f0"
   },
   "outputs": [],
   "source": [
    "#!curl -O https://ai.stanford.edu/~amaas/data/sentiment/aclImdb_v1.tar.gz\n",
    "#!tar -xf aclImdb_v1.tar.gz\n",
    "#!rm -r aclImdb/train/unsup"
   ]
  },
  {
   "cell_type": "markdown",
   "metadata": {
    "id": "YnH2-4KGv8U7"
   },
   "source": [
    "**Preparing the data**"
   ]
  },
  {
   "cell_type": "code",
   "execution_count": 2,
   "metadata": {
    "colab": {
     "base_uri": "https://localhost:8080/"
    },
    "execution": {
     "iopub.execute_input": "2023-11-22T06:23:14.452956Z",
     "iopub.status.busy": "2023-11-22T06:23:14.436813Z",
     "iopub.status.idle": "2023-11-22T06:23:56.462152Z",
     "shell.execute_reply": "2023-11-22T06:23:56.460729Z"
    },
    "id": "XNBFeYIRv8U7",
    "outputId": "dd132892-2914-439e-b9ec-9dbae0c64432"
   },
   "outputs": [
    {
     "name": "stdout",
     "output_type": "stream",
     "text": [
      "Found 15000 files belonging to 2 classes.\n",
      "Found 10000 files belonging to 2 classes.\n",
      "Found 25000 files belonging to 2 classes.\n"
     ]
    }
   ],
   "source": [
    "import os, pathlib, shutil, random\n",
    "from tensorflow import keras\n",
    "batch_size = 32\n",
    "base_dir = pathlib.Path(\"aclImdb\")\n",
    "val_dir = base_dir / \"val\"\n",
    "train_dir = base_dir / \"train\"\n",
    "remain_dir = base_dir / \"remain\"\n",
    "for category in (\"neg\", \"pos\"):\n",
    "    os.makedirs(val_dir / category)\n",
    "    files = os.listdir(train_dir / category)\n",
    "    random.Random(1337).shuffle(files)\n",
    "    num_val_samples = int(0.4 * len(files))   # number of validation is 0.4*25000=10000\n",
    "    val_files = files[-num_val_samples:]\n",
    "    for fname in val_files:\n",
    "        shutil.move(train_dir / category / fname,\n",
    "                    val_dir / category / fname)\n",
    "\"\"\"\n",
    "for category in (\"neg\", \"pos\"):    # this part is to move all files not in use to remain folder\n",
    "    os.makedirs(remain_dir / category)\n",
    "    files = os.listdir(train_dir / category)\n",
    "    random.Random(1337).shuffle(files)\n",
    "    num_remain_samples = int(0.3333333333333 * len(files))    # number of files remaining is (25000-10000) * 0.3333333333333=5000, then training sample is 10000\n",
    "    remain_files = files[:num_remain_samples]\n",
    "    for fname in remain_files:\n",
    "        shutil.move(train_dir / category / fname,\n",
    "                    remain_dir / category / fname)\n",
    "\"\"\"\n",
    "train_ds = keras.utils.text_dataset_from_directory(\n",
    "    \"aclImdb/train\", batch_size=batch_size\n",
    ")\n",
    "val_ds = keras.utils.text_dataset_from_directory(\n",
    "    \"aclImdb/val\", batch_size=batch_size\n",
    ")\n",
    "#remain_ds = keras.utils.text_dataset_from_directory(\n",
    "#    \"aclImdb/remain\", batch_size=batch_size\n",
    "#)\n",
    "test_ds = keras.utils.text_dataset_from_directory(\n",
    "    \"aclImdb/test\", batch_size=batch_size\n",
    ")\n",
    "text_only_train_ds = train_ds.map(lambda x, y: x)"
   ]
  },
  {
   "cell_type": "markdown",
   "metadata": {
    "id": "f5kUVe_-v8U7"
   },
   "source": [
    "**Preparing integer sequence datasets**"
   ]
  },
  {
   "cell_type": "code",
   "execution_count": 3,
   "metadata": {
    "execution": {
     "iopub.execute_input": "2023-11-22T06:23:56.474488Z",
     "iopub.status.busy": "2023-11-22T06:23:56.473938Z",
     "iopub.status.idle": "2023-11-22T06:24:05.694919Z",
     "shell.execute_reply": "2023-11-22T06:24:05.693382Z"
    },
    "id": "dzi1p2sNv8U8"
   },
   "outputs": [],
   "source": [
    "from tensorflow.keras import layers\n",
    "\n",
    "max_length = 150     # Cutoff reviews after 150 words\n",
    "max_tokens = 10000   # Consider only the top 10,000 words\n",
    "text_vectorization = layers.TextVectorization(\n",
    "    max_tokens=max_tokens,\n",
    "    output_mode=\"int\",\n",
    "    output_sequence_length=max_length,\n",
    ")\n",
    "text_vectorization.adapt(text_only_train_ds)\n",
    "\n",
    "int_train_ds = train_ds.map(\n",
    "    lambda x, y: (text_vectorization(x), y),\n",
    "    num_parallel_calls=4)\n",
    "int_val_ds = val_ds.map(\n",
    "    lambda x, y: (text_vectorization(x), y),\n",
    "    num_parallel_calls=4)\n",
    "int_test_ds = test_ds.map(\n",
    "    lambda x, y: (text_vectorization(x), y),\n",
    "    num_parallel_calls=4)"
   ]
  },
  {
   "cell_type": "markdown",
   "metadata": {
    "id": "Hg-r1d3av8U9"
   },
   "source": [
    "#### Learning word embeddings with the Embedding layer"
   ]
  },
  {
   "cell_type": "markdown",
   "metadata": {
    "id": "7Oi_PF0Hv8U9"
   },
   "source": [
    "**Instantiating an `Embedding` layer**"
   ]
  },
  {
   "cell_type": "code",
   "execution_count": 4,
   "metadata": {
    "execution": {
     "iopub.execute_input": "2023-11-22T06:24:05.704821Z",
     "iopub.status.busy": "2023-11-22T06:24:05.703301Z",
     "iopub.status.idle": "2023-11-22T06:24:05.707900Z",
     "shell.execute_reply": "2023-11-22T06:24:05.708951Z"
    },
    "id": "P0yvQrgHv8U-"
   },
   "outputs": [],
   "source": [
    "embedding_layer = layers.Embedding(input_dim=max_tokens, output_dim=256)"
   ]
  },
  {
   "cell_type": "markdown",
   "metadata": {
    "id": "8SlZHDSFv8U-"
   },
   "source": [
    "**Model that uses an `Embedding` layer trained from scratch**"
   ]
  },
  {
   "cell_type": "code",
   "execution_count": 5,
   "metadata": {
    "execution": {
     "iopub.execute_input": "2023-11-22T06:24:05.721507Z",
     "iopub.status.busy": "2023-11-22T06:24:05.720075Z",
     "iopub.status.idle": "2023-11-22T06:25:54.095269Z",
     "shell.execute_reply": "2023-11-22T06:25:54.095848Z"
    },
    "id": "ZSi3SdCJv8U-"
   },
   "outputs": [
    {
     "name": "stdout",
     "output_type": "stream",
     "text": [
      "Model: \"model\"\n",
      "_________________________________________________________________\n",
      "Layer (type)                 Output Shape              Param #   \n",
      "=================================================================\n",
      "input_1 (InputLayer)         [(None, None)]            0         \n",
      "_________________________________________________________________\n",
      "embedding_1 (Embedding)      (None, None, 256)         2560000   \n",
      "_________________________________________________________________\n",
      "bidirectional (Bidirectional (None, 64)                73984     \n",
      "_________________________________________________________________\n",
      "dropout (Dropout)            (None, 64)                0         \n",
      "_________________________________________________________________\n",
      "dense (Dense)                (None, 1)                 65        \n",
      "=================================================================\n",
      "Total params: 2,634,049\n",
      "Trainable params: 2,634,049\n",
      "Non-trainable params: 0\n",
      "_________________________________________________________________\n",
      "Epoch 1/10\n",
      "469/469 [==============================] - 14s 22ms/step - loss: 0.4850 - accuracy: 0.7752 - val_loss: 0.5082 - val_accuracy: 0.7751\n",
      "Epoch 2/10\n",
      "469/469 [==============================] - 9s 19ms/step - loss: 0.3234 - accuracy: 0.8722 - val_loss: 0.4096 - val_accuracy: 0.8173\n",
      "Epoch 3/10\n",
      "469/469 [==============================] - 9s 20ms/step - loss: 0.2585 - accuracy: 0.9009 - val_loss: 0.4088 - val_accuracy: 0.8497\n",
      "Epoch 4/10\n",
      "469/469 [==============================] - 9s 20ms/step - loss: 0.2200 - accuracy: 0.9177 - val_loss: 0.3872 - val_accuracy: 0.8476\n",
      "Epoch 5/10\n",
      "469/469 [==============================] - 10s 20ms/step - loss: 0.1739 - accuracy: 0.9359 - val_loss: 0.4496 - val_accuracy: 0.8461\n",
      "Epoch 6/10\n",
      "469/469 [==============================] - 9s 19ms/step - loss: 0.1368 - accuracy: 0.9491 - val_loss: 0.4793 - val_accuracy: 0.8303\n",
      "Epoch 7/10\n",
      "469/469 [==============================] - 9s 20ms/step - loss: 0.1010 - accuracy: 0.9658 - val_loss: 0.5060 - val_accuracy: 0.8374\n",
      "Epoch 8/10\n",
      "469/469 [==============================] - 9s 20ms/step - loss: 0.0751 - accuracy: 0.9735 - val_loss: 0.6480 - val_accuracy: 0.8369\n",
      "Epoch 9/10\n",
      "469/469 [==============================] - 9s 19ms/step - loss: 0.0565 - accuracy: 0.9808 - val_loss: 0.6986 - val_accuracy: 0.8309\n",
      "Epoch 10/10\n",
      "469/469 [==============================] - 9s 19ms/step - loss: 0.0387 - accuracy: 0.9873 - val_loss: 0.7987 - val_accuracy: 0.8285\n",
      "782/782 [==============================] - 10s 12ms/step - loss: 0.4139 - accuracy: 0.8327\n",
      "Test acc: 0.833\n"
     ]
    }
   ],
   "source": [
    "inputs = keras.Input(shape=(None,), dtype=\"int64\")\n",
    "embedded = layers.Embedding(input_dim=max_tokens, output_dim=256)(inputs)\n",
    "x = layers.Bidirectional(layers.LSTM(32))(embedded)\n",
    "x = layers.Dropout(0.5)(x)\n",
    "outputs = layers.Dense(1, activation=\"sigmoid\")(x)\n",
    "model = keras.Model(inputs, outputs)\n",
    "model.compile(optimizer=\"rmsprop\",\n",
    "              loss=\"binary_crossentropy\",\n",
    "              metrics=[\"accuracy\"])\n",
    "model.summary()\n",
    "\n",
    "callbacks = [\n",
    "    keras.callbacks.ModelCheckpoint(\"embeddings_bidir_gru.keras\",\n",
    "                                    save_best_only=True)\n",
    "]\n",
    "model.fit(int_train_ds, validation_data=int_val_ds, epochs=10, callbacks=callbacks)\n",
    "model = keras.models.load_model(\"embeddings_bidir_gru.keras\")\n",
    "print(f\"Test acc: {model.evaluate(int_test_ds)[1]:.3f}\")"
   ]
  }
 ],
 "metadata": {
  "colab": {
   "provenance": []
  },
  "kernelspec": {
   "display_name": "Python 3",
   "language": "python",
   "name": "python3"
  },
  "language_info": {
   "codemirror_mode": {
    "name": "ipython",
    "version": 3
   },
   "file_extension": ".py",
   "mimetype": "text/x-python",
   "name": "python",
   "nbconvert_exporter": "python",
   "pygments_lexer": "ipython3",
   "version": "3.6.8"
  }
 },
 "nbformat": 4,
 "nbformat_minor": 4
}
