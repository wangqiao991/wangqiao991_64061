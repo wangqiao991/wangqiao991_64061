{
 "cells": [
  {
   "cell_type": "markdown",
   "metadata": {
    "id": "RI6PZ9bnv8U5"
   },
   "source": [
    "### Processing words as a sequence: The sequence model approach"
   ]
  },
  {
   "cell_type": "markdown",
   "metadata": {
    "id": "EQoWfktCv8U6"
   },
   "source": [
    "#### A first practical example"
   ]
  },
  {
   "cell_type": "markdown",
   "metadata": {
    "id": "-1GA3XRdv8U6"
   },
   "source": [
    "**Downloading the data**"
   ]
  },
  {
   "cell_type": "code",
   "execution_count": 1,
   "metadata": {
    "colab": {
     "base_uri": "https://localhost:8080/"
    },
    "execution": {
     "iopub.execute_input": "2023-11-22T06:35:53.525308Z",
     "iopub.status.busy": "2023-11-22T06:35:53.522197Z",
     "iopub.status.idle": "2023-11-22T06:35:53.526756Z",
     "shell.execute_reply": "2023-11-22T06:35:53.527755Z"
    },
    "id": "P04emzBiv8U6",
    "outputId": "96ad2dc4-e3ae-4415-c5f6-8d06981d20f0"
   },
   "outputs": [],
   "source": [
    "#!curl -O https://ai.stanford.edu/~amaas/data/sentiment/aclImdb_v1.tar.gz\n",
    "#!tar -xf aclImdb_v1.tar.gz\n",
    "#!rm -r aclImdb/train/unsup"
   ]
  },
  {
   "cell_type": "markdown",
   "metadata": {
    "id": "YnH2-4KGv8U7"
   },
   "source": [
    "**Preparing the data**"
   ]
  },
  {
   "cell_type": "code",
   "execution_count": 2,
   "metadata": {
    "colab": {
     "base_uri": "https://localhost:8080/"
    },
    "execution": {
     "iopub.execute_input": "2023-11-22T06:35:53.557430Z",
     "iopub.status.busy": "2023-11-22T06:35:53.555757Z",
     "iopub.status.idle": "2023-11-22T06:36:30.334491Z",
     "shell.execute_reply": "2023-11-22T06:36:30.333134Z"
    },
    "id": "XNBFeYIRv8U7",
    "outputId": "dd132892-2914-439e-b9ec-9dbae0c64432"
   },
   "outputs": [
    {
     "name": "stdout",
     "output_type": "stream",
     "text": [
      "Found 15000 files belonging to 2 classes.\n",
      "Found 10000 files belonging to 2 classes.\n",
      "Found 25000 files belonging to 2 classes.\n"
     ]
    }
   ],
   "source": [
    "import os, pathlib, shutil, random\n",
    "from tensorflow import keras\n",
    "batch_size = 32\n",
    "base_dir = pathlib.Path(\"aclImdb\")\n",
    "val_dir = base_dir / \"val\"\n",
    "train_dir = base_dir / \"train\"\n",
    "remain_dir = base_dir / \"remain\"\n",
    "for category in (\"neg\", \"pos\"):\n",
    "    os.makedirs(val_dir / category)\n",
    "    files = os.listdir(train_dir / category)\n",
    "    random.Random(1337).shuffle(files)\n",
    "    num_val_samples = int(0.4 * len(files))   # number of validation is 0.4*25000=10000\n",
    "    val_files = files[-num_val_samples:]\n",
    "    for fname in val_files:\n",
    "        shutil.move(train_dir / category / fname,\n",
    "                    val_dir / category / fname)\n",
    "\n",
    "train_ds = keras.utils.text_dataset_from_directory(\n",
    "    \"aclImdb/train\", batch_size=batch_size\n",
    ")\n",
    "val_ds = keras.utils.text_dataset_from_directory(\n",
    "    \"aclImdb/val\", batch_size=batch_size\n",
    ")\n",
    "test_ds = keras.utils.text_dataset_from_directory(\n",
    "    \"aclImdb/test\", batch_size=batch_size\n",
    ")\n",
    "text_only_train_ds = train_ds.map(lambda x, y: x)"
   ]
  },
  {
   "cell_type": "markdown",
   "metadata": {
    "id": "f5kUVe_-v8U7"
   },
   "source": [
    "**Preparing integer sequence datasets**"
   ]
  },
  {
   "cell_type": "code",
   "execution_count": 3,
   "metadata": {
    "execution": {
     "iopub.execute_input": "2023-11-22T06:36:30.344679Z",
     "iopub.status.busy": "2023-11-22T06:36:30.344116Z",
     "iopub.status.idle": "2023-11-22T06:36:39.539269Z",
     "shell.execute_reply": "2023-11-22T06:36:39.537555Z"
    },
    "id": "dzi1p2sNv8U8"
   },
   "outputs": [],
   "source": [
    "from tensorflow.keras import layers\n",
    "\n",
    "max_length = 150     # Cutoff reviews after 150 words\n",
    "max_tokens = 10000   # Consider only the top 10,000 words\n",
    "text_vectorization = layers.TextVectorization(\n",
    "    max_tokens=max_tokens,\n",
    "    output_mode=\"int\",\n",
    "    output_sequence_length=max_length,\n",
    ")\n",
    "text_vectorization.adapt(text_only_train_ds)\n",
    "\n",
    "int_train_ds = train_ds.map(\n",
    "    lambda x, y: (text_vectorization(x), y),\n",
    "    num_parallel_calls=4)\n",
    "int_val_ds = val_ds.map(\n",
    "    lambda x, y: (text_vectorization(x), y),\n",
    "    num_parallel_calls=4)\n",
    "int_test_ds = test_ds.map(\n",
    "    lambda x, y: (text_vectorization(x), y),\n",
    "    num_parallel_calls=4)"
   ]
  },
  {
   "cell_type": "markdown",
   "metadata": {
    "id": "ES_RWMh3v8U8"
   },
   "source": [
    "**A sequence model built on one-hot encoded vector sequences**"
   ]
  },
  {
   "cell_type": "code",
   "execution_count": 4,
   "metadata": {
    "colab": {
     "base_uri": "https://localhost:8080/"
    },
    "execution": {
     "iopub.execute_input": "2023-11-22T06:36:39.553174Z",
     "iopub.status.busy": "2023-11-22T06:36:39.551621Z",
     "iopub.status.idle": "2023-11-22T06:36:40.031118Z",
     "shell.execute_reply": "2023-11-22T06:36:40.032338Z"
    },
    "id": "BxHXnY0gv8U8",
    "outputId": "1d462b64-a1bf-4c2d-af04-c614ce040195"
   },
   "outputs": [
    {
     "name": "stdout",
     "output_type": "stream",
     "text": [
      "Model: \"model\"\n",
      "_________________________________________________________________\n",
      "Layer (type)                 Output Shape              Param #   \n",
      "=================================================================\n",
      "input_1 (InputLayer)         [(None, None)]            0         \n",
      "_________________________________________________________________\n",
      "tf.one_hot (TFOpLambda)      (None, None, 10000)       0         \n",
      "_________________________________________________________________\n",
      "bidirectional (Bidirectional (None, 64)                2568448   \n",
      "_________________________________________________________________\n",
      "dropout (Dropout)            (None, 64)                0         \n",
      "_________________________________________________________________\n",
      "dense (Dense)                (None, 1)                 65        \n",
      "=================================================================\n",
      "Total params: 2,568,513\n",
      "Trainable params: 2,568,513\n",
      "Non-trainable params: 0\n",
      "_________________________________________________________________\n"
     ]
    }
   ],
   "source": [
    "import tensorflow as tf\n",
    "inputs = keras.Input(shape=(None,), dtype=\"int64\")\n",
    "embedded = tf.one_hot(inputs, depth=max_tokens)\n",
    "x = layers.Bidirectional(layers.LSTM(32))(embedded)\n",
    "x = layers.Dropout(0.5)(x)\n",
    "outputs = layers.Dense(1, activation=\"sigmoid\")(x)\n",
    "model = keras.Model(inputs, outputs)\n",
    "model.compile(optimizer=\"rmsprop\",\n",
    "              loss=\"binary_crossentropy\",\n",
    "              metrics=[\"accuracy\"])\n",
    "model.summary()"
   ]
  },
  {
   "cell_type": "markdown",
   "metadata": {
    "id": "eFPjZi_iv8U9"
   },
   "source": [
    "**Training a first basic sequence model**"
   ]
  },
  {
   "cell_type": "code",
   "execution_count": 5,
   "metadata": {
    "colab": {
     "base_uri": "https://localhost:8080/"
    },
    "execution": {
     "iopub.execute_input": "2023-11-22T06:36:40.040325Z",
     "iopub.status.busy": "2023-11-22T06:36:40.038288Z",
     "iopub.status.idle": "2023-11-22T06:39:05.281606Z",
     "shell.execute_reply": "2023-11-22T06:39:05.282122Z"
    },
    "id": "dWapc_8cv8U9",
    "outputId": "41591590-f7ad-4446-da8c-4839d8abdbeb"
   },
   "outputs": [
    {
     "name": "stdout",
     "output_type": "stream",
     "text": [
      "Epoch 1/10\n",
      "469/469 [==============================] - 17s 29ms/step - loss: 0.5491 - accuracy: 0.7199 - val_loss: 0.4979 - val_accuracy: 0.7929\n",
      "Epoch 2/10\n",
      "469/469 [==============================] - 13s 28ms/step - loss: 0.3702 - accuracy: 0.8551 - val_loss: 0.4223 - val_accuracy: 0.8175\n",
      "Epoch 3/10\n",
      "469/469 [==============================] - 13s 28ms/step - loss: 0.2924 - accuracy: 0.8891 - val_loss: 0.5640 - val_accuracy: 0.8356\n",
      "Epoch 4/10\n",
      "469/469 [==============================] - 13s 28ms/step - loss: 0.2346 - accuracy: 0.9135 - val_loss: 0.3835 - val_accuracy: 0.8390\n",
      "Epoch 5/10\n",
      "469/469 [==============================] - 13s 28ms/step - loss: 0.1883 - accuracy: 0.9321 - val_loss: 0.4007 - val_accuracy: 0.8263\n",
      "Epoch 6/10\n",
      "469/469 [==============================] - 13s 28ms/step - loss: 0.1415 - accuracy: 0.9516 - val_loss: 0.4943 - val_accuracy: 0.8419\n",
      "Epoch 7/10\n",
      "469/469 [==============================] - 13s 27ms/step - loss: 0.1179 - accuracy: 0.9593 - val_loss: 0.6413 - val_accuracy: 0.8447\n",
      "Epoch 8/10\n",
      "469/469 [==============================] - 13s 28ms/step - loss: 0.0910 - accuracy: 0.9705 - val_loss: 0.5161 - val_accuracy: 0.8165\n",
      "Epoch 9/10\n",
      "469/469 [==============================] - 13s 28ms/step - loss: 0.0711 - accuracy: 0.9767 - val_loss: 0.5478 - val_accuracy: 0.8326\n",
      "Epoch 10/10\n",
      "469/469 [==============================] - 13s 28ms/step - loss: 0.0570 - accuracy: 0.9817 - val_loss: 0.6880 - val_accuracy: 0.8371\n",
      "782/782 [==============================] - 10s 12ms/step - loss: 0.3970 - accuracy: 0.8269\n",
      "Test acc: 0.827\n"
     ]
    }
   ],
   "source": [
    "callbacks = [\n",
    "    keras.callbacks.ModelCheckpoint(\"one_hot_bidir_lstm.keras\",\n",
    "                                    save_best_only=True)\n",
    "]\n",
    "model.fit(int_train_ds, validation_data=int_val_ds, epochs=10, callbacks=callbacks)\n",
    "model = keras.models.load_model(\"one_hot_bidir_lstm.keras\")\n",
    "print(f\"Test acc: {model.evaluate(int_test_ds)[1]:.3f}\")"
   ]
  }
 ],
 "metadata": {
  "colab": {
   "provenance": []
  },
  "kernelspec": {
   "display_name": "Python 3",
   "language": "python",
   "name": "python3"
  },
  "language_info": {
   "codemirror_mode": {
    "name": "ipython",
    "version": 3
   },
   "file_extension": ".py",
   "mimetype": "text/x-python",
   "name": "python",
   "nbconvert_exporter": "python",
   "pygments_lexer": "ipython3",
   "version": "3.6.8"
  }
 },
 "nbformat": 4,
 "nbformat_minor": 4
}
