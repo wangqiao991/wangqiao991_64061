{
 "cells": [
  {
   "cell_type": "markdown",
   "metadata": {
    "id": "RI6PZ9bnv8U5"
   },
   "source": [
    "### Processing words as a sequence: The sequence model approach"
   ]
  },
  {
   "cell_type": "markdown",
   "metadata": {
    "id": "EQoWfktCv8U6"
   },
   "source": [
    "#### A first practical example"
   ]
  },
  {
   "cell_type": "markdown",
   "metadata": {
    "id": "-1GA3XRdv8U6"
   },
   "source": [
    "**Downloading the data**"
   ]
  },
  {
   "cell_type": "code",
   "execution_count": 1,
   "metadata": {
    "colab": {
     "base_uri": "https://localhost:8080/"
    },
    "execution": {
     "iopub.execute_input": "2023-11-22T04:43:04.143194Z",
     "iopub.status.busy": "2023-11-22T04:43:04.139918Z",
     "iopub.status.idle": "2023-11-22T04:43:04.145438Z",
     "shell.execute_reply": "2023-11-22T04:43:04.144388Z"
    },
    "id": "P04emzBiv8U6",
    "outputId": "96ad2dc4-e3ae-4415-c5f6-8d06981d20f0"
   },
   "outputs": [],
   "source": [
    "#!curl -O https://ai.stanford.edu/~amaas/data/sentiment/aclImdb_v1.tar.gz\n",
    "#!tar -xf aclImdb_v1.tar.gz\n",
    "#!rm -r aclImdb/train/unsup"
   ]
  },
  {
   "cell_type": "markdown",
   "metadata": {
    "id": "YnH2-4KGv8U7"
   },
   "source": [
    "**Preparing the data**"
   ]
  },
  {
   "cell_type": "code",
   "execution_count": 2,
   "metadata": {
    "colab": {
     "base_uri": "https://localhost:8080/"
    },
    "execution": {
     "iopub.execute_input": "2023-11-22T04:43:04.176890Z",
     "iopub.status.busy": "2023-11-22T04:43:04.175708Z",
     "iopub.status.idle": "2023-11-22T04:44:03.792405Z",
     "shell.execute_reply": "2023-11-22T04:44:03.791161Z"
    },
    "id": "XNBFeYIRv8U7",
    "outputId": "dd132892-2914-439e-b9ec-9dbae0c64432"
   },
   "outputs": [
    {
     "name": "stdout",
     "output_type": "stream",
     "text": [
      "Found 1002 files belonging to 2 classes.\n",
      "Found 10000 files belonging to 2 classes.\n",
      "Found 13998 files belonging to 2 classes.\n",
      "Found 25000 files belonging to 2 classes.\n"
     ]
    }
   ],
   "source": [
    "import os, pathlib, shutil, random\n",
    "from tensorflow import keras\n",
    "batch_size = 32\n",
    "base_dir = pathlib.Path(\"aclImdb\")\n",
    "val_dir = base_dir / \"val\"\n",
    "train_dir = base_dir / \"train\"\n",
    "remain_dir = base_dir / \"remain\"\n",
    "for category in (\"neg\", \"pos\"):\n",
    "    os.makedirs(val_dir / category)\n",
    "    files = os.listdir(train_dir / category)\n",
    "    random.Random(1337).shuffle(files)\n",
    "    num_val_samples = int(0.4 * len(files))   # number of validation is 0.4*25000=10000\n",
    "    val_files = files[-num_val_samples:]\n",
    "    for fname in val_files:\n",
    "        shutil.move(train_dir / category / fname,\n",
    "                    val_dir / category / fname)\n",
    "\n",
    "for category in (\"neg\", \"pos\"):    # this part is to move all files not in use to remain folder\n",
    "    os.makedirs(remain_dir / category)\n",
    "    files = os.listdir(train_dir / category)\n",
    "    random.Random(1337).shuffle(files)\n",
    "    num_remain_samples = int(0.933333333333 * len(files))   # number of files remaining is (25000-10000) * 0.933333333333=14000, then training sample is 1000\n",
    "    remain_files = files[:num_remain_samples]\n",
    "    for fname in remain_files:\n",
    "        shutil.move(train_dir / category / fname,\n",
    "                    remain_dir / category / fname)\n",
    "\n",
    "train_ds = keras.utils.text_dataset_from_directory(\n",
    "    \"aclImdb/train\", batch_size=batch_size\n",
    ")\n",
    "val_ds = keras.utils.text_dataset_from_directory(\n",
    "    \"aclImdb/val\", batch_size=batch_size\n",
    ")\n",
    "remain_ds = keras.utils.text_dataset_from_directory(\n",
    "    \"aclImdb/remain\", batch_size=batch_size\n",
    ")\n",
    "test_ds = keras.utils.text_dataset_from_directory(\n",
    "    \"aclImdb/test\", batch_size=batch_size\n",
    ")\n",
    "text_only_train_ds = train_ds.map(lambda x, y: x)"
   ]
  },
  {
   "cell_type": "markdown",
   "metadata": {
    "id": "f5kUVe_-v8U7"
   },
   "source": [
    "**Preparing integer sequence datasets**"
   ]
  },
  {
   "cell_type": "code",
   "execution_count": 3,
   "metadata": {
    "execution": {
     "iopub.execute_input": "2023-11-22T04:44:03.803948Z",
     "iopub.status.busy": "2023-11-22T04:44:03.803393Z",
     "iopub.status.idle": "2023-11-22T04:44:08.160679Z",
     "shell.execute_reply": "2023-11-22T04:44:08.159180Z"
    },
    "id": "dzi1p2sNv8U8"
   },
   "outputs": [],
   "source": [
    "from tensorflow.keras import layers\n",
    "\n",
    "max_length = 150     # Cutoff reviews after 150 words\n",
    "max_tokens = 10000   # Consider only the top 10,000 words\n",
    "text_vectorization = layers.TextVectorization(\n",
    "    max_tokens=max_tokens,\n",
    "    output_mode=\"int\",\n",
    "    output_sequence_length=max_length,\n",
    ")\n",
    "text_vectorization.adapt(text_only_train_ds)\n",
    "\n",
    "int_train_ds = train_ds.map(\n",
    "    lambda x, y: (text_vectorization(x), y),\n",
    "    num_parallel_calls=4)\n",
    "int_val_ds = val_ds.map(\n",
    "    lambda x, y: (text_vectorization(x), y),\n",
    "    num_parallel_calls=4)\n",
    "int_test_ds = test_ds.map(\n",
    "    lambda x, y: (text_vectorization(x), y),\n",
    "    num_parallel_calls=4)"
   ]
  },
  {
   "cell_type": "markdown",
   "metadata": {
    "id": "Hg-r1d3av8U9"
   },
   "source": [
    "#### Learning word embeddings with the Embedding layer"
   ]
  },
  {
   "cell_type": "markdown",
   "metadata": {
    "id": "7Oi_PF0Hv8U9"
   },
   "source": [
    "**Instantiating an `Embedding` layer**"
   ]
  },
  {
   "cell_type": "code",
   "execution_count": 4,
   "metadata": {
    "execution": {
     "iopub.execute_input": "2023-11-22T04:44:08.169862Z",
     "iopub.status.busy": "2023-11-22T04:44:08.168571Z",
     "iopub.status.idle": "2023-11-22T04:44:08.173040Z",
     "shell.execute_reply": "2023-11-22T04:44:08.171922Z"
    },
    "id": "P0yvQrgHv8U-"
   },
   "outputs": [],
   "source": [
    "embedding_layer = layers.Embedding(input_dim=max_tokens, output_dim=256)"
   ]
  },
  {
   "cell_type": "markdown",
   "metadata": {
    "id": "8SlZHDSFv8U-"
   },
   "source": [
    "**Model that uses an `Embedding` layer trained from scratch**"
   ]
  },
  {
   "cell_type": "code",
   "execution_count": 5,
   "metadata": {
    "execution": {
     "iopub.execute_input": "2023-11-22T04:44:08.185111Z",
     "iopub.status.busy": "2023-11-22T04:44:08.183862Z",
     "iopub.status.idle": "2023-11-22T04:45:00.244725Z",
     "shell.execute_reply": "2023-11-22T04:45:00.245447Z"
    },
    "id": "ZSi3SdCJv8U-"
   },
   "outputs": [
    {
     "name": "stdout",
     "output_type": "stream",
     "text": [
      "Model: \"model\"\n",
      "_________________________________________________________________\n",
      "Layer (type)                 Output Shape              Param #   \n",
      "=================================================================\n",
      "input_1 (InputLayer)         [(None, None)]            0         \n",
      "_________________________________________________________________\n",
      "embedding_1 (Embedding)      (None, None, 256)         2560000   \n",
      "_________________________________________________________________\n",
      "bidirectional (Bidirectional (None, 64)                73984     \n",
      "_________________________________________________________________\n",
      "dropout (Dropout)            (None, 64)                0         \n",
      "_________________________________________________________________\n",
      "dense (Dense)                (None, 1)                 65        \n",
      "=================================================================\n",
      "Total params: 2,634,049\n",
      "Trainable params: 2,634,049\n",
      "Non-trainable params: 0\n",
      "_________________________________________________________________\n",
      "Epoch 1/10\n",
      "32/32 [==============================] - 8s 161ms/step - loss: 0.6923 - accuracy: 0.5100 - val_loss: 0.6877 - val_accuracy: 0.5556\n",
      "Epoch 2/10\n",
      "32/32 [==============================] - 4s 111ms/step - loss: 0.6079 - accuracy: 0.7335 - val_loss: 0.6235 - val_accuracy: 0.6508\n",
      "Epoch 3/10\n",
      "32/32 [==============================] - 4s 114ms/step - loss: 0.3581 - accuracy: 0.8942 - val_loss: 0.6164 - val_accuracy: 0.7117\n",
      "Epoch 4/10\n",
      "32/32 [==============================] - 4s 118ms/step - loss: 0.1753 - accuracy: 0.9601 - val_loss: 0.6974 - val_accuracy: 0.7036\n",
      "Epoch 5/10\n",
      "32/32 [==============================] - 4s 112ms/step - loss: 0.0798 - accuracy: 0.9780 - val_loss: 0.6734 - val_accuracy: 0.7538\n",
      "Epoch 6/10\n",
      "32/32 [==============================] - 4s 111ms/step - loss: 0.0398 - accuracy: 0.9920 - val_loss: 0.8573 - val_accuracy: 0.7345\n",
      "Epoch 7/10\n",
      "32/32 [==============================] - 4s 112ms/step - loss: 0.0126 - accuracy: 0.9990 - val_loss: 0.9969 - val_accuracy: 0.7289\n",
      "Epoch 8/10\n",
      "32/32 [==============================] - 4s 113ms/step - loss: 0.0198 - accuracy: 0.9950 - val_loss: 1.0472 - val_accuracy: 0.7210\n",
      "Epoch 9/10\n",
      "32/32 [==============================] - 4s 113ms/step - loss: 0.0052 - accuracy: 0.9980 - val_loss: 1.0740 - val_accuracy: 0.7439\n",
      "Epoch 10/10\n",
      "32/32 [==============================] - 4s 120ms/step - loss: 0.0076 - accuracy: 0.9970 - val_loss: 1.0840 - val_accuracy: 0.7496\n",
      "782/782 [==============================] - 9s 11ms/step - loss: 0.6210 - accuracy: 0.7057\n",
      "Test acc: 0.706\n"
     ]
    }
   ],
   "source": [
    "inputs = keras.Input(shape=(None,), dtype=\"int64\")\n",
    "embedded = layers.Embedding(input_dim=max_tokens, output_dim=256)(inputs)\n",
    "x = layers.Bidirectional(layers.LSTM(32))(embedded)\n",
    "x = layers.Dropout(0.5)(x)\n",
    "outputs = layers.Dense(1, activation=\"sigmoid\")(x)\n",
    "model = keras.Model(inputs, outputs)\n",
    "model.compile(optimizer=\"rmsprop\",\n",
    "              loss=\"binary_crossentropy\",\n",
    "              metrics=[\"accuracy\"])\n",
    "model.summary()\n",
    "\n",
    "callbacks = [\n",
    "    keras.callbacks.ModelCheckpoint(\"embeddings_bidir_gru.keras\",\n",
    "                                    save_best_only=True)\n",
    "]\n",
    "model.fit(int_train_ds, validation_data=int_val_ds, epochs=10, callbacks=callbacks)\n",
    "model = keras.models.load_model(\"embeddings_bidir_gru.keras\")\n",
    "print(f\"Test acc: {model.evaluate(int_test_ds)[1]:.3f}\")"
   ]
  }
 ],
 "metadata": {
  "colab": {
   "provenance": []
  },
  "kernelspec": {
   "display_name": "Python 3",
   "language": "python",
   "name": "python3"
  },
  "language_info": {
   "codemirror_mode": {
    "name": "ipython",
    "version": 3
   },
   "file_extension": ".py",
   "mimetype": "text/x-python",
   "name": "python",
   "nbconvert_exporter": "python",
   "pygments_lexer": "ipython3",
   "version": "3.6.8"
  }
 },
 "nbformat": 4,
 "nbformat_minor": 4
}
