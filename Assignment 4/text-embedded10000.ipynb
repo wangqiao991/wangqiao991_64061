{
 "cells": [
  {
   "cell_type": "markdown",
   "metadata": {
    "id": "RI6PZ9bnv8U5"
   },
   "source": [
    "### Processing words as a sequence: The sequence model approach"
   ]
  },
  {
   "cell_type": "markdown",
   "metadata": {
    "id": "EQoWfktCv8U6"
   },
   "source": [
    "#### A first practical example"
   ]
  },
  {
   "cell_type": "markdown",
   "metadata": {
    "id": "-1GA3XRdv8U6"
   },
   "source": [
    "**Downloading the data**"
   ]
  },
  {
   "cell_type": "code",
   "execution_count": 1,
   "metadata": {
    "colab": {
     "base_uri": "https://localhost:8080/"
    },
    "execution": {
     "iopub.execute_input": "2023-11-22T04:47:02.484694Z",
     "iopub.status.busy": "2023-11-22T04:47:02.481554Z",
     "iopub.status.idle": "2023-11-22T04:47:02.486080Z",
     "shell.execute_reply": "2023-11-22T04:47:02.487053Z"
    },
    "id": "P04emzBiv8U6",
    "outputId": "96ad2dc4-e3ae-4415-c5f6-8d06981d20f0"
   },
   "outputs": [],
   "source": [
    "#!curl -O https://ai.stanford.edu/~amaas/data/sentiment/aclImdb_v1.tar.gz\n",
    "#!tar -xf aclImdb_v1.tar.gz\n",
    "#!rm -r aclImdb/train/unsup"
   ]
  },
  {
   "cell_type": "markdown",
   "metadata": {
    "id": "YnH2-4KGv8U7"
   },
   "source": [
    "**Preparing the data**"
   ]
  },
  {
   "cell_type": "code",
   "execution_count": 2,
   "metadata": {
    "colab": {
     "base_uri": "https://localhost:8080/"
    },
    "execution": {
     "iopub.execute_input": "2023-11-22T04:47:02.517236Z",
     "iopub.status.busy": "2023-11-22T04:47:02.515773Z",
     "iopub.status.idle": "2023-11-22T04:47:42.721268Z",
     "shell.execute_reply": "2023-11-22T04:47:42.720128Z"
    },
    "id": "XNBFeYIRv8U7",
    "outputId": "dd132892-2914-439e-b9ec-9dbae0c64432"
   },
   "outputs": [
    {
     "name": "stdout",
     "output_type": "stream",
     "text": [
      "Found 10002 files belonging to 2 classes.\n",
      "Found 10000 files belonging to 2 classes.\n",
      "Found 4998 files belonging to 2 classes.\n",
      "Found 25000 files belonging to 2 classes.\n"
     ]
    }
   ],
   "source": [
    "import os, pathlib, shutil, random\n",
    "from tensorflow import keras\n",
    "batch_size = 32\n",
    "base_dir = pathlib.Path(\"aclImdb\")\n",
    "val_dir = base_dir / \"val\"\n",
    "train_dir = base_dir / \"train\"\n",
    "remain_dir = base_dir / \"remain\"\n",
    "for category in (\"neg\", \"pos\"):\n",
    "    os.makedirs(val_dir / category)\n",
    "    files = os.listdir(train_dir / category)\n",
    "    random.Random(1337).shuffle(files)\n",
    "    num_val_samples = int(0.4 * len(files))   # number of validation is 0.4*25000=10000\n",
    "    val_files = files[-num_val_samples:]\n",
    "    for fname in val_files:\n",
    "        shutil.move(train_dir / category / fname,\n",
    "                    val_dir / category / fname)\n",
    "\n",
    "for category in (\"neg\", \"pos\"):    # this part is to move all files not in use to remain folder\n",
    "    os.makedirs(remain_dir / category)\n",
    "    files = os.listdir(train_dir / category)\n",
    "    random.Random(1337).shuffle(files)\n",
    "    num_remain_samples = int(0.3333333333333 * len(files))    # number of files remaining is (25000-10000) * 0.3333333333333=5000, then training sample is 10000\n",
    "    remain_files = files[:num_remain_samples]\n",
    "    for fname in remain_files:\n",
    "        shutil.move(train_dir / category / fname,\n",
    "                    remain_dir / category / fname)\n",
    "\n",
    "train_ds = keras.utils.text_dataset_from_directory(\n",
    "    \"aclImdb/train\", batch_size=batch_size\n",
    ")\n",
    "val_ds = keras.utils.text_dataset_from_directory(\n",
    "    \"aclImdb/val\", batch_size=batch_size\n",
    ")\n",
    "remain_ds = keras.utils.text_dataset_from_directory(\n",
    "    \"aclImdb/remain\", batch_size=batch_size\n",
    ")\n",
    "test_ds = keras.utils.text_dataset_from_directory(\n",
    "    \"aclImdb/test\", batch_size=batch_size\n",
    ")\n",
    "text_only_train_ds = train_ds.map(lambda x, y: x)"
   ]
  },
  {
   "cell_type": "markdown",
   "metadata": {
    "id": "f5kUVe_-v8U7"
   },
   "source": [
    "**Preparing integer sequence datasets**"
   ]
  },
  {
   "cell_type": "code",
   "execution_count": 3,
   "metadata": {
    "execution": {
     "iopub.execute_input": "2023-11-22T04:47:42.727751Z",
     "iopub.status.busy": "2023-11-22T04:47:42.727164Z",
     "iopub.status.idle": "2023-11-22T04:47:49.678129Z",
     "shell.execute_reply": "2023-11-22T04:47:49.676868Z"
    },
    "id": "dzi1p2sNv8U8"
   },
   "outputs": [],
   "source": [
    "from tensorflow.keras import layers\n",
    "\n",
    "max_length = 150     # Cutoff reviews after 150 words\n",
    "max_tokens = 10000   # Consider only the top 10,000 words\n",
    "text_vectorization = layers.TextVectorization(\n",
    "    max_tokens=max_tokens,\n",
    "    output_mode=\"int\",\n",
    "    output_sequence_length=max_length,\n",
    ")\n",
    "text_vectorization.adapt(text_only_train_ds)\n",
    "\n",
    "int_train_ds = train_ds.map(\n",
    "    lambda x, y: (text_vectorization(x), y),\n",
    "    num_parallel_calls=4)\n",
    "int_val_ds = val_ds.map(\n",
    "    lambda x, y: (text_vectorization(x), y),\n",
    "    num_parallel_calls=4)\n",
    "int_test_ds = test_ds.map(\n",
    "    lambda x, y: (text_vectorization(x), y),\n",
    "    num_parallel_calls=4)"
   ]
  },
  {
   "cell_type": "markdown",
   "metadata": {
    "id": "Hg-r1d3av8U9"
   },
   "source": [
    "#### Learning word embeddings with the Embedding layer"
   ]
  },
  {
   "cell_type": "markdown",
   "metadata": {
    "id": "7Oi_PF0Hv8U9"
   },
   "source": [
    "**Instantiating an `Embedding` layer**"
   ]
  },
  {
   "cell_type": "code",
   "execution_count": 4,
   "metadata": {
    "execution": {
     "iopub.execute_input": "2023-11-22T04:47:49.688423Z",
     "iopub.status.busy": "2023-11-22T04:47:49.687103Z",
     "iopub.status.idle": "2023-11-22T04:47:49.689866Z",
     "shell.execute_reply": "2023-11-22T04:47:49.690903Z"
    },
    "id": "P0yvQrgHv8U-"
   },
   "outputs": [],
   "source": [
    "embedding_layer = layers.Embedding(input_dim=max_tokens, output_dim=256)"
   ]
  },
  {
   "cell_type": "markdown",
   "metadata": {
    "id": "8SlZHDSFv8U-"
   },
   "source": [
    "**Model that uses an `Embedding` layer trained from scratch**"
   ]
  },
  {
   "cell_type": "code",
   "execution_count": 5,
   "metadata": {
    "execution": {
     "iopub.execute_input": "2023-11-22T04:47:49.708350Z",
     "iopub.status.busy": "2023-11-22T04:47:49.707079Z",
     "iopub.status.idle": "2023-11-22T04:49:08.990784Z",
     "shell.execute_reply": "2023-11-22T04:49:08.991260Z"
    },
    "id": "ZSi3SdCJv8U-"
   },
   "outputs": [
    {
     "name": "stdout",
     "output_type": "stream",
     "text": [
      "Model: \"model\"\n",
      "_________________________________________________________________\n",
      "Layer (type)                 Output Shape              Param #   \n",
      "=================================================================\n",
      "input_1 (InputLayer)         [(None, None)]            0         \n",
      "_________________________________________________________________\n",
      "embedding_1 (Embedding)      (None, None, 256)         2560000   \n",
      "_________________________________________________________________\n",
      "bidirectional (Bidirectional (None, 64)                73984     \n",
      "_________________________________________________________________\n",
      "dropout (Dropout)            (None, 64)                0         \n",
      "_________________________________________________________________\n",
      "dense (Dense)                (None, 1)                 65        \n",
      "=================================================================\n",
      "Total params: 2,634,049\n",
      "Trainable params: 2,634,049\n",
      "Non-trainable params: 0\n",
      "_________________________________________________________________\n",
      "Epoch 1/10\n",
      "313/313 [==============================] - 11s 25ms/step - loss: 0.5373 - accuracy: 0.7278 - val_loss: 0.4369 - val_accuracy: 0.7985\n",
      "Epoch 2/10\n",
      "313/313 [==============================] - 7s 21ms/step - loss: 0.3310 - accuracy: 0.8653 - val_loss: 0.6290 - val_accuracy: 0.7479\n",
      "Epoch 3/10\n",
      "313/313 [==============================] - 6s 20ms/step - loss: 0.2551 - accuracy: 0.9036 - val_loss: 0.4231 - val_accuracy: 0.8394\n",
      "Epoch 4/10\n",
      "313/313 [==============================] - 7s 21ms/step - loss: 0.1931 - accuracy: 0.9277 - val_loss: 0.4456 - val_accuracy: 0.8287\n",
      "Epoch 5/10\n",
      "313/313 [==============================] - 7s 21ms/step - loss: 0.1514 - accuracy: 0.9452 - val_loss: 0.5971 - val_accuracy: 0.8012\n",
      "Epoch 6/10\n",
      "313/313 [==============================] - 7s 21ms/step - loss: 0.1126 - accuracy: 0.9619 - val_loss: 0.5380 - val_accuracy: 0.8315\n",
      "Epoch 7/10\n",
      "313/313 [==============================] - 6s 20ms/step - loss: 0.0846 - accuracy: 0.9722 - val_loss: 0.5780 - val_accuracy: 0.8366\n",
      "Epoch 8/10\n",
      "313/313 [==============================] - 7s 21ms/step - loss: 0.0626 - accuracy: 0.9797 - val_loss: 0.7635 - val_accuracy: 0.8199\n",
      "Epoch 9/10\n",
      "313/313 [==============================] - 6s 20ms/step - loss: 0.0429 - accuracy: 0.9857 - val_loss: 0.6866 - val_accuracy: 0.8189\n",
      "Epoch 10/10\n",
      "313/313 [==============================] - 7s 21ms/step - loss: 0.0303 - accuracy: 0.9899 - val_loss: 0.8524 - val_accuracy: 0.8137\n",
      "782/782 [==============================] - 8s 9ms/step - loss: 0.4663 - accuracy: 0.8202\n",
      "Test acc: 0.820\n"
     ]
    }
   ],
   "source": [
    "inputs = keras.Input(shape=(None,), dtype=\"int64\")\n",
    "embedded = layers.Embedding(input_dim=max_tokens, output_dim=256)(inputs)\n",
    "x = layers.Bidirectional(layers.LSTM(32))(embedded)\n",
    "x = layers.Dropout(0.5)(x)\n",
    "outputs = layers.Dense(1, activation=\"sigmoid\")(x)\n",
    "model = keras.Model(inputs, outputs)\n",
    "model.compile(optimizer=\"rmsprop\",\n",
    "              loss=\"binary_crossentropy\",\n",
    "              metrics=[\"accuracy\"])\n",
    "model.summary()\n",
    "\n",
    "callbacks = [\n",
    "    keras.callbacks.ModelCheckpoint(\"embeddings_bidir_gru.keras\",\n",
    "                                    save_best_only=True)\n",
    "]\n",
    "model.fit(int_train_ds, validation_data=int_val_ds, epochs=10, callbacks=callbacks)\n",
    "model = keras.models.load_model(\"embeddings_bidir_gru.keras\")\n",
    "print(f\"Test acc: {model.evaluate(int_test_ds)[1]:.3f}\")"
   ]
  }
 ],
 "metadata": {
  "colab": {
   "provenance": []
  },
  "kernelspec": {
   "display_name": "Python 3",
   "language": "python",
   "name": "python3"
  },
  "language_info": {
   "codemirror_mode": {
    "name": "ipython",
    "version": 3
   },
   "file_extension": ".py",
   "mimetype": "text/x-python",
   "name": "python",
   "nbconvert_exporter": "python",
   "pygments_lexer": "ipython3",
   "version": "3.6.8"
  }
 },
 "nbformat": 4,
 "nbformat_minor": 4
}
