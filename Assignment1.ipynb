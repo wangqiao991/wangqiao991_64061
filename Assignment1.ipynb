{
  "nbformat": 4,
  "nbformat_minor": 0,
  "metadata": {
    "colab": {
      "provenance": [],
      "toc_visible": true,
      "name": "imdb-Qiao.ipynb",
      "authorship_tag": "ABX9TyNZ6bx7aK+RyaiHNp1LNIlk",
      "include_colab_link": true
    },
    "kernelspec": {
      "name": "python3",
      "display_name": "Python 3"
    },
    "language_info": {
      "name": "python"
    }
  },
  "cells": [
    {
      "cell_type": "markdown",
      "metadata": {
        "id": "view-in-github",
        "colab_type": "text"
      },
      "source": [
        "<a href=\"https://colab.research.google.com/github/wangqiao991/wangqiao991_64061/blob/main/Assignment1.ipynb\" target=\"_parent\"><img src=\"https://colab.research.google.com/assets/colab-badge.svg\" alt=\"Open In Colab\"/></a>"
      ]
    },
    {
      "cell_type": "markdown",
      "metadata": {
        "id": "Skrqz2MgAJ_Y"
      },
      "source": [
        "### The IMDB dataset"
      ]
    },
    {
      "cell_type": "markdown",
      "metadata": {
        "id": "OWhRThd4AJ_Y"
      },
      "source": [
        "**Loading the IMDB dataset**"
      ]
    },
    {
      "cell_type": "code",
      "execution_count": 5,
      "metadata": {
        "id": "Co2glZqsAJ_Y"
      },
      "outputs": [],
      "source": [
        "from tensorflow.keras.datasets import imdb\n",
        "(train_data, train_labels), (test_data, test_labels) = imdb.load_data(\n",
        "    num_words=10000)"
      ]
    },
    {
      "cell_type": "code",
      "execution_count": 6,
      "metadata": {
        "id": "ONq1YZxaAJ_Z",
        "colab": {
          "base_uri": "https://localhost:8080/"
        },
        "outputId": "fd180bb3-f489-404b-af9f-7f45c7975e45"
      },
      "outputs": [
        {
          "output_type": "execute_result",
          "data": {
            "text/plain": [
              "[1,\n",
              " 14,\n",
              " 22,\n",
              " 16,\n",
              " 43,\n",
              " 530,\n",
              " 973,\n",
              " 1622,\n",
              " 1385,\n",
              " 65,\n",
              " 458,\n",
              " 4468,\n",
              " 66,\n",
              " 3941,\n",
              " 4,\n",
              " 173,\n",
              " 36,\n",
              " 256,\n",
              " 5,\n",
              " 25,\n",
              " 100,\n",
              " 43,\n",
              " 838,\n",
              " 112,\n",
              " 50,\n",
              " 670,\n",
              " 2,\n",
              " 9,\n",
              " 35,\n",
              " 480,\n",
              " 284,\n",
              " 5,\n",
              " 150,\n",
              " 4,\n",
              " 172,\n",
              " 112,\n",
              " 167,\n",
              " 2,\n",
              " 336,\n",
              " 385,\n",
              " 39,\n",
              " 4,\n",
              " 172,\n",
              " 4536,\n",
              " 1111,\n",
              " 17,\n",
              " 546,\n",
              " 38,\n",
              " 13,\n",
              " 447,\n",
              " 4,\n",
              " 192,\n",
              " 50,\n",
              " 16,\n",
              " 6,\n",
              " 147,\n",
              " 2025,\n",
              " 19,\n",
              " 14,\n",
              " 22,\n",
              " 4,\n",
              " 1920,\n",
              " 4613,\n",
              " 469,\n",
              " 4,\n",
              " 22,\n",
              " 71,\n",
              " 87,\n",
              " 12,\n",
              " 16,\n",
              " 43,\n",
              " 530,\n",
              " 38,\n",
              " 76,\n",
              " 15,\n",
              " 13,\n",
              " 1247,\n",
              " 4,\n",
              " 22,\n",
              " 17,\n",
              " 515,\n",
              " 17,\n",
              " 12,\n",
              " 16,\n",
              " 626,\n",
              " 18,\n",
              " 2,\n",
              " 5,\n",
              " 62,\n",
              " 386,\n",
              " 12,\n",
              " 8,\n",
              " 316,\n",
              " 8,\n",
              " 106,\n",
              " 5,\n",
              " 4,\n",
              " 2223,\n",
              " 5244,\n",
              " 16,\n",
              " 480,\n",
              " 66,\n",
              " 3785,\n",
              " 33,\n",
              " 4,\n",
              " 130,\n",
              " 12,\n",
              " 16,\n",
              " 38,\n",
              " 619,\n",
              " 5,\n",
              " 25,\n",
              " 124,\n",
              " 51,\n",
              " 36,\n",
              " 135,\n",
              " 48,\n",
              " 25,\n",
              " 1415,\n",
              " 33,\n",
              " 6,\n",
              " 22,\n",
              " 12,\n",
              " 215,\n",
              " 28,\n",
              " 77,\n",
              " 52,\n",
              " 5,\n",
              " 14,\n",
              " 407,\n",
              " 16,\n",
              " 82,\n",
              " 2,\n",
              " 8,\n",
              " 4,\n",
              " 107,\n",
              " 117,\n",
              " 5952,\n",
              " 15,\n",
              " 256,\n",
              " 4,\n",
              " 2,\n",
              " 7,\n",
              " 3766,\n",
              " 5,\n",
              " 723,\n",
              " 36,\n",
              " 71,\n",
              " 43,\n",
              " 530,\n",
              " 476,\n",
              " 26,\n",
              " 400,\n",
              " 317,\n",
              " 46,\n",
              " 7,\n",
              " 4,\n",
              " 2,\n",
              " 1029,\n",
              " 13,\n",
              " 104,\n",
              " 88,\n",
              " 4,\n",
              " 381,\n",
              " 15,\n",
              " 297,\n",
              " 98,\n",
              " 32,\n",
              " 2071,\n",
              " 56,\n",
              " 26,\n",
              " 141,\n",
              " 6,\n",
              " 194,\n",
              " 7486,\n",
              " 18,\n",
              " 4,\n",
              " 226,\n",
              " 22,\n",
              " 21,\n",
              " 134,\n",
              " 476,\n",
              " 26,\n",
              " 480,\n",
              " 5,\n",
              " 144,\n",
              " 30,\n",
              " 5535,\n",
              " 18,\n",
              " 51,\n",
              " 36,\n",
              " 28,\n",
              " 224,\n",
              " 92,\n",
              " 25,\n",
              " 104,\n",
              " 4,\n",
              " 226,\n",
              " 65,\n",
              " 16,\n",
              " 38,\n",
              " 1334,\n",
              " 88,\n",
              " 12,\n",
              " 16,\n",
              " 283,\n",
              " 5,\n",
              " 16,\n",
              " 4472,\n",
              " 113,\n",
              " 103,\n",
              " 32,\n",
              " 15,\n",
              " 16,\n",
              " 5345,\n",
              " 19,\n",
              " 178,\n",
              " 32]"
            ]
          },
          "metadata": {},
          "execution_count": 6
        }
      ],
      "source": [
        "train_data[0]"
      ]
    },
    {
      "cell_type": "markdown",
      "source": [],
      "metadata": {
        "id": "pbmEmIUO8aXK"
      }
    },
    {
      "cell_type": "code",
      "execution_count": 7,
      "metadata": {
        "id": "N1Lv8dIAAJ_Z",
        "colab": {
          "base_uri": "https://localhost:8080/"
        },
        "outputId": "d108eda3-1d48-46b7-a5d5-f91aa95bcedd"
      },
      "outputs": [
        {
          "output_type": "execute_result",
          "data": {
            "text/plain": [
              "1"
            ]
          },
          "metadata": {},
          "execution_count": 7
        }
      ],
      "source": [
        "train_labels[0]"
      ]
    },
    {
      "cell_type": "code",
      "execution_count": 8,
      "metadata": {
        "id": "As2nfmGoAJ_Z",
        "colab": {
          "base_uri": "https://localhost:8080/"
        },
        "outputId": "503a965a-f045-4dd3-ce9e-7e5d5862fba1"
      },
      "outputs": [
        {
          "output_type": "execute_result",
          "data": {
            "text/plain": [
              "9999"
            ]
          },
          "metadata": {},
          "execution_count": 8
        }
      ],
      "source": [
        "max([max(sequence) for sequence in train_data])"
      ]
    },
    {
      "cell_type": "markdown",
      "metadata": {
        "id": "OolTrEhoAJ_Z"
      },
      "source": [
        "**Decoding reviews back to text**"
      ]
    },
    {
      "cell_type": "code",
      "execution_count": 9,
      "metadata": {
        "id": "us3NGr-KAJ_a"
      },
      "outputs": [],
      "source": [
        "word_index = imdb.get_word_index()\n",
        "reverse_word_index = dict(\n",
        "    [(value, key) for (key, value) in word_index.items()])\n",
        "decoded_review = \" \".join(\n",
        "    [reverse_word_index.get(i - 3, \"?\") for i in train_data[0]])"
      ]
    },
    {
      "cell_type": "markdown",
      "metadata": {
        "id": "LQsbTfVpAJ_a"
      },
      "source": [
        "### Preparing the data"
      ]
    },
    {
      "cell_type": "markdown",
      "metadata": {
        "id": "VyDU0P04AJ_a"
      },
      "source": [
        "**Encoding the integer sequences via multi-hot encoding**"
      ]
    },
    {
      "cell_type": "code",
      "execution_count": 10,
      "metadata": {
        "id": "BUPfKOnhAJ_b"
      },
      "outputs": [],
      "source": [
        "import numpy as np\n",
        "def vectorize_sequences(sequences, dimension=10000):\n",
        "    results = np.zeros((len(sequences), dimension))\n",
        "    for i, sequence in enumerate(sequences):\n",
        "        for j in sequence:\n",
        "            results[i, j] = 1.\n",
        "    return results\n",
        "x_train = vectorize_sequences(train_data)\n",
        "x_test = vectorize_sequences(test_data)"
      ]
    },
    {
      "cell_type": "code",
      "execution_count": 11,
      "metadata": {
        "id": "EjMIj38fAJ_b",
        "colab": {
          "base_uri": "https://localhost:8080/"
        },
        "outputId": "cdaf2c48-0367-4c99-b1d4-a84cef5964e7"
      },
      "outputs": [
        {
          "output_type": "execute_result",
          "data": {
            "text/plain": [
              "array([0., 1., 1., ..., 0., 0., 0.])"
            ]
          },
          "metadata": {},
          "execution_count": 11
        }
      ],
      "source": [
        "x_train[0]"
      ]
    },
    {
      "cell_type": "code",
      "execution_count": 12,
      "metadata": {
        "id": "v6H1QeLkAJ_b"
      },
      "outputs": [],
      "source": [
        "y_train = np.asarray(train_labels).astype(\"float32\")\n",
        "y_test = np.asarray(test_labels).astype(\"float32\")"
      ]
    },
    {
      "cell_type": "markdown",
      "metadata": {
        "id": "rwsMnBJ6AJ_b"
      },
      "source": [
        "### Building your model"
      ]
    },
    {
      "cell_type": "markdown",
      "metadata": {
        "id": "BVfloIBKAJ_c"
      },
      "source": [
        "**Model definition**"
      ]
    },
    {
      "cell_type": "code",
      "execution_count": 13,
      "metadata": {
        "id": "DeN6k030AJ_c"
      },
      "outputs": [],
      "source": [
        "from tensorflow import keras\n",
        "from tensorflow.keras import layers\n",
        "\n",
        "model = keras.Sequential([\n",
        "    layers.Dense(16, activation=\"relu\"),\n",
        "    layers.Dense(16, activation=\"relu\"),\n",
        "    layers.Dense(1, activation=\"sigmoid\")\n",
        "])"
      ]
    },
    {
      "cell_type": "markdown",
      "metadata": {
        "id": "Wzex9ksfAJ_c"
      },
      "source": [
        "**Compiling the model**"
      ]
    },
    {
      "cell_type": "code",
      "execution_count": 14,
      "metadata": {
        "id": "SagrAoqOAJ_c"
      },
      "outputs": [],
      "source": [
        "model.compile(optimizer=\"rmsprop\",\n",
        "              loss=\"binary_crossentropy\",\n",
        "              metrics=[\"accuracy\"])"
      ]
    },
    {
      "cell_type": "markdown",
      "metadata": {
        "id": "YrInMp40AJ_d"
      },
      "source": [
        "### Validating your approach"
      ]
    },
    {
      "cell_type": "markdown",
      "metadata": {
        "id": "X_VdlvVVAJ_d"
      },
      "source": [
        "**Setting aside a validation set**"
      ]
    },
    {
      "cell_type": "code",
      "execution_count": 15,
      "metadata": {
        "id": "QjGsoy75AJ_d"
      },
      "outputs": [],
      "source": [
        "x_val = x_train[:10000]\n",
        "partial_x_train = x_train[10000:]\n",
        "y_val = y_train[:10000]\n",
        "partial_y_train = y_train[10000:]"
      ]
    },
    {
      "cell_type": "markdown",
      "metadata": {
        "id": "-h1TcCAsAJ_d"
      },
      "source": [
        "**Training your model**"
      ]
    },
    {
      "cell_type": "code",
      "execution_count": 16,
      "metadata": {
        "id": "pOv7gs9BAJ_d",
        "colab": {
          "base_uri": "https://localhost:8080/"
        },
        "outputId": "b7e20f4a-8857-496c-c585-0b39d50d7fe6"
      },
      "outputs": [
        {
          "output_type": "stream",
          "name": "stdout",
          "text": [
            "Epoch 1/20\n",
            "30/30 [==============================] - 3s 71ms/step - loss: 0.5588 - accuracy: 0.7361 - val_loss: 0.4431 - val_accuracy: 0.8486\n",
            "Epoch 2/20\n",
            "30/30 [==============================] - 1s 36ms/step - loss: 0.3450 - accuracy: 0.8893 - val_loss: 0.3252 - val_accuracy: 0.8823\n",
            "Epoch 3/20\n",
            "30/30 [==============================] - 2s 57ms/step - loss: 0.2520 - accuracy: 0.9170 - val_loss: 0.3217 - val_accuracy: 0.8678\n",
            "Epoch 4/20\n",
            "30/30 [==============================] - 1s 50ms/step - loss: 0.2017 - accuracy: 0.9341 - val_loss: 0.3238 - val_accuracy: 0.8697\n",
            "Epoch 5/20\n",
            "30/30 [==============================] - 1s 39ms/step - loss: 0.1645 - accuracy: 0.9484 - val_loss: 0.2777 - val_accuracy: 0.8864\n",
            "Epoch 6/20\n",
            "30/30 [==============================] - 1s 35ms/step - loss: 0.1424 - accuracy: 0.9561 - val_loss: 0.3215 - val_accuracy: 0.8732\n",
            "Epoch 7/20\n",
            "30/30 [==============================] - 1s 35ms/step - loss: 0.1202 - accuracy: 0.9641 - val_loss: 0.3014 - val_accuracy: 0.8832\n",
            "Epoch 8/20\n",
            "30/30 [==============================] - 1s 37ms/step - loss: 0.1024 - accuracy: 0.9707 - val_loss: 0.3148 - val_accuracy: 0.8807\n",
            "Epoch 9/20\n",
            "30/30 [==============================] - 1s 37ms/step - loss: 0.0859 - accuracy: 0.9771 - val_loss: 0.3277 - val_accuracy: 0.8800\n",
            "Epoch 10/20\n",
            "30/30 [==============================] - 1s 36ms/step - loss: 0.0753 - accuracy: 0.9789 - val_loss: 0.3458 - val_accuracy: 0.8802\n",
            "Epoch 11/20\n",
            "30/30 [==============================] - 1s 37ms/step - loss: 0.0634 - accuracy: 0.9843 - val_loss: 0.3865 - val_accuracy: 0.8714\n",
            "Epoch 12/20\n",
            "30/30 [==============================] - 1s 36ms/step - loss: 0.0548 - accuracy: 0.9870 - val_loss: 0.3964 - val_accuracy: 0.8722\n",
            "Epoch 13/20\n",
            "30/30 [==============================] - 2s 60ms/step - loss: 0.0421 - accuracy: 0.9918 - val_loss: 0.4157 - val_accuracy: 0.8723\n",
            "Epoch 14/20\n",
            "30/30 [==============================] - 3s 96ms/step - loss: 0.0394 - accuracy: 0.9913 - val_loss: 0.4330 - val_accuracy: 0.8747\n",
            "Epoch 15/20\n",
            "30/30 [==============================] - 1s 36ms/step - loss: 0.0323 - accuracy: 0.9938 - val_loss: 0.4646 - val_accuracy: 0.8697\n",
            "Epoch 16/20\n",
            "30/30 [==============================] - 1s 36ms/step - loss: 0.0263 - accuracy: 0.9956 - val_loss: 0.4848 - val_accuracy: 0.8715\n",
            "Epoch 17/20\n",
            "30/30 [==============================] - 1s 35ms/step - loss: 0.0199 - accuracy: 0.9975 - val_loss: 0.6284 - val_accuracy: 0.8510\n",
            "Epoch 18/20\n",
            "30/30 [==============================] - 1s 37ms/step - loss: 0.0192 - accuracy: 0.9973 - val_loss: 0.6121 - val_accuracy: 0.8575\n",
            "Epoch 19/20\n",
            "30/30 [==============================] - 1s 37ms/step - loss: 0.0116 - accuracy: 0.9994 - val_loss: 0.5568 - val_accuracy: 0.8691\n",
            "Epoch 20/20\n",
            "30/30 [==============================] - 1s 35ms/step - loss: 0.0159 - accuracy: 0.9978 - val_loss: 0.5781 - val_accuracy: 0.8696\n",
            "782/782 [==============================] - 2s 3ms/step - loss: 0.6264 - accuracy: 0.8592\n"
          ]
        }
      ],
      "source": [
        "history = model.fit(partial_x_train,\n",
        "                    partial_y_train,\n",
        "                    epochs=20,\n",
        "                    batch_size=512,\n",
        "                    validation_data=(x_val, y_val))\n",
        "results = model.evaluate(x_test, y_test)"
      ]
    },
    {
      "cell_type": "code",
      "source": [
        "results"
      ],
      "metadata": {
        "id": "y9U61-Gso1Y6",
        "outputId": "4b2fcb6b-d20e-4d2c-f2f9-b686e47d5273",
        "colab": {
          "base_uri": "https://localhost:8080/"
        }
      },
      "execution_count": 17,
      "outputs": [
        {
          "output_type": "execute_result",
          "data": {
            "text/plain": [
              "[0.62640780210495, 0.8591600060462952]"
            ]
          },
          "metadata": {},
          "execution_count": 17
        }
      ]
    },
    {
      "cell_type": "code",
      "execution_count": 18,
      "metadata": {
        "id": "NgR1BUlsAJ_d",
        "colab": {
          "base_uri": "https://localhost:8080/"
        },
        "outputId": "379e4c64-e6e8-4d5e-c9b9-d5ecd34be7d5"
      },
      "outputs": [
        {
          "output_type": "execute_result",
          "data": {
            "text/plain": [
              "dict_keys(['loss', 'accuracy', 'val_loss', 'val_accuracy'])"
            ]
          },
          "metadata": {},
          "execution_count": 18
        }
      ],
      "source": [
        "history_dict = history.history\n",
        "history_dict.keys()"
      ]
    },
    {
      "cell_type": "markdown",
      "metadata": {
        "id": "m5H0K989AJ_d"
      },
      "source": [
        "**Plotting the training and validation loss**"
      ]
    },
    {
      "cell_type": "code",
      "execution_count": 19,
      "metadata": {
        "id": "7noFnlD0AJ_e",
        "colab": {
          "base_uri": "https://localhost:8080/",
          "height": 472
        },
        "outputId": "0fb9d1ad-49b2-4f21-eab4-4e5be39b3f87"
      },
      "outputs": [
        {
          "output_type": "display_data",
          "data": {
            "text/plain": [
              "<Figure size 640x480 with 1 Axes>"
            ],
            "image/png": "[encoded data removed]"
          },
          "metadata": {}
        }
      ],
      "source": [
        "import matplotlib.pyplot as plt\n",
        "history_dict = history.history\n",
        "loss_values = history_dict[\"loss\"]\n",
        "val_loss_values = history_dict[\"val_loss\"]\n",
        "epochs = range(1, len(loss_values) + 1)\n",
        "plt.plot(epochs, loss_values, \"bo\", label=\"Training loss\")\n",
        "plt.plot(epochs, val_loss_values, \"b\", label=\"Validation loss\")\n",
        "plt.title(\"Training and validation loss\")\n",
        "plt.xlabel(\"Epochs\")\n",
        "plt.ylabel(\"Loss\")\n",
        "plt.legend()\n",
        "plt.show()"
      ]
    },
    {
      "cell_type": "markdown",
      "metadata": {
        "id": "rRm6p-b2AJ_e"
      },
      "source": [
        "**Plotting the training and validation accuracy**"
      ]
    },
    {
      "cell_type": "code",
      "execution_count": 20,
      "metadata": {
        "id": "MeGtyzV4AJ_e",
        "colab": {
          "base_uri": "https://localhost:8080/",
          "height": 472
        },
        "outputId": "aca02297-71c2-4f49-8256-acdcf855822b"
      },
      "outputs": [
        {
          "output_type": "display_data",
          "data": {
            "text/plain": [
              "<Figure size 640x480 with 1 Axes>"
            ],
            "image/png": "[encoded data removed]"
          },
          "metadata": {}
        }
      ],
      "source": [
        "plt.clf()\n",
        "acc = history_dict[\"accuracy\"]\n",
        "val_acc = history_dict[\"val_accuracy\"]\n",
        "plt.plot(epochs, acc, \"bo\", label=\"Training acc\")\n",
        "plt.plot(epochs, val_acc, \"b\", label=\"Validation acc\")\n",
        "plt.title(\"Training and validation accuracy\")\n",
        "plt.xlabel(\"Epochs\")\n",
        "plt.ylabel(\"Accuracy\")\n",
        "plt.legend()\n",
        "plt.show()"
      ]
    },
    {
      "cell_type": "markdown",
      "metadata": {
        "id": "Z7L0dQbEAJ_e"
      },
      "source": [
        "**Retraining a model from scratch**"
      ]
    },
    {
      "cell_type": "code",
      "execution_count": 21,
      "metadata": {
        "id": "VIlRhAEKAJ_e",
        "colab": {
          "base_uri": "https://localhost:8080/"
        },
        "outputId": "7fbdfbdb-e7d2-4f41-f52d-48450a01c2bf"
      },
      "outputs": [
        {
          "output_type": "stream",
          "name": "stdout",
          "text": [
            "Epoch 1/4\n",
            "49/49 [==============================] - 2s 26ms/step - loss: 0.4529 - accuracy: 0.8201\n",
            "Epoch 2/4\n",
            "49/49 [==============================] - 2s 34ms/step - loss: 0.2746 - accuracy: 0.9042\n",
            "Epoch 3/4\n",
            "49/49 [==============================] - 2s 34ms/step - loss: 0.2171 - accuracy: 0.9210\n",
            "Epoch 4/4\n",
            "49/49 [==============================] - 1s 29ms/step - loss: 0.1831 - accuracy: 0.9339\n",
            "782/782 [==============================] - 2s 3ms/step - loss: 0.2830 - accuracy: 0.8872\n"
          ]
        }
      ],
      "source": [
        "model = keras.Sequential([\n",
        "    layers.Dense(16, activation=\"relu\"),\n",
        "    layers.Dense(16, activation=\"relu\"),\n",
        "    layers.Dense(1, activation=\"sigmoid\")\n",
        "])\n",
        "model.compile(optimizer=\"rmsprop\",\n",
        "              loss=\"binary_crossentropy\",\n",
        "              metrics=[\"accuracy\"])\n",
        "model.fit(x_train, y_train, epochs=4, batch_size=512)\n",
        "results = model.evaluate(x_test, y_test)"
      ]
    },
    {
      "cell_type": "code",
      "execution_count": 22,
      "metadata": {
        "id": "joheAvmEAJ_e",
        "colab": {
          "base_uri": "https://localhost:8080/"
        },
        "outputId": "167047a0-67b5-4f31-cb53-a2b267c1c872"
      },
      "outputs": [
        {
          "output_type": "execute_result",
          "data": {
            "text/plain": [
              "[0.28302910923957825, 0.8871999979019165]"
            ]
          },
          "metadata": {},
          "execution_count": 22
        }
      ],
      "source": [
        "results"
      ]
    },
    {
      "cell_type": "markdown",
      "metadata": {
        "id": "K2Bkri0JAJ_e"
      },
      "source": [
        "### Using a trained model to generate predictions on new data"
      ]
    },
    {
      "cell_type": "code",
      "execution_count": null,
      "metadata": {
        "id": "A9tCjz_vAJ_f"
      },
      "outputs": [],
      "source": [
        "model.predict(x_test)"
      ]
    },
    {
      "cell_type": "markdown",
      "metadata": {
        "id": "lfhE5QLL0rup"
      },
      "source": [
        "**Version of the model with 3 Hidden Layer**"
      ]
    },
    {
      "cell_type": "code",
      "execution_count": 4,
      "metadata": {
        "id": "o9yHHi0V0ruq"
      },
      "outputs": [],
      "source": [
        "from tensorflow.keras.datasets import imdb\n",
        "(train_data, train_labels), (test_data, test_labels) = imdb.load_data(\n",
        "    num_words=10000)\n",
        "import numpy as np\n",
        "def vectorize_sequences(sequences, dimension=10000):\n",
        "    results = np.zeros((len(sequences), dimension))\n",
        "    for i, sequence in enumerate(sequences):\n",
        "        for j in sequence:\n",
        "            results[i, j] = 1.\n",
        "    return results\n",
        "x_train = vectorize_sequences(train_data)\n",
        "x_test = vectorize_sequences(test_data)\n",
        "x_train[0]\n",
        "y_train = np.asarray(train_labels).astype(\"float32\")\n",
        "y_test = np.asarray(test_labels).astype(\"float32\")"
      ]
    },
    {
      "cell_type": "code",
      "execution_count": 7,
      "metadata": {
        "colab": {
          "base_uri": "https://localhost:8080/"
        },
        "outputId": "cf643596-d03e-4d94-d378-1e4f48c141f9",
        "id": "YRByGMoW0ruq"
      },
      "outputs": [
        {
          "output_type": "stream",
          "name": "stdout",
          "text": [
            "Epoch 1/20\n",
            "49/49 [==============================] - 4s 43ms/step - loss: 0.4922 - accuracy: 0.8027\n",
            "Epoch 2/20\n",
            "49/49 [==============================] - 1s 25ms/step - loss: 0.2806 - accuracy: 0.9004\n",
            "Epoch 3/20\n",
            "49/49 [==============================] - 2s 34ms/step - loss: 0.2138 - accuracy: 0.9224\n",
            "Epoch 4/20\n",
            "49/49 [==============================] - 2s 37ms/step - loss: 0.1816 - accuracy: 0.9333\n",
            "Epoch 5/20\n",
            "49/49 [==============================] - 1s 28ms/step - loss: 0.1587 - accuracy: 0.9432\n",
            "Epoch 6/20\n",
            "49/49 [==============================] - 1s 26ms/step - loss: 0.1399 - accuracy: 0.9510\n",
            "Epoch 7/20\n",
            "49/49 [==============================] - 1s 25ms/step - loss: 0.1284 - accuracy: 0.9541\n",
            "Epoch 8/20\n",
            "49/49 [==============================] - 1s 25ms/step - loss: 0.1132 - accuracy: 0.9602\n",
            "Epoch 9/20\n",
            "49/49 [==============================] - 1s 26ms/step - loss: 0.0999 - accuracy: 0.9669\n",
            "Epoch 10/20\n",
            "49/49 [==============================] - 1s 25ms/step - loss: 0.0895 - accuracy: 0.9713\n",
            "Epoch 11/20\n",
            "49/49 [==============================] - 1s 25ms/step - loss: 0.0753 - accuracy: 0.9766\n",
            "Epoch 12/20\n",
            "49/49 [==============================] - 1s 27ms/step - loss: 0.0690 - accuracy: 0.9775\n",
            "Epoch 13/20\n",
            "49/49 [==============================] - 2s 36ms/step - loss: 0.0589 - accuracy: 0.9824\n",
            "Epoch 14/20\n",
            "49/49 [==============================] - 2s 34ms/step - loss: 0.0490 - accuracy: 0.9860\n",
            "Epoch 15/20\n",
            "49/49 [==============================] - 1s 25ms/step - loss: 0.0411 - accuracy: 0.9884\n",
            "Epoch 16/20\n",
            "49/49 [==============================] - 1s 25ms/step - loss: 0.0343 - accuracy: 0.9908\n",
            "Epoch 17/20\n",
            "49/49 [==============================] - 1s 25ms/step - loss: 0.0303 - accuracy: 0.9922\n",
            "Epoch 18/20\n",
            "49/49 [==============================] - 1s 26ms/step - loss: 0.0244 - accuracy: 0.9942\n",
            "Epoch 19/20\n",
            "49/49 [==============================] - 1s 25ms/step - loss: 0.0240 - accuracy: 0.9940\n",
            "Epoch 20/20\n",
            "49/49 [==============================] - 1s 25ms/step - loss: 0.0189 - accuracy: 0.9949\n",
            "782/782 [==============================] - 3s 3ms/step - loss: 0.7122 - accuracy: 0.8555\n"
          ]
        }
      ],
      "source": [
        "from tensorflow import keras\n",
        "from tensorflow.keras import layers\n",
        "model = keras.Sequential([\n",
        "    layers.Dense(16, activation=\"relu\"),\n",
        "    layers.Dense(16, activation=\"relu\"),\n",
        "    layers.Dense(16, activation=\"relu\"),\n",
        "    layers.Dense(1, activation=\"sigmoid\")\n",
        "])\n",
        "model.compile(optimizer=\"rmsprop\",\n",
        "              loss=\"binary_crossentropy\",\n",
        "              metrics=[\"accuracy\"])\n",
        "x_val = x_train[:10000]\n",
        "partial_x_train = x_train[10000:]\n",
        "y_val = y_train[:10000]\n",
        "partial_y_train = y_train[10000:]\n",
        "model.fit(x_train, y_train, epochs=20, batch_size=512)\n",
        "results = model.evaluate(x_test, y_test)"
      ]
    },
    {
      "cell_type": "code",
      "source": [
        "results"
      ],
      "metadata": {
        "outputId": "de3595d6-c5ad-490e-8dcd-3520fb2e52fe",
        "colab": {
          "base_uri": "https://localhost:8080/"
        },
        "id": "_wcF0ltz0ruq"
      },
      "execution_count": 8,
      "outputs": [
        {
          "output_type": "execute_result",
          "data": {
            "text/plain": [
              "[0.7122204899787903, 0.8554800152778625]"
            ]
          },
          "metadata": {},
          "execution_count": 8
        }
      ]
    },
    {
      "cell_type": "markdown",
      "metadata": {
        "id": "7MUco1l0WRJq"
      },
      "source": [
        "**Version of the model with 64 Hidden Units**"
      ]
    },
    {
      "cell_type": "code",
      "execution_count": 1,
      "metadata": {
        "id": "3tFyRnA2wA5Z"
      },
      "outputs": [],
      "source": [
        "from tensorflow.keras.datasets import imdb\n",
        "(train_data, train_labels), (test_data, test_labels) = imdb.load_data(\n",
        "    num_words=10000)\n",
        "import numpy as np\n",
        "def vectorize_sequences(sequences, dimension=10000):\n",
        "    results = np.zeros((len(sequences), dimension))\n",
        "    for i, sequence in enumerate(sequences):\n",
        "        for j in sequence:\n",
        "            results[i, j] = 1.\n",
        "    return results\n",
        "x_train = vectorize_sequences(train_data)\n",
        "x_test = vectorize_sequences(test_data)\n",
        "x_train[0]\n",
        "y_train = np.asarray(train_labels).astype(\"float32\")\n",
        "y_test = np.asarray(test_labels).astype(\"float32\")"
      ]
    },
    {
      "cell_type": "code",
      "execution_count": 2,
      "metadata": {
        "id": "_K3GlPvEWRJq",
        "colab": {
          "base_uri": "https://localhost:8080/"
        },
        "outputId": "74114877-93d7-41f0-80bb-cf0c776094f1"
      },
      "outputs": [
        {
          "output_type": "stream",
          "name": "stdout",
          "text": [
            "Epoch 1/20\n",
            "49/49 [==============================] - 3s 50ms/step - loss: 0.4371 - accuracy: 0.8050\n",
            "Epoch 2/20\n",
            "49/49 [==============================] - 2s 47ms/step - loss: 0.2606 - accuracy: 0.8982\n",
            "Epoch 3/20\n",
            "49/49 [==============================] - 2s 46ms/step - loss: 0.2131 - accuracy: 0.9171\n",
            "Epoch 4/20\n",
            "49/49 [==============================] - 4s 78ms/step - loss: 0.1701 - accuracy: 0.9371\n",
            "Epoch 5/20\n",
            "49/49 [==============================] - 5s 94ms/step - loss: 0.1445 - accuracy: 0.9457\n",
            "Epoch 6/20\n",
            "49/49 [==============================] - 4s 91ms/step - loss: 0.1189 - accuracy: 0.9561\n",
            "Epoch 7/20\n",
            "49/49 [==============================] - 3s 67ms/step - loss: 0.0986 - accuracy: 0.9645\n",
            "Epoch 8/20\n",
            "49/49 [==============================] - 3s 68ms/step - loss: 0.0771 - accuracy: 0.9742\n",
            "Epoch 9/20\n",
            "49/49 [==============================] - 3s 51ms/step - loss: 0.0610 - accuracy: 0.9792\n",
            "Epoch 10/20\n",
            "49/49 [==============================] - 3s 59ms/step - loss: 0.0430 - accuracy: 0.9880\n",
            "Epoch 11/20\n",
            "49/49 [==============================] - 5s 96ms/step - loss: 0.0419 - accuracy: 0.9869\n",
            "Epoch 12/20\n",
            "49/49 [==============================] - 4s 86ms/step - loss: 0.0298 - accuracy: 0.9918\n",
            "Epoch 13/20\n",
            "49/49 [==============================] - 3s 71ms/step - loss: 0.0263 - accuracy: 0.9929\n",
            "Epoch 14/20\n",
            "49/49 [==============================] - 3s 70ms/step - loss: 0.0203 - accuracy: 0.9935\n",
            "Epoch 15/20\n",
            "49/49 [==============================] - 4s 72ms/step - loss: 0.0040 - accuracy: 0.9998\n",
            "Epoch 16/20\n",
            "49/49 [==============================] - 3s 52ms/step - loss: 0.0218 - accuracy: 0.9936\n",
            "Epoch 17/20\n",
            "49/49 [==============================] - 2s 46ms/step - loss: 0.0188 - accuracy: 0.9946\n",
            "Epoch 18/20\n",
            "49/49 [==============================] - 2s 48ms/step - loss: 0.0017 - accuracy: 1.0000\n",
            "Epoch 19/20\n",
            "49/49 [==============================] - 2s 47ms/step - loss: 0.0173 - accuracy: 0.9951\n",
            "Epoch 20/20\n",
            "49/49 [==============================] - 3s 60ms/step - loss: 0.0010 - accuracy: 1.0000\n",
            "782/782 [==============================] - 4s 4ms/step - loss: 0.7196 - accuracy: 0.8692\n"
          ]
        }
      ],
      "source": [
        "from tensorflow import keras\n",
        "from tensorflow.keras import layers\n",
        "model = keras.Sequential([\n",
        "    layers.Dense(64, activation=\"relu\"),\n",
        "    layers.Dense(64, activation=\"relu\"),\n",
        "    layers.Dense(1, activation=\"sigmoid\")\n",
        "])\n",
        "model.compile(optimizer=\"rmsprop\",\n",
        "              loss=\"binary_crossentropy\",\n",
        "              metrics=[\"accuracy\"])\n",
        "x_val = x_train[:10000]\n",
        "partial_x_train = x_train[10000:]\n",
        "y_val = y_train[:10000]\n",
        "partial_y_train = y_train[10000:]\n",
        "model.fit(x_train, y_train, epochs=20, batch_size=512)\n",
        "results = model.evaluate(x_test, y_test)"
      ]
    },
    {
      "cell_type": "code",
      "source": [
        "results"
      ],
      "metadata": {
        "colab": {
          "base_uri": "https://localhost:8080/"
        },
        "id": "CjC7mPQIpVuq",
        "outputId": "02367b8e-0ee8-479a-a742-323bcfa0033e"
      },
      "execution_count": 3,
      "outputs": [
        {
          "output_type": "execute_result",
          "data": {
            "text/plain": [
              "[0.7195673584938049, 0.869159996509552]"
            ]
          },
          "metadata": {},
          "execution_count": 3
        }
      ]
    },
    {
      "cell_type": "markdown",
      "metadata": {
        "id": "dsG095TAWRJq"
      },
      "source": [
        "**Version of the model with MSE Loss Function**"
      ]
    },
    {
      "cell_type": "code",
      "execution_count": 1,
      "metadata": {
        "id": "Sg4cOBG7xykd"
      },
      "outputs": [],
      "source": [
        "from tensorflow.keras.datasets import imdb\n",
        "(train_data, train_labels), (test_data, test_labels) = imdb.load_data(\n",
        "    num_words=10000)\n",
        "import numpy as np\n",
        "def vectorize_sequences(sequences, dimension=10000):\n",
        "    results = np.zeros((len(sequences), dimension))\n",
        "    for i, sequence in enumerate(sequences):\n",
        "        for j in sequence:\n",
        "            results[i, j] = 1.\n",
        "    return results\n",
        "x_train = vectorize_sequences(train_data)\n",
        "x_test = vectorize_sequences(test_data)\n",
        "x_train[0]\n",
        "y_train = np.asarray(train_labels).astype(\"float32\")\n",
        "y_test = np.asarray(test_labels).astype(\"float32\")"
      ]
    },
    {
      "cell_type": "code",
      "execution_count": 2,
      "metadata": {
        "colab": {
          "base_uri": "https://localhost:8080/"
        },
        "outputId": "ffd67ebc-ef88-4cb6-ee4a-2bba42f7e24e",
        "id": "7AAJ0H_Fxyke"
      },
      "outputs": [
        {
          "output_type": "stream",
          "name": "stdout",
          "text": [
            "Epoch 1/20\n",
            "49/49 [==============================] - 2s 27ms/step - loss: 0.1603 - accuracy: 0.8014\n",
            "Epoch 2/20\n",
            "49/49 [==============================] - 1s 28ms/step - loss: 0.0906 - accuracy: 0.8952\n",
            "Epoch 3/20\n",
            "49/49 [==============================] - 1s 26ms/step - loss: 0.0699 - accuracy: 0.9169\n",
            "Epoch 4/20\n",
            "49/49 [==============================] - 2s 35ms/step - loss: 0.0588 - accuracy: 0.9304\n",
            "Epoch 5/20\n",
            "49/49 [==============================] - 2s 37ms/step - loss: 0.0519 - accuracy: 0.9394\n",
            "Epoch 6/20\n",
            "49/49 [==============================] - 1s 27ms/step - loss: 0.0469 - accuracy: 0.9454\n",
            "Epoch 7/20\n",
            "49/49 [==============================] - 1s 26ms/step - loss: 0.0423 - accuracy: 0.9521\n",
            "Epoch 8/20\n",
            "49/49 [==============================] - 1s 26ms/step - loss: 0.0381 - accuracy: 0.9582\n",
            "Epoch 9/20\n",
            "49/49 [==============================] - 1s 27ms/step - loss: 0.0353 - accuracy: 0.9613\n",
            "Epoch 10/20\n",
            "49/49 [==============================] - 1s 27ms/step - loss: 0.0311 - accuracy: 0.9688\n",
            "Epoch 11/20\n",
            "49/49 [==============================] - 1s 27ms/step - loss: 0.0293 - accuracy: 0.9702\n",
            "Epoch 12/20\n",
            "49/49 [==============================] - 2s 40ms/step - loss: 0.0270 - accuracy: 0.9726\n",
            "Epoch 13/20\n",
            "49/49 [==============================] - 3s 60ms/step - loss: 0.0243 - accuracy: 0.9773\n",
            "Epoch 14/20\n",
            "49/49 [==============================] - 2s 48ms/step - loss: 0.0223 - accuracy: 0.9785\n",
            "Epoch 15/20\n",
            "49/49 [==============================] - 2s 45ms/step - loss: 0.0199 - accuracy: 0.9820\n",
            "Epoch 16/20\n",
            "49/49 [==============================] - 2s 45ms/step - loss: 0.0192 - accuracy: 0.9828\n",
            "Epoch 17/20\n",
            "49/49 [==============================] - 2s 42ms/step - loss: 0.0177 - accuracy: 0.9838\n",
            "Epoch 18/20\n",
            "49/49 [==============================] - 2s 44ms/step - loss: 0.0152 - accuracy: 0.9872\n",
            "Epoch 19/20\n",
            "49/49 [==============================] - 3s 53ms/step - loss: 0.0149 - accuracy: 0.9871\n",
            "Epoch 20/20\n",
            "49/49 [==============================] - 2s 47ms/step - loss: 0.0137 - accuracy: 0.9880\n",
            "782/782 [==============================] - 2s 3ms/step - loss: 0.1071 - accuracy: 0.8657\n"
          ]
        }
      ],
      "source": [
        "from tensorflow import keras\n",
        "from tensorflow.keras import layers\n",
        "model = keras.Sequential([\n",
        "    layers.Dense(16, activation=\"relu\"),\n",
        "    layers.Dense(16, activation=\"relu\"),\n",
        "    layers.Dense(1, activation=\"sigmoid\")\n",
        "])\n",
        "model.compile(optimizer=\"rmsprop\",\n",
        "              loss=\"MSE\",\n",
        "              metrics=[\"accuracy\"])\n",
        "x_val = x_train[:10000]\n",
        "partial_x_train = x_train[10000:]\n",
        "y_val = y_train[:10000]\n",
        "partial_y_train = y_train[10000:]\n",
        "model.fit(x_train, y_train, epochs=20, batch_size=512)\n",
        "results = model.evaluate(x_test, y_test)"
      ]
    },
    {
      "cell_type": "code",
      "source": [
        "results"
      ],
      "metadata": {
        "outputId": "7b71bf0b-4661-40d8-d54d-5547ee9c4cd4",
        "colab": {
          "base_uri": "https://localhost:8080/"
        },
        "id": "_JfNnFIGxyke"
      },
      "execution_count": 3,
      "outputs": [
        {
          "output_type": "execute_result",
          "data": {
            "text/plain": [
              "[0.10713143646717072, 0.8656799793243408]"
            ]
          },
          "metadata": {},
          "execution_count": 3
        }
      ]
    },
    {
      "cell_type": "markdown",
      "metadata": {
        "id": "e-ZJOcPjycIA"
      },
      "source": [
        "**Version of the model with Tanh Activation**"
      ]
    },
    {
      "cell_type": "code",
      "execution_count": 4,
      "metadata": {
        "id": "vjLUrEawycIA"
      },
      "outputs": [],
      "source": [
        "from tensorflow.keras.datasets import imdb\n",
        "(train_data, train_labels), (test_data, test_labels) = imdb.load_data(\n",
        "    num_words=10000)\n",
        "import numpy as np\n",
        "def vectorize_sequences(sequences, dimension=10000):\n",
        "    results = np.zeros((len(sequences), dimension))\n",
        "    for i, sequence in enumerate(sequences):\n",
        "        for j in sequence:\n",
        "            results[i, j] = 1.\n",
        "    return results\n",
        "x_train = vectorize_sequences(train_data)\n",
        "x_test = vectorize_sequences(test_data)\n",
        "x_train[0]\n",
        "y_train = np.asarray(train_labels).astype(\"float32\")\n",
        "y_test = np.asarray(test_labels).astype(\"float32\")"
      ]
    },
    {
      "cell_type": "code",
      "execution_count": 5,
      "metadata": {
        "colab": {
          "base_uri": "https://localhost:8080/"
        },
        "outputId": "d986280f-5184-45d8-90a3-087480c46b5a",
        "id": "cIKzfZPUycIB"
      },
      "outputs": [
        {
          "output_type": "stream",
          "name": "stdout",
          "text": [
            "Epoch 1/20\n",
            "49/49 [==============================] - 3s 45ms/step - loss: 0.4486 - accuracy: 0.8221\n",
            "Epoch 2/20\n",
            "49/49 [==============================] - 3s 53ms/step - loss: 0.2567 - accuracy: 0.9059\n",
            "Epoch 3/20\n",
            "49/49 [==============================] - 2s 51ms/step - loss: 0.1962 - accuracy: 0.9269\n",
            "Epoch 4/20\n",
            "49/49 [==============================] - 2s 32ms/step - loss: 0.1640 - accuracy: 0.9413\n",
            "Epoch 5/20\n",
            "49/49 [==============================] - 1s 26ms/step - loss: 0.1446 - accuracy: 0.9476\n",
            "Epoch 6/20\n",
            "49/49 [==============================] - 1s 28ms/step - loss: 0.1282 - accuracy: 0.9561\n",
            "Epoch 7/20\n",
            "49/49 [==============================] - 1s 27ms/step - loss: 0.1154 - accuracy: 0.9622\n",
            "Epoch 8/20\n",
            "49/49 [==============================] - 1s 27ms/step - loss: 0.1040 - accuracy: 0.9658\n",
            "Epoch 9/20\n",
            "49/49 [==============================] - 2s 34ms/step - loss: 0.0987 - accuracy: 0.9670\n",
            "Epoch 10/20\n",
            "49/49 [==============================] - 2s 37ms/step - loss: 0.0873 - accuracy: 0.9726\n",
            "Epoch 11/20\n",
            "49/49 [==============================] - 2s 31ms/step - loss: 0.0807 - accuracy: 0.9738\n",
            "Epoch 12/20\n",
            "49/49 [==============================] - 1s 28ms/step - loss: 0.0738 - accuracy: 0.9776\n",
            "Epoch 13/20\n",
            "49/49 [==============================] - 1s 27ms/step - loss: 0.0720 - accuracy: 0.9771\n",
            "Epoch 14/20\n",
            "49/49 [==============================] - 1s 27ms/step - loss: 0.0615 - accuracy: 0.9824\n",
            "Epoch 15/20\n",
            "49/49 [==============================] - 1s 27ms/step - loss: 0.0624 - accuracy: 0.9815\n",
            "Epoch 16/20\n",
            "49/49 [==============================] - 1s 28ms/step - loss: 0.0570 - accuracy: 0.9838\n",
            "Epoch 17/20\n",
            "49/49 [==============================] - 1s 27ms/step - loss: 0.0504 - accuracy: 0.9860\n",
            "Epoch 18/20\n",
            "49/49 [==============================] - 2s 39ms/step - loss: 0.0435 - accuracy: 0.9884\n",
            "Epoch 19/20\n",
            "49/49 [==============================] - 4s 73ms/step - loss: 0.0437 - accuracy: 0.9878\n",
            "Epoch 20/20\n",
            "49/49 [==============================] - 2s 40ms/step - loss: 0.0493 - accuracy: 0.9854\n",
            "782/782 [==============================] - 3s 4ms/step - loss: 0.6819 - accuracy: 0.8498\n"
          ]
        }
      ],
      "source": [
        "from tensorflow import keras\n",
        "from tensorflow.keras import layers\n",
        "model = keras.Sequential([\n",
        "    layers.Dense(16, activation=\"tanh\"),\n",
        "    layers.Dense(16, activation=\"tanh\"),\n",
        "    layers.Dense(1, activation=\"sigmoid\")\n",
        "])\n",
        "model.compile(optimizer=\"rmsprop\",\n",
        "              loss=\"binary_crossentropy\",\n",
        "              metrics=[\"accuracy\"])\n",
        "x_val = x_train[:10000]\n",
        "partial_x_train = x_train[10000:]\n",
        "y_val = y_train[:10000]\n",
        "partial_y_train = y_train[10000:]\n",
        "model.fit(x_train, y_train, epochs=20, batch_size=512)\n",
        "results = model.evaluate(x_test, y_test)"
      ]
    },
    {
      "cell_type": "code",
      "source": [
        "results"
      ],
      "metadata": {
        "colab": {
          "base_uri": "https://localhost:8080/"
        },
        "outputId": "55e7962f-99b2-4c84-e2a2-bd7e10bd1928",
        "id": "-0sPOmaRycIB"
      },
      "execution_count": 6,
      "outputs": [
        {
          "output_type": "execute_result",
          "data": {
            "text/plain": [
              "[0.6819387674331665, 0.8497599959373474]"
            ]
          },
          "metadata": {},
          "execution_count": 6
        }
      ]
    },
    {
      "cell_type": "markdown",
      "metadata": {
        "id": "5TywmLoZyns0"
      },
      "source": [
        "**Version of the model with Regularization**"
      ]
    },
    {
      "cell_type": "code",
      "execution_count": null,
      "metadata": {
        "id": "01xMWc4byns1"
      },
      "outputs": [],
      "source": [
        "from tensorflow.keras.datasets import imdb\n",
        "(train_data, train_labels), (test_data, test_labels) = imdb.load_data(\n",
        "    num_words=10000)\n",
        "import numpy as np\n",
        "def vectorize_sequences(sequences, dimension=10000):\n",
        "    results = np.zeros((len(sequences), dimension))\n",
        "    for i, sequence in enumerate(sequences):\n",
        "        for j in sequence:\n",
        "            results[i, j] = 1.\n",
        "    return results\n",
        "x_train = vectorize_sequences(train_data)\n",
        "x_test = vectorize_sequences(test_data)\n",
        "x_train[0]\n",
        "y_train = np.asarray(train_labels).astype(\"float32\")\n",
        "y_test = np.asarray(test_labels).astype(\"float32\")"
      ]
    },
    {
      "cell_type": "code",
      "execution_count": 8,
      "metadata": {
        "colab": {
          "base_uri": "https://localhost:8080/"
        },
        "outputId": "fdcff8a2-f68d-407c-9279-8108b7774254",
        "id": "979K_Ok3yns1"
      },
      "outputs": [
        {
          "output_type": "stream",
          "name": "stdout",
          "text": [
            "Epoch 1/20\n",
            "49/49 [==============================] - 2s 33ms/step - loss: 0.6015 - accuracy: 0.7665\n",
            "Epoch 2/20\n",
            "49/49 [==============================] - 1s 27ms/step - loss: 0.3937 - accuracy: 0.8924\n",
            "Epoch 3/20\n",
            "49/49 [==============================] - 2s 38ms/step - loss: 0.3306 - accuracy: 0.9084\n",
            "Epoch 4/20\n",
            "49/49 [==============================] - 2s 35ms/step - loss: 0.2995 - accuracy: 0.9186\n",
            "Epoch 5/20\n",
            "49/49 [==============================] - 1s 25ms/step - loss: 0.2839 - accuracy: 0.9214\n",
            "Epoch 6/20\n",
            "49/49 [==============================] - 1s 27ms/step - loss: 0.2741 - accuracy: 0.9257\n",
            "Epoch 7/20\n",
            "49/49 [==============================] - 1s 26ms/step - loss: 0.2674 - accuracy: 0.9285\n",
            "Epoch 8/20\n",
            "49/49 [==============================] - 1s 26ms/step - loss: 0.2596 - accuracy: 0.9337\n",
            "Epoch 9/20\n",
            "49/49 [==============================] - 1s 26ms/step - loss: 0.2537 - accuracy: 0.9345\n",
            "Epoch 10/20\n",
            "49/49 [==============================] - 1s 25ms/step - loss: 0.2530 - accuracy: 0.9339\n",
            "Epoch 11/20\n",
            "49/49 [==============================] - 1s 26ms/step - loss: 0.2491 - accuracy: 0.9352\n",
            "Epoch 12/20\n",
            "49/49 [==============================] - 1s 29ms/step - loss: 0.2459 - accuracy: 0.9381\n",
            "Epoch 13/20\n",
            "49/49 [==============================] - 2s 36ms/step - loss: 0.2428 - accuracy: 0.9373\n",
            "Epoch 14/20\n",
            "49/49 [==============================] - 2s 34ms/step - loss: 0.2430 - accuracy: 0.9372\n",
            "Epoch 15/20\n",
            "49/49 [==============================] - 1s 26ms/step - loss: 0.2353 - accuracy: 0.9411\n",
            "Epoch 16/20\n",
            "49/49 [==============================] - 1s 27ms/step - loss: 0.2379 - accuracy: 0.9386\n",
            "Epoch 17/20\n",
            "49/49 [==============================] - 1s 27ms/step - loss: 0.2328 - accuracy: 0.9416\n",
            "Epoch 18/20\n",
            "49/49 [==============================] - 1s 26ms/step - loss: 0.2326 - accuracy: 0.9407\n",
            "Epoch 19/20\n",
            "49/49 [==============================] - 1s 26ms/step - loss: 0.2332 - accuracy: 0.9405\n",
            "Epoch 20/20\n",
            "49/49 [==============================] - 1s 25ms/step - loss: 0.2289 - accuracy: 0.9425\n",
            "782/782 [==============================] - 3s 3ms/step - loss: 0.3912 - accuracy: 0.8756\n"
          ]
        }
      ],
      "source": [
        "from tensorflow import keras\n",
        "from tensorflow.keras import layers\n",
        "from tensorflow.keras import regularizers\n",
        "regularizers.l1(0.001)\n",
        "regularizers.l1_l2(l1=0.001, l2=0.001)\n",
        "model = keras.Sequential([\n",
        "    layers.Dense(16,\n",
        "                 kernel_regularizer=regularizers.l2(0.002),\n",
        "                 activation=\"relu\"),\n",
        "    layers.Dense(16,\n",
        "                 kernel_regularizer=regularizers.l2(0.002),\n",
        "                 activation=\"relu\"),\n",
        "    layers.Dense(1, activation=\"sigmoid\")\n",
        "])\n",
        "model.compile(optimizer=\"rmsprop\",\n",
        "              loss=\"binary_crossentropy\",\n",
        "              metrics=[\"accuracy\"])\n",
        "x_val = x_train[:10000]\n",
        "partial_x_train = x_train[10000:]\n",
        "y_val = y_train[:10000]\n",
        "partial_y_train = y_train[10000:]\n",
        "model.fit(x_train, y_train, epochs=20, batch_size=512)\n",
        "results = model.evaluate(x_test, y_test)"
      ]
    },
    {
      "cell_type": "code",
      "source": [
        "results"
      ],
      "metadata": {
        "colab": {
          "base_uri": "https://localhost:8080/"
        },
        "outputId": "4bb3c2f1-6de5-4689-a73c-5cf84c5c3817",
        "id": "kYLS7X91yns1"
      },
      "execution_count": 9,
      "outputs": [
        {
          "output_type": "execute_result",
          "data": {
            "text/plain": [
              "[0.3911743462085724, 0.8755999803543091]"
            ]
          },
          "metadata": {},
          "execution_count": 9
        }
      ]
    },
    {
      "cell_type": "markdown",
      "metadata": {
        "id": "24lV25f0y2vK"
      },
      "source": [
        "**Version of the model with Dropout**"
      ]
    },
    {
      "cell_type": "code",
      "execution_count": null,
      "metadata": {
        "id": "Q9BgeNNuy2vL"
      },
      "outputs": [],
      "source": [
        "from tensorflow.keras.datasets import imdb\n",
        "(train_data, train_labels), (test_data, test_labels) = imdb.load_data(\n",
        "    num_words=10000)\n",
        "import numpy as np\n",
        "def vectorize_sequences(sequences, dimension=10000):\n",
        "    results = np.zeros((len(sequences), dimension))\n",
        "    for i, sequence in enumerate(sequences):\n",
        "        for j in sequence:\n",
        "            results[i, j] = 1.\n",
        "    return results\n",
        "x_train = vectorize_sequences(train_data)\n",
        "x_test = vectorize_sequences(test_data)\n",
        "x_train[0]\n",
        "y_train = np.asarray(train_labels).astype(\"float32\")\n",
        "y_test = np.asarray(test_labels).astype(\"float32\")"
      ]
    },
    {
      "cell_type": "code",
      "execution_count": 10,
      "metadata": {
        "colab": {
          "base_uri": "https://localhost:8080/"
        },
        "outputId": "a99d4928-3044-4ca4-dbf2-41c50ef7a7ec",
        "id": "B4Oihcqpy2vL"
      },
      "outputs": [
        {
          "output_type": "stream",
          "name": "stdout",
          "text": [
            "Epoch 1/20\n",
            "49/49 [==============================] - 3s 29ms/step - loss: 0.6125 - accuracy: 0.6566\n",
            "Epoch 2/20\n",
            "49/49 [==============================] - 2s 36ms/step - loss: 0.4651 - accuracy: 0.7944\n",
            "Epoch 3/20\n",
            "49/49 [==============================] - 2s 37ms/step - loss: 0.3713 - accuracy: 0.8574\n",
            "Epoch 4/20\n",
            "49/49 [==============================] - 1s 28ms/step - loss: 0.3151 - accuracy: 0.8883\n",
            "Epoch 5/20\n",
            "49/49 [==============================] - 1s 26ms/step - loss: 0.2713 - accuracy: 0.9054\n",
            "Epoch 6/20\n",
            "49/49 [==============================] - 1s 27ms/step - loss: 0.2364 - accuracy: 0.9181\n",
            "Epoch 7/20\n",
            "49/49 [==============================] - 1s 27ms/step - loss: 0.2143 - accuracy: 0.9271\n",
            "Epoch 8/20\n",
            "49/49 [==============================] - 1s 27ms/step - loss: 0.1937 - accuracy: 0.9352\n",
            "Epoch 9/20\n",
            "49/49 [==============================] - 1s 27ms/step - loss: 0.1768 - accuracy: 0.9391\n",
            "Epoch 10/20\n",
            "49/49 [==============================] - 1s 27ms/step - loss: 0.1586 - accuracy: 0.9443\n",
            "Epoch 11/20\n",
            "49/49 [==============================] - 2s 32ms/step - loss: 0.1505 - accuracy: 0.9470\n",
            "Epoch 12/20\n",
            "49/49 [==============================] - 2s 36ms/step - loss: 0.1373 - accuracy: 0.9526\n",
            "Epoch 13/20\n",
            "49/49 [==============================] - 2s 32ms/step - loss: 0.1297 - accuracy: 0.9547\n",
            "Epoch 14/20\n",
            "49/49 [==============================] - 1s 27ms/step - loss: 0.1239 - accuracy: 0.9559\n",
            "Epoch 15/20\n",
            "49/49 [==============================] - 1s 26ms/step - loss: 0.1203 - accuracy: 0.9571\n",
            "Epoch 16/20\n",
            "49/49 [==============================] - 1s 27ms/step - loss: 0.1127 - accuracy: 0.9577\n",
            "Epoch 17/20\n",
            "49/49 [==============================] - 1s 26ms/step - loss: 0.1112 - accuracy: 0.9601\n",
            "Epoch 18/20\n",
            "49/49 [==============================] - 1s 27ms/step - loss: 0.1058 - accuracy: 0.9620\n",
            "Epoch 19/20\n",
            "49/49 [==============================] - 1s 27ms/step - loss: 0.1041 - accuracy: 0.9636\n",
            "Epoch 20/20\n",
            "49/49 [==============================] - 1s 26ms/step - loss: 0.1014 - accuracy: 0.9637\n",
            "782/782 [==============================] - 3s 3ms/step - loss: 0.5548 - accuracy: 0.8728\n"
          ]
        }
      ],
      "source": [
        "from tensorflow import keras\n",
        "from tensorflow.keras import layers\n",
        "model = keras.Sequential([\n",
        "    layers.Dense(16, activation=\"relu\"),\n",
        "    layers.Dropout(0.5),\n",
        "    layers.Dense(16, activation=\"relu\"),\n",
        "    layers.Dropout(0.5),\n",
        "    layers.Dense(1, activation=\"sigmoid\")\n",
        "])\n",
        "model.compile(optimizer=\"rmsprop\",\n",
        "              loss=\"binary_crossentropy\",\n",
        "              metrics=[\"accuracy\"])\n",
        "x_val = x_train[:10000]\n",
        "partial_x_train = x_train[10000:]\n",
        "y_val = y_train[:10000]\n",
        "partial_y_train = y_train[10000:]\n",
        "model.fit(x_train, y_train, epochs=20, batch_size=512)\n",
        "results = model.evaluate(x_test, y_test)"
      ]
    },
    {
      "cell_type": "code",
      "source": [
        "results"
      ],
      "metadata": {
        "colab": {
          "base_uri": "https://localhost:8080/"
        },
        "outputId": "a144bbd2-be94-4d44-d56e-0932d904627c",
        "id": "vwjY8OCry2vM"
      },
      "execution_count": null,
      "outputs": [
        {
          "output_type": "execute_result",
          "data": {
            "text/plain": [
              "[0.41984787583351135, 0.8647199869155884]"
            ]
          },
          "metadata": {},
          "execution_count": 13
        }
      ]
    },
    {
      "cell_type": "markdown",
      "metadata": {
        "id": "dJrR8XaQy_D4"
      },
      "source": [
        "**Version of the model with Dropout**\n",
        "\n",
        "---\n",
        "\n"
      ]
    },
    {
      "cell_type": "code",
      "execution_count": 1,
      "metadata": {
        "id": "g5j0PGUOy_D5"
      },
      "outputs": [],
      "source": [
        "from tensorflow.keras.datasets import imdb\n",
        "(train_data, train_labels), (test_data, test_labels) = imdb.load_data(\n",
        "    num_words=10000)\n",
        "import numpy as np\n",
        "def vectorize_sequences(sequences, dimension=10000):\n",
        "    results = np.zeros((len(sequences), dimension))\n",
        "    for i, sequence in enumerate(sequences):\n",
        "        for j in sequence:\n",
        "            results[i, j] = 1.\n",
        "    return results\n",
        "x_train = vectorize_sequences(train_data)\n",
        "x_test = vectorize_sequences(test_data)\n",
        "x_train[0]\n",
        "y_train = np.asarray(train_labels).astype(\"float32\")\n",
        "y_test = np.asarray(test_labels).astype(\"float32\")"
      ]
    },
    {
      "cell_type": "code",
      "execution_count": 3,
      "metadata": {
        "colab": {
          "base_uri": "https://localhost:8080/"
        },
        "outputId": "7ec3d0a3-c909-4746-dd50-c3725c35e757",
        "id": "jdW42t9Ny_D5"
      },
      "outputs": [
        {
          "output_type": "stream",
          "name": "stdout",
          "text": [
            "Epoch 1/5\n",
            "49/49 [==============================] - 4s 56ms/step - loss: 0.5101 - accuracy: 0.7564\n",
            "Epoch 2/5\n",
            "49/49 [==============================] - 2s 49ms/step - loss: 0.3086 - accuracy: 0.8821\n",
            "Epoch 3/5\n",
            "49/49 [==============================] - 2s 47ms/step - loss: 0.2432 - accuracy: 0.9084\n",
            "Epoch 4/5\n",
            "49/49 [==============================] - 4s 75ms/step - loss: 0.1969 - accuracy: 0.9276\n",
            "Epoch 5/5\n",
            "49/49 [==============================] - 2s 48ms/step - loss: 0.1678 - accuracy: 0.9380\n",
            "782/782 [==============================] - 5s 7ms/step - loss: 0.3007 - accuracy: 0.8847\n"
          ]
        }
      ],
      "source": [
        "from tensorflow import keras\n",
        "from tensorflow.keras import layers\n",
        "from tensorflow.keras import regularizers\n",
        "regularizers.l1(0.001)\n",
        "regularizers.l1_l2(l1=0.001, l2=0.001)\n",
        "model = keras.Sequential([\n",
        "    layers.Dense(64, activation=\"relu\"),\n",
        "    layers.Dropout(0.5),\n",
        "    layers.Dense(64, activation=\"relu\"),\n",
        "    layers.Dropout(0.5),\n",
        "    layers.Dense(1, activation=\"sigmoid\")\n",
        "])\n",
        "model.compile(optimizer=\"rmsprop\",\n",
        "              loss=\"binary_crossentropy\",\n",
        "              metrics=[\"accuracy\"])\n",
        "x_val = x_train[:10000]\n",
        "partial_x_train = x_train[10000:]\n",
        "y_val = y_train[:10000]\n",
        "partial_y_train = y_train[10000:]\n",
        "model.fit(x_train, y_train, epochs=5, batch_size=512)\n",
        "results = model.evaluate(x_test, y_test)"
      ]
    },
    {
      "cell_type": "code",
      "source": [
        "results"
      ],
      "metadata": {
        "colab": {
          "base_uri": "https://localhost:8080/"
        },
        "outputId": "c89c20bb-8965-4824-f650-6ec92801433e",
        "id": "Nmtf03t2y_D5"
      },
      "execution_count": 5,
      "outputs": [
        {
          "output_type": "execute_result",
          "data": {
            "text/plain": [
              "[0.2861745059490204, 0.8871600031852722]"
            ]
          },
          "metadata": {},
          "execution_count": 5
        }
      ]
    }
  ]
}