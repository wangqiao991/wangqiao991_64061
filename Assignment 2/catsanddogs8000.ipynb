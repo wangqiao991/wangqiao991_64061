{
 "cells": [
  {
   "cell_type": "markdown",
   "metadata": {
    "id": "wAEYst82CDPR",
    "tags": []
   },
   "source": [
    "## Training a convnet from scratch with training sample of 8000, a validation sample of 500, and a test sample of 500"
   ]
  },
  {
   "cell_type": "markdown",
   "metadata": {
    "id": "b8wI8jDeCDPR",
    "tags": []
   },
   "source": [
    "### Downloading the data"
   ]
  },
  {
   "cell_type": "code",
   "execution_count": 1,
   "metadata": {
    "execution": {
     "iopub.execute_input": "2023-10-20T21:43:54.920206Z",
     "iopub.status.busy": "2023-10-20T21:43:54.917048Z",
     "iopub.status.idle": "2023-10-20T21:43:54.921595Z",
     "shell.execute_reply": "2023-10-20T21:43:54.922564Z"
    },
    "id": "53GKP3NWCDPS",
    "tags": []
   },
   "outputs": [],
   "source": [
    "#!unzip -qq '/fs/ess/PGS0333/BA_64061_KSU/data/dogs-vs-cats.zip'"
   ]
  },
  {
   "cell_type": "code",
   "execution_count": 2,
   "metadata": {
    "execution": {
     "iopub.execute_input": "2023-10-20T21:43:54.929269Z",
     "iopub.status.busy": "2023-10-20T21:43:54.928051Z",
     "iopub.status.idle": "2023-10-20T21:43:54.932784Z",
     "shell.execute_reply": "2023-10-20T21:43:54.931759Z"
    },
    "id": "ZfGEQ2r_CDPT"
   },
   "outputs": [],
   "source": [
    "#!unzip -qq train.zip"
   ]
  },
  {
   "cell_type": "markdown",
   "metadata": {
    "id": "QC5cZm4DCDPT",
    "tags": []
   },
   "source": [
    "**Copying images to training, validation, and test directories**"
   ]
  },
  {
   "cell_type": "code",
   "execution_count": 3,
   "metadata": {
    "execution": {
     "iopub.execute_input": "2023-10-20T21:43:54.956802Z",
     "iopub.status.busy": "2023-10-20T21:43:54.947536Z",
     "iopub.status.idle": "2023-10-20T21:45:05.177906Z",
     "shell.execute_reply": "2023-10-20T21:45:05.178705Z"
    },
    "id": "Z8dqOCnvCDPT",
    "tags": []
   },
   "outputs": [],
   "source": [
    "import os, shutil, pathlib\n",
    "\n",
    "original_dir = pathlib.Path(\"train\")\n",
    "new_base_dir = pathlib.Path(\"cats_vs_dogs_small\")\n",
    "\n",
    "def make_subset(subset_name, start_index, end_index):\n",
    "    for category in (\"cat\", \"dog\"):\n",
    "        dir = new_base_dir / subset_name / category\n",
    "        os.makedirs(dir)\n",
    "        fnames = [f\"{category}.{i}.jpg\" for i in range(start_index, end_index)]\n",
    "        for fname in fnames:\n",
    "            shutil.copyfile(src=original_dir / fname,\n",
    "                            dst=dir / fname)\n",
    "\n",
    "make_subset(\"train\", start_index=0, end_index=7999)\n",
    "make_subset(\"validation\", start_index=8000, end_index=8499)\n",
    "make_subset(\"test\", start_index=8499, end_index=8999)"
   ]
  },
  {
   "cell_type": "markdown",
   "metadata": {
    "id": "zPybxeH3CDPT",
    "tags": []
   },
   "source": [
    "### Building the model"
   ]
  },
  {
   "cell_type": "markdown",
   "metadata": {
    "id": "KE0mXcPvCDPU"
   },
   "source": [
    "**Instantiating a small convnet for dogs vs. cats classification**"
   ]
  },
  {
   "cell_type": "code",
   "execution_count": 4,
   "metadata": {
    "execution": {
     "iopub.execute_input": "2023-10-20T21:45:05.195671Z",
     "iopub.status.busy": "2023-10-20T21:45:05.194956Z",
     "iopub.status.idle": "2023-10-20T21:45:26.801617Z",
     "shell.execute_reply": "2023-10-20T21:45:26.802847Z"
    },
    "id": "TIDD8c0VCDPU"
   },
   "outputs": [],
   "source": [
    "from tensorflow import keras\n",
    "from tensorflow.keras import layers\n",
    "\n",
    "inputs = keras.Input(shape=(180, 180, 3))\n",
    "x = layers.Rescaling(1./255)(inputs)\n",
    "x = layers.Conv2D(filters=32, kernel_size=3, activation=\"relu\")(x)\n",
    "x = layers.MaxPooling2D(pool_size=2)(x)\n",
    "x = layers.Conv2D(filters=64, kernel_size=3, activation=\"relu\")(x)\n",
    "x = layers.MaxPooling2D(pool_size=2)(x)\n",
    "x = layers.Conv2D(filters=128, kernel_size=3, activation=\"relu\")(x)\n",
    "x = layers.MaxPooling2D(pool_size=2)(x)\n",
    "x = layers.Conv2D(filters=256, kernel_size=3, activation=\"relu\")(x)\n",
    "x = layers.MaxPooling2D(pool_size=2)(x)\n",
    "x = layers.Conv2D(filters=256, kernel_size=3, activation=\"relu\")(x)\n",
    "x = layers.Flatten()(x)\n",
    "outputs = layers.Dense(1, activation=\"sigmoid\")(x)\n",
    "model = keras.Model(inputs=inputs, outputs=outputs)"
   ]
  },
  {
   "cell_type": "code",
   "execution_count": 5,
   "metadata": {
    "execution": {
     "iopub.execute_input": "2023-10-20T21:45:26.809147Z",
     "iopub.status.busy": "2023-10-20T21:45:26.808291Z",
     "iopub.status.idle": "2023-10-20T21:45:26.845024Z",
     "shell.execute_reply": "2023-10-20T21:45:26.845664Z"
    },
    "id": "pcBTjksSCDPU"
   },
   "outputs": [
    {
     "name": "stdout",
     "output_type": "stream",
     "text": [
      "Model: \"model\"\n",
      "_________________________________________________________________\n",
      "Layer (type)                 Output Shape              Param #   \n",
      "=================================================================\n",
      "input_1 (InputLayer)         [(None, 180, 180, 3)]     0         \n",
      "_________________________________________________________________\n",
      "rescaling (Rescaling)        (None, 180, 180, 3)       0         \n",
      "_________________________________________________________________\n",
      "conv2d (Conv2D)              (None, 178, 178, 32)      896       \n",
      "_________________________________________________________________\n",
      "max_pooling2d (MaxPooling2D) (None, 89, 89, 32)        0         \n",
      "_________________________________________________________________\n",
      "conv2d_1 (Conv2D)            (None, 87, 87, 64)        18496     \n",
      "_________________________________________________________________\n",
      "max_pooling2d_1 (MaxPooling2 (None, 43, 43, 64)        0         \n",
      "_________________________________________________________________\n",
      "conv2d_2 (Conv2D)            (None, 41, 41, 128)       73856     \n",
      "_________________________________________________________________\n",
      "max_pooling2d_2 (MaxPooling2 (None, 20, 20, 128)       0         \n",
      "_________________________________________________________________\n",
      "conv2d_3 (Conv2D)            (None, 18, 18, 256)       295168    \n",
      "_________________________________________________________________\n",
      "max_pooling2d_3 (MaxPooling2 (None, 9, 9, 256)         0         \n",
      "_________________________________________________________________\n",
      "conv2d_4 (Conv2D)            (None, 7, 7, 256)         590080    \n",
      "_________________________________________________________________\n",
      "flatten (Flatten)            (None, 12544)             0         \n",
      "_________________________________________________________________\n",
      "dense (Dense)                (None, 1)                 12545     \n",
      "=================================================================\n",
      "Total params: 991,041\n",
      "Trainable params: 991,041\n",
      "Non-trainable params: 0\n",
      "_________________________________________________________________\n"
     ]
    }
   ],
   "source": [
    "model.summary()"
   ]
  },
  {
   "cell_type": "markdown",
   "metadata": {
    "id": "jKCFKNAVCDPV"
   },
   "source": [
    "**Configuring the model for training**"
   ]
  },
  {
   "cell_type": "code",
   "execution_count": 6,
   "metadata": {
    "execution": {
     "iopub.execute_input": "2023-10-20T21:45:26.864040Z",
     "iopub.status.busy": "2023-10-20T21:45:26.863170Z",
     "iopub.status.idle": "2023-10-20T21:45:26.877238Z",
     "shell.execute_reply": "2023-10-20T21:45:26.877974Z"
    },
    "id": "SXDcTiDKCDPV"
   },
   "outputs": [],
   "source": [
    "model.compile(loss=\"binary_crossentropy\",\n",
    "              optimizer=\"rmsprop\",\n",
    "              metrics=[\"accuracy\"])"
   ]
  },
  {
   "cell_type": "markdown",
   "metadata": {
    "id": "dyB79XdQCDPV"
   },
   "source": [
    "### Data preprocessing"
   ]
  },
  {
   "cell_type": "markdown",
   "metadata": {
    "id": "xuadPMYcCDPV"
   },
   "source": [
    "**Using `image_dataset_from_directory` to read images**"
   ]
  },
  {
   "cell_type": "code",
   "execution_count": 7,
   "metadata": {
    "execution": {
     "iopub.execute_input": "2023-10-20T21:45:26.885890Z",
     "iopub.status.busy": "2023-10-20T21:45:26.884608Z",
     "iopub.status.idle": "2023-10-20T21:45:28.829322Z",
     "shell.execute_reply": "2023-10-20T21:45:28.830402Z"
    },
    "id": "-2sPJf98CDPW"
   },
   "outputs": [
    {
     "name": "stdout",
     "output_type": "stream",
     "text": [
      "Found 15998 files belonging to 2 classes.\n",
      "Found 998 files belonging to 2 classes.\n",
      "Found 1000 files belonging to 2 classes.\n"
     ]
    }
   ],
   "source": [
    "from tensorflow.keras.utils import image_dataset_from_directory\n",
    "\n",
    "train_dataset = image_dataset_from_directory(\n",
    "    new_base_dir / \"train\",\n",
    "    image_size=(180, 180),\n",
    "    batch_size=32)\n",
    "validation_dataset = image_dataset_from_directory(\n",
    "    new_base_dir / \"validation\",\n",
    "    image_size=(180, 180),\n",
    "    batch_size=32)\n",
    "test_dataset = image_dataset_from_directory(\n",
    "    new_base_dir / \"test\",\n",
    "    image_size=(180, 180),\n",
    "    batch_size=32)"
   ]
  },
  {
   "cell_type": "code",
   "execution_count": 8,
   "metadata": {
    "execution": {
     "iopub.execute_input": "2023-10-20T21:45:28.839412Z",
     "iopub.status.busy": "2023-10-20T21:45:28.838227Z",
     "iopub.status.idle": "2023-10-20T21:45:28.845136Z",
     "shell.execute_reply": "2023-10-20T21:45:28.846036Z"
    },
    "id": "xaOvG3kRCDPW"
   },
   "outputs": [],
   "source": [
    "import numpy as np\n",
    "import tensorflow as tf\n",
    "random_numbers = np.random.normal(size=(1000, 16))\n",
    "dataset = tf.data.Dataset.from_tensor_slices(random_numbers)"
   ]
  },
  {
   "cell_type": "code",
   "execution_count": 9,
   "metadata": {
    "execution": {
     "iopub.execute_input": "2023-10-20T21:45:28.853571Z",
     "iopub.status.busy": "2023-10-20T21:45:28.852488Z",
     "iopub.status.idle": "2023-10-20T21:45:28.864715Z",
     "shell.execute_reply": "2023-10-20T21:45:28.863590Z"
    },
    "id": "VOJjVIR1CDPW"
   },
   "outputs": [
    {
     "name": "stdout",
     "output_type": "stream",
     "text": [
      "(16,)\n",
      "(16,)\n",
      "(16,)\n"
     ]
    }
   ],
   "source": [
    "for i, element in enumerate(dataset):\n",
    "    print(element.shape)\n",
    "    if i >= 2:\n",
    "        break"
   ]
  },
  {
   "cell_type": "code",
   "execution_count": 10,
   "metadata": {
    "execution": {
     "iopub.execute_input": "2023-10-20T21:45:28.873226Z",
     "iopub.status.busy": "2023-10-20T21:45:28.871981Z",
     "iopub.status.idle": "2023-10-20T21:45:28.881769Z",
     "shell.execute_reply": "2023-10-20T21:45:28.880805Z"
    },
    "id": "GuRLcC71CDPe"
   },
   "outputs": [
    {
     "name": "stdout",
     "output_type": "stream",
     "text": [
      "(32, 16)\n",
      "(32, 16)\n",
      "(32, 16)\n"
     ]
    }
   ],
   "source": [
    "batched_dataset = dataset.batch(32)\n",
    "for i, element in enumerate(batched_dataset):\n",
    "    print(element.shape)\n",
    "    if i >= 2:\n",
    "        break"
   ]
  },
  {
   "cell_type": "code",
   "execution_count": 11,
   "metadata": {
    "execution": {
     "iopub.execute_input": "2023-10-20T21:45:28.889901Z",
     "iopub.status.busy": "2023-10-20T21:45:28.888996Z",
     "iopub.status.idle": "2023-10-20T21:45:28.942573Z",
     "shell.execute_reply": "2023-10-20T21:45:28.941585Z"
    },
    "id": "oQDZXyr8CDPf"
   },
   "outputs": [
    {
     "name": "stdout",
     "output_type": "stream",
     "text": [
      "(4, 4)\n",
      "(4, 4)\n",
      "(4, 4)\n"
     ]
    }
   ],
   "source": [
    "reshaped_dataset = dataset.map(lambda x: tf.reshape(x, (4, 4)))\n",
    "for i, element in enumerate(reshaped_dataset):\n",
    "    print(element.shape)\n",
    "    if i >= 2:\n",
    "        break"
   ]
  },
  {
   "cell_type": "markdown",
   "metadata": {
    "id": "RZP6KKa3CDPf"
   },
   "source": [
    "**Displaying the shapes of the data and labels yielded by the `Dataset`**"
   ]
  },
  {
   "cell_type": "code",
   "execution_count": 12,
   "metadata": {
    "execution": {
     "iopub.execute_input": "2023-10-20T21:45:28.948350Z",
     "iopub.status.busy": "2023-10-20T21:45:28.947518Z",
     "iopub.status.idle": "2023-10-20T21:45:29.129027Z",
     "shell.execute_reply": "2023-10-20T21:45:29.129562Z"
    },
    "id": "1oQxuCKTCDPf"
   },
   "outputs": [
    {
     "name": "stdout",
     "output_type": "stream",
     "text": [
      "data batch shape: (32, 180, 180, 3)\n",
      "labels batch shape: (32,)\n"
     ]
    }
   ],
   "source": [
    "for data_batch, labels_batch in train_dataset:\n",
    "    print(\"data batch shape:\", data_batch.shape)\n",
    "    print(\"labels batch shape:\", labels_batch.shape)\n",
    "    break"
   ]
  },
  {
   "cell_type": "markdown",
   "metadata": {
    "id": "nB5vOQlBCDPg"
   },
   "source": [
    "**Fitting the model using a `Dataset`**"
   ]
  },
  {
   "cell_type": "code",
   "execution_count": 13,
   "metadata": {
    "execution": {
     "iopub.execute_input": "2023-10-20T21:45:29.139526Z",
     "iopub.status.busy": "2023-10-20T21:45:29.138980Z",
     "iopub.status.idle": "2023-10-20T21:45:29.141911Z",
     "shell.execute_reply": "2023-10-20T21:45:29.142329Z"
    },
    "id": "948qTTk7CDPg"
   },
   "outputs": [
    {
     "data": {
      "text/plain": [
       "'\\ncallbacks = [\\n    keras.callbacks.ModelCheckpoint(\\n        filepath=\"convnet_from_scratch.keras\",\\n        save_best_only=True,\\n        monitor=\"val_loss\")\\n]\\nhistory = model.fit(\\n    train_dataset,\\n    epochs=30,\\n    validation_data=validation_dataset,\\n    callbacks=callbacks)\\n'"
      ]
     },
     "execution_count": 1,
     "metadata": {},
     "output_type": "execute_result"
    }
   ],
   "source": [
    "\"\"\"\n",
    "callbacks = [\n",
    "    keras.callbacks.ModelCheckpoint(\n",
    "        filepath=\"convnet_from_scratch.keras\",\n",
    "        save_best_only=True,\n",
    "        monitor=\"val_loss\")\n",
    "]\n",
    "history = model.fit(\n",
    "    train_dataset,\n",
    "    epochs=30,\n",
    "    validation_data=validation_dataset,\n",
    "    callbacks=callbacks)\n",
    "\"\"\""
   ]
  },
  {
   "cell_type": "markdown",
   "metadata": {
    "id": "gAT29S8pCDPg"
   },
   "source": [
    "**Displaying curves of loss and accuracy during training**"
   ]
  },
  {
   "cell_type": "code",
   "execution_count": 14,
   "metadata": {
    "execution": {
     "iopub.execute_input": "2023-10-20T21:45:29.147355Z",
     "iopub.status.busy": "2023-10-20T21:45:29.146759Z",
     "iopub.status.idle": "2023-10-20T21:45:29.149646Z",
     "shell.execute_reply": "2023-10-20T21:45:29.150062Z"
    },
    "id": "BV339wOHCDPg"
   },
   "outputs": [
    {
     "data": {
      "text/plain": [
       "'\\nimport matplotlib.pyplot as plt\\naccuracy = history.history[\"accuracy\"]\\nval_accuracy = history.history[\"val_accuracy\"]\\nloss = history.history[\"loss\"]\\nval_loss = history.history[\"val_loss\"]\\nepochs = range(1, len(accuracy) + 1)\\nplt.plot(epochs, accuracy, \"bo\", label=\"Training accuracy\")\\nplt.plot(epochs, val_accuracy, \"b\", label=\"Validation accuracy\")\\nplt.title(\"Training and validation accuracy\")\\nplt.legend()\\nplt.figure()\\nplt.plot(epochs, loss, \"bo\", label=\"Training loss\")\\nplt.plot(epochs, val_loss, \"b\", label=\"Validation loss\")\\nplt.title(\"Training and validation loss\")\\nplt.legend()\\nplt.show()\\n'"
      ]
     },
     "execution_count": 1,
     "metadata": {},
     "output_type": "execute_result"
    }
   ],
   "source": [
    "\"\"\"\n",
    "import matplotlib.pyplot as plt\n",
    "accuracy = history.history[\"accuracy\"]\n",
    "val_accuracy = history.history[\"val_accuracy\"]\n",
    "loss = history.history[\"loss\"]\n",
    "val_loss = history.history[\"val_loss\"]\n",
    "epochs = range(1, len(accuracy) + 1)\n",
    "plt.plot(epochs, accuracy, \"bo\", label=\"Training accuracy\")\n",
    "plt.plot(epochs, val_accuracy, \"b\", label=\"Validation accuracy\")\n",
    "plt.title(\"Training and validation accuracy\")\n",
    "plt.legend()\n",
    "plt.figure()\n",
    "plt.plot(epochs, loss, \"bo\", label=\"Training loss\")\n",
    "plt.plot(epochs, val_loss, \"b\", label=\"Validation loss\")\n",
    "plt.title(\"Training and validation loss\")\n",
    "plt.legend()\n",
    "plt.show()\n",
    "\"\"\""
   ]
  },
  {
   "cell_type": "markdown",
   "metadata": {
    "id": "x2biw2rcCDPh"
   },
   "source": [
    "**Evaluating the model on the test set**"
   ]
  },
  {
   "cell_type": "code",
   "execution_count": 15,
   "metadata": {
    "execution": {
     "iopub.execute_input": "2023-10-20T21:45:29.154250Z",
     "iopub.status.busy": "2023-10-20T21:45:29.153736Z",
     "iopub.status.idle": "2023-10-20T21:45:29.156266Z",
     "shell.execute_reply": "2023-10-20T21:45:29.156773Z"
    },
    "id": "Kw2HQvKqCDPh"
   },
   "outputs": [
    {
     "data": {
      "text/plain": [
       "'\\ntest_model = keras.models.load_model(\"convnet_from_scratch.keras\")\\ntest_loss, test_acc = test_model.evaluate(test_dataset)\\nprint(f\"Test accuracy: {test_acc:.3f}\")\\n'"
      ]
     },
     "execution_count": 1,
     "metadata": {},
     "output_type": "execute_result"
    }
   ],
   "source": [
    "\"\"\"\n",
    "test_model = keras.models.load_model(\"convnet_from_scratch.keras\")\n",
    "test_loss, test_acc = test_model.evaluate(test_dataset)\n",
    "print(f\"Test accuracy: {test_acc:.3f}\")\n",
    "\"\"\""
   ]
  },
  {
   "cell_type": "markdown",
   "metadata": {
    "id": "59JIBMkeCDPh",
    "tags": []
   },
   "source": [
    "### Using data augmentation"
   ]
  },
  {
   "cell_type": "markdown",
   "metadata": {
    "id": "I4Mf-qDmCDPi"
   },
   "source": [
    "**Define a data augmentation stage to add to an image model**"
   ]
  },
  {
   "cell_type": "code",
   "execution_count": 16,
   "metadata": {
    "execution": {
     "iopub.execute_input": "2023-10-20T21:45:29.161885Z",
     "iopub.status.busy": "2023-10-20T21:45:29.161321Z",
     "iopub.status.idle": "2023-10-20T21:45:29.175091Z",
     "shell.execute_reply": "2023-10-20T21:45:29.175545Z"
    },
    "id": "SbEnboYqCDPi"
   },
   "outputs": [],
   "source": [
    "data_augmentation = keras.Sequential(\n",
    "    [\n",
    "        layers.RandomFlip(\"horizontal\"),\n",
    "        layers.RandomRotation(0.1),\n",
    "        layers.RandomZoom(0.2),\n",
    "    ]\n",
    ")"
   ]
  },
  {
   "cell_type": "markdown",
   "metadata": {
    "id": "oCMayLeOCDPi"
   },
   "source": [
    "**Displaying some randomly augmented training images**"
   ]
  },
  {
   "cell_type": "code",
   "execution_count": 17,
   "metadata": {
    "execution": {
     "iopub.execute_input": "2023-10-20T21:45:29.180301Z",
     "iopub.status.busy": "2023-10-20T21:45:29.179740Z",
     "iopub.status.idle": "2023-10-20T21:45:29.182618Z",
     "shell.execute_reply": "2023-10-20T21:45:29.183119Z"
    },
    "id": "A8aj4vANCDPj"
   },
   "outputs": [
    {
     "data": {
      "text/plain": [
       "'\\nplt.figure(figsize=(10, 10))\\nfor images, _ in train_dataset.take(1):\\n    for i in range(9):\\n        augmented_images = data_augmentation(images)\\n        ax = plt.subplot(3, 3, i + 1)\\n        plt.imshow(augmented_images[0].numpy().astype(\"uint8\"))\\n        plt.axis(\"off\")\\n'"
      ]
     },
     "execution_count": 1,
     "metadata": {},
     "output_type": "execute_result"
    }
   ],
   "source": [
    "\"\"\"\n",
    "plt.figure(figsize=(10, 10))\n",
    "for images, _ in train_dataset.take(1):\n",
    "    for i in range(9):\n",
    "        augmented_images = data_augmentation(images)\n",
    "        ax = plt.subplot(3, 3, i + 1)\n",
    "        plt.imshow(augmented_images[0].numpy().astype(\"uint8\"))\n",
    "        plt.axis(\"off\")\n",
    "\"\"\""
   ]
  },
  {
   "cell_type": "markdown",
   "metadata": {
    "id": "nNziOokECDPj"
   },
   "source": [
    "**Defining a new convnet that includes image augmentation, regularization and dropout**"
   ]
  },
  {
   "cell_type": "code",
   "execution_count": 18,
   "metadata": {
    "execution": {
     "iopub.execute_input": "2023-10-20T21:45:29.193073Z",
     "iopub.status.busy": "2023-10-20T21:45:29.192488Z",
     "iopub.status.idle": "2023-10-20T21:45:29.502862Z",
     "shell.execute_reply": "2023-10-20T21:45:29.501586Z"
    },
    "id": "MyWACP8CCDPk"
   },
   "outputs": [],
   "source": [
    "inputs = keras.Input(shape=(180, 180, 3))\n",
    "x = data_augmentation(inputs)\n",
    "x = layers.Rescaling(1./255)(x)\n",
    "x = layers.Conv2D(filters=32, kernel_size=3, activation=\"relu\")(x)\n",
    "x = layers.MaxPooling2D(pool_size=2)(x)\n",
    "x = layers.Conv2D(filters=64, kernel_size=3, activation=\"relu\")(x)\n",
    "x = layers.MaxPooling2D(pool_size=2)(x)\n",
    "x = layers.Conv2D(filters=128, kernel_size=3, activation=\"relu\")(x)\n",
    "x = layers.MaxPooling2D(pool_size=2)(x)\n",
    "x = layers.Conv2D(filters=256, kernel_size=3, activation=\"relu\")(x)\n",
    "x = layers.MaxPooling2D(pool_size=2)(x)\n",
    "x = layers.Conv2D(filters=256, kernel_size=3, activation=\"relu\")(x)\n",
    "x = layers.Flatten()(x)\n",
    "x = layers.Dropout(0.5)(x)\n",
    "outputs = layers.Dense(1, activation=\"sigmoid\")(x)\n",
    "model = keras.Model(inputs=inputs, outputs=outputs)\n",
    "\n",
    "model.compile(loss=\"binary_crossentropy\",\n",
    "              optimizer=\"rmsprop\",\n",
    "              metrics=[\"accuracy\"])"
   ]
  },
  {
   "cell_type": "markdown",
   "metadata": {
    "id": "TT51jSbLCDPk"
   },
   "source": [
    "**Training the regularized convnet**"
   ]
  },
  {
   "cell_type": "code",
   "execution_count": 19,
   "metadata": {
    "execution": {
     "iopub.execute_input": "2023-10-20T21:45:29.513333Z",
     "iopub.status.busy": "2023-10-20T21:45:29.512631Z",
     "iopub.status.idle": "2023-10-20T21:59:48.239402Z",
     "shell.execute_reply": "2023-10-20T21:59:48.239828Z"
    },
    "id": "fZL5nFXuCDPk"
   },
   "outputs": [
    {
     "name": "stdout",
     "output_type": "stream",
     "text": [
      "Epoch 1/80\n",
      "500/500 [==============================] - 16s 24ms/step - loss: 0.6698 - accuracy: 0.5857 - val_loss: 0.5948 - val_accuracy: 0.6974\n",
      "Epoch 2/80\n",
      "500/500 [==============================] - 12s 23ms/step - loss: 0.5821 - accuracy: 0.6964 - val_loss: 0.5041 - val_accuracy: 0.7465\n",
      "Epoch 3/80\n",
      "500/500 [==============================] - 11s 23ms/step - loss: 0.5173 - accuracy: 0.7536 - val_loss: 0.4001 - val_accuracy: 0.8196\n",
      "Epoch 4/80\n",
      "500/500 [==============================] - 12s 23ms/step - loss: 0.4723 - accuracy: 0.7782 - val_loss: 0.4987 - val_accuracy: 0.7836\n",
      "Epoch 5/80\n",
      "500/500 [==============================] - 12s 23ms/step - loss: 0.4270 - accuracy: 0.8062 - val_loss: 0.3770 - val_accuracy: 0.8367\n",
      "Epoch 6/80\n",
      "500/500 [==============================] - 12s 23ms/step - loss: 0.3997 - accuracy: 0.8220 - val_loss: 0.2858 - val_accuracy: 0.8818\n",
      "Epoch 7/80\n",
      "500/500 [==============================] - 12s 23ms/step - loss: 0.3660 - accuracy: 0.8396 - val_loss: 0.3034 - val_accuracy: 0.8758\n",
      "Epoch 8/80\n",
      "500/500 [==============================] - 11s 22ms/step - loss: 0.3541 - accuracy: 0.8462 - val_loss: 0.2472 - val_accuracy: 0.8988\n",
      "Epoch 9/80\n",
      "500/500 [==============================] - 12s 23ms/step - loss: 0.3404 - accuracy: 0.8548 - val_loss: 0.3367 - val_accuracy: 0.8567\n",
      "Epoch 10/80\n",
      "500/500 [==============================] - 12s 23ms/step - loss: 0.3285 - accuracy: 0.8629 - val_loss: 0.2327 - val_accuracy: 0.8998\n",
      "Epoch 11/80\n",
      "500/500 [==============================] - 11s 23ms/step - loss: 0.3237 - accuracy: 0.8645 - val_loss: 0.2286 - val_accuracy: 0.9058\n",
      "Epoch 12/80\n",
      "500/500 [==============================] - 12s 23ms/step - loss: 0.3222 - accuracy: 0.8661 - val_loss: 0.2522 - val_accuracy: 0.9038\n",
      "Epoch 13/80\n",
      "500/500 [==============================] - 12s 23ms/step - loss: 0.3229 - accuracy: 0.8694 - val_loss: 0.2510 - val_accuracy: 0.9128\n",
      "Epoch 14/80\n",
      "500/500 [==============================] - 12s 23ms/step - loss: 0.3242 - accuracy: 0.8648 - val_loss: 0.2271 - val_accuracy: 0.9098\n",
      "Epoch 15/80\n",
      "500/500 [==============================] - 11s 21ms/step - loss: 0.3219 - accuracy: 0.8669 - val_loss: 0.4112 - val_accuracy: 0.8246\n",
      "Epoch 16/80\n",
      "500/500 [==============================] - 10s 21ms/step - loss: 0.3310 - accuracy: 0.8598 - val_loss: 0.1919 - val_accuracy: 0.9228\n",
      "Epoch 17/80\n",
      "500/500 [==============================] - 11s 22ms/step - loss: 0.3342 - accuracy: 0.8607 - val_loss: 0.2056 - val_accuracy: 0.9188\n",
      "Epoch 18/80\n",
      "500/500 [==============================] - 10s 21ms/step - loss: 0.3450 - accuracy: 0.8559 - val_loss: 0.2414 - val_accuracy: 0.8908\n",
      "Epoch 19/80\n",
      "500/500 [==============================] - 10s 21ms/step - loss: 0.3657 - accuracy: 0.8515 - val_loss: 0.3468 - val_accuracy: 0.8307\n",
      "Epoch 20/80\n",
      "500/500 [==============================] - 10s 21ms/step - loss: 0.3517 - accuracy: 0.8532 - val_loss: 0.2270 - val_accuracy: 0.9208\n",
      "Epoch 21/80\n",
      "500/500 [==============================] - 11s 21ms/step - loss: 0.3681 - accuracy: 0.8481 - val_loss: 0.3836 - val_accuracy: 0.8888\n",
      "Epoch 22/80\n",
      "500/500 [==============================] - 10s 21ms/step - loss: 0.3722 - accuracy: 0.8447 - val_loss: 0.6300 - val_accuracy: 0.7285\n",
      "Epoch 23/80\n",
      "500/500 [==============================] - 10s 20ms/step - loss: 0.4038 - accuracy: 0.8415 - val_loss: 0.5272 - val_accuracy: 0.8717\n",
      "Epoch 24/80\n",
      "500/500 [==============================] - 10s 21ms/step - loss: 0.4020 - accuracy: 0.8377 - val_loss: 0.2686 - val_accuracy: 0.8988\n",
      "Epoch 25/80\n",
      "500/500 [==============================] - 10s 21ms/step - loss: 0.4430 - accuracy: 0.8336 - val_loss: 1.5721 - val_accuracy: 0.7806\n",
      "Epoch 26/80\n",
      "500/500 [==============================] - 10s 21ms/step - loss: 0.4454 - accuracy: 0.8182 - val_loss: 0.3221 - val_accuracy: 0.8707\n",
      "Epoch 27/80\n",
      "500/500 [==============================] - 11s 21ms/step - loss: 0.4203 - accuracy: 0.8275 - val_loss: 0.2136 - val_accuracy: 0.9118\n",
      "Epoch 28/80\n",
      "500/500 [==============================] - 11s 21ms/step - loss: 0.4422 - accuracy: 0.8264 - val_loss: 0.2804 - val_accuracy: 0.8788\n",
      "Epoch 29/80\n",
      "500/500 [==============================] - 10s 21ms/step - loss: 0.4528 - accuracy: 0.8213 - val_loss: 0.3431 - val_accuracy: 0.8677\n",
      "Epoch 30/80\n",
      "500/500 [==============================] - 11s 21ms/step - loss: 0.4511 - accuracy: 0.8179 - val_loss: 0.3673 - val_accuracy: 0.8878\n",
      "Epoch 31/80\n",
      "500/500 [==============================] - 10s 20ms/step - loss: 0.4706 - accuracy: 0.8105 - val_loss: 0.4326 - val_accuracy: 0.8427\n",
      "Epoch 32/80\n",
      "500/500 [==============================] - 10s 20ms/step - loss: 0.4646 - accuracy: 0.8095 - val_loss: 0.3251 - val_accuracy: 0.8707\n",
      "Epoch 33/80\n",
      "500/500 [==============================] - 10s 21ms/step - loss: 0.5123 - accuracy: 0.8054 - val_loss: 1.0964 - val_accuracy: 0.6393\n",
      "Epoch 34/80\n",
      "500/500 [==============================] - 10s 20ms/step - loss: 0.5418 - accuracy: 0.7726 - val_loss: 0.3325 - val_accuracy: 0.8497\n",
      "Epoch 35/80\n",
      "500/500 [==============================] - 10s 20ms/step - loss: 0.4987 - accuracy: 0.8029 - val_loss: 0.3348 - val_accuracy: 0.8617\n",
      "Epoch 36/80\n",
      "500/500 [==============================] - 11s 21ms/step - loss: 0.5345 - accuracy: 0.8021 - val_loss: 0.4660 - val_accuracy: 0.8136\n",
      "Epoch 37/80\n",
      "500/500 [==============================] - 10s 21ms/step - loss: 0.5108 - accuracy: 0.7906 - val_loss: 0.4385 - val_accuracy: 0.8126\n",
      "Epoch 38/80\n",
      "500/500 [==============================] - 10s 21ms/step - loss: 0.5487 - accuracy: 0.7854 - val_loss: 0.3410 - val_accuracy: 0.8507\n",
      "Epoch 39/80\n",
      "500/500 [==============================] - 10s 21ms/step - loss: 0.5248 - accuracy: 0.7893 - val_loss: 0.3030 - val_accuracy: 0.8697\n",
      "Epoch 40/80\n",
      "500/500 [==============================] - 10s 21ms/step - loss: 0.5730 - accuracy: 0.7750 - val_loss: 0.3053 - val_accuracy: 0.8687\n",
      "Epoch 41/80\n",
      "500/500 [==============================] - 10s 21ms/step - loss: 0.5474 - accuracy: 0.7735 - val_loss: 0.4701 - val_accuracy: 0.7595\n",
      "Epoch 42/80\n",
      "500/500 [==============================] - 10s 20ms/step - loss: 0.5688 - accuracy: 0.7653 - val_loss: 0.5299 - val_accuracy: 0.8327\n",
      "Epoch 43/80\n",
      "500/500 [==============================] - 10s 20ms/step - loss: 0.5633 - accuracy: 0.7732 - val_loss: 0.5697 - val_accuracy: 0.7154\n",
      "Epoch 44/80\n",
      "500/500 [==============================] - 10s 20ms/step - loss: 0.6075 - accuracy: 0.7611 - val_loss: 0.3907 - val_accuracy: 0.8267\n",
      "Epoch 45/80\n",
      "500/500 [==============================] - 10s 20ms/step - loss: 0.6059 - accuracy: 0.7528 - val_loss: 0.4196 - val_accuracy: 0.8317\n",
      "Epoch 46/80\n",
      "500/500 [==============================] - 10s 20ms/step - loss: 0.7011 - accuracy: 0.7299 - val_loss: 0.4721 - val_accuracy: 0.8006\n",
      "Epoch 47/80\n",
      "500/500 [==============================] - 11s 21ms/step - loss: 0.7024 - accuracy: 0.7442 - val_loss: 0.4047 - val_accuracy: 0.8086\n",
      "Epoch 48/80\n",
      "500/500 [==============================] - 10s 21ms/step - loss: 0.7302 - accuracy: 0.7452 - val_loss: 0.5936 - val_accuracy: 0.7004\n",
      "Epoch 49/80\n",
      "500/500 [==============================] - 10s 20ms/step - loss: 0.7334 - accuracy: 0.7185 - val_loss: 0.3979 - val_accuracy: 0.8347\n",
      "Epoch 50/80\n",
      "500/500 [==============================] - 10s 21ms/step - loss: 0.6484 - accuracy: 0.7150 - val_loss: 0.4708 - val_accuracy: 0.8046\n",
      "Epoch 51/80\n",
      "500/500 [==============================] - 10s 20ms/step - loss: 0.6544 - accuracy: 0.7255 - val_loss: 0.4457 - val_accuracy: 0.8036\n",
      "Epoch 52/80\n",
      "500/500 [==============================] - 10s 20ms/step - loss: 0.6426 - accuracy: 0.7240 - val_loss: 0.4706 - val_accuracy: 0.8196\n",
      "Epoch 53/80\n",
      "500/500 [==============================] - 10s 21ms/step - loss: 0.6671 - accuracy: 0.7307 - val_loss: 0.5251 - val_accuracy: 0.7926\n",
      "Epoch 54/80\n",
      "500/500 [==============================] - 10s 21ms/step - loss: 0.6281 - accuracy: 0.7216 - val_loss: 0.4577 - val_accuracy: 0.7966\n",
      "Epoch 55/80\n",
      "500/500 [==============================] - 10s 21ms/step - loss: 0.7185 - accuracy: 0.6918 - val_loss: 0.5353 - val_accuracy: 0.7405\n",
      "Epoch 56/80\n",
      "500/500 [==============================] - 10s 21ms/step - loss: 0.7301 - accuracy: 0.7176 - val_loss: 0.4469 - val_accuracy: 0.7866\n",
      "Epoch 57/80\n",
      "500/500 [==============================] - 10s 20ms/step - loss: 0.6787 - accuracy: 0.6987 - val_loss: 0.7591 - val_accuracy: 0.8377\n",
      "Epoch 58/80\n",
      "500/500 [==============================] - 10s 21ms/step - loss: 0.8962 - accuracy: 0.6985 - val_loss: 0.4884 - val_accuracy: 0.7936\n",
      "Epoch 59/80\n",
      "500/500 [==============================] - 10s 20ms/step - loss: 0.8222 - accuracy: 0.6948 - val_loss: 0.5391 - val_accuracy: 0.8026\n",
      "Epoch 60/80\n",
      "500/500 [==============================] - 10s 20ms/step - loss: 0.7255 - accuracy: 0.6885 - val_loss: 0.5430 - val_accuracy: 0.7315\n",
      "Epoch 61/80\n",
      "500/500 [==============================] - 10s 21ms/step - loss: 0.7795 - accuracy: 0.6950 - val_loss: 0.4455 - val_accuracy: 0.8056\n",
      "Epoch 62/80\n",
      "500/500 [==============================] - 11s 21ms/step - loss: 0.7661 - accuracy: 0.6893 - val_loss: 0.4932 - val_accuracy: 0.7996\n",
      "Epoch 63/80\n",
      "500/500 [==============================] - 10s 21ms/step - loss: 0.6789 - accuracy: 0.6858 - val_loss: 0.7269 - val_accuracy: 0.7325\n",
      "Epoch 64/80\n",
      "500/500 [==============================] - 10s 21ms/step - loss: 0.6541 - accuracy: 0.7032 - val_loss: 0.4906 - val_accuracy: 0.7575\n",
      "Epoch 65/80\n",
      "500/500 [==============================] - 10s 20ms/step - loss: 0.7988 - accuracy: 0.7289 - val_loss: 0.4875 - val_accuracy: 0.7766\n",
      "Epoch 66/80\n",
      "500/500 [==============================] - 10s 20ms/step - loss: 0.7619 - accuracy: 0.7186 - val_loss: 0.5024 - val_accuracy: 0.7856\n",
      "Epoch 67/80\n",
      "500/500 [==============================] - 10s 21ms/step - loss: 0.6605 - accuracy: 0.7142 - val_loss: 0.5712 - val_accuracy: 0.8126\n",
      "Epoch 68/80\n",
      "500/500 [==============================] - 10s 21ms/step - loss: 0.7300 - accuracy: 0.6925 - val_loss: 0.8057 - val_accuracy: 0.8146\n",
      "Epoch 69/80\n",
      "500/500 [==============================] - 10s 20ms/step - loss: 0.7359 - accuracy: 0.7048 - val_loss: 0.4732 - val_accuracy: 0.7826\n",
      "Epoch 70/80\n",
      "500/500 [==============================] - 11s 21ms/step - loss: 0.6933 - accuracy: 0.7053 - val_loss: 0.5170 - val_accuracy: 0.7485\n",
      "Epoch 71/80\n",
      "500/500 [==============================] - 10s 20ms/step - loss: 0.8406 - accuracy: 0.7012 - val_loss: 0.9676 - val_accuracy: 0.6253\n",
      "Epoch 72/80\n",
      "500/500 [==============================] - 10s 20ms/step - loss: 0.6573 - accuracy: 0.7063 - val_loss: 1.1291 - val_accuracy: 0.6914\n",
      "Epoch 73/80\n",
      "500/500 [==============================] - 10s 20ms/step - loss: 0.8186 - accuracy: 0.6640 - val_loss: 0.6766 - val_accuracy: 0.5561\n",
      "Epoch 74/80\n",
      "500/500 [==============================] - 11s 21ms/step - loss: 0.9503 - accuracy: 0.6762 - val_loss: 0.5581 - val_accuracy: 0.7375\n",
      "Epoch 75/80\n",
      "500/500 [==============================] - 10s 21ms/step - loss: 0.7765 - accuracy: 0.6905 - val_loss: 0.7470 - val_accuracy: 0.6443\n",
      "Epoch 76/80\n",
      "500/500 [==============================] - 10s 21ms/step - loss: 0.7347 - accuracy: 0.6849 - val_loss: 0.4996 - val_accuracy: 0.8126\n",
      "Epoch 77/80\n",
      "500/500 [==============================] - 10s 20ms/step - loss: 0.7122 - accuracy: 0.6692 - val_loss: 0.9294 - val_accuracy: 0.7615\n",
      "Epoch 78/80\n",
      "500/500 [==============================] - 11s 22ms/step - loss: 0.7860 - accuracy: 0.6724 - val_loss: 0.5466 - val_accuracy: 0.7365\n",
      "Epoch 79/80\n",
      "500/500 [==============================] - 10s 21ms/step - loss: 0.9206 - accuracy: 0.6649 - val_loss: 0.5738 - val_accuracy: 0.6834\n",
      "Epoch 80/80\n",
      "500/500 [==============================] - 10s 20ms/step - loss: 0.8316 - accuracy: 0.6814 - val_loss: 0.5858 - val_accuracy: 0.7555\n"
     ]
    }
   ],
   "source": [
    "callbacks = [\n",
    "    keras.callbacks.ModelCheckpoint(\n",
    "        filepath=\"convnet_from_scratch_with_augmentation.keras\",\n",
    "        save_best_only=True,\n",
    "        monitor=\"val_loss\")\n",
    "]\n",
    "history = model.fit(\n",
    "    train_dataset,\n",
    "    epochs=80,\n",
    "    validation_data=validation_dataset,\n",
    "    callbacks=callbacks)"
   ]
  },
  {
   "cell_type": "markdown",
   "metadata": {
    "id": "07jIY-3yCDPl"
   },
   "source": [
    "**Evaluating the model on the test set**"
   ]
  },
  {
   "cell_type": "code",
   "execution_count": 20,
   "metadata": {
    "execution": {
     "iopub.execute_input": "2023-10-20T21:59:48.244147Z",
     "iopub.status.busy": "2023-10-20T21:59:48.243651Z",
     "iopub.status.idle": "2023-10-20T21:59:49.413277Z",
     "shell.execute_reply": "2023-10-20T21:59:49.413755Z"
    },
    "id": "4_WMA5i4CDPl"
   },
   "outputs": [
    {
     "name": "stdout",
     "output_type": "stream",
     "text": [
      "32/32 [==============================] - 1s 15ms/step - loss: 0.2239 - accuracy: 0.9070\n",
      "Test accuracy: 0.907\n"
     ]
    }
   ],
   "source": [
    "test_model = keras.models.load_model(\n",
    "    \"convnet_from_scratch_with_augmentation.keras\")\n",
    "test_loss, test_acc = test_model.evaluate(test_dataset)\n",
    "print(f\"Test accuracy: {test_acc:.3f}\")"
   ]
  }
 ],
 "metadata": {
  "colab": {
   "provenance": [
    {
     "file_id": "https://github.com/fchollet/deep-learning-with-python-notebooks/blob/master/chapter08_intro-to-dl-for-computer-vision.ipynb",
     "timestamp": 1697604276120
    }
   ],
   "toc_visible": true
  },
  "kernelspec": {
   "display_name": "Python 3",
   "language": "python",
   "name": "python3"
  },
  "language_info": {
   "codemirror_mode": {
    "name": "ipython",
    "version": 3
   },
   "file_extension": ".py",
   "mimetype": "text/x-python",
   "name": "python",
   "nbconvert_exporter": "python",
   "pygments_lexer": "ipython3",
   "version": "3.6.8"
  }
 },
 "nbformat": 4,
 "nbformat_minor": 4
}
