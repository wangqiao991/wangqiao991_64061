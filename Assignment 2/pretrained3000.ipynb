{
 "cells": [
  {
   "cell_type": "markdown",
   "metadata": {
    "id": "wAEYst82CDPR",
    "tags": []
   },
   "source": [
    "## Using a pretrained network with training sample of 3000, a validation sample of 500, and a test sample of 500"
   ]
  },
  {
   "cell_type": "markdown",
   "metadata": {
    "id": "b8wI8jDeCDPR",
    "tags": []
   },
   "source": [
    "### Downloading the data"
   ]
  },
  {
   "cell_type": "code",
   "execution_count": 1,
   "metadata": {
    "execution": {
     "iopub.execute_input": "2023-10-21T20:44:38.185437Z",
     "iopub.status.busy": "2023-10-21T20:44:38.182107Z",
     "iopub.status.idle": "2023-10-21T20:44:38.187017Z",
     "shell.execute_reply": "2023-10-21T20:44:38.188102Z"
    },
    "id": "53GKP3NWCDPS",
    "tags": []
   },
   "outputs": [],
   "source": [
    "#!unzip -qq '/fs/ess/PGS0333/BA_64061_KSU/data/dogs-vs-cats.zip'"
   ]
  },
  {
   "cell_type": "code",
   "execution_count": 2,
   "metadata": {
    "execution": {
     "iopub.execute_input": "2023-10-21T20:44:38.194184Z",
     "iopub.status.busy": "2023-10-21T20:44:38.192527Z",
     "iopub.status.idle": "2023-10-21T20:44:38.197830Z",
     "shell.execute_reply": "2023-10-21T20:44:38.198935Z"
    },
    "id": "ZfGEQ2r_CDPT"
   },
   "outputs": [],
   "source": [
    "#!unzip -qq train.zip"
   ]
  },
  {
   "cell_type": "markdown",
   "metadata": {
    "id": "QC5cZm4DCDPT",
    "tags": []
   },
   "source": [
    "**Copying images to training, validation, and test directories**"
   ]
  },
  {
   "cell_type": "code",
   "execution_count": 3,
   "metadata": {
    "execution": {
     "iopub.execute_input": "2023-10-21T20:44:38.224368Z",
     "iopub.status.busy": "2023-10-21T20:44:38.223079Z",
     "iopub.status.idle": "2023-10-21T20:44:51.213525Z",
     "shell.execute_reply": "2023-10-21T20:44:51.212070Z"
    },
    "id": "Z8dqOCnvCDPT",
    "tags": []
   },
   "outputs": [],
   "source": [
    "import os, shutil, pathlib\n",
    "\n",
    "original_dir = pathlib.Path(\"train\")\n",
    "new_base_dir = pathlib.Path(\"cats_vs_dogs_small\")\n",
    "\n",
    "def make_subset(subset_name, start_index, end_index):\n",
    "    for category in (\"cat\", \"dog\"):\n",
    "        dir = new_base_dir / subset_name / category\n",
    "        os.makedirs(dir)\n",
    "        fnames = [f\"{category}.{i}.jpg\" for i in range(start_index, end_index)]\n",
    "        for fname in fnames:\n",
    "            shutil.copyfile(src=original_dir / fname,\n",
    "                            dst=dir / fname)\n",
    "\n",
    "make_subset(\"train\", start_index=0, end_index=2999)\n",
    "make_subset(\"validation\", start_index=3000, end_index=3499)\n",
    "make_subset(\"test\", start_index=3500, end_index=3999)"
   ]
  },
  {
   "cell_type": "markdown",
   "metadata": {
    "id": "zPybxeH3CDPT",
    "tags": []
   },
   "source": [
    "### Building the model"
   ]
  },
  {
   "cell_type": "markdown",
   "metadata": {
    "id": "KE0mXcPvCDPU"
   },
   "source": [
    "**Instantiating a small convnet for dogs vs. cats classification**"
   ]
  },
  {
   "cell_type": "code",
   "execution_count": 4,
   "metadata": {
    "execution": {
     "iopub.execute_input": "2023-10-21T20:44:51.227077Z",
     "iopub.status.busy": "2023-10-21T20:44:51.225554Z",
     "iopub.status.idle": "2023-10-21T20:44:51.238061Z",
     "shell.execute_reply": "2023-10-21T20:44:51.239167Z"
    },
    "id": "TIDD8c0VCDPU"
   },
   "outputs": [
    {
     "data": {
      "text/plain": [
       "'\\nfrom tensorflow import keras\\nfrom tensorflow.keras import layers\\ninputs = keras.Input(shape=(180, 180, 3))\\nx = layers.Rescaling(1./255)(inputs)\\nx = layers.Conv2D(filters=32, kernel_size=3, activation=\"relu\")(x)\\nx = layers.MaxPooling2D(pool_size=2)(x)\\nx = layers.Conv2D(filters=64, kernel_size=3, activation=\"relu\")(x)\\nx = layers.MaxPooling2D(pool_size=2)(x)\\nx = layers.Conv2D(filters=128, kernel_size=3, activation=\"relu\")(x)\\nx = layers.MaxPooling2D(pool_size=2)(x)\\nx = layers.Conv2D(filters=256, kernel_size=3, activation=\"relu\")(x)\\nx = layers.MaxPooling2D(pool_size=2)(x)\\nx = layers.Conv2D(filters=256, kernel_size=3, activation=\"relu\")(x)\\nx = layers.Flatten()(x)\\noutputs = layers.Dense(1, activation=\"sigmoid\")(x)\\nmodel = keras.Model(inputs=inputs, outputs=outputs)\\n'"
      ]
     },
     "execution_count": 1,
     "metadata": {},
     "output_type": "execute_result"
    }
   ],
   "source": [
    "\"\"\"\n",
    "from tensorflow import keras\n",
    "from tensorflow.keras import layers\n",
    "inputs = keras.Input(shape=(180, 180, 3))\n",
    "x = layers.Rescaling(1./255)(inputs)\n",
    "x = layers.Conv2D(filters=32, kernel_size=3, activation=\"relu\")(x)\n",
    "x = layers.MaxPooling2D(pool_size=2)(x)\n",
    "x = layers.Conv2D(filters=64, kernel_size=3, activation=\"relu\")(x)\n",
    "x = layers.MaxPooling2D(pool_size=2)(x)\n",
    "x = layers.Conv2D(filters=128, kernel_size=3, activation=\"relu\")(x)\n",
    "x = layers.MaxPooling2D(pool_size=2)(x)\n",
    "x = layers.Conv2D(filters=256, kernel_size=3, activation=\"relu\")(x)\n",
    "x = layers.MaxPooling2D(pool_size=2)(x)\n",
    "x = layers.Conv2D(filters=256, kernel_size=3, activation=\"relu\")(x)\n",
    "x = layers.Flatten()(x)\n",
    "outputs = layers.Dense(1, activation=\"sigmoid\")(x)\n",
    "model = keras.Model(inputs=inputs, outputs=outputs)\n",
    "\"\"\""
   ]
  },
  {
   "cell_type": "code",
   "execution_count": 5,
   "metadata": {
    "execution": {
     "iopub.execute_input": "2023-10-21T20:44:51.243039Z",
     "iopub.status.busy": "2023-10-21T20:44:51.242533Z",
     "iopub.status.idle": "2023-10-21T20:44:51.247465Z",
     "shell.execute_reply": "2023-10-21T20:44:51.248486Z"
    },
    "id": "pcBTjksSCDPU"
   },
   "outputs": [],
   "source": [
    "# model.summary()"
   ]
  },
  {
   "cell_type": "markdown",
   "metadata": {
    "id": "jKCFKNAVCDPV"
   },
   "source": [
    "**Configuring the model for training**"
   ]
  },
  {
   "cell_type": "code",
   "execution_count": 6,
   "metadata": {
    "execution": {
     "iopub.execute_input": "2023-10-21T20:44:51.253945Z",
     "iopub.status.busy": "2023-10-21T20:44:51.252684Z",
     "iopub.status.idle": "2023-10-21T20:44:51.257099Z",
     "shell.execute_reply": "2023-10-21T20:44:51.258049Z"
    },
    "id": "SXDcTiDKCDPV"
   },
   "outputs": [
    {
     "data": {
      "text/plain": [
       "'\\nmodel.compile(loss=\"binary_crossentropy\",\\n              optimizer=\"rmsprop\",\\n              metrics=[\"accuracy\"])\\n'"
      ]
     },
     "execution_count": 1,
     "metadata": {},
     "output_type": "execute_result"
    }
   ],
   "source": [
    "\"\"\"\n",
    "model.compile(loss=\"binary_crossentropy\",\n",
    "              optimizer=\"rmsprop\",\n",
    "              metrics=[\"accuracy\"])\n",
    "\"\"\""
   ]
  },
  {
   "cell_type": "markdown",
   "metadata": {
    "id": "dyB79XdQCDPV"
   },
   "source": [
    "### Data preprocessing"
   ]
  },
  {
   "cell_type": "markdown",
   "metadata": {
    "id": "xuadPMYcCDPV"
   },
   "source": [
    "**Using `image_dataset_from_directory` to read images**"
   ]
  },
  {
   "cell_type": "code",
   "execution_count": 7,
   "metadata": {
    "execution": {
     "iopub.execute_input": "2023-10-21T20:44:51.264686Z",
     "iopub.status.busy": "2023-10-21T20:44:51.263494Z",
     "iopub.status.idle": "2023-10-21T20:45:12.743141Z",
     "shell.execute_reply": "2023-10-21T20:45:12.744359Z"
    },
    "id": "-2sPJf98CDPW"
   },
   "outputs": [
    {
     "name": "stdout",
     "output_type": "stream",
     "text": [
      "Found 5998 files belonging to 2 classes.\n",
      "Found 998 files belonging to 2 classes.\n",
      "Found 998 files belonging to 2 classes.\n"
     ]
    }
   ],
   "source": [
    "from tensorflow import keras\n",
    "from tensorflow.keras import layers\n",
    "from tensorflow.keras.utils import image_dataset_from_directory\n",
    "\n",
    "train_dataset = image_dataset_from_directory(\n",
    "    new_base_dir / \"train\",\n",
    "    image_size=(180, 180),\n",
    "    batch_size=32)\n",
    "validation_dataset = image_dataset_from_directory(\n",
    "    new_base_dir / \"validation\",\n",
    "    image_size=(180, 180),\n",
    "    batch_size=32)\n",
    "test_dataset = image_dataset_from_directory(\n",
    "    new_base_dir / \"test\",\n",
    "    image_size=(180, 180),\n",
    "    batch_size=32)"
   ]
  },
  {
   "cell_type": "code",
   "execution_count": 8,
   "metadata": {
    "execution": {
     "iopub.execute_input": "2023-10-21T20:45:12.752830Z",
     "iopub.status.busy": "2023-10-21T20:45:12.751709Z",
     "iopub.status.idle": "2023-10-21T20:45:12.759454Z",
     "shell.execute_reply": "2023-10-21T20:45:12.758300Z"
    },
    "id": "xaOvG3kRCDPW"
   },
   "outputs": [
    {
     "data": {
      "text/plain": [
       "'\\nimport numpy as np\\nimport tensorflow as tf\\nrandom_numbers = np.random.normal(size=(1000, 16))\\ndataset = tf.data.Dataset.from_tensor_slices(random_numbers)\\n'"
      ]
     },
     "execution_count": 1,
     "metadata": {},
     "output_type": "execute_result"
    }
   ],
   "source": [
    "\"\"\"\n",
    "import numpy as np\n",
    "import tensorflow as tf\n",
    "random_numbers = np.random.normal(size=(1000, 16))\n",
    "dataset = tf.data.Dataset.from_tensor_slices(random_numbers)\n",
    "\"\"\""
   ]
  },
  {
   "cell_type": "code",
   "execution_count": 9,
   "metadata": {
    "execution": {
     "iopub.execute_input": "2023-10-21T20:45:12.767527Z",
     "iopub.status.busy": "2023-10-21T20:45:12.766187Z",
     "iopub.status.idle": "2023-10-21T20:45:12.772828Z",
     "shell.execute_reply": "2023-10-21T20:45:12.771443Z"
    },
    "id": "VOJjVIR1CDPW"
   },
   "outputs": [
    {
     "data": {
      "text/plain": [
       "'\\nfor i, element in enumerate(dataset):\\n    print(element.shape)\\n    if i >= 2:\\n        break\\n'"
      ]
     },
     "execution_count": 1,
     "metadata": {},
     "output_type": "execute_result"
    }
   ],
   "source": [
    "\"\"\"\n",
    "for i, element in enumerate(dataset):\n",
    "    print(element.shape)\n",
    "    if i >= 2:\n",
    "        break\n",
    "\"\"\""
   ]
  },
  {
   "cell_type": "code",
   "execution_count": 10,
   "metadata": {
    "execution": {
     "iopub.execute_input": "2023-10-21T20:45:12.780475Z",
     "iopub.status.busy": "2023-10-21T20:45:12.779236Z",
     "iopub.status.idle": "2023-10-21T20:45:12.785566Z",
     "shell.execute_reply": "2023-10-21T20:45:12.784494Z"
    },
    "id": "GuRLcC71CDPe"
   },
   "outputs": [
    {
     "data": {
      "text/plain": [
       "'\\nbatched_dataset = dataset.batch(32)\\nfor i, element in enumerate(batched_dataset):\\n    print(element.shape)\\n    if i >= 2:\\n        break\\n'"
      ]
     },
     "execution_count": 1,
     "metadata": {},
     "output_type": "execute_result"
    }
   ],
   "source": [
    "\"\"\"\n",
    "batched_dataset = dataset.batch(32)\n",
    "for i, element in enumerate(batched_dataset):\n",
    "    print(element.shape)\n",
    "    if i >= 2:\n",
    "        break\n",
    "\"\"\""
   ]
  },
  {
   "cell_type": "code",
   "execution_count": 11,
   "metadata": {
    "execution": {
     "iopub.execute_input": "2023-10-21T20:45:12.792846Z",
     "iopub.status.busy": "2023-10-21T20:45:12.791683Z",
     "iopub.status.idle": "2023-10-21T20:45:12.796160Z",
     "shell.execute_reply": "2023-10-21T20:45:12.797123Z"
    },
    "id": "oQDZXyr8CDPf"
   },
   "outputs": [
    {
     "data": {
      "text/plain": [
       "'\\nreshaped_dataset = dataset.map(lambda x: tf.reshape(x, (4, 4)))\\nfor i, element in enumerate(reshaped_dataset):\\n    print(element.shape)\\n    if i >= 2:\\n        break\\n'"
      ]
     },
     "execution_count": 1,
     "metadata": {},
     "output_type": "execute_result"
    }
   ],
   "source": [
    "\"\"\"\n",
    "reshaped_dataset = dataset.map(lambda x: tf.reshape(x, (4, 4)))\n",
    "for i, element in enumerate(reshaped_dataset):\n",
    "    print(element.shape)\n",
    "    if i >= 2:\n",
    "        break\n",
    "\"\"\""
   ]
  },
  {
   "cell_type": "markdown",
   "metadata": {
    "id": "RZP6KKa3CDPf"
   },
   "source": [
    "**Displaying the shapes of the data and labels yielded by the `Dataset`**"
   ]
  },
  {
   "cell_type": "code",
   "execution_count": 12,
   "metadata": {
    "execution": {
     "iopub.execute_input": "2023-10-21T20:45:12.803793Z",
     "iopub.status.busy": "2023-10-21T20:45:12.802708Z",
     "iopub.status.idle": "2023-10-21T20:45:12.806765Z",
     "shell.execute_reply": "2023-10-21T20:45:12.807642Z"
    },
    "id": "1oQxuCKTCDPf"
   },
   "outputs": [
    {
     "data": {
      "text/plain": [
       "'\\nfor data_batch, labels_batch in train_dataset:\\n    print(\"data batch shape:\", data_batch.shape)\\n    print(\"labels batch shape:\", labels_batch.shape)\\n    break\\n'"
      ]
     },
     "execution_count": 1,
     "metadata": {},
     "output_type": "execute_result"
    }
   ],
   "source": [
    "\"\"\"\n",
    "for data_batch, labels_batch in train_dataset:\n",
    "    print(\"data batch shape:\", data_batch.shape)\n",
    "    print(\"labels batch shape:\", labels_batch.shape)\n",
    "    break\n",
    "\"\"\""
   ]
  },
  {
   "cell_type": "markdown",
   "metadata": {
    "id": "nB5vOQlBCDPg"
   },
   "source": [
    "**Fitting the model using a `Dataset`**"
   ]
  },
  {
   "cell_type": "code",
   "execution_count": 13,
   "metadata": {
    "execution": {
     "iopub.execute_input": "2023-10-21T20:45:12.814516Z",
     "iopub.status.busy": "2023-10-21T20:45:12.813479Z",
     "iopub.status.idle": "2023-10-21T20:45:12.817367Z",
     "shell.execute_reply": "2023-10-21T20:45:12.818205Z"
    },
    "id": "948qTTk7CDPg"
   },
   "outputs": [
    {
     "data": {
      "text/plain": [
       "'\\ncallbacks = [\\n    keras.callbacks.ModelCheckpoint(\\n        filepath=\"convnet_from_scratch.keras\",\\n        save_best_only=True,\\n        monitor=\"val_loss\")\\n]\\nhistory = model.fit(\\n    train_dataset,\\n    epochs=30,\\n    validation_data=validation_dataset,\\n    callbacks=callbacks)\\n'"
      ]
     },
     "execution_count": 1,
     "metadata": {},
     "output_type": "execute_result"
    }
   ],
   "source": [
    "\"\"\"\n",
    "callbacks = [\n",
    "    keras.callbacks.ModelCheckpoint(\n",
    "        filepath=\"convnet_from_scratch.keras\",\n",
    "        save_best_only=True,\n",
    "        monitor=\"val_loss\")\n",
    "]\n",
    "history = model.fit(\n",
    "    train_dataset,\n",
    "    epochs=30,\n",
    "    validation_data=validation_dataset,\n",
    "    callbacks=callbacks)\n",
    "\"\"\""
   ]
  },
  {
   "cell_type": "markdown",
   "metadata": {
    "id": "gAT29S8pCDPg"
   },
   "source": [
    "**Displaying curves of loss and accuracy during training**"
   ]
  },
  {
   "cell_type": "code",
   "execution_count": 14,
   "metadata": {
    "execution": {
     "iopub.execute_input": "2023-10-21T20:45:12.824582Z",
     "iopub.status.busy": "2023-10-21T20:45:12.823583Z",
     "iopub.status.idle": "2023-10-21T20:45:12.827011Z",
     "shell.execute_reply": "2023-10-21T20:45:12.827944Z"
    },
    "id": "BV339wOHCDPg"
   },
   "outputs": [
    {
     "data": {
      "text/plain": [
       "'\\nimport matplotlib.pyplot as plt\\naccuracy = history.history[\"accuracy\"]\\nval_accuracy = history.history[\"val_accuracy\"]\\nloss = history.history[\"loss\"]\\nval_loss = history.history[\"val_loss\"]\\nepochs = range(1, len(accuracy) + 1)\\nplt.plot(epochs, accuracy, \"bo\", label=\"Training accuracy\")\\nplt.plot(epochs, val_accuracy, \"b\", label=\"Validation accuracy\")\\nplt.title(\"Training and validation accuracy\")\\nplt.legend()\\nplt.figure()\\nplt.plot(epochs, loss, \"bo\", label=\"Training loss\")\\nplt.plot(epochs, val_loss, \"b\", label=\"Validation loss\")\\nplt.title(\"Training and validation loss\")\\nplt.legend()\\nplt.show()\\n'"
      ]
     },
     "execution_count": 1,
     "metadata": {},
     "output_type": "execute_result"
    }
   ],
   "source": [
    "\"\"\"\n",
    "import matplotlib.pyplot as plt\n",
    "accuracy = history.history[\"accuracy\"]\n",
    "val_accuracy = history.history[\"val_accuracy\"]\n",
    "loss = history.history[\"loss\"]\n",
    "val_loss = history.history[\"val_loss\"]\n",
    "epochs = range(1, len(accuracy) + 1)\n",
    "plt.plot(epochs, accuracy, \"bo\", label=\"Training accuracy\")\n",
    "plt.plot(epochs, val_accuracy, \"b\", label=\"Validation accuracy\")\n",
    "plt.title(\"Training and validation accuracy\")\n",
    "plt.legend()\n",
    "plt.figure()\n",
    "plt.plot(epochs, loss, \"bo\", label=\"Training loss\")\n",
    "plt.plot(epochs, val_loss, \"b\", label=\"Validation loss\")\n",
    "plt.title(\"Training and validation loss\")\n",
    "plt.legend()\n",
    "plt.show()\n",
    "\"\"\""
   ]
  },
  {
   "cell_type": "markdown",
   "metadata": {
    "id": "x2biw2rcCDPh"
   },
   "source": [
    "**Evaluating the model on the test set**"
   ]
  },
  {
   "cell_type": "code",
   "execution_count": 15,
   "metadata": {
    "execution": {
     "iopub.execute_input": "2023-10-21T20:45:12.833717Z",
     "iopub.status.busy": "2023-10-21T20:45:12.832793Z",
     "iopub.status.idle": "2023-10-21T20:45:12.837687Z",
     "shell.execute_reply": "2023-10-21T20:45:12.836857Z"
    },
    "id": "Kw2HQvKqCDPh"
   },
   "outputs": [
    {
     "data": {
      "text/plain": [
       "'\\ntest_model = keras.models.load_model(\"convnet_from_scratch.keras\")\\ntest_loss, test_acc = test_model.evaluate(test_dataset)\\nprint(f\"Test accuracy: {test_acc:.3f}\")\\n'"
      ]
     },
     "execution_count": 1,
     "metadata": {},
     "output_type": "execute_result"
    }
   ],
   "source": [
    "\"\"\"\n",
    "test_model = keras.models.load_model(\"convnet_from_scratch.keras\")\n",
    "test_loss, test_acc = test_model.evaluate(test_dataset)\n",
    "print(f\"Test accuracy: {test_acc:.3f}\")\n",
    "\"\"\""
   ]
  },
  {
   "cell_type": "markdown",
   "metadata": {
    "id": "59JIBMkeCDPh"
   },
   "source": [
    "### Using data augmentation"
   ]
  },
  {
   "cell_type": "markdown",
   "metadata": {
    "id": "I4Mf-qDmCDPi"
   },
   "source": [
    "**Define a data augmentation stage to add to an image model**"
   ]
  },
  {
   "cell_type": "code",
   "execution_count": 16,
   "metadata": {
    "execution": {
     "iopub.execute_input": "2023-10-21T20:45:12.842805Z",
     "iopub.status.busy": "2023-10-21T20:45:12.842038Z",
     "iopub.status.idle": "2023-10-21T20:45:12.845699Z",
     "shell.execute_reply": "2023-10-21T20:45:12.846270Z"
    },
    "id": "SbEnboYqCDPi"
   },
   "outputs": [
    {
     "data": {
      "text/plain": [
       "'\\ndata_augmentation = keras.Sequential(\\n    [\\n        layers.RandomFlip(\"horizontal\"),\\n        layers.RandomRotation(0.1),\\n        layers.RandomZoom(0.2),\\n    ]\\n)\\n'"
      ]
     },
     "execution_count": 1,
     "metadata": {},
     "output_type": "execute_result"
    }
   ],
   "source": [
    "\"\"\"\n",
    "data_augmentation = keras.Sequential(\n",
    "    [\n",
    "        layers.RandomFlip(\"horizontal\"),\n",
    "        layers.RandomRotation(0.1),\n",
    "        layers.RandomZoom(0.2),\n",
    "    ]\n",
    ")\n",
    "\"\"\""
   ]
  },
  {
   "cell_type": "markdown",
   "metadata": {
    "id": "oCMayLeOCDPi"
   },
   "source": [
    "**Displaying some randomly augmented training images**"
   ]
  },
  {
   "cell_type": "code",
   "execution_count": 17,
   "metadata": {
    "execution": {
     "iopub.execute_input": "2023-10-21T20:45:12.851265Z",
     "iopub.status.busy": "2023-10-21T20:45:12.850534Z",
     "iopub.status.idle": "2023-10-21T20:45:12.854255Z",
     "shell.execute_reply": "2023-10-21T20:45:12.854956Z"
    },
    "id": "A8aj4vANCDPj"
   },
   "outputs": [
    {
     "data": {
      "text/plain": [
       "'\\nplt.figure(figsize=(10, 10))\\nfor images, _ in train_dataset.take(1):\\n    for i in range(9):\\n        augmented_images = data_augmentation(images)\\n        ax = plt.subplot(3, 3, i + 1)\\n        plt.imshow(augmented_images[0].numpy().astype(\"uint8\"))\\n        plt.axis(\"off\")\\n'"
      ]
     },
     "execution_count": 1,
     "metadata": {},
     "output_type": "execute_result"
    }
   ],
   "source": [
    "\"\"\"\n",
    "plt.figure(figsize=(10, 10))\n",
    "for images, _ in train_dataset.take(1):\n",
    "    for i in range(9):\n",
    "        augmented_images = data_augmentation(images)\n",
    "        ax = plt.subplot(3, 3, i + 1)\n",
    "        plt.imshow(augmented_images[0].numpy().astype(\"uint8\"))\n",
    "        plt.axis(\"off\")\n",
    "\"\"\""
   ]
  },
  {
   "cell_type": "markdown",
   "metadata": {
    "id": "nNziOokECDPj"
   },
   "source": [
    "**Defining a new convnet that includes image augmentation and dropout**"
   ]
  },
  {
   "cell_type": "code",
   "execution_count": 18,
   "metadata": {
    "execution": {
     "iopub.execute_input": "2023-10-21T20:45:12.860577Z",
     "iopub.status.busy": "2023-10-21T20:45:12.859700Z",
     "iopub.status.idle": "2023-10-21T20:45:12.863145Z",
     "shell.execute_reply": "2023-10-21T20:45:12.863842Z"
    },
    "id": "MyWACP8CCDPk"
   },
   "outputs": [
    {
     "data": {
      "text/plain": [
       "'\\ninputs = keras.Input(shape=(180, 180, 3))\\nx = data_augmentation(inputs)\\nx = layers.Rescaling(1./255)(x)\\nx = layers.Conv2D(filters=32, kernel_size=3, activation=\"relu\")(x)\\nx = layers.MaxPooling2D(pool_size=2)(x)\\nx = layers.Conv2D(filters=64, kernel_size=3, activation=\"relu\")(x)\\nx = layers.MaxPooling2D(pool_size=2)(x)\\nx = layers.Conv2D(filters=128, kernel_size=3, activation=\"relu\")(x)\\nx = layers.MaxPooling2D(pool_size=2)(x)\\nx = layers.Conv2D(filters=256, kernel_size=3, activation=\"relu\")(x)\\nx = layers.MaxPooling2D(pool_size=2)(x)\\nx = layers.Conv2D(filters=256, kernel_size=3, activation=\"relu\")(x)\\nx = layers.Flatten()(x)\\nx = layers.Dropout(0.5)(x)\\noutputs = layers.Dense(1, activation=\"sigmoid\")(x)\\nmodel = keras.Model(inputs=inputs, outputs=outputs)\\n\\nmodel.compile(loss=\"binary_crossentropy\",\\n              optimizer=\"rmsprop\",\\n              metrics=[\"accuracy\"])\\n'"
      ]
     },
     "execution_count": 1,
     "metadata": {},
     "output_type": "execute_result"
    }
   ],
   "source": [
    "\"\"\"\n",
    "inputs = keras.Input(shape=(180, 180, 3))\n",
    "x = data_augmentation(inputs)\n",
    "x = layers.Rescaling(1./255)(x)\n",
    "x = layers.Conv2D(filters=32, kernel_size=3, activation=\"relu\")(x)\n",
    "x = layers.MaxPooling2D(pool_size=2)(x)\n",
    "x = layers.Conv2D(filters=64, kernel_size=3, activation=\"relu\")(x)\n",
    "x = layers.MaxPooling2D(pool_size=2)(x)\n",
    "x = layers.Conv2D(filters=128, kernel_size=3, activation=\"relu\")(x)\n",
    "x = layers.MaxPooling2D(pool_size=2)(x)\n",
    "x = layers.Conv2D(filters=256, kernel_size=3, activation=\"relu\")(x)\n",
    "x = layers.MaxPooling2D(pool_size=2)(x)\n",
    "x = layers.Conv2D(filters=256, kernel_size=3, activation=\"relu\")(x)\n",
    "x = layers.Flatten()(x)\n",
    "x = layers.Dropout(0.5)(x)\n",
    "outputs = layers.Dense(1, activation=\"sigmoid\")(x)\n",
    "model = keras.Model(inputs=inputs, outputs=outputs)\n",
    "\n",
    "model.compile(loss=\"binary_crossentropy\",\n",
    "              optimizer=\"rmsprop\",\n",
    "              metrics=[\"accuracy\"])\n",
    "\"\"\""
   ]
  },
  {
   "cell_type": "markdown",
   "metadata": {
    "id": "TT51jSbLCDPk"
   },
   "source": [
    "**Training the regularized convnet**"
   ]
  },
  {
   "cell_type": "code",
   "execution_count": 19,
   "metadata": {
    "execution": {
     "iopub.execute_input": "2023-10-21T20:45:12.868794Z",
     "iopub.status.busy": "2023-10-21T20:45:12.868087Z",
     "iopub.status.idle": "2023-10-21T20:45:12.871250Z",
     "shell.execute_reply": "2023-10-21T20:45:12.871910Z"
    },
    "id": "fZL5nFXuCDPk"
   },
   "outputs": [
    {
     "data": {
      "text/plain": [
       "'\\ncallbacks = [\\n    keras.callbacks.ModelCheckpoint(\\n        filepath=\"convnet_from_scratch_with_augmentation.keras\",\\n        save_best_only=True,\\n        monitor=\"val_loss\")\\n]\\nhistory = model.fit(\\n    train_dataset,\\n    epochs=100,\\n    validation_data=validation_dataset,\\n    callbacks=callbacks)\\n'"
      ]
     },
     "execution_count": 1,
     "metadata": {},
     "output_type": "execute_result"
    }
   ],
   "source": [
    "\"\"\"\n",
    "callbacks = [\n",
    "    keras.callbacks.ModelCheckpoint(\n",
    "        filepath=\"convnet_from_scratch_with_augmentation.keras\",\n",
    "        save_best_only=True,\n",
    "        monitor=\"val_loss\")\n",
    "]\n",
    "history = model.fit(\n",
    "    train_dataset,\n",
    "    epochs=100,\n",
    "    validation_data=validation_dataset,\n",
    "    callbacks=callbacks)\n",
    "\"\"\""
   ]
  },
  {
   "cell_type": "markdown",
   "metadata": {
    "id": "07jIY-3yCDPl"
   },
   "source": [
    "**Evaluating the model on the test set**"
   ]
  },
  {
   "cell_type": "code",
   "execution_count": 20,
   "metadata": {
    "execution": {
     "iopub.execute_input": "2023-10-21T20:45:12.876556Z",
     "iopub.status.busy": "2023-10-21T20:45:12.875886Z",
     "iopub.status.idle": "2023-10-21T20:45:12.879200Z",
     "shell.execute_reply": "2023-10-21T20:45:12.879729Z"
    },
    "id": "4_WMA5i4CDPl"
   },
   "outputs": [
    {
     "data": {
      "text/plain": [
       "'\\ntest_model = keras.models.load_model(\\n    \"convnet_from_scratch_with_augmentation.keras\")\\ntest_loss, test_acc = test_model.evaluate(test_dataset)\\nprint(f\"Test accuracy: {test_acc:.3f}\")\\n'"
      ]
     },
     "execution_count": 1,
     "metadata": {},
     "output_type": "execute_result"
    }
   ],
   "source": [
    "\"\"\"\n",
    "test_model = keras.models.load_model(\n",
    "    \"convnet_from_scratch_with_augmentation.keras\")\n",
    "test_loss, test_acc = test_model.evaluate(test_dataset)\n",
    "print(f\"Test accuracy: {test_acc:.3f}\")\n",
    "\"\"\""
   ]
  },
  {
   "cell_type": "markdown",
   "metadata": {
    "id": "8bFyFXezCDPl"
   },
   "source": [
    "## Leveraging a pretrained model"
   ]
  },
  {
   "cell_type": "markdown",
   "metadata": {
    "id": "aDxQM0teCDPm"
   },
   "source": [
    "### Feature extraction with a pretrained model"
   ]
  },
  {
   "cell_type": "markdown",
   "metadata": {
    "id": "iZTotrdxCDPn"
   },
   "source": [
    "**Instantiating the VGG16 convolutional base**"
   ]
  },
  {
   "cell_type": "code",
   "execution_count": 21,
   "metadata": {
    "execution": {
     "iopub.execute_input": "2023-10-21T20:45:12.889220Z",
     "iopub.status.busy": "2023-10-21T20:45:12.888421Z",
     "iopub.status.idle": "2023-10-21T20:45:13.717884Z",
     "shell.execute_reply": "2023-10-21T20:45:13.716437Z"
    },
    "id": "GBR2XOJNCDPn"
   },
   "outputs": [],
   "source": [
    "from tensorflow import keras # import keras\n",
    "from tensorflow.keras import layers \n",
    "conv_base = keras.applications.vgg16.VGG16(\n",
    "    weights=\"imagenet\",\n",
    "    include_top=False,\n",
    "    input_shape=(180, 180, 3))"
   ]
  },
  {
   "cell_type": "code",
   "execution_count": 22,
   "metadata": {
    "execution": {
     "iopub.execute_input": "2023-10-21T20:45:13.724199Z",
     "iopub.status.busy": "2023-10-21T20:45:13.723092Z",
     "iopub.status.idle": "2023-10-21T20:45:13.740400Z",
     "shell.execute_reply": "2023-10-21T20:45:13.741490Z"
    },
    "id": "Q3NijRLeCDPn"
   },
   "outputs": [
    {
     "name": "stdout",
     "output_type": "stream",
     "text": [
      "Model: \"vgg16\"\n",
      "_________________________________________________________________\n",
      "Layer (type)                 Output Shape              Param #   \n",
      "=================================================================\n",
      "input_1 (InputLayer)         [(None, 180, 180, 3)]     0         \n",
      "_________________________________________________________________\n",
      "block1_conv1 (Conv2D)        (None, 180, 180, 64)      1792      \n",
      "_________________________________________________________________\n",
      "block1_conv2 (Conv2D)        (None, 180, 180, 64)      36928     \n",
      "_________________________________________________________________\n",
      "block1_pool (MaxPooling2D)   (None, 90, 90, 64)        0         \n",
      "_________________________________________________________________\n",
      "block2_conv1 (Conv2D)        (None, 90, 90, 128)       73856     \n",
      "_________________________________________________________________\n",
      "block2_conv2 (Conv2D)        (None, 90, 90, 128)       147584    \n",
      "_________________________________________________________________\n",
      "block2_pool (MaxPooling2D)   (None, 45, 45, 128)       0         \n",
      "_________________________________________________________________\n",
      "block3_conv1 (Conv2D)        (None, 45, 45, 256)       295168    \n",
      "_________________________________________________________________\n",
      "block3_conv2 (Conv2D)        (None, 45, 45, 256)       590080    \n",
      "_________________________________________________________________\n",
      "block3_conv3 (Conv2D)        (None, 45, 45, 256)       590080    \n",
      "_________________________________________________________________\n",
      "block3_pool (MaxPooling2D)   (None, 22, 22, 256)       0         \n",
      "_________________________________________________________________\n",
      "block4_conv1 (Conv2D)        (None, 22, 22, 512)       1180160   \n",
      "_________________________________________________________________\n",
      "block4_conv2 (Conv2D)        (None, 22, 22, 512)       2359808   \n",
      "_________________________________________________________________\n",
      "block4_conv3 (Conv2D)        (None, 22, 22, 512)       2359808   \n",
      "_________________________________________________________________\n",
      "block4_pool (MaxPooling2D)   (None, 11, 11, 512)       0         \n",
      "_________________________________________________________________\n",
      "block5_conv1 (Conv2D)        (None, 11, 11, 512)       2359808   \n",
      "_________________________________________________________________\n",
      "block5_conv2 (Conv2D)        (None, 11, 11, 512)       2359808   \n",
      "_________________________________________________________________\n",
      "block5_conv3 (Conv2D)        (None, 11, 11, 512)       2359808   \n",
      "_________________________________________________________________\n",
      "block5_pool (MaxPooling2D)   (None, 5, 5, 512)         0         \n",
      "=================================================================\n",
      "Total params: 14,714,688\n",
      "Trainable params: 14,714,688\n",
      "Non-trainable params: 0\n",
      "_________________________________________________________________\n"
     ]
    }
   ],
   "source": [
    "conv_base.summary()"
   ]
  },
  {
   "cell_type": "markdown",
   "metadata": {
    "id": "opOCS5pJCDPn",
    "tags": []
   },
   "source": [
    "#### Fast feature extraction without data augmentation"
   ]
  },
  {
   "cell_type": "markdown",
   "metadata": {
    "id": "FMW9QZSrCDPo"
   },
   "source": [
    "**Extracting the VGG16 features and corresponding labels**"
   ]
  },
  {
   "cell_type": "code",
   "execution_count": 23,
   "metadata": {
    "execution": {
     "iopub.execute_input": "2023-10-21T20:45:13.753746Z",
     "iopub.status.busy": "2023-10-21T20:45:13.753230Z",
     "iopub.status.idle": "2023-10-21T20:45:46.181024Z",
     "shell.execute_reply": "2023-10-21T20:45:46.181970Z"
    },
    "id": "6TwjB6rKCDPo"
   },
   "outputs": [],
   "source": [
    "import numpy as np\n",
    "\n",
    "def get_features_and_labels(dataset):\n",
    "    all_features = []\n",
    "    all_labels = []\n",
    "    for images, labels in dataset:\n",
    "        preprocessed_images = keras.applications.vgg16.preprocess_input(images)\n",
    "        features = conv_base.predict(preprocessed_images)\n",
    "        all_features.append(features)\n",
    "        all_labels.append(labels)\n",
    "    return np.concatenate(all_features), np.concatenate(all_labels)\n",
    "\n",
    "train_features, train_labels =  get_features_and_labels(train_dataset)\n",
    "val_features, val_labels =  get_features_and_labels(validation_dataset)\n",
    "test_features, test_labels =  get_features_and_labels(test_dataset)"
   ]
  },
  {
   "cell_type": "code",
   "execution_count": 24,
   "metadata": {
    "execution": {
     "iopub.execute_input": "2023-10-21T20:45:46.191999Z",
     "iopub.status.busy": "2023-10-21T20:45:46.190516Z",
     "iopub.status.idle": "2023-10-21T20:45:46.195726Z",
     "shell.execute_reply": "2023-10-21T20:45:46.196911Z"
    },
    "id": "ZshtzB-ZCDPo"
   },
   "outputs": [
    {
     "data": {
      "text/plain": [
       "(5998, 5, 5, 512)"
      ]
     },
     "execution_count": 1,
     "metadata": {},
     "output_type": "execute_result"
    }
   ],
   "source": [
    "train_features.shape"
   ]
  },
  {
   "cell_type": "markdown",
   "metadata": {
    "id": "IqTBM2rBCDPo"
   },
   "source": [
    "**Defining and training the densely connected classifier**"
   ]
  },
  {
   "cell_type": "code",
   "execution_count": 25,
   "metadata": {
    "execution": {
     "iopub.execute_input": "2023-10-21T20:45:46.214147Z",
     "iopub.status.busy": "2023-10-21T20:45:46.212491Z",
     "iopub.status.idle": "2023-10-21T20:45:56.564203Z",
     "shell.execute_reply": "2023-10-21T20:45:56.564703Z"
    },
    "id": "aMU01CJvCDPo"
   },
   "outputs": [
    {
     "name": "stdout",
     "output_type": "stream",
     "text": [
      "Epoch 1/20\n",
      "188/188 [==============================] - 1s 4ms/step - loss: 8.3404 - accuracy: 0.9505 - val_loss: 5.5009 - val_accuracy: 0.9739\n",
      "Epoch 2/20\n",
      "188/188 [==============================] - 1s 3ms/step - loss: 3.3456 - accuracy: 0.9800 - val_loss: 5.1963 - val_accuracy: 0.9800\n",
      "Epoch 3/20\n",
      "188/188 [==============================] - 0s 3ms/step - loss: 2.2134 - accuracy: 0.9860 - val_loss: 4.7894 - val_accuracy: 0.9760\n",
      "Epoch 4/20\n",
      "188/188 [==============================] - 0s 2ms/step - loss: 1.6404 - accuracy: 0.9892 - val_loss: 3.9754 - val_accuracy: 0.9810\n",
      "Epoch 5/20\n",
      "188/188 [==============================] - 1s 3ms/step - loss: 1.4981 - accuracy: 0.9888 - val_loss: 5.3861 - val_accuracy: 0.9719\n",
      "Epoch 6/20\n",
      "188/188 [==============================] - 0s 2ms/step - loss: 0.8559 - accuracy: 0.9938 - val_loss: 3.9264 - val_accuracy: 0.9820\n",
      "Epoch 7/20\n",
      "188/188 [==============================] - 0s 2ms/step - loss: 0.6068 - accuracy: 0.9955 - val_loss: 6.1616 - val_accuracy: 0.9780\n",
      "Epoch 8/20\n",
      "188/188 [==============================] - 0s 2ms/step - loss: 0.2739 - accuracy: 0.9965 - val_loss: 4.5638 - val_accuracy: 0.9760\n",
      "Epoch 9/20\n",
      "188/188 [==============================] - 0s 2ms/step - loss: 0.2804 - accuracy: 0.9970 - val_loss: 4.9678 - val_accuracy: 0.9790\n",
      "Epoch 10/20\n",
      "188/188 [==============================] - 0s 2ms/step - loss: 0.2552 - accuracy: 0.9973 - val_loss: 7.0815 - val_accuracy: 0.9749\n",
      "Epoch 11/20\n",
      "188/188 [==============================] - 0s 2ms/step - loss: 0.2234 - accuracy: 0.9972 - val_loss: 5.6555 - val_accuracy: 0.9749\n",
      "Epoch 12/20\n",
      "188/188 [==============================] - 0s 2ms/step - loss: 0.2629 - accuracy: 0.9972 - val_loss: 6.1986 - val_accuracy: 0.9760\n",
      "Epoch 13/20\n",
      "188/188 [==============================] - 0s 2ms/step - loss: 0.1071 - accuracy: 0.9987 - val_loss: 5.3456 - val_accuracy: 0.9739\n",
      "Epoch 14/20\n",
      "188/188 [==============================] - 0s 2ms/step - loss: 0.2354 - accuracy: 0.9978 - val_loss: 4.6037 - val_accuracy: 0.9760\n",
      "Epoch 15/20\n",
      "188/188 [==============================] - 0s 2ms/step - loss: 0.3182 - accuracy: 0.9980 - val_loss: 5.5216 - val_accuracy: 0.9760\n",
      "Epoch 16/20\n",
      "188/188 [==============================] - 0s 2ms/step - loss: 0.1429 - accuracy: 0.9977 - val_loss: 5.7715 - val_accuracy: 0.9689\n",
      "Epoch 17/20\n",
      "188/188 [==============================] - 0s 2ms/step - loss: 0.0636 - accuracy: 0.9985 - val_loss: 5.8755 - val_accuracy: 0.9749\n",
      "Epoch 18/20\n",
      "188/188 [==============================] - 0s 2ms/step - loss: 0.1503 - accuracy: 0.9985 - val_loss: 6.7080 - val_accuracy: 0.9770\n",
      "Epoch 19/20\n",
      "188/188 [==============================] - 0s 2ms/step - loss: 0.0935 - accuracy: 0.9987 - val_loss: 5.6859 - val_accuracy: 0.9749\n",
      "Epoch 20/20\n",
      "188/188 [==============================] - 0s 2ms/step - loss: 0.0171 - accuracy: 0.9993 - val_loss: 5.6052 - val_accuracy: 0.9780\n"
     ]
    }
   ],
   "source": [
    "inputs = keras.Input(shape=(5, 5, 512))\n",
    "x = layers.Flatten()(inputs)\n",
    "x = layers.Dense(256)(x)\n",
    "x = layers.Dropout(0.5)(x)\n",
    "outputs = layers.Dense(1, activation=\"sigmoid\")(x)\n",
    "model = keras.Model(inputs, outputs)\n",
    "model.compile(loss=\"binary_crossentropy\",\n",
    "              optimizer=\"rmsprop\",\n",
    "              metrics=[\"accuracy\"])\n",
    "\n",
    "callbacks = [\n",
    "    keras.callbacks.ModelCheckpoint(\n",
    "      filepath=\"feature_extraction.keras\",\n",
    "      save_best_only=True,\n",
    "      monitor=\"val_loss\")\n",
    "]\n",
    "history = model.fit(\n",
    "    train_features, train_labels,\n",
    "    epochs=20,\n",
    "    validation_data=(val_features, val_labels),\n",
    "    callbacks=callbacks)"
   ]
  },
  {
   "cell_type": "markdown",
   "metadata": {
    "id": "Rni2lbdnCDPp"
   },
   "source": [
    "**Plotting the results**"
   ]
  },
  {
   "cell_type": "code",
   "execution_count": 26,
   "metadata": {
    "execution": {
     "iopub.execute_input": "2023-10-21T20:45:56.570570Z",
     "iopub.status.busy": "2023-10-21T20:45:56.570053Z",
     "iopub.status.idle": "2023-10-21T20:45:58.787557Z",
     "shell.execute_reply": "2023-10-21T20:45:58.788912Z"
    },
    "id": "liYT21N8CDPp"
   },
   "outputs": [
    {
     "data": {
      "image/png": "[encoded data removed]",
      "text/plain": [
       "<Figure size 432x288 with 1 Axes>"
      ]
     },
     "metadata": {
      "needs_background": "light"
     },
     "output_type": "display_data"
    },
    {
     "data": {
      "image/png": "[encoded data removed]",
      "text/plain": [
       "<Figure size 432x288 with 1 Axes>"
      ]
     },
     "metadata": {
      "needs_background": "light"
     },
     "output_type": "display_data"
    }
   ],
   "source": [
    "import matplotlib.pyplot as plt\n",
    "acc = history.history[\"accuracy\"]\n",
    "val_acc = history.history[\"val_accuracy\"]\n",
    "loss = history.history[\"loss\"]\n",
    "val_loss = history.history[\"val_loss\"]\n",
    "epochs = range(1, len(acc) + 1)\n",
    "plt.plot(epochs, acc, \"bo\", label=\"Training accuracy\")\n",
    "plt.plot(epochs, val_acc, \"b\", label=\"Validation accuracy\")\n",
    "plt.title(\"Training and validation accuracy\")\n",
    "plt.legend()\n",
    "plt.figure()\n",
    "plt.plot(epochs, loss, \"bo\", label=\"Training loss\")\n",
    "plt.plot(epochs, val_loss, \"b\", label=\"Validation loss\")\n",
    "plt.title(\"Training and validation loss\")\n",
    "plt.legend()\n",
    "plt.show()"
   ]
  },
  {
   "cell_type": "markdown",
   "metadata": {
    "id": "esS3CubxCDPp"
   },
   "source": [
    "#### Feature extraction together with data augmentation"
   ]
  },
  {
   "cell_type": "markdown",
   "metadata": {
    "id": "yM8OUkXuCDPp"
   },
   "source": [
    "**Instantiating and freezing the VGG16 convolutional base**"
   ]
  },
  {
   "cell_type": "code",
   "execution_count": 27,
   "metadata": {
    "execution": {
     "iopub.execute_input": "2023-10-21T20:45:58.798781Z",
     "iopub.status.busy": "2023-10-21T20:45:58.797276Z",
     "iopub.status.idle": "2023-10-21T20:45:59.257390Z",
     "shell.execute_reply": "2023-10-21T20:45:59.258550Z"
    },
    "id": "Ir6Ke9NGCDPp"
   },
   "outputs": [],
   "source": [
    "conv_base  = keras.applications.vgg16.VGG16(\n",
    "    weights=\"imagenet\",\n",
    "    include_top=False)\n",
    "conv_base.trainable = False"
   ]
  },
  {
   "cell_type": "markdown",
   "metadata": {
    "id": "PZ9xp-jBCDPp"
   },
   "source": [
    "**Printing the list of trainable weights before and after freezing**"
   ]
  },
  {
   "cell_type": "code",
   "execution_count": 28,
   "metadata": {
    "execution": {
     "iopub.execute_input": "2023-10-21T20:45:59.265491Z",
     "iopub.status.busy": "2023-10-21T20:45:59.264246Z",
     "iopub.status.idle": "2023-10-21T20:45:59.270677Z",
     "shell.execute_reply": "2023-10-21T20:45:59.269166Z"
    },
    "id": "VIm7-3xICDPq"
   },
   "outputs": [
    {
     "name": "stdout",
     "output_type": "stream",
     "text": [
      "This is the number of trainable weights before freezing the conv base: 26\n"
     ]
    }
   ],
   "source": [
    "conv_base.trainable = True\n",
    "print(\"This is the number of trainable weights \"\n",
    "      \"before freezing the conv base:\", len(conv_base.trainable_weights))"
   ]
  },
  {
   "cell_type": "code",
   "execution_count": 29,
   "metadata": {
    "execution": {
     "iopub.execute_input": "2023-10-21T20:45:59.276884Z",
     "iopub.status.busy": "2023-10-21T20:45:59.275502Z",
     "iopub.status.idle": "2023-10-21T20:45:59.280094Z",
     "shell.execute_reply": "2023-10-21T20:45:59.281176Z"
    },
    "id": "zWQJW7DUCDPq"
   },
   "outputs": [
    {
     "name": "stdout",
     "output_type": "stream",
     "text": [
      "This is the number of trainable weights after freezing the conv base: 0\n"
     ]
    }
   ],
   "source": [
    "conv_base.trainable = False\n",
    "print(\"This is the number of trainable weights \"\n",
    "      \"after freezing the conv base:\", len(conv_base.trainable_weights))"
   ]
  },
  {
   "cell_type": "markdown",
   "metadata": {
    "id": "7jO3DwerCDPq"
   },
   "source": [
    "**Adding a data augmentation stage and a classifier to the convolutional base**"
   ]
  },
  {
   "cell_type": "code",
   "execution_count": 30,
   "metadata": {
    "execution": {
     "iopub.execute_input": "2023-10-21T20:45:59.286592Z",
     "iopub.status.busy": "2023-10-21T20:45:59.285336Z",
     "iopub.status.idle": "2023-10-21T20:45:59.582067Z",
     "shell.execute_reply": "2023-10-21T20:45:59.580516Z"
    },
    "id": "roDIyEA3CDPq"
   },
   "outputs": [],
   "source": [
    "data_augmentation = keras.Sequential(\n",
    "    [\n",
    "        layers.RandomFlip(\"horizontal\"),\n",
    "        layers.RandomRotation(0.1),\n",
    "        layers.RandomZoom(0.2),\n",
    "    ]\n",
    ")\n",
    "\n",
    "inputs = keras.Input(shape=(180, 180, 3))\n",
    "x = data_augmentation(inputs)\n",
    "x = keras.applications.vgg16.preprocess_input(x)\n",
    "x = conv_base(x)\n",
    "x = layers.Flatten()(x)\n",
    "x = layers.Dense(256)(x)\n",
    "x = layers.Dropout(0.5)(x)\n",
    "outputs = layers.Dense(1, activation=\"sigmoid\")(x)\n",
    "model = keras.Model(inputs, outputs)\n",
    "model.compile(loss=\"binary_crossentropy\",\n",
    "              optimizer=\"rmsprop\",\n",
    "              metrics=[\"accuracy\"])"
   ]
  },
  {
   "cell_type": "code",
   "execution_count": 31,
   "metadata": {
    "execution": {
     "iopub.execute_input": "2023-10-21T20:45:59.587503Z",
     "iopub.status.busy": "2023-10-21T20:45:59.586977Z",
     "iopub.status.idle": "2023-10-21T20:52:27.272095Z",
     "shell.execute_reply": "2023-10-21T20:52:27.273082Z"
    },
    "id": "EQtMjU26CDPq"
   },
   "outputs": [
    {
     "name": "stdout",
     "output_type": "stream",
     "text": [
      "Epoch 1/50\n",
      "188/188 [==============================] - 9s 42ms/step - loss: 11.1415 - accuracy: 0.9263 - val_loss: 2.8871 - val_accuracy: 0.9739\n",
      "Epoch 2/50\n",
      "188/188 [==============================] - 8s 39ms/step - loss: 6.5339 - accuracy: 0.9498 - val_loss: 4.5935 - val_accuracy: 0.9669\n",
      "Epoch 3/50\n",
      "188/188 [==============================] - 8s 40ms/step - loss: 4.3118 - accuracy: 0.9548 - val_loss: 1.8875 - val_accuracy: 0.9780\n",
      "Epoch 4/50\n",
      "188/188 [==============================] - 8s 40ms/step - loss: 3.2748 - accuracy: 0.9592 - val_loss: 3.2645 - val_accuracy: 0.9709\n",
      "Epoch 5/50\n",
      "188/188 [==============================] - 8s 40ms/step - loss: 2.1827 - accuracy: 0.9608 - val_loss: 1.2957 - val_accuracy: 0.9780\n",
      "Epoch 6/50\n",
      "188/188 [==============================] - 8s 40ms/step - loss: 1.7407 - accuracy: 0.9615 - val_loss: 0.8285 - val_accuracy: 0.9810\n",
      "Epoch 7/50\n",
      "188/188 [==============================] - 8s 40ms/step - loss: 1.1840 - accuracy: 0.9627 - val_loss: 0.6427 - val_accuracy: 0.9820\n",
      "Epoch 8/50\n",
      "188/188 [==============================] - 8s 40ms/step - loss: 0.8556 - accuracy: 0.9668 - val_loss: 0.3899 - val_accuracy: 0.9830\n",
      "Epoch 9/50\n",
      "188/188 [==============================] - 8s 40ms/step - loss: 0.7557 - accuracy: 0.9648 - val_loss: 0.6245 - val_accuracy: 0.9800\n",
      "Epoch 10/50\n",
      "188/188 [==============================] - 8s 39ms/step - loss: 0.6924 - accuracy: 0.9673 - val_loss: 0.6261 - val_accuracy: 0.9810\n",
      "Epoch 11/50\n",
      "188/188 [==============================] - 8s 39ms/step - loss: 0.6886 - accuracy: 0.9693 - val_loss: 0.5560 - val_accuracy: 0.9830\n",
      "Epoch 12/50\n",
      "188/188 [==============================] - 8s 39ms/step - loss: 0.6191 - accuracy: 0.9708 - val_loss: 0.8211 - val_accuracy: 0.9770\n",
      "Epoch 13/50\n",
      "188/188 [==============================] - 8s 39ms/step - loss: 0.6507 - accuracy: 0.9732 - val_loss: 1.7536 - val_accuracy: 0.9559\n",
      "Epoch 14/50\n",
      "188/188 [==============================] - 8s 40ms/step - loss: 0.6279 - accuracy: 0.9713 - val_loss: 0.8081 - val_accuracy: 0.9729\n",
      "Epoch 15/50\n",
      "188/188 [==============================] - 8s 40ms/step - loss: 0.6727 - accuracy: 0.9737 - val_loss: 0.5705 - val_accuracy: 0.9820\n",
      "Epoch 16/50\n",
      "188/188 [==============================] - 8s 39ms/step - loss: 0.6008 - accuracy: 0.9743 - val_loss: 0.7119 - val_accuracy: 0.9850\n",
      "Epoch 17/50\n",
      "188/188 [==============================] - 8s 40ms/step - loss: 0.6891 - accuracy: 0.9707 - val_loss: 0.9312 - val_accuracy: 0.9800\n",
      "Epoch 18/50\n",
      "188/188 [==============================] - 8s 39ms/step - loss: 0.6361 - accuracy: 0.9748 - val_loss: 0.7632 - val_accuracy: 0.9770\n",
      "Epoch 19/50\n",
      "188/188 [==============================] - 8s 40ms/step - loss: 0.6982 - accuracy: 0.9713 - val_loss: 0.7708 - val_accuracy: 0.9810\n",
      "Epoch 20/50\n",
      "188/188 [==============================] - 8s 40ms/step - loss: 0.5491 - accuracy: 0.9773 - val_loss: 0.6233 - val_accuracy: 0.9830\n",
      "Epoch 21/50\n",
      "188/188 [==============================] - 8s 39ms/step - loss: 0.6702 - accuracy: 0.9740 - val_loss: 1.2653 - val_accuracy: 0.9749\n",
      "Epoch 22/50\n",
      "188/188 [==============================] - 8s 40ms/step - loss: 0.6501 - accuracy: 0.9743 - val_loss: 0.6579 - val_accuracy: 0.9860\n",
      "Epoch 23/50\n",
      "188/188 [==============================] - 8s 40ms/step - loss: 0.7387 - accuracy: 0.9732 - val_loss: 0.8399 - val_accuracy: 0.9840\n",
      "Epoch 24/50\n",
      "188/188 [==============================] - 8s 40ms/step - loss: 0.7319 - accuracy: 0.9733 - val_loss: 0.6483 - val_accuracy: 0.9850\n",
      "Epoch 25/50\n",
      "188/188 [==============================] - 8s 39ms/step - loss: 0.5826 - accuracy: 0.9788 - val_loss: 1.0020 - val_accuracy: 0.9810\n",
      "Epoch 26/50\n",
      "188/188 [==============================] - 8s 41ms/step - loss: 0.5837 - accuracy: 0.9802 - val_loss: 0.7137 - val_accuracy: 0.9840\n",
      "Epoch 27/50\n",
      "188/188 [==============================] - 8s 41ms/step - loss: 0.6349 - accuracy: 0.9785 - val_loss: 0.6639 - val_accuracy: 0.9810\n",
      "Epoch 28/50\n",
      "188/188 [==============================] - 8s 41ms/step - loss: 0.7112 - accuracy: 0.9770 - val_loss: 0.8520 - val_accuracy: 0.9860\n",
      "Epoch 29/50\n",
      "188/188 [==============================] - 8s 40ms/step - loss: 0.5568 - accuracy: 0.9805 - val_loss: 1.0098 - val_accuracy: 0.9850\n",
      "Epoch 30/50\n",
      "188/188 [==============================] - 8s 40ms/step - loss: 0.6739 - accuracy: 0.9785 - val_loss: 1.0824 - val_accuracy: 0.9760\n",
      "Epoch 31/50\n",
      "188/188 [==============================] - 8s 40ms/step - loss: 0.6461 - accuracy: 0.9795 - val_loss: 0.8808 - val_accuracy: 0.9850\n",
      "Epoch 32/50\n",
      "188/188 [==============================] - 8s 40ms/step - loss: 0.8002 - accuracy: 0.9750 - val_loss: 0.9471 - val_accuracy: 0.9820\n",
      "Epoch 33/50\n",
      "188/188 [==============================] - 8s 40ms/step - loss: 0.7060 - accuracy: 0.9770 - val_loss: 0.7227 - val_accuracy: 0.9840\n",
      "Epoch 34/50\n",
      "188/188 [==============================] - 8s 40ms/step - loss: 0.7301 - accuracy: 0.9782 - val_loss: 0.8728 - val_accuracy: 0.9820\n",
      "Epoch 35/50\n",
      "188/188 [==============================] - 8s 40ms/step - loss: 0.5756 - accuracy: 0.9798 - val_loss: 0.8718 - val_accuracy: 0.9820\n",
      "Epoch 36/50\n",
      "188/188 [==============================] - 8s 40ms/step - loss: 0.6341 - accuracy: 0.9790 - val_loss: 0.8387 - val_accuracy: 0.9830\n",
      "Epoch 37/50\n",
      "188/188 [==============================] - 8s 40ms/step - loss: 0.7626 - accuracy: 0.9782 - val_loss: 0.8807 - val_accuracy: 0.9830\n",
      "Epoch 38/50\n",
      "188/188 [==============================] - 8s 40ms/step - loss: 0.7786 - accuracy: 0.9767 - val_loss: 0.7706 - val_accuracy: 0.9840\n",
      "Epoch 39/50\n",
      "188/188 [==============================] - 8s 40ms/step - loss: 0.7105 - accuracy: 0.9780 - val_loss: 0.9285 - val_accuracy: 0.9820\n",
      "Epoch 40/50\n",
      "188/188 [==============================] - 8s 40ms/step - loss: 0.7216 - accuracy: 0.9783 - val_loss: 0.9317 - val_accuracy: 0.9830\n",
      "Epoch 41/50\n",
      "188/188 [==============================] - 8s 40ms/step - loss: 0.7098 - accuracy: 0.9780 - val_loss: 0.9825 - val_accuracy: 0.9810\n",
      "Epoch 42/50\n",
      "188/188 [==============================] - 8s 40ms/step - loss: 0.6639 - accuracy: 0.9813 - val_loss: 0.9120 - val_accuracy: 0.9850\n",
      "Epoch 43/50\n",
      "188/188 [==============================] - 8s 40ms/step - loss: 0.6375 - accuracy: 0.9815 - val_loss: 1.2511 - val_accuracy: 0.9840\n",
      "Epoch 44/50\n",
      "188/188 [==============================] - 8s 40ms/step - loss: 0.7082 - accuracy: 0.9785 - val_loss: 0.9283 - val_accuracy: 0.9870\n",
      "Epoch 45/50\n",
      "188/188 [==============================] - 8s 40ms/step - loss: 0.6106 - accuracy: 0.9845 - val_loss: 0.8911 - val_accuracy: 0.9850\n",
      "Epoch 46/50\n",
      "188/188 [==============================] - 8s 40ms/step - loss: 0.6737 - accuracy: 0.9808 - val_loss: 1.0990 - val_accuracy: 0.9810\n",
      "Epoch 47/50\n",
      "188/188 [==============================] - 8s 40ms/step - loss: 0.7285 - accuracy: 0.9787 - val_loss: 1.3349 - val_accuracy: 0.9830\n",
      "Epoch 48/50\n",
      "188/188 [==============================] - 8s 40ms/step - loss: 0.6577 - accuracy: 0.9830 - val_loss: 1.3496 - val_accuracy: 0.9830\n",
      "Epoch 49/50\n",
      "188/188 [==============================] - 8s 40ms/step - loss: 0.9656 - accuracy: 0.9787 - val_loss: 1.0118 - val_accuracy: 0.9800\n",
      "Epoch 50/50\n",
      "188/188 [==============================] - 8s 40ms/step - loss: 0.7398 - accuracy: 0.9823 - val_loss: 1.8748 - val_accuracy: 0.9780\n"
     ]
    }
   ],
   "source": [
    "callbacks = [\n",
    "    keras.callbacks.ModelCheckpoint(\n",
    "        filepath=\"feature_extraction_with_data_augmentation.keras\",\n",
    "        save_best_only=True,\n",
    "        monitor=\"val_loss\")\n",
    "]\n",
    "history = model.fit(\n",
    "    train_dataset,\n",
    "    epochs=50,\n",
    "    validation_data=validation_dataset,\n",
    "    callbacks=callbacks)"
   ]
  },
  {
   "cell_type": "markdown",
   "metadata": {
    "id": "Mc7jIguOCDPq"
   },
   "source": [
    "**Evaluating the model on the test set**"
   ]
  },
  {
   "cell_type": "code",
   "execution_count": 32,
   "metadata": {
    "execution": {
     "iopub.execute_input": "2023-10-21T20:52:27.280918Z",
     "iopub.status.busy": "2023-10-21T20:52:27.279972Z",
     "iopub.status.idle": "2023-10-21T20:52:29.818775Z",
     "shell.execute_reply": "2023-10-21T20:52:29.819914Z"
    },
    "id": "vE3IA6DeCDPr"
   },
   "outputs": [
    {
     "name": "stdout",
     "output_type": "stream",
     "text": [
      "32/32 [==============================] - 1s 33ms/step - loss: 0.7367 - accuracy: 0.9790\n",
      "Test accuracy: 0.979\n"
     ]
    }
   ],
   "source": [
    "test_model = keras.models.load_model(\n",
    "    \"feature_extraction_with_data_augmentation.keras\")\n",
    "test_loss, test_acc = test_model.evaluate(test_dataset)\n",
    "print(f\"Test accuracy: {test_acc:.3f}\")"
   ]
  },
  {
   "cell_type": "markdown",
   "metadata": {
    "id": "IwoaUGYDCDPr"
   },
   "source": [
    "### Fine-tuning a pretrained model"
   ]
  },
  {
   "cell_type": "code",
   "execution_count": 33,
   "metadata": {
    "execution": {
     "iopub.execute_input": "2023-10-21T20:52:29.829627Z",
     "iopub.status.busy": "2023-10-21T20:52:29.826509Z",
     "iopub.status.idle": "2023-10-21T20:52:29.841642Z",
     "shell.execute_reply": "2023-10-21T20:52:29.842441Z"
    },
    "id": "ea0oRsFNCDPr"
   },
   "outputs": [
    {
     "name": "stdout",
     "output_type": "stream",
     "text": [
      "Model: \"vgg16\"\n",
      "_________________________________________________________________\n",
      "Layer (type)                 Output Shape              Param #   \n",
      "=================================================================\n",
      "input_3 (InputLayer)         [(None, None, None, 3)]   0         \n",
      "_________________________________________________________________\n",
      "block1_conv1 (Conv2D)        (None, None, None, 64)    1792      \n",
      "_________________________________________________________________\n",
      "block1_conv2 (Conv2D)        (None, None, None, 64)    36928     \n",
      "_________________________________________________________________\n",
      "block1_pool (MaxPooling2D)   (None, None, None, 64)    0         \n",
      "_________________________________________________________________\n",
      "block2_conv1 (Conv2D)        (None, None, None, 128)   73856     \n",
      "_________________________________________________________________\n",
      "block2_conv2 (Conv2D)        (None, None, None, 128)   147584    \n",
      "_________________________________________________________________\n",
      "block2_pool (MaxPooling2D)   (None, None, None, 128)   0         \n",
      "_________________________________________________________________\n",
      "block3_conv1 (Conv2D)        (None, None, None, 256)   295168    \n",
      "_________________________________________________________________\n",
      "block3_conv2 (Conv2D)        (None, None, None, 256)   590080    \n",
      "_________________________________________________________________\n",
      "block3_conv3 (Conv2D)        (None, None, None, 256)   590080    \n",
      "_________________________________________________________________\n",
      "block3_pool (MaxPooling2D)   (None, None, None, 256)   0         \n",
      "_________________________________________________________________\n",
      "block4_conv1 (Conv2D)        (None, None, None, 512)   1180160   \n",
      "_________________________________________________________________\n",
      "block4_conv2 (Conv2D)        (None, None, None, 512)   2359808   \n",
      "_________________________________________________________________\n",
      "block4_conv3 (Conv2D)        (None, None, None, 512)   2359808   \n",
      "_________________________________________________________________\n",
      "block4_pool (MaxPooling2D)   (None, None, None, 512)   0         \n",
      "_________________________________________________________________\n",
      "block5_conv1 (Conv2D)        (None, None, None, 512)   2359808   \n",
      "_________________________________________________________________\n",
      "block5_conv2 (Conv2D)        (None, None, None, 512)   2359808   \n",
      "_________________________________________________________________\n",
      "block5_conv3 (Conv2D)        (None, None, None, 512)   2359808   \n",
      "_________________________________________________________________\n",
      "block5_pool (MaxPooling2D)   (None, None, None, 512)   0         \n",
      "=================================================================\n",
      "Total params: 14,714,688\n",
      "Trainable params: 0\n",
      "Non-trainable params: 14,714,688\n",
      "_________________________________________________________________\n"
     ]
    }
   ],
   "source": [
    "conv_base.summary()"
   ]
  },
  {
   "cell_type": "markdown",
   "metadata": {
    "id": "t0-rO_h4CDPr"
   },
   "source": [
    "**Freezing all layers until the fourth from the last**"
   ]
  },
  {
   "cell_type": "code",
   "execution_count": 34,
   "metadata": {
    "execution": {
     "iopub.execute_input": "2023-10-21T20:52:29.851077Z",
     "iopub.status.busy": "2023-10-21T20:52:29.849822Z",
     "iopub.status.idle": "2023-10-21T20:52:29.852363Z",
     "shell.execute_reply": "2023-10-21T20:52:29.853289Z"
    },
    "id": "Imk9UeGUCDPr"
   },
   "outputs": [],
   "source": [
    "conv_base.trainable = True\n",
    "for layer in conv_base.layers[:-4]:\n",
    "    layer.trainable = False"
   ]
  },
  {
   "cell_type": "markdown",
   "metadata": {
    "id": "SDlYA6aBCDPr"
   },
   "source": [
    "**Fine-tuning the model**"
   ]
  },
  {
   "cell_type": "code",
   "execution_count": 35,
   "metadata": {
    "execution": {
     "iopub.execute_input": "2023-10-21T20:52:29.861781Z",
     "iopub.status.busy": "2023-10-21T20:52:29.860575Z",
     "iopub.status.idle": "2023-10-21T20:56:45.980859Z",
     "shell.execute_reply": "2023-10-21T20:56:45.981795Z"
    },
    "id": "biJcRYHzCDPr"
   },
   "outputs": [
    {
     "name": "stdout",
     "output_type": "stream",
     "text": [
      "Epoch 1/30\n",
      "188/188 [==============================] - 10s 45ms/step - loss: 0.6928 - accuracy: 0.9780 - val_loss: 0.7297 - val_accuracy: 0.9830\n",
      "Epoch 2/30\n",
      "188/188 [==============================] - 8s 44ms/step - loss: 0.5555 - accuracy: 0.9808 - val_loss: 0.9200 - val_accuracy: 0.9800\n",
      "Epoch 3/30\n",
      "188/188 [==============================] - 8s 44ms/step - loss: 0.3402 - accuracy: 0.9852 - val_loss: 0.7360 - val_accuracy: 0.9800\n",
      "Epoch 4/30\n",
      "188/188 [==============================] - 9s 45ms/step - loss: 0.3804 - accuracy: 0.9852 - val_loss: 0.7474 - val_accuracy: 0.9830\n",
      "Epoch 5/30\n",
      "188/188 [==============================] - 8s 43ms/step - loss: 0.3299 - accuracy: 0.9845 - val_loss: 0.7136 - val_accuracy: 0.9850\n",
      "Epoch 6/30\n",
      "188/188 [==============================] - 8s 43ms/step - loss: 0.3167 - accuracy: 0.9865 - val_loss: 0.6155 - val_accuracy: 0.9840\n",
      "Epoch 7/30\n",
      "188/188 [==============================] - 8s 43ms/step - loss: 0.2677 - accuracy: 0.9855 - val_loss: 0.5729 - val_accuracy: 0.9850\n",
      "Epoch 8/30\n",
      "188/188 [==============================] - 8s 43ms/step - loss: 0.1810 - accuracy: 0.9900 - val_loss: 0.7391 - val_accuracy: 0.9780\n",
      "Epoch 9/30\n",
      "188/188 [==============================] - 8s 43ms/step - loss: 0.1700 - accuracy: 0.9895 - val_loss: 0.5627 - val_accuracy: 0.9800\n",
      "Epoch 10/30\n",
      "188/188 [==============================] - 8s 44ms/step - loss: 0.1326 - accuracy: 0.9900 - val_loss: 0.5365 - val_accuracy: 0.9830\n",
      "Epoch 11/30\n",
      "188/188 [==============================] - 8s 43ms/step - loss: 0.1140 - accuracy: 0.9918 - val_loss: 0.6783 - val_accuracy: 0.9780\n",
      "Epoch 12/30\n",
      "188/188 [==============================] - 8s 44ms/step - loss: 0.1389 - accuracy: 0.9902 - val_loss: 0.4407 - val_accuracy: 0.9860\n",
      "Epoch 13/30\n",
      "188/188 [==============================] - 8s 43ms/step - loss: 0.1394 - accuracy: 0.9915 - val_loss: 0.4445 - val_accuracy: 0.9860\n",
      "Epoch 14/30\n",
      "188/188 [==============================] - 8s 43ms/step - loss: 0.1565 - accuracy: 0.9918 - val_loss: 0.4780 - val_accuracy: 0.9840\n",
      "Epoch 15/30\n",
      "188/188 [==============================] - 8s 43ms/step - loss: 0.0792 - accuracy: 0.9940 - val_loss: 0.5984 - val_accuracy: 0.9810\n",
      "Epoch 16/30\n",
      "188/188 [==============================] - 8s 43ms/step - loss: 0.1312 - accuracy: 0.9907 - val_loss: 0.7834 - val_accuracy: 0.9820\n",
      "Epoch 17/30\n",
      "188/188 [==============================] - 8s 44ms/step - loss: 0.0776 - accuracy: 0.9950 - val_loss: 0.6558 - val_accuracy: 0.9840\n",
      "Epoch 18/30\n",
      "188/188 [==============================] - 8s 43ms/step - loss: 0.0899 - accuracy: 0.9920 - val_loss: 0.6427 - val_accuracy: 0.9840\n",
      "Epoch 19/30\n",
      "188/188 [==============================] - 8s 43ms/step - loss: 0.0774 - accuracy: 0.9933 - val_loss: 0.5150 - val_accuracy: 0.9870\n",
      "Epoch 20/30\n",
      "188/188 [==============================] - 8s 43ms/step - loss: 0.0772 - accuracy: 0.9940 - val_loss: 0.5283 - val_accuracy: 0.9860\n",
      "Epoch 21/30\n",
      "188/188 [==============================] - 8s 44ms/step - loss: 0.0716 - accuracy: 0.9943 - val_loss: 0.5145 - val_accuracy: 0.9830\n",
      "Epoch 22/30\n",
      "188/188 [==============================] - 8s 43ms/step - loss: 0.0568 - accuracy: 0.9953 - val_loss: 0.5406 - val_accuracy: 0.9880\n",
      "Epoch 23/30\n",
      "188/188 [==============================] - 8s 43ms/step - loss: 0.0569 - accuracy: 0.9957 - val_loss: 0.5038 - val_accuracy: 0.9860\n",
      "Epoch 24/30\n",
      "188/188 [==============================] - 8s 43ms/step - loss: 0.0556 - accuracy: 0.9948 - val_loss: 0.6287 - val_accuracy: 0.9860\n",
      "Epoch 25/30\n",
      "188/188 [==============================] - 8s 43ms/step - loss: 0.0645 - accuracy: 0.9947 - val_loss: 0.4839 - val_accuracy: 0.9880\n",
      "Epoch 26/30\n",
      "188/188 [==============================] - 8s 44ms/step - loss: 0.0593 - accuracy: 0.9953 - val_loss: 0.5203 - val_accuracy: 0.9890\n",
      "Epoch 27/30\n",
      "188/188 [==============================] - 9s 45ms/step - loss: 0.0666 - accuracy: 0.9952 - val_loss: 0.4642 - val_accuracy: 0.9850\n",
      "Epoch 28/30\n",
      "188/188 [==============================] - 8s 44ms/step - loss: 0.0503 - accuracy: 0.9950 - val_loss: 0.4715 - val_accuracy: 0.9860\n",
      "Epoch 29/30\n",
      "188/188 [==============================] - 8s 44ms/step - loss: 0.0286 - accuracy: 0.9975 - val_loss: 0.5109 - val_accuracy: 0.9890\n",
      "Epoch 30/30\n",
      "188/188 [==============================] - 8s 44ms/step - loss: 0.0466 - accuracy: 0.9965 - val_loss: 0.6845 - val_accuracy: 0.9810\n"
     ]
    }
   ],
   "source": [
    "model.compile(loss=\"binary_crossentropy\",\n",
    "              optimizer=keras.optimizers.RMSprop(learning_rate=1e-5),\n",
    "              metrics=[\"accuracy\"])\n",
    "\n",
    "callbacks = [\n",
    "    keras.callbacks.ModelCheckpoint(\n",
    "        filepath=\"fine_tuning.keras\",\n",
    "        save_best_only=True,\n",
    "        monitor=\"val_loss\")\n",
    "]\n",
    "history = model.fit(\n",
    "    train_dataset,\n",
    "    epochs=30,\n",
    "    validation_data=validation_dataset,\n",
    "    callbacks=callbacks)"
   ]
  },
  {
   "cell_type": "code",
   "execution_count": 36,
   "metadata": {
    "execution": {
     "iopub.execute_input": "2023-10-21T20:56:45.990930Z",
     "iopub.status.busy": "2023-10-21T20:56:45.989904Z",
     "iopub.status.idle": "2023-10-21T20:56:48.689463Z",
     "shell.execute_reply": "2023-10-21T20:56:48.690040Z"
    },
    "id": "-5WMjJDBCDPs"
   },
   "outputs": [
    {
     "name": "stdout",
     "output_type": "stream",
     "text": [
      "32/32 [==============================] - 1s 33ms/step - loss: 0.9459 - accuracy: 0.9790\n",
      "Test accuracy: 0.979\n"
     ]
    }
   ],
   "source": [
    "model = keras.models.load_model(\"fine_tuning.keras\")\n",
    "test_loss, test_acc = model.evaluate(test_dataset)\n",
    "print(f\"Test accuracy: {test_acc:.3f}\")"
   ]
  },
  {
   "cell_type": "markdown",
   "metadata": {
    "id": "v_QxUVQNCDPs",
    "jp-MarkdownHeadingCollapsed": true,
    "tags": []
   },
   "source": [
    "## Summary"
   ]
  }
 ],
 "metadata": {
  "colab": {
   "provenance": [
    {
     "file_id": "https://github.com/fchollet/deep-learning-with-python-notebooks/blob/master/chapter08_intro-to-dl-for-computer-vision.ipynb",
     "timestamp": 1697604276120
    }
   ],
   "toc_visible": true
  },
  "kernelspec": {
   "display_name": "Python 3",
   "language": "python",
   "name": "python3"
  },
  "language_info": {
   "codemirror_mode": {
    "name": "ipython",
    "version": 3
   },
   "file_extension": ".py",
   "mimetype": "text/x-python",
   "name": "python",
   "nbconvert_exporter": "python",
   "pygments_lexer": "ipython3",
   "version": "3.6.8"
  }
 },
 "nbformat": 4,
 "nbformat_minor": 4
}
