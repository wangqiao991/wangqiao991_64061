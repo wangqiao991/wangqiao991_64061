{
 "cells": [
  {
   "cell_type": "markdown",
   "metadata": {
    "id": "wAEYst82CDPR",
    "tags": []
   },
   "source": [
    "## Training a convnet from scratch with training sample of 3000, a validation sample of 500, and a test sample of 500"
   ]
  },
  {
   "cell_type": "markdown",
   "metadata": {
    "id": "b8wI8jDeCDPR",
    "tags": []
   },
   "source": [
    "### Downloading the data"
   ]
  },
  {
   "cell_type": "code",
   "execution_count": 1,
   "metadata": {
    "execution": {
     "iopub.execute_input": "2023-10-21T20:34:10.412790Z",
     "iopub.status.busy": "2023-10-21T20:34:10.409439Z",
     "iopub.status.idle": "2023-10-21T20:34:10.414355Z",
     "shell.execute_reply": "2023-10-21T20:34:10.415431Z"
    },
    "id": "53GKP3NWCDPS",
    "tags": []
   },
   "outputs": [],
   "source": [
    "#!unzip -qq '/fs/ess/PGS0333/BA_64061_KSU/data/dogs-vs-cats.zip'"
   ]
  },
  {
   "cell_type": "code",
   "execution_count": 2,
   "metadata": {
    "execution": {
     "iopub.execute_input": "2023-10-21T20:34:10.422480Z",
     "iopub.status.busy": "2023-10-21T20:34:10.421215Z",
     "iopub.status.idle": "2023-10-21T20:34:10.425036Z",
     "shell.execute_reply": "2023-10-21T20:34:10.426035Z"
    },
    "id": "ZfGEQ2r_CDPT"
   },
   "outputs": [],
   "source": [
    "#!unzip -qq train.zip"
   ]
  },
  {
   "cell_type": "markdown",
   "metadata": {
    "id": "QC5cZm4DCDPT",
    "tags": []
   },
   "source": [
    "**Copying images to training, validation, and test directories**"
   ]
  },
  {
   "cell_type": "code",
   "execution_count": 3,
   "metadata": {
    "execution": {
     "iopub.execute_input": "2023-10-21T20:34:10.452781Z",
     "iopub.status.busy": "2023-10-21T20:34:10.451116Z",
     "iopub.status.idle": "2023-10-21T20:34:23.652416Z",
     "shell.execute_reply": "2023-10-21T20:34:23.650855Z"
    },
    "id": "Z8dqOCnvCDPT",
    "tags": []
   },
   "outputs": [],
   "source": [
    "import os, shutil, pathlib\n",
    "\n",
    "original_dir = pathlib.Path(\"train\")\n",
    "new_base_dir = pathlib.Path(\"cats_vs_dogs_small\")\n",
    "\n",
    "def make_subset(subset_name, start_index, end_index):\n",
    "    for category in (\"cat\", \"dog\"):\n",
    "        dir = new_base_dir / subset_name / category\n",
    "        os.makedirs(dir)\n",
    "        fnames = [f\"{category}.{i}.jpg\" for i in range(start_index, end_index)]\n",
    "        for fname in fnames:\n",
    "            shutil.copyfile(src=original_dir / fname,\n",
    "                            dst=dir / fname)\n",
    "\n",
    "make_subset(\"train\", start_index=0, end_index=2999)\n",
    "make_subset(\"validation\", start_index=3000, end_index=3499)\n",
    "make_subset(\"test\", start_index=3500, end_index=3999)"
   ]
  },
  {
   "cell_type": "markdown",
   "metadata": {
    "id": "zPybxeH3CDPT",
    "tags": []
   },
   "source": [
    "### Building the model"
   ]
  },
  {
   "cell_type": "markdown",
   "metadata": {
    "id": "KE0mXcPvCDPU"
   },
   "source": [
    "**Instantiating a small convnet for dogs vs. cats classification**"
   ]
  },
  {
   "cell_type": "code",
   "execution_count": 4,
   "metadata": {
    "execution": {
     "iopub.execute_input": "2023-10-21T20:34:23.663070Z",
     "iopub.status.busy": "2023-10-21T20:34:23.662448Z",
     "iopub.status.idle": "2023-10-21T20:34:33.951729Z",
     "shell.execute_reply": "2023-10-21T20:34:33.950189Z"
    },
    "id": "TIDD8c0VCDPU"
   },
   "outputs": [],
   "source": [
    "from tensorflow import keras\n",
    "from tensorflow.keras import layers\n",
    "\n",
    "inputs = keras.Input(shape=(180, 180, 3))\n",
    "x = layers.Rescaling(1./255)(inputs)\n",
    "x = layers.Conv2D(filters=32, kernel_size=3, activation=\"relu\")(x)\n",
    "x = layers.MaxPooling2D(pool_size=2)(x)\n",
    "x = layers.Conv2D(filters=64, kernel_size=3, activation=\"relu\")(x)\n",
    "x = layers.MaxPooling2D(pool_size=2)(x)\n",
    "x = layers.Conv2D(filters=128, kernel_size=3, activation=\"relu\")(x)\n",
    "x = layers.MaxPooling2D(pool_size=2)(x)\n",
    "x = layers.Conv2D(filters=256, kernel_size=3, activation=\"relu\")(x)\n",
    "x = layers.MaxPooling2D(pool_size=2)(x)\n",
    "x = layers.Conv2D(filters=256, kernel_size=3, activation=\"relu\")(x)\n",
    "x = layers.Flatten()(x)\n",
    "outputs = layers.Dense(1, activation=\"sigmoid\")(x)\n",
    "model = keras.Model(inputs=inputs, outputs=outputs)"
   ]
  },
  {
   "cell_type": "code",
   "execution_count": 5,
   "metadata": {
    "execution": {
     "iopub.execute_input": "2023-10-21T20:34:33.962441Z",
     "iopub.status.busy": "2023-10-21T20:34:33.961078Z",
     "iopub.status.idle": "2023-10-21T20:34:33.974520Z",
     "shell.execute_reply": "2023-10-21T20:34:33.975551Z"
    },
    "id": "pcBTjksSCDPU"
   },
   "outputs": [
    {
     "name": "stdout",
     "output_type": "stream",
     "text": [
      "Model: \"model\"\n",
      "_________________________________________________________________\n",
      "Layer (type)                 Output Shape              Param #   \n",
      "=================================================================\n",
      "input_1 (InputLayer)         [(None, 180, 180, 3)]     0         \n",
      "_________________________________________________________________\n",
      "rescaling (Rescaling)        (None, 180, 180, 3)       0         \n",
      "_________________________________________________________________\n",
      "conv2d (Conv2D)              (None, 178, 178, 32)      896       \n",
      "_________________________________________________________________\n",
      "max_pooling2d (MaxPooling2D) (None, 89, 89, 32)        0         \n",
      "_________________________________________________________________\n",
      "conv2d_1 (Conv2D)            (None, 87, 87, 64)        18496     \n",
      "_________________________________________________________________\n",
      "max_pooling2d_1 (MaxPooling2 (None, 43, 43, 64)        0         \n",
      "_________________________________________________________________\n",
      "conv2d_2 (Conv2D)            (None, 41, 41, 128)       73856     \n",
      "_________________________________________________________________\n",
      "max_pooling2d_2 (MaxPooling2 (None, 20, 20, 128)       0         \n",
      "_________________________________________________________________\n",
      "conv2d_3 (Conv2D)            (None, 18, 18, 256)       295168    \n",
      "_________________________________________________________________\n",
      "max_pooling2d_3 (MaxPooling2 (None, 9, 9, 256)         0         \n",
      "_________________________________________________________________\n",
      "conv2d_4 (Conv2D)            (None, 7, 7, 256)         590080    \n",
      "_________________________________________________________________\n",
      "flatten (Flatten)            (None, 12544)             0         \n",
      "_________________________________________________________________\n",
      "dense (Dense)                (None, 1)                 12545     \n",
      "=================================================================\n",
      "Total params: 991,041\n",
      "Trainable params: 991,041\n",
      "Non-trainable params: 0\n",
      "_________________________________________________________________\n"
     ]
    }
   ],
   "source": [
    "model.summary()"
   ]
  },
  {
   "cell_type": "markdown",
   "metadata": {
    "id": "jKCFKNAVCDPV"
   },
   "source": [
    "**Configuring the model for training**"
   ]
  },
  {
   "cell_type": "code",
   "execution_count": 6,
   "metadata": {
    "execution": {
     "iopub.execute_input": "2023-10-21T20:34:33.994828Z",
     "iopub.status.busy": "2023-10-21T20:34:33.984534Z",
     "iopub.status.idle": "2023-10-21T20:34:34.006882Z",
     "shell.execute_reply": "2023-10-21T20:34:34.007308Z"
    },
    "id": "SXDcTiDKCDPV"
   },
   "outputs": [],
   "source": [
    "model.compile(loss=\"binary_crossentropy\",\n",
    "              optimizer=\"rmsprop\",\n",
    "              metrics=[\"accuracy\"])"
   ]
  },
  {
   "cell_type": "markdown",
   "metadata": {
    "id": "dyB79XdQCDPV"
   },
   "source": [
    "### Data preprocessing"
   ]
  },
  {
   "cell_type": "markdown",
   "metadata": {
    "id": "xuadPMYcCDPV"
   },
   "source": [
    "**Using `image_dataset_from_directory` to read images**"
   ]
  },
  {
   "cell_type": "code",
   "execution_count": 7,
   "metadata": {
    "execution": {
     "iopub.execute_input": "2023-10-21T20:34:34.013964Z",
     "iopub.status.busy": "2023-10-21T20:34:34.013413Z",
     "iopub.status.idle": "2023-10-21T20:34:34.853680Z",
     "shell.execute_reply": "2023-10-21T20:34:34.854638Z"
    },
    "id": "-2sPJf98CDPW"
   },
   "outputs": [
    {
     "name": "stdout",
     "output_type": "stream",
     "text": [
      "Found 5998 files belonging to 2 classes.\n",
      "Found 998 files belonging to 2 classes.\n",
      "Found 998 files belonging to 2 classes.\n"
     ]
    }
   ],
   "source": [
    "from tensorflow.keras.utils import image_dataset_from_directory\n",
    "\n",
    "train_dataset = image_dataset_from_directory(\n",
    "    new_base_dir / \"train\",\n",
    "    image_size=(180, 180),\n",
    "    batch_size=32)\n",
    "validation_dataset = image_dataset_from_directory(\n",
    "    new_base_dir / \"validation\",\n",
    "    image_size=(180, 180),\n",
    "    batch_size=32)\n",
    "test_dataset = image_dataset_from_directory(\n",
    "    new_base_dir / \"test\",\n",
    "    image_size=(180, 180),\n",
    "    batch_size=32)"
   ]
  },
  {
   "cell_type": "code",
   "execution_count": 8,
   "metadata": {
    "execution": {
     "iopub.execute_input": "2023-10-21T20:34:34.863785Z",
     "iopub.status.busy": "2023-10-21T20:34:34.862261Z",
     "iopub.status.idle": "2023-10-21T20:34:34.868316Z",
     "shell.execute_reply": "2023-10-21T20:34:34.869520Z"
    },
    "id": "xaOvG3kRCDPW"
   },
   "outputs": [],
   "source": [
    "import numpy as np\n",
    "import tensorflow as tf\n",
    "random_numbers = np.random.normal(size=(1000, 16))\n",
    "dataset = tf.data.Dataset.from_tensor_slices(random_numbers)"
   ]
  },
  {
   "cell_type": "code",
   "execution_count": 9,
   "metadata": {
    "execution": {
     "iopub.execute_input": "2023-10-21T20:34:34.878004Z",
     "iopub.status.busy": "2023-10-21T20:34:34.876616Z",
     "iopub.status.idle": "2023-10-21T20:34:34.884870Z",
     "shell.execute_reply": "2023-10-21T20:34:34.885777Z"
    },
    "id": "VOJjVIR1CDPW"
   },
   "outputs": [
    {
     "name": "stdout",
     "output_type": "stream",
     "text": [
      "(16,)\n",
      "(16,)\n",
      "(16,)\n"
     ]
    }
   ],
   "source": [
    "for i, element in enumerate(dataset):\n",
    "    print(element.shape)\n",
    "    if i >= 2:\n",
    "        break"
   ]
  },
  {
   "cell_type": "code",
   "execution_count": 10,
   "metadata": {
    "execution": {
     "iopub.execute_input": "2023-10-21T20:34:34.892678Z",
     "iopub.status.busy": "2023-10-21T20:34:34.889414Z",
     "iopub.status.idle": "2023-10-21T20:34:34.902132Z",
     "shell.execute_reply": "2023-10-21T20:34:34.903064Z"
    },
    "id": "GuRLcC71CDPe"
   },
   "outputs": [
    {
     "name": "stdout",
     "output_type": "stream",
     "text": [
      "(32, 16)\n",
      "(32, 16)\n",
      "(32, 16)\n"
     ]
    }
   ],
   "source": [
    "batched_dataset = dataset.batch(32)\n",
    "for i, element in enumerate(batched_dataset):\n",
    "    print(element.shape)\n",
    "    if i >= 2:\n",
    "        break"
   ]
  },
  {
   "cell_type": "code",
   "execution_count": 11,
   "metadata": {
    "execution": {
     "iopub.execute_input": "2023-10-21T20:34:34.910767Z",
     "iopub.status.busy": "2023-10-21T20:34:34.909778Z",
     "iopub.status.idle": "2023-10-21T20:34:34.970201Z",
     "shell.execute_reply": "2023-10-21T20:34:34.969205Z"
    },
    "id": "oQDZXyr8CDPf"
   },
   "outputs": [
    {
     "name": "stdout",
     "output_type": "stream",
     "text": [
      "(4, 4)\n",
      "(4, 4)\n",
      "(4, 4)\n"
     ]
    }
   ],
   "source": [
    "reshaped_dataset = dataset.map(lambda x: tf.reshape(x, (4, 4)))\n",
    "for i, element in enumerate(reshaped_dataset):\n",
    "    print(element.shape)\n",
    "    if i >= 2:\n",
    "        break"
   ]
  },
  {
   "cell_type": "markdown",
   "metadata": {
    "id": "RZP6KKa3CDPf"
   },
   "source": [
    "**Displaying the shapes of the data and labels yielded by the `Dataset`**"
   ]
  },
  {
   "cell_type": "code",
   "execution_count": 12,
   "metadata": {
    "execution": {
     "iopub.execute_input": "2023-10-21T20:34:34.976480Z",
     "iopub.status.busy": "2023-10-21T20:34:34.975696Z",
     "iopub.status.idle": "2023-10-21T20:34:35.170568Z",
     "shell.execute_reply": "2023-10-21T20:34:35.171055Z"
    },
    "id": "1oQxuCKTCDPf"
   },
   "outputs": [
    {
     "name": "stdout",
     "output_type": "stream",
     "text": [
      "data batch shape: (32, 180, 180, 3)\n",
      "labels batch shape: (32,)\n"
     ]
    }
   ],
   "source": [
    "for data_batch, labels_batch in train_dataset:\n",
    "    print(\"data batch shape:\", data_batch.shape)\n",
    "    print(\"labels batch shape:\", labels_batch.shape)\n",
    "    break"
   ]
  },
  {
   "cell_type": "markdown",
   "metadata": {
    "id": "nB5vOQlBCDPg"
   },
   "source": [
    "**Fitting the model using a `Dataset`**"
   ]
  },
  {
   "cell_type": "code",
   "execution_count": 13,
   "metadata": {
    "execution": {
     "iopub.execute_input": "2023-10-21T20:34:35.180212Z",
     "iopub.status.busy": "2023-10-21T20:34:35.179674Z",
     "iopub.status.idle": "2023-10-21T20:34:35.182513Z",
     "shell.execute_reply": "2023-10-21T20:34:35.182950Z"
    },
    "id": "948qTTk7CDPg"
   },
   "outputs": [
    {
     "data": {
      "text/plain": [
       "'\\ncallbacks = [\\n    keras.callbacks.ModelCheckpoint(\\n        filepath=\"convnet_from_scratch.keras\",\\n        save_best_only=True,\\n        monitor=\"val_loss\")\\n]\\nhistory = model.fit(\\n    train_dataset,\\n    epochs=30,\\n    validation_data=validation_dataset,\\n    callbacks=callbacks)\\n'"
      ]
     },
     "execution_count": 1,
     "metadata": {},
     "output_type": "execute_result"
    }
   ],
   "source": [
    "\"\"\"\n",
    "callbacks = [\n",
    "    keras.callbacks.ModelCheckpoint(\n",
    "        filepath=\"convnet_from_scratch.keras\",\n",
    "        save_best_only=True,\n",
    "        monitor=\"val_loss\")\n",
    "]\n",
    "history = model.fit(\n",
    "    train_dataset,\n",
    "    epochs=30,\n",
    "    validation_data=validation_dataset,\n",
    "    callbacks=callbacks)\n",
    "\"\"\"    "
   ]
  },
  {
   "cell_type": "markdown",
   "metadata": {
    "id": "gAT29S8pCDPg"
   },
   "source": [
    "**Displaying curves of loss and accuracy during training**"
   ]
  },
  {
   "cell_type": "code",
   "execution_count": 14,
   "metadata": {
    "execution": {
     "iopub.execute_input": "2023-10-21T20:34:35.186807Z",
     "iopub.status.busy": "2023-10-21T20:34:35.186276Z",
     "iopub.status.idle": "2023-10-21T20:34:35.188678Z",
     "shell.execute_reply": "2023-10-21T20:34:35.189085Z"
    },
    "id": "BV339wOHCDPg"
   },
   "outputs": [
    {
     "data": {
      "text/plain": [
       "'\\nimport matplotlib.pyplot as plt\\naccuracy = history.history[\"accuracy\"]\\nval_accuracy = history.history[\"val_accuracy\"]\\nloss = history.history[\"loss\"]\\nval_loss = history.history[\"val_loss\"]\\nepochs = range(1, len(accuracy) + 1)\\nplt.plot(epochs, accuracy, \"bo\", label=\"Training accuracy\")\\nplt.plot(epochs, val_accuracy, \"b\", label=\"Validation accuracy\")\\nplt.title(\"Training and validation accuracy\")\\nplt.legend()\\nplt.figure()\\nplt.plot(epochs, loss, \"bo\", label=\"Training loss\")\\nplt.plot(epochs, val_loss, \"b\", label=\"Validation loss\")\\nplt.title(\"Training and validation loss\")\\nplt.legend()\\nplt.show()\\n'"
      ]
     },
     "execution_count": 1,
     "metadata": {},
     "output_type": "execute_result"
    }
   ],
   "source": [
    "\"\"\"\n",
    "import matplotlib.pyplot as plt\n",
    "accuracy = history.history[\"accuracy\"]\n",
    "val_accuracy = history.history[\"val_accuracy\"]\n",
    "loss = history.history[\"loss\"]\n",
    "val_loss = history.history[\"val_loss\"]\n",
    "epochs = range(1, len(accuracy) + 1)\n",
    "plt.plot(epochs, accuracy, \"bo\", label=\"Training accuracy\")\n",
    "plt.plot(epochs, val_accuracy, \"b\", label=\"Validation accuracy\")\n",
    "plt.title(\"Training and validation accuracy\")\n",
    "plt.legend()\n",
    "plt.figure()\n",
    "plt.plot(epochs, loss, \"bo\", label=\"Training loss\")\n",
    "plt.plot(epochs, val_loss, \"b\", label=\"Validation loss\")\n",
    "plt.title(\"Training and validation loss\")\n",
    "plt.legend()\n",
    "plt.show()\n",
    "\"\"\""
   ]
  },
  {
   "cell_type": "markdown",
   "metadata": {
    "id": "x2biw2rcCDPh"
   },
   "source": [
    "**Evaluating the model on the test set**"
   ]
  },
  {
   "cell_type": "code",
   "execution_count": 15,
   "metadata": {
    "execution": {
     "iopub.execute_input": "2023-10-21T20:34:35.192584Z",
     "iopub.status.busy": "2023-10-21T20:34:35.192077Z",
     "iopub.status.idle": "2023-10-21T20:34:35.194373Z",
     "shell.execute_reply": "2023-10-21T20:34:35.194794Z"
    },
    "id": "Kw2HQvKqCDPh"
   },
   "outputs": [
    {
     "data": {
      "text/plain": [
       "'\\ntest_model = keras.models.load_model(\"convnet_from_scratch.keras\")\\ntest_loss, test_acc = test_model.evaluate(test_dataset)\\nprint(f\"Test accuracy: {test_acc:.3f}\")\\n'"
      ]
     },
     "execution_count": 1,
     "metadata": {},
     "output_type": "execute_result"
    }
   ],
   "source": [
    "\"\"\"\n",
    "test_model = keras.models.load_model(\"convnet_from_scratch.keras\")\n",
    "test_loss, test_acc = test_model.evaluate(test_dataset)\n",
    "print(f\"Test accuracy: {test_acc:.3f}\")\n",
    "\"\"\""
   ]
  },
  {
   "cell_type": "markdown",
   "metadata": {
    "id": "59JIBMkeCDPh",
    "tags": []
   },
   "source": [
    "### Using data augmentation"
   ]
  },
  {
   "cell_type": "markdown",
   "metadata": {
    "id": "I4Mf-qDmCDPi"
   },
   "source": [
    "**Define a data augmentation stage to add to an image model**"
   ]
  },
  {
   "cell_type": "code",
   "execution_count": 16,
   "metadata": {
    "execution": {
     "iopub.execute_input": "2023-10-21T20:34:35.199235Z",
     "iopub.status.busy": "2023-10-21T20:34:35.198736Z",
     "iopub.status.idle": "2023-10-21T20:34:35.210877Z",
     "shell.execute_reply": "2023-10-21T20:34:35.210378Z"
    },
    "id": "SbEnboYqCDPi"
   },
   "outputs": [],
   "source": [
    "data_augmentation = keras.Sequential(\n",
    "    [\n",
    "        layers.RandomFlip(\"horizontal\"),\n",
    "        layers.RandomRotation(0.1),\n",
    "        layers.RandomZoom(0.2),\n",
    "    ]\n",
    ")"
   ]
  },
  {
   "cell_type": "markdown",
   "metadata": {
    "id": "oCMayLeOCDPi"
   },
   "source": [
    "**Displaying some randomly augmented training images**"
   ]
  },
  {
   "cell_type": "code",
   "execution_count": 17,
   "metadata": {
    "execution": {
     "iopub.execute_input": "2023-10-21T20:34:35.214152Z",
     "iopub.status.busy": "2023-10-21T20:34:35.213664Z",
     "iopub.status.idle": "2023-10-21T20:34:35.216310Z",
     "shell.execute_reply": "2023-10-21T20:34:35.216747Z"
    },
    "id": "A8aj4vANCDPj"
   },
   "outputs": [
    {
     "data": {
      "text/plain": [
       "'\\nplt.figure(figsize=(10, 10))\\nfor images, _ in train_dataset.take(1):\\n    for i in range(9):\\n        augmented_images = data_augmentation(images)\\n        ax = plt.subplot(3, 3, i + 1)\\n        plt.imshow(augmented_images[0].numpy().astype(\"uint8\"))\\n        plt.axis(\"off\")\\n'"
      ]
     },
     "execution_count": 1,
     "metadata": {},
     "output_type": "execute_result"
    }
   ],
   "source": [
    "\"\"\"\n",
    "plt.figure(figsize=(10, 10))\n",
    "for images, _ in train_dataset.take(1):\n",
    "    for i in range(9):\n",
    "        augmented_images = data_augmentation(images)\n",
    "        ax = plt.subplot(3, 3, i + 1)\n",
    "        plt.imshow(augmented_images[0].numpy().astype(\"uint8\"))\n",
    "        plt.axis(\"off\")\n",
    "\"\"\""
   ]
  },
  {
   "cell_type": "markdown",
   "metadata": {
    "id": "nNziOokECDPj"
   },
   "source": [
    "**Defining a new convnet that includes image augmentation, regularization and dropout**"
   ]
  },
  {
   "cell_type": "code",
   "execution_count": 18,
   "metadata": {
    "execution": {
     "iopub.execute_input": "2023-10-21T20:34:35.224559Z",
     "iopub.status.busy": "2023-10-21T20:34:35.223813Z",
     "iopub.status.idle": "2023-10-21T20:34:35.487302Z",
     "shell.execute_reply": "2023-10-21T20:34:35.485595Z"
    },
    "id": "MyWACP8CCDPk"
   },
   "outputs": [],
   "source": [
    "inputs = keras.Input(shape=(180, 180, 3))\n",
    "x = data_augmentation(inputs)\n",
    "x = layers.Rescaling(1./255)(x)\n",
    "x = layers.Conv2D(filters=32, kernel_size=3, activation=\"relu\")(x)\n",
    "x = layers.MaxPooling2D(pool_size=2)(x)\n",
    "x = layers.Conv2D(filters=64, kernel_size=3, activation=\"relu\")(x)\n",
    "x = layers.MaxPooling2D(pool_size=2)(x)\n",
    "x = layers.Conv2D(filters=128, kernel_size=3, activation=\"relu\")(x)\n",
    "x = layers.MaxPooling2D(pool_size=2)(x)\n",
    "x = layers.Conv2D(filters=256, kernel_size=3, activation=\"relu\")(x)\n",
    "x = layers.MaxPooling2D(pool_size=2)(x)\n",
    "x = layers.Conv2D(filters=256, kernel_size=3, activation=\"relu\")(x)\n",
    "x = layers.Flatten()(x)\n",
    "x = layers.Dropout(0.5)(x)\n",
    "outputs = layers.Dense(1, activation=\"sigmoid\")(x)\n",
    "model = keras.Model(inputs=inputs, outputs=outputs)\n",
    "\n",
    "model.compile(loss=\"binary_crossentropy\",\n",
    "              optimizer=\"rmsprop\",\n",
    "              metrics=[\"accuracy\"])"
   ]
  },
  {
   "cell_type": "markdown",
   "metadata": {
    "id": "TT51jSbLCDPk"
   },
   "source": [
    "**Training the regularized convnet**"
   ]
  },
  {
   "cell_type": "code",
   "execution_count": 19,
   "metadata": {
    "execution": {
     "iopub.execute_input": "2023-10-21T20:34:35.493038Z",
     "iopub.status.busy": "2023-10-21T20:34:35.492487Z",
     "iopub.status.idle": "2023-10-21T20:41:01.883249Z",
     "shell.execute_reply": "2023-10-21T20:41:01.883757Z"
    },
    "id": "fZL5nFXuCDPk"
   },
   "outputs": [
    {
     "name": "stdout",
     "output_type": "stream",
     "text": [
      "Epoch 1/80\n",
      "188/188 [==============================] - 9s 28ms/step - loss: 0.7013 - accuracy: 0.5367 - val_loss: 0.6745 - val_accuracy: 0.6222\n",
      "Epoch 2/80\n",
      "188/188 [==============================] - 5s 25ms/step - loss: 0.6622 - accuracy: 0.6307 - val_loss: 0.6223 - val_accuracy: 0.6774\n",
      "Epoch 3/80\n",
      "188/188 [==============================] - 5s 25ms/step - loss: 0.6244 - accuracy: 0.6557 - val_loss: 0.5671 - val_accuracy: 0.7194\n",
      "Epoch 4/80\n",
      "188/188 [==============================] - 5s 25ms/step - loss: 0.5998 - accuracy: 0.6812 - val_loss: 0.6425 - val_accuracy: 0.6683\n",
      "Epoch 5/80\n",
      "188/188 [==============================] - 5s 24ms/step - loss: 0.5709 - accuracy: 0.7062 - val_loss: 0.5270 - val_accuracy: 0.7545\n",
      "Epoch 6/80\n",
      "188/188 [==============================] - 5s 24ms/step - loss: 0.5397 - accuracy: 0.7249 - val_loss: 0.4980 - val_accuracy: 0.7625\n",
      "Epoch 7/80\n",
      "188/188 [==============================] - 5s 24ms/step - loss: 0.5218 - accuracy: 0.7487 - val_loss: 0.4215 - val_accuracy: 0.8146\n",
      "Epoch 8/80\n",
      "188/188 [==============================] - 5s 24ms/step - loss: 0.4977 - accuracy: 0.7598 - val_loss: 0.4423 - val_accuracy: 0.7976\n",
      "Epoch 9/80\n",
      "188/188 [==============================] - 5s 25ms/step - loss: 0.4810 - accuracy: 0.7749 - val_loss: 0.4341 - val_accuracy: 0.8096\n",
      "Epoch 10/80\n",
      "188/188 [==============================] - 5s 24ms/step - loss: 0.4671 - accuracy: 0.7798 - val_loss: 0.4010 - val_accuracy: 0.8196\n",
      "Epoch 11/80\n",
      "188/188 [==============================] - 5s 24ms/step - loss: 0.4539 - accuracy: 0.7893 - val_loss: 0.3904 - val_accuracy: 0.8096\n",
      "Epoch 12/80\n",
      "188/188 [==============================] - 5s 24ms/step - loss: 0.4378 - accuracy: 0.8018 - val_loss: 0.3867 - val_accuracy: 0.8196\n",
      "Epoch 13/80\n",
      "188/188 [==============================] - 5s 24ms/step - loss: 0.4131 - accuracy: 0.8129 - val_loss: 0.3734 - val_accuracy: 0.8297\n",
      "Epoch 14/80\n",
      "188/188 [==============================] - 5s 24ms/step - loss: 0.4097 - accuracy: 0.8184 - val_loss: 0.3403 - val_accuracy: 0.8637\n",
      "Epoch 15/80\n",
      "188/188 [==============================] - 5s 25ms/step - loss: 0.4037 - accuracy: 0.8268 - val_loss: 0.3120 - val_accuracy: 0.8637\n",
      "Epoch 16/80\n",
      "188/188 [==============================] - 5s 24ms/step - loss: 0.3826 - accuracy: 0.8336 - val_loss: 0.4983 - val_accuracy: 0.7936\n",
      "Epoch 17/80\n",
      "188/188 [==============================] - 5s 25ms/step - loss: 0.3803 - accuracy: 0.8348 - val_loss: 0.4090 - val_accuracy: 0.8537\n",
      "Epoch 18/80\n",
      "188/188 [==============================] - 5s 25ms/step - loss: 0.3632 - accuracy: 0.8408 - val_loss: 0.3277 - val_accuracy: 0.8848\n",
      "Epoch 19/80\n",
      "188/188 [==============================] - 5s 25ms/step - loss: 0.3537 - accuracy: 0.8503 - val_loss: 0.4235 - val_accuracy: 0.8317\n",
      "Epoch 20/80\n",
      "188/188 [==============================] - 5s 24ms/step - loss: 0.3514 - accuracy: 0.8546 - val_loss: 0.2837 - val_accuracy: 0.8818\n",
      "Epoch 21/80\n",
      "188/188 [==============================] - 5s 24ms/step - loss: 0.3369 - accuracy: 0.8550 - val_loss: 0.3131 - val_accuracy: 0.8828\n",
      "Epoch 22/80\n",
      "188/188 [==============================] - 5s 25ms/step - loss: 0.3493 - accuracy: 0.8590 - val_loss: 0.3317 - val_accuracy: 0.8557\n",
      "Epoch 23/80\n",
      "188/188 [==============================] - 5s 26ms/step - loss: 0.3231 - accuracy: 0.8615 - val_loss: 0.3820 - val_accuracy: 0.8457\n",
      "Epoch 24/80\n",
      "188/188 [==============================] - 5s 24ms/step - loss: 0.3298 - accuracy: 0.8573 - val_loss: 0.4611 - val_accuracy: 0.7836\n",
      "Epoch 25/80\n",
      "188/188 [==============================] - 5s 24ms/step - loss: 0.3255 - accuracy: 0.8560 - val_loss: 0.3417 - val_accuracy: 0.8717\n",
      "Epoch 26/80\n",
      "188/188 [==============================] - 5s 25ms/step - loss: 0.3262 - accuracy: 0.8651 - val_loss: 0.2503 - val_accuracy: 0.9108\n",
      "Epoch 27/80\n",
      "188/188 [==============================] - 5s 24ms/step - loss: 0.3250 - accuracy: 0.8646 - val_loss: 0.2798 - val_accuracy: 0.9068\n",
      "Epoch 28/80\n",
      "188/188 [==============================] - 5s 24ms/step - loss: 0.3126 - accuracy: 0.8733 - val_loss: 0.3802 - val_accuracy: 0.8577\n",
      "Epoch 29/80\n",
      "188/188 [==============================] - 5s 24ms/step - loss: 0.2980 - accuracy: 0.8746 - val_loss: 0.2611 - val_accuracy: 0.9098\n",
      "Epoch 30/80\n",
      "188/188 [==============================] - 5s 24ms/step - loss: 0.3084 - accuracy: 0.8713 - val_loss: 0.2998 - val_accuracy: 0.8888\n",
      "Epoch 31/80\n",
      "188/188 [==============================] - 5s 24ms/step - loss: 0.3241 - accuracy: 0.8648 - val_loss: 0.3702 - val_accuracy: 0.8527\n",
      "Epoch 32/80\n",
      "188/188 [==============================] - 5s 25ms/step - loss: 0.3175 - accuracy: 0.8705 - val_loss: 0.2866 - val_accuracy: 0.8938\n",
      "Epoch 33/80\n",
      "188/188 [==============================] - 5s 25ms/step - loss: 0.3435 - accuracy: 0.8593 - val_loss: 0.4798 - val_accuracy: 0.8838\n",
      "Epoch 34/80\n",
      "188/188 [==============================] - 5s 24ms/step - loss: 0.3433 - accuracy: 0.8573 - val_loss: 0.2443 - val_accuracy: 0.9048\n",
      "Epoch 35/80\n",
      "188/188 [==============================] - 5s 25ms/step - loss: 0.3306 - accuracy: 0.8686 - val_loss: 2.3848 - val_accuracy: 0.7144\n",
      "Epoch 36/80\n",
      "188/188 [==============================] - 5s 25ms/step - loss: 0.3549 - accuracy: 0.8630 - val_loss: 0.3681 - val_accuracy: 0.8798\n",
      "Epoch 37/80\n",
      "188/188 [==============================] - 5s 25ms/step - loss: 0.3391 - accuracy: 0.8623 - val_loss: 0.3490 - val_accuracy: 0.8868\n",
      "Epoch 38/80\n",
      "188/188 [==============================] - 5s 25ms/step - loss: 0.3542 - accuracy: 0.8596 - val_loss: 0.3876 - val_accuracy: 0.8397\n",
      "Epoch 39/80\n",
      "188/188 [==============================] - 5s 25ms/step - loss: 0.3368 - accuracy: 0.8620 - val_loss: 0.5940 - val_accuracy: 0.8717\n",
      "Epoch 40/80\n",
      "188/188 [==============================] - 5s 24ms/step - loss: 0.3310 - accuracy: 0.8706 - val_loss: 0.2680 - val_accuracy: 0.8958\n",
      "Epoch 41/80\n",
      "188/188 [==============================] - 5s 24ms/step - loss: 0.3299 - accuracy: 0.8665 - val_loss: 0.3128 - val_accuracy: 0.8928\n",
      "Epoch 42/80\n",
      "188/188 [==============================] - 5s 24ms/step - loss: 0.3455 - accuracy: 0.8573 - val_loss: 0.3010 - val_accuracy: 0.8918\n",
      "Epoch 43/80\n",
      "188/188 [==============================] - 5s 24ms/step - loss: 0.3463 - accuracy: 0.8610 - val_loss: 0.4598 - val_accuracy: 0.8377\n",
      "Epoch 44/80\n",
      "188/188 [==============================] - 5s 24ms/step - loss: 0.3580 - accuracy: 0.8603 - val_loss: 0.2928 - val_accuracy: 0.9018\n",
      "Epoch 45/80\n",
      "188/188 [==============================] - 5s 25ms/step - loss: 0.3565 - accuracy: 0.8621 - val_loss: 0.3692 - val_accuracy: 0.8287\n",
      "Epoch 46/80\n",
      "188/188 [==============================] - 5s 24ms/step - loss: 0.3547 - accuracy: 0.8610 - val_loss: 0.3488 - val_accuracy: 0.8798\n",
      "Epoch 47/80\n",
      "188/188 [==============================] - 5s 24ms/step - loss: 0.3523 - accuracy: 0.8560 - val_loss: 0.5674 - val_accuracy: 0.7946\n",
      "Epoch 48/80\n",
      "188/188 [==============================] - 5s 25ms/step - loss: 0.3737 - accuracy: 0.8553 - val_loss: 0.6356 - val_accuracy: 0.8146\n",
      "Epoch 49/80\n",
      "188/188 [==============================] - 5s 24ms/step - loss: 0.3734 - accuracy: 0.8503 - val_loss: 0.9687 - val_accuracy: 0.7445\n",
      "Epoch 50/80\n",
      "188/188 [==============================] - 5s 24ms/step - loss: 0.3659 - accuracy: 0.8525 - val_loss: 0.3908 - val_accuracy: 0.8427\n",
      "Epoch 51/80\n",
      "188/188 [==============================] - 5s 25ms/step - loss: 0.3566 - accuracy: 0.8606 - val_loss: 0.9658 - val_accuracy: 0.7495\n",
      "Epoch 52/80\n",
      "188/188 [==============================] - 5s 25ms/step - loss: 0.3662 - accuracy: 0.8521 - val_loss: 0.3714 - val_accuracy: 0.8968\n",
      "Epoch 53/80\n",
      "188/188 [==============================] - 5s 24ms/step - loss: 0.3781 - accuracy: 0.8506 - val_loss: 0.2634 - val_accuracy: 0.9038\n",
      "Epoch 54/80\n",
      "188/188 [==============================] - 5s 24ms/step - loss: 0.3798 - accuracy: 0.8456 - val_loss: 1.2284 - val_accuracy: 0.8176\n",
      "Epoch 55/80\n",
      "188/188 [==============================] - 5s 25ms/step - loss: 0.4102 - accuracy: 0.8453 - val_loss: 0.2998 - val_accuracy: 0.9148\n",
      "Epoch 56/80\n",
      "188/188 [==============================] - 5s 24ms/step - loss: 0.4404 - accuracy: 0.8251 - val_loss: 0.3784 - val_accuracy: 0.8828\n",
      "Epoch 57/80\n",
      "188/188 [==============================] - 5s 24ms/step - loss: 0.3989 - accuracy: 0.8386 - val_loss: 0.2849 - val_accuracy: 0.8968\n",
      "Epoch 58/80\n",
      "188/188 [==============================] - 5s 24ms/step - loss: 0.4147 - accuracy: 0.8403 - val_loss: 0.2906 - val_accuracy: 0.9058\n",
      "Epoch 59/80\n",
      "188/188 [==============================] - 5s 25ms/step - loss: 0.3818 - accuracy: 0.8479 - val_loss: 0.4894 - val_accuracy: 0.8798\n",
      "Epoch 60/80\n",
      "188/188 [==============================] - 5s 24ms/step - loss: 0.3876 - accuracy: 0.8358 - val_loss: 1.0239 - val_accuracy: 0.8267\n",
      "Epoch 61/80\n",
      "188/188 [==============================] - 5s 25ms/step - loss: 0.4747 - accuracy: 0.8213 - val_loss: 0.3941 - val_accuracy: 0.8798\n",
      "Epoch 62/80\n",
      "188/188 [==============================] - 5s 24ms/step - loss: 0.3936 - accuracy: 0.8324 - val_loss: 0.5380 - val_accuracy: 0.8257\n",
      "Epoch 63/80\n",
      "188/188 [==============================] - 5s 25ms/step - loss: 0.4257 - accuracy: 0.8293 - val_loss: 0.4603 - val_accuracy: 0.8547\n",
      "Epoch 64/80\n",
      "188/188 [==============================] - 5s 25ms/step - loss: 0.4307 - accuracy: 0.8311 - val_loss: 0.3651 - val_accuracy: 0.8206\n",
      "Epoch 65/80\n",
      "188/188 [==============================] - 5s 25ms/step - loss: 0.4546 - accuracy: 0.8168 - val_loss: 0.2663 - val_accuracy: 0.8818\n",
      "Epoch 66/80\n",
      "188/188 [==============================] - 5s 25ms/step - loss: 0.4361 - accuracy: 0.8286 - val_loss: 0.3358 - val_accuracy: 0.8868\n",
      "Epoch 67/80\n",
      "188/188 [==============================] - 5s 24ms/step - loss: 0.4496 - accuracy: 0.8188 - val_loss: 0.3353 - val_accuracy: 0.8808\n",
      "Epoch 68/80\n",
      "188/188 [==============================] - 5s 25ms/step - loss: 0.4687 - accuracy: 0.8269 - val_loss: 0.4740 - val_accuracy: 0.8667\n",
      "Epoch 69/80\n",
      "188/188 [==============================] - 5s 24ms/step - loss: 0.4311 - accuracy: 0.8231 - val_loss: 0.4173 - val_accuracy: 0.8707\n",
      "Epoch 70/80\n",
      "188/188 [==============================] - 5s 25ms/step - loss: 0.4982 - accuracy: 0.8074 - val_loss: 0.5288 - val_accuracy: 0.8236\n",
      "Epoch 71/80\n",
      "188/188 [==============================] - 5s 24ms/step - loss: 0.4758 - accuracy: 0.8173 - val_loss: 0.4178 - val_accuracy: 0.8216\n",
      "Epoch 72/80\n",
      "188/188 [==============================] - 5s 24ms/step - loss: 0.4796 - accuracy: 0.8183 - val_loss: 0.3006 - val_accuracy: 0.8888\n",
      "Epoch 73/80\n",
      "188/188 [==============================] - 5s 25ms/step - loss: 0.4372 - accuracy: 0.8184 - val_loss: 0.4484 - val_accuracy: 0.8487\n",
      "Epoch 74/80\n",
      "188/188 [==============================] - 5s 24ms/step - loss: 0.6609 - accuracy: 0.8118 - val_loss: 2.0788 - val_accuracy: 0.6703\n",
      "Epoch 75/80\n",
      "188/188 [==============================] - 5s 25ms/step - loss: 0.5195 - accuracy: 0.8229 - val_loss: 0.7086 - val_accuracy: 0.8156\n",
      "Epoch 76/80\n",
      "188/188 [==============================] - 5s 25ms/step - loss: 0.5815 - accuracy: 0.8069 - val_loss: 0.3858 - val_accuracy: 0.8858\n",
      "Epoch 77/80\n",
      "188/188 [==============================] - 5s 25ms/step - loss: 0.5060 - accuracy: 0.8174 - val_loss: 0.3619 - val_accuracy: 0.8367\n",
      "Epoch 78/80\n",
      "188/188 [==============================] - 5s 24ms/step - loss: 0.4919 - accuracy: 0.8014 - val_loss: 0.3146 - val_accuracy: 0.8727\n",
      "Epoch 79/80\n",
      "188/188 [==============================] - 5s 25ms/step - loss: 0.4880 - accuracy: 0.8144 - val_loss: 2.6971 - val_accuracy: 0.7094\n",
      "Epoch 80/80\n",
      "188/188 [==============================] - 5s 24ms/step - loss: 0.4626 - accuracy: 0.8159 - val_loss: 0.3114 - val_accuracy: 0.8657\n"
     ]
    }
   ],
   "source": [
    "callbacks = [\n",
    "    keras.callbacks.ModelCheckpoint(\n",
    "        filepath=\"convnet_from_scratch_with_augmentation.keras\",\n",
    "        save_best_only=True,\n",
    "        monitor=\"val_loss\")\n",
    "]\n",
    "history = model.fit(\n",
    "    train_dataset,\n",
    "    epochs=80,\n",
    "    validation_data=validation_dataset,\n",
    "    callbacks=callbacks)"
   ]
  },
  {
   "cell_type": "markdown",
   "metadata": {
    "id": "07jIY-3yCDPl"
   },
   "source": [
    "**Evaluating the model on the test set**"
   ]
  },
  {
   "cell_type": "code",
   "execution_count": 20,
   "metadata": {
    "execution": {
     "iopub.execute_input": "2023-10-21T20:41:01.888201Z",
     "iopub.status.busy": "2023-10-21T20:41:01.887685Z",
     "iopub.status.idle": "2023-10-21T20:41:03.092861Z",
     "shell.execute_reply": "2023-10-21T20:41:03.093273Z"
    },
    "id": "4_WMA5i4CDPl"
   },
   "outputs": [
    {
     "name": "stdout",
     "output_type": "stream",
     "text": [
      "32/32 [==============================] - 1s 14ms/step - loss: 0.3999 - accuracy: 0.8868\n",
      "Test accuracy: 0.887\n"
     ]
    }
   ],
   "source": [
    "test_model = keras.models.load_model(\n",
    "    \"convnet_from_scratch_with_augmentation.keras\")\n",
    "test_loss, test_acc = test_model.evaluate(test_dataset)\n",
    "print(f\"Test accuracy: {test_acc:.3f}\")"
   ]
  }
 ],
 "metadata": {
  "colab": {
   "provenance": [
    {
     "file_id": "https://github.com/fchollet/deep-learning-with-python-notebooks/blob/master/chapter08_intro-to-dl-for-computer-vision.ipynb",
     "timestamp": 1697604276120
    }
   ],
   "toc_visible": true
  },
  "kernelspec": {
   "display_name": "Python 3",
   "language": "python",
   "name": "python3"
  },
  "language_info": {
   "codemirror_mode": {
    "name": "ipython",
    "version": 3
   },
   "file_extension": ".py",
   "mimetype": "text/x-python",
   "name": "python",
   "nbconvert_exporter": "python",
   "pygments_lexer": "ipython3",
   "version": "3.6.8"
  }
 },
 "nbformat": 4,
 "nbformat_minor": 4
}
