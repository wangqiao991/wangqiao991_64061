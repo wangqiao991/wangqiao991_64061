{
 "cells": [
  {
   "cell_type": "markdown",
   "metadata": {
    "id": "wAEYst82CDPR",
    "tags": []
   },
   "source": [
    "## Using a pretrained network with training sample of 5000, a validation sample of 500, and a test sample of 500"
   ]
  },
  {
   "cell_type": "markdown",
   "metadata": {
    "id": "b8wI8jDeCDPR",
    "tags": []
   },
   "source": [
    "### Downloading the data"
   ]
  },
  {
   "cell_type": "code",
   "execution_count": 1,
   "metadata": {
    "execution": {
     "iopub.execute_input": "2023-10-21T22:43:10.967848Z",
     "iopub.status.busy": "2023-10-21T22:43:10.964779Z",
     "iopub.status.idle": "2023-10-21T22:43:10.969240Z",
     "shell.execute_reply": "2023-10-21T22:43:10.970204Z"
    },
    "id": "53GKP3NWCDPS",
    "tags": []
   },
   "outputs": [],
   "source": [
    "#!unzip -qq '/fs/ess/PGS0333/BA_64061_KSU/data/dogs-vs-cats.zip'"
   ]
  },
  {
   "cell_type": "code",
   "execution_count": 2,
   "metadata": {
    "execution": {
     "iopub.execute_input": "2023-10-21T22:43:10.976728Z",
     "iopub.status.busy": "2023-10-21T22:43:10.975560Z",
     "iopub.status.idle": "2023-10-21T22:43:10.979090Z",
     "shell.execute_reply": "2023-10-21T22:43:10.980063Z"
    },
    "id": "ZfGEQ2r_CDPT"
   },
   "outputs": [],
   "source": [
    "#!unzip -qq train.zip"
   ]
  },
  {
   "cell_type": "markdown",
   "metadata": {
    "id": "QC5cZm4DCDPT",
    "tags": []
   },
   "source": [
    "**Copying images to training, validation, and test directories**"
   ]
  },
  {
   "cell_type": "code",
   "execution_count": 3,
   "metadata": {
    "execution": {
     "iopub.execute_input": "2023-10-21T22:43:11.002203Z",
     "iopub.status.busy": "2023-10-21T22:43:10.994497Z",
     "iopub.status.idle": "2023-10-21T22:43:40.627621Z",
     "shell.execute_reply": "2023-10-21T22:43:40.628774Z"
    },
    "id": "Z8dqOCnvCDPT",
    "tags": []
   },
   "outputs": [],
   "source": [
    "import os, shutil, pathlib\n",
    "\n",
    "original_dir = pathlib.Path(\"train\")\n",
    "new_base_dir = pathlib.Path(\"cats_vs_dogs_small\")\n",
    "\n",
    "def make_subset(subset_name, start_index, end_index):\n",
    "    for category in (\"cat\", \"dog\"):\n",
    "        dir = new_base_dir / subset_name / category\n",
    "        os.makedirs(dir)\n",
    "        fnames = [f\"{category}.{i}.jpg\" for i in range(start_index, end_index)]\n",
    "        for fname in fnames:\n",
    "            shutil.copyfile(src=original_dir / fname,\n",
    "                            dst=dir / fname)\n",
    "\n",
    "make_subset(\"train\", start_index=0, end_index=4999)\n",
    "make_subset(\"validation\", start_index=5000, end_index=5499)\n",
    "make_subset(\"test\", start_index=5500, end_index=5999)"
   ]
  },
  {
   "cell_type": "markdown",
   "metadata": {
    "id": "zPybxeH3CDPT",
    "tags": []
   },
   "source": [
    "### Building the model"
   ]
  },
  {
   "cell_type": "markdown",
   "metadata": {
    "id": "KE0mXcPvCDPU"
   },
   "source": [
    "**Instantiating a small convnet for dogs vs. cats classification**"
   ]
  },
  {
   "cell_type": "code",
   "execution_count": 4,
   "metadata": {
    "execution": {
     "iopub.execute_input": "2023-10-21T22:43:40.651304Z",
     "iopub.status.busy": "2023-10-21T22:43:40.644648Z",
     "iopub.status.idle": "2023-10-21T22:43:40.678388Z",
     "shell.execute_reply": "2023-10-21T22:43:40.679309Z"
    },
    "id": "TIDD8c0VCDPU"
   },
   "outputs": [
    {
     "data": {
      "text/plain": [
       "'\\nfrom tensorflow import keras\\nfrom tensorflow.keras import layers\\ninputs = keras.Input(shape=(180, 180, 3))\\nx = layers.Rescaling(1./255)(inputs)\\nx = layers.Conv2D(filters=32, kernel_size=3, activation=\"relu\")(x)\\nx = layers.MaxPooling2D(pool_size=2)(x)\\nx = layers.Conv2D(filters=64, kernel_size=3, activation=\"relu\")(x)\\nx = layers.MaxPooling2D(pool_size=2)(x)\\nx = layers.Conv2D(filters=128, kernel_size=3, activation=\"relu\")(x)\\nx = layers.MaxPooling2D(pool_size=2)(x)\\nx = layers.Conv2D(filters=256, kernel_size=3, activation=\"relu\")(x)\\nx = layers.MaxPooling2D(pool_size=2)(x)\\nx = layers.Conv2D(filters=256, kernel_size=3, activation=\"relu\")(x)\\nx = layers.Flatten()(x)\\noutputs = layers.Dense(1, activation=\"sigmoid\")(x)\\nmodel = keras.Model(inputs=inputs, outputs=outputs)\\n'"
      ]
     },
     "execution_count": 1,
     "metadata": {},
     "output_type": "execute_result"
    }
   ],
   "source": [
    "\"\"\"\n",
    "from tensorflow import keras\n",
    "from tensorflow.keras import layers\n",
    "inputs = keras.Input(shape=(180, 180, 3))\n",
    "x = layers.Rescaling(1./255)(inputs)\n",
    "x = layers.Conv2D(filters=32, kernel_size=3, activation=\"relu\")(x)\n",
    "x = layers.MaxPooling2D(pool_size=2)(x)\n",
    "x = layers.Conv2D(filters=64, kernel_size=3, activation=\"relu\")(x)\n",
    "x = layers.MaxPooling2D(pool_size=2)(x)\n",
    "x = layers.Conv2D(filters=128, kernel_size=3, activation=\"relu\")(x)\n",
    "x = layers.MaxPooling2D(pool_size=2)(x)\n",
    "x = layers.Conv2D(filters=256, kernel_size=3, activation=\"relu\")(x)\n",
    "x = layers.MaxPooling2D(pool_size=2)(x)\n",
    "x = layers.Conv2D(filters=256, kernel_size=3, activation=\"relu\")(x)\n",
    "x = layers.Flatten()(x)\n",
    "outputs = layers.Dense(1, activation=\"sigmoid\")(x)\n",
    "model = keras.Model(inputs=inputs, outputs=outputs)\n",
    "\"\"\""
   ]
  },
  {
   "cell_type": "code",
   "execution_count": 5,
   "metadata": {
    "execution": {
     "iopub.execute_input": "2023-10-21T22:43:40.685437Z",
     "iopub.status.busy": "2023-10-21T22:43:40.684359Z",
     "iopub.status.idle": "2023-10-21T22:43:40.688884Z",
     "shell.execute_reply": "2023-10-21T22:43:40.687995Z"
    },
    "id": "pcBTjksSCDPU"
   },
   "outputs": [],
   "source": [
    "# model.summary()"
   ]
  },
  {
   "cell_type": "markdown",
   "metadata": {
    "id": "jKCFKNAVCDPV"
   },
   "source": [
    "**Configuring the model for training**"
   ]
  },
  {
   "cell_type": "code",
   "execution_count": 6,
   "metadata": {
    "execution": {
     "iopub.execute_input": "2023-10-21T22:43:40.695310Z",
     "iopub.status.busy": "2023-10-21T22:43:40.694329Z",
     "iopub.status.idle": "2023-10-21T22:43:40.700549Z",
     "shell.execute_reply": "2023-10-21T22:43:40.699260Z"
    },
    "id": "SXDcTiDKCDPV"
   },
   "outputs": [
    {
     "data": {
      "text/plain": [
       "'\\nmodel.compile(loss=\"binary_crossentropy\",\\n              optimizer=\"rmsprop\",\\n              metrics=[\"accuracy\"])\\n'"
      ]
     },
     "execution_count": 1,
     "metadata": {},
     "output_type": "execute_result"
    }
   ],
   "source": [
    "\"\"\"\n",
    "model.compile(loss=\"binary_crossentropy\",\n",
    "              optimizer=\"rmsprop\",\n",
    "              metrics=[\"accuracy\"])\n",
    "\"\"\""
   ]
  },
  {
   "cell_type": "markdown",
   "metadata": {
    "id": "dyB79XdQCDPV"
   },
   "source": [
    "### Data preprocessing"
   ]
  },
  {
   "cell_type": "markdown",
   "metadata": {
    "id": "xuadPMYcCDPV"
   },
   "source": [
    "**Using `image_dataset_from_directory` to read images**"
   ]
  },
  {
   "cell_type": "code",
   "execution_count": 7,
   "metadata": {
    "execution": {
     "iopub.execute_input": "2023-10-21T22:43:40.709781Z",
     "iopub.status.busy": "2023-10-21T22:43:40.708533Z",
     "iopub.status.idle": "2023-10-21T22:44:08.317085Z",
     "shell.execute_reply": "2023-10-21T22:44:08.318067Z"
    },
    "id": "-2sPJf98CDPW"
   },
   "outputs": [
    {
     "name": "stdout",
     "output_type": "stream",
     "text": [
      "Found 9998 files belonging to 2 classes.\n",
      "Found 998 files belonging to 2 classes.\n",
      "Found 998 files belonging to 2 classes.\n"
     ]
    }
   ],
   "source": [
    "from tensorflow import keras\n",
    "from tensorflow.keras import layers\n",
    "from tensorflow.keras.utils import image_dataset_from_directory\n",
    "\n",
    "train_dataset = image_dataset_from_directory(\n",
    "    new_base_dir / \"train\",\n",
    "    image_size=(180, 180),\n",
    "    batch_size=32)\n",
    "validation_dataset = image_dataset_from_directory(\n",
    "    new_base_dir / \"validation\",\n",
    "    image_size=(180, 180),\n",
    "    batch_size=32)\n",
    "test_dataset = image_dataset_from_directory(\n",
    "    new_base_dir / \"test\",\n",
    "    image_size=(180, 180),\n",
    "    batch_size=32)"
   ]
  },
  {
   "cell_type": "code",
   "execution_count": 8,
   "metadata": {
    "execution": {
     "iopub.execute_input": "2023-10-21T22:44:08.325205Z",
     "iopub.status.busy": "2023-10-21T22:44:08.324150Z",
     "iopub.status.idle": "2023-10-21T22:44:08.328864Z",
     "shell.execute_reply": "2023-10-21T22:44:08.329888Z"
    },
    "id": "xaOvG3kRCDPW"
   },
   "outputs": [
    {
     "data": {
      "text/plain": [
       "'\\nimport numpy as np\\nimport tensorflow as tf\\nrandom_numbers = np.random.normal(size=(1000, 16))\\ndataset = tf.data.Dataset.from_tensor_slices(random_numbers)\\n'"
      ]
     },
     "execution_count": 1,
     "metadata": {},
     "output_type": "execute_result"
    }
   ],
   "source": [
    "\"\"\"\n",
    "import numpy as np\n",
    "import tensorflow as tf\n",
    "random_numbers = np.random.normal(size=(1000, 16))\n",
    "dataset = tf.data.Dataset.from_tensor_slices(random_numbers)\n",
    "\"\"\""
   ]
  },
  {
   "cell_type": "code",
   "execution_count": 9,
   "metadata": {
    "execution": {
     "iopub.execute_input": "2023-10-21T22:44:08.337118Z",
     "iopub.status.busy": "2023-10-21T22:44:08.336107Z",
     "iopub.status.idle": "2023-10-21T22:44:08.341913Z",
     "shell.execute_reply": "2023-10-21T22:44:08.340913Z"
    },
    "id": "VOJjVIR1CDPW"
   },
   "outputs": [
    {
     "data": {
      "text/plain": [
       "'\\nfor i, element in enumerate(dataset):\\n    print(element.shape)\\n    if i >= 2:\\n        break\\n'"
      ]
     },
     "execution_count": 1,
     "metadata": {},
     "output_type": "execute_result"
    }
   ],
   "source": [
    "\"\"\"\n",
    "for i, element in enumerate(dataset):\n",
    "    print(element.shape)\n",
    "    if i >= 2:\n",
    "        break\n",
    "\"\"\""
   ]
  },
  {
   "cell_type": "code",
   "execution_count": 10,
   "metadata": {
    "execution": {
     "iopub.execute_input": "2023-10-21T22:44:08.348172Z",
     "iopub.status.busy": "2023-10-21T22:44:08.347229Z",
     "iopub.status.idle": "2023-10-21T22:44:08.352981Z",
     "shell.execute_reply": "2023-10-21T22:44:08.352087Z"
    },
    "id": "GuRLcC71CDPe"
   },
   "outputs": [
    {
     "data": {
      "text/plain": [
       "'\\nbatched_dataset = dataset.batch(32)\\nfor i, element in enumerate(batched_dataset):\\n    print(element.shape)\\n    if i >= 2:\\n        break\\n'"
      ]
     },
     "execution_count": 1,
     "metadata": {},
     "output_type": "execute_result"
    }
   ],
   "source": [
    "\"\"\"\n",
    "batched_dataset = dataset.batch(32)\n",
    "for i, element in enumerate(batched_dataset):\n",
    "    print(element.shape)\n",
    "    if i >= 2:\n",
    "        break\n",
    "\"\"\""
   ]
  },
  {
   "cell_type": "code",
   "execution_count": 11,
   "metadata": {
    "execution": {
     "iopub.execute_input": "2023-10-21T22:44:08.359350Z",
     "iopub.status.busy": "2023-10-21T22:44:08.358359Z",
     "iopub.status.idle": "2023-10-21T22:44:08.362162Z",
     "shell.execute_reply": "2023-10-21T22:44:08.363103Z"
    },
    "id": "oQDZXyr8CDPf"
   },
   "outputs": [
    {
     "data": {
      "text/plain": [
       "'\\nreshaped_dataset = dataset.map(lambda x: tf.reshape(x, (4, 4)))\\nfor i, element in enumerate(reshaped_dataset):\\n    print(element.shape)\\n    if i >= 2:\\n        break\\n'"
      ]
     },
     "execution_count": 1,
     "metadata": {},
     "output_type": "execute_result"
    }
   ],
   "source": [
    "\"\"\"\n",
    "reshaped_dataset = dataset.map(lambda x: tf.reshape(x, (4, 4)))\n",
    "for i, element in enumerate(reshaped_dataset):\n",
    "    print(element.shape)\n",
    "    if i >= 2:\n",
    "        break\n",
    "\"\"\""
   ]
  },
  {
   "cell_type": "markdown",
   "metadata": {
    "id": "RZP6KKa3CDPf"
   },
   "source": [
    "**Displaying the shapes of the data and labels yielded by the `Dataset`**"
   ]
  },
  {
   "cell_type": "code",
   "execution_count": 12,
   "metadata": {
    "execution": {
     "iopub.execute_input": "2023-10-21T22:44:08.369414Z",
     "iopub.status.busy": "2023-10-21T22:44:08.368392Z",
     "iopub.status.idle": "2023-10-21T22:44:08.372059Z",
     "shell.execute_reply": "2023-10-21T22:44:08.372741Z"
    },
    "id": "1oQxuCKTCDPf"
   },
   "outputs": [
    {
     "data": {
      "text/plain": [
       "'\\nfor data_batch, labels_batch in train_dataset:\\n    print(\"data batch shape:\", data_batch.shape)\\n    print(\"labels batch shape:\", labels_batch.shape)\\n    break\\n'"
      ]
     },
     "execution_count": 1,
     "metadata": {},
     "output_type": "execute_result"
    }
   ],
   "source": [
    "\"\"\"\n",
    "for data_batch, labels_batch in train_dataset:\n",
    "    print(\"data batch shape:\", data_batch.shape)\n",
    "    print(\"labels batch shape:\", labels_batch.shape)\n",
    "    break\n",
    "\"\"\""
   ]
  },
  {
   "cell_type": "markdown",
   "metadata": {
    "id": "nB5vOQlBCDPg"
   },
   "source": [
    "**Fitting the model using a `Dataset`**"
   ]
  },
  {
   "cell_type": "code",
   "execution_count": 13,
   "metadata": {
    "execution": {
     "iopub.execute_input": "2023-10-21T22:44:08.379037Z",
     "iopub.status.busy": "2023-10-21T22:44:08.377992Z",
     "iopub.status.idle": "2023-10-21T22:44:08.381395Z",
     "shell.execute_reply": "2023-10-21T22:44:08.382336Z"
    },
    "id": "948qTTk7CDPg"
   },
   "outputs": [
    {
     "data": {
      "text/plain": [
       "'\\ncallbacks = [\\n    keras.callbacks.ModelCheckpoint(\\n        filepath=\"convnet_from_scratch.keras\",\\n        save_best_only=True,\\n        monitor=\"val_loss\")\\n]\\nhistory = model.fit(\\n    train_dataset,\\n    epochs=30,\\n    validation_data=validation_dataset,\\n    callbacks=callbacks)\\n'"
      ]
     },
     "execution_count": 1,
     "metadata": {},
     "output_type": "execute_result"
    }
   ],
   "source": [
    "\"\"\"\n",
    "callbacks = [\n",
    "    keras.callbacks.ModelCheckpoint(\n",
    "        filepath=\"convnet_from_scratch.keras\",\n",
    "        save_best_only=True,\n",
    "        monitor=\"val_loss\")\n",
    "]\n",
    "history = model.fit(\n",
    "    train_dataset,\n",
    "    epochs=30,\n",
    "    validation_data=validation_dataset,\n",
    "    callbacks=callbacks)\n",
    "\"\"\""
   ]
  },
  {
   "cell_type": "markdown",
   "metadata": {
    "id": "gAT29S8pCDPg"
   },
   "source": [
    "**Displaying curves of loss and accuracy during training**"
   ]
  },
  {
   "cell_type": "code",
   "execution_count": 14,
   "metadata": {
    "execution": {
     "iopub.execute_input": "2023-10-21T22:44:08.388359Z",
     "iopub.status.busy": "2023-10-21T22:44:08.387351Z",
     "iopub.status.idle": "2023-10-21T22:44:08.390859Z",
     "shell.execute_reply": "2023-10-21T22:44:08.391613Z"
    },
    "id": "BV339wOHCDPg"
   },
   "outputs": [
    {
     "data": {
      "text/plain": [
       "'\\nimport matplotlib.pyplot as plt\\naccuracy = history.history[\"accuracy\"]\\nval_accuracy = history.history[\"val_accuracy\"]\\nloss = history.history[\"loss\"]\\nval_loss = history.history[\"val_loss\"]\\nepochs = range(1, len(accuracy) + 1)\\nplt.plot(epochs, accuracy, \"bo\", label=\"Training accuracy\")\\nplt.plot(epochs, val_accuracy, \"b\", label=\"Validation accuracy\")\\nplt.title(\"Training and validation accuracy\")\\nplt.legend()\\nplt.figure()\\nplt.plot(epochs, loss, \"bo\", label=\"Training loss\")\\nplt.plot(epochs, val_loss, \"b\", label=\"Validation loss\")\\nplt.title(\"Training and validation loss\")\\nplt.legend()\\nplt.show()\\n'"
      ]
     },
     "execution_count": 1,
     "metadata": {},
     "output_type": "execute_result"
    }
   ],
   "source": [
    "\"\"\"\n",
    "import matplotlib.pyplot as plt\n",
    "accuracy = history.history[\"accuracy\"]\n",
    "val_accuracy = history.history[\"val_accuracy\"]\n",
    "loss = history.history[\"loss\"]\n",
    "val_loss = history.history[\"val_loss\"]\n",
    "epochs = range(1, len(accuracy) + 1)\n",
    "plt.plot(epochs, accuracy, \"bo\", label=\"Training accuracy\")\n",
    "plt.plot(epochs, val_accuracy, \"b\", label=\"Validation accuracy\")\n",
    "plt.title(\"Training and validation accuracy\")\n",
    "plt.legend()\n",
    "plt.figure()\n",
    "plt.plot(epochs, loss, \"bo\", label=\"Training loss\")\n",
    "plt.plot(epochs, val_loss, \"b\", label=\"Validation loss\")\n",
    "plt.title(\"Training and validation loss\")\n",
    "plt.legend()\n",
    "plt.show()\n",
    "\"\"\""
   ]
  },
  {
   "cell_type": "markdown",
   "metadata": {
    "id": "x2biw2rcCDPh"
   },
   "source": [
    "**Evaluating the model on the test set**"
   ]
  },
  {
   "cell_type": "code",
   "execution_count": 15,
   "metadata": {
    "execution": {
     "iopub.execute_input": "2023-10-21T22:44:08.396852Z",
     "iopub.status.busy": "2023-10-21T22:44:08.395917Z",
     "iopub.status.idle": "2023-10-21T22:44:08.400326Z",
     "shell.execute_reply": "2023-10-21T22:44:08.399542Z"
    },
    "id": "Kw2HQvKqCDPh"
   },
   "outputs": [
    {
     "data": {
      "text/plain": [
       "'\\ntest_model = keras.models.load_model(\"convnet_from_scratch.keras\")\\ntest_loss, test_acc = test_model.evaluate(test_dataset)\\nprint(f\"Test accuracy: {test_acc:.3f}\")\\n'"
      ]
     },
     "execution_count": 1,
     "metadata": {},
     "output_type": "execute_result"
    }
   ],
   "source": [
    "\"\"\"\n",
    "test_model = keras.models.load_model(\"convnet_from_scratch.keras\")\n",
    "test_loss, test_acc = test_model.evaluate(test_dataset)\n",
    "print(f\"Test accuracy: {test_acc:.3f}\")\n",
    "\"\"\""
   ]
  },
  {
   "cell_type": "markdown",
   "metadata": {
    "id": "59JIBMkeCDPh"
   },
   "source": [
    "### Using data augmentation"
   ]
  },
  {
   "cell_type": "markdown",
   "metadata": {
    "id": "I4Mf-qDmCDPi"
   },
   "source": [
    "**Define a data augmentation stage to add to an image model**"
   ]
  },
  {
   "cell_type": "code",
   "execution_count": 16,
   "metadata": {
    "execution": {
     "iopub.execute_input": "2023-10-21T22:44:08.405564Z",
     "iopub.status.busy": "2023-10-21T22:44:08.404679Z",
     "iopub.status.idle": "2023-10-21T22:44:08.408088Z",
     "shell.execute_reply": "2023-10-21T22:44:08.408798Z"
    },
    "id": "SbEnboYqCDPi"
   },
   "outputs": [
    {
     "data": {
      "text/plain": [
       "'\\ndata_augmentation = keras.Sequential(\\n    [\\n        layers.RandomFlip(\"horizontal\"),\\n        layers.RandomRotation(0.1),\\n        layers.RandomZoom(0.2),\\n    ]\\n)\\n'"
      ]
     },
     "execution_count": 1,
     "metadata": {},
     "output_type": "execute_result"
    }
   ],
   "source": [
    "\"\"\"\n",
    "data_augmentation = keras.Sequential(\n",
    "    [\n",
    "        layers.RandomFlip(\"horizontal\"),\n",
    "        layers.RandomRotation(0.1),\n",
    "        layers.RandomZoom(0.2),\n",
    "    ]\n",
    ")\n",
    "\"\"\""
   ]
  },
  {
   "cell_type": "markdown",
   "metadata": {
    "id": "oCMayLeOCDPi"
   },
   "source": [
    "**Displaying some randomly augmented training images**"
   ]
  },
  {
   "cell_type": "code",
   "execution_count": 17,
   "metadata": {
    "execution": {
     "iopub.execute_input": "2023-10-21T22:44:08.413852Z",
     "iopub.status.busy": "2023-10-21T22:44:08.412986Z",
     "iopub.status.idle": "2023-10-21T22:44:08.416265Z",
     "shell.execute_reply": "2023-10-21T22:44:08.416910Z"
    },
    "id": "A8aj4vANCDPj"
   },
   "outputs": [
    {
     "data": {
      "text/plain": [
       "'\\nplt.figure(figsize=(10, 10))\\nfor images, _ in train_dataset.take(1):\\n    for i in range(9):\\n        augmented_images = data_augmentation(images)\\n        ax = plt.subplot(3, 3, i + 1)\\n        plt.imshow(augmented_images[0].numpy().astype(\"uint8\"))\\n        plt.axis(\"off\")\\n'"
      ]
     },
     "execution_count": 1,
     "metadata": {},
     "output_type": "execute_result"
    }
   ],
   "source": [
    "\"\"\"\n",
    "plt.figure(figsize=(10, 10))\n",
    "for images, _ in train_dataset.take(1):\n",
    "    for i in range(9):\n",
    "        augmented_images = data_augmentation(images)\n",
    "        ax = plt.subplot(3, 3, i + 1)\n",
    "        plt.imshow(augmented_images[0].numpy().astype(\"uint8\"))\n",
    "        plt.axis(\"off\")\n",
    "\"\"\""
   ]
  },
  {
   "cell_type": "markdown",
   "metadata": {
    "id": "nNziOokECDPj"
   },
   "source": [
    "**Defining a new convnet that includes image augmentation and dropout**"
   ]
  },
  {
   "cell_type": "code",
   "execution_count": 18,
   "metadata": {
    "execution": {
     "iopub.execute_input": "2023-10-21T22:44:08.422047Z",
     "iopub.status.busy": "2023-10-21T22:44:08.421217Z",
     "iopub.status.idle": "2023-10-21T22:44:08.424265Z",
     "shell.execute_reply": "2023-10-21T22:44:08.424825Z"
    },
    "id": "MyWACP8CCDPk"
   },
   "outputs": [
    {
     "data": {
      "text/plain": [
       "'\\ninputs = keras.Input(shape=(180, 180, 3))\\nx = data_augmentation(inputs)\\nx = layers.Rescaling(1./255)(x)\\nx = layers.Conv2D(filters=32, kernel_size=3, activation=\"relu\")(x)\\nx = layers.MaxPooling2D(pool_size=2)(x)\\nx = layers.Conv2D(filters=64, kernel_size=3, activation=\"relu\")(x)\\nx = layers.MaxPooling2D(pool_size=2)(x)\\nx = layers.Conv2D(filters=128, kernel_size=3, activation=\"relu\")(x)\\nx = layers.MaxPooling2D(pool_size=2)(x)\\nx = layers.Conv2D(filters=256, kernel_size=3, activation=\"relu\")(x)\\nx = layers.MaxPooling2D(pool_size=2)(x)\\nx = layers.Conv2D(filters=256, kernel_size=3, activation=\"relu\")(x)\\nx = layers.Flatten()(x)\\nx = layers.Dropout(0.5)(x)\\noutputs = layers.Dense(1, activation=\"sigmoid\")(x)\\nmodel = keras.Model(inputs=inputs, outputs=outputs)\\n\\nmodel.compile(loss=\"binary_crossentropy\",\\n              optimizer=\"rmsprop\",\\n              metrics=[\"accuracy\"])\\n'"
      ]
     },
     "execution_count": 1,
     "metadata": {},
     "output_type": "execute_result"
    }
   ],
   "source": [
    "\"\"\"\n",
    "inputs = keras.Input(shape=(180, 180, 3))\n",
    "x = data_augmentation(inputs)\n",
    "x = layers.Rescaling(1./255)(x)\n",
    "x = layers.Conv2D(filters=32, kernel_size=3, activation=\"relu\")(x)\n",
    "x = layers.MaxPooling2D(pool_size=2)(x)\n",
    "x = layers.Conv2D(filters=64, kernel_size=3, activation=\"relu\")(x)\n",
    "x = layers.MaxPooling2D(pool_size=2)(x)\n",
    "x = layers.Conv2D(filters=128, kernel_size=3, activation=\"relu\")(x)\n",
    "x = layers.MaxPooling2D(pool_size=2)(x)\n",
    "x = layers.Conv2D(filters=256, kernel_size=3, activation=\"relu\")(x)\n",
    "x = layers.MaxPooling2D(pool_size=2)(x)\n",
    "x = layers.Conv2D(filters=256, kernel_size=3, activation=\"relu\")(x)\n",
    "x = layers.Flatten()(x)\n",
    "x = layers.Dropout(0.5)(x)\n",
    "outputs = layers.Dense(1, activation=\"sigmoid\")(x)\n",
    "model = keras.Model(inputs=inputs, outputs=outputs)\n",
    "\n",
    "model.compile(loss=\"binary_crossentropy\",\n",
    "              optimizer=\"rmsprop\",\n",
    "              metrics=[\"accuracy\"])\n",
    "\"\"\""
   ]
  },
  {
   "cell_type": "markdown",
   "metadata": {
    "id": "TT51jSbLCDPk"
   },
   "source": [
    "**Training the regularized convnet**"
   ]
  },
  {
   "cell_type": "code",
   "execution_count": 19,
   "metadata": {
    "execution": {
     "iopub.execute_input": "2023-10-21T22:44:08.429521Z",
     "iopub.status.busy": "2023-10-21T22:44:08.428821Z",
     "iopub.status.idle": "2023-10-21T22:44:08.432293Z",
     "shell.execute_reply": "2023-10-21T22:44:08.432909Z"
    },
    "id": "fZL5nFXuCDPk"
   },
   "outputs": [
    {
     "data": {
      "text/plain": [
       "'\\ncallbacks = [\\n    keras.callbacks.ModelCheckpoint(\\n        filepath=\"convnet_from_scratch_with_augmentation.keras\",\\n        save_best_only=True,\\n        monitor=\"val_loss\")\\n]\\nhistory = model.fit(\\n    train_dataset,\\n    epochs=100,\\n    validation_data=validation_dataset,\\n    callbacks=callbacks)\\n'"
      ]
     },
     "execution_count": 1,
     "metadata": {},
     "output_type": "execute_result"
    }
   ],
   "source": [
    "\"\"\"\n",
    "callbacks = [\n",
    "    keras.callbacks.ModelCheckpoint(\n",
    "        filepath=\"convnet_from_scratch_with_augmentation.keras\",\n",
    "        save_best_only=True,\n",
    "        monitor=\"val_loss\")\n",
    "]\n",
    "history = model.fit(\n",
    "    train_dataset,\n",
    "    epochs=100,\n",
    "    validation_data=validation_dataset,\n",
    "    callbacks=callbacks)\n",
    "\"\"\""
   ]
  },
  {
   "cell_type": "markdown",
   "metadata": {
    "id": "07jIY-3yCDPl"
   },
   "source": [
    "**Evaluating the model on the test set**"
   ]
  },
  {
   "cell_type": "code",
   "execution_count": 20,
   "metadata": {
    "execution": {
     "iopub.execute_input": "2023-10-21T22:44:08.437337Z",
     "iopub.status.busy": "2023-10-21T22:44:08.436598Z",
     "iopub.status.idle": "2023-10-21T22:44:08.439656Z",
     "shell.execute_reply": "2023-10-21T22:44:08.440216Z"
    },
    "id": "4_WMA5i4CDPl"
   },
   "outputs": [
    {
     "data": {
      "text/plain": [
       "'\\ntest_model = keras.models.load_model(\\n    \"convnet_from_scratch_with_augmentation.keras\")\\ntest_loss, test_acc = test_model.evaluate(test_dataset)\\nprint(f\"Test accuracy: {test_acc:.3f}\")\\n'"
      ]
     },
     "execution_count": 1,
     "metadata": {},
     "output_type": "execute_result"
    }
   ],
   "source": [
    "\"\"\"\n",
    "test_model = keras.models.load_model(\n",
    "    \"convnet_from_scratch_with_augmentation.keras\")\n",
    "test_loss, test_acc = test_model.evaluate(test_dataset)\n",
    "print(f\"Test accuracy: {test_acc:.3f}\")\n",
    "\"\"\""
   ]
  },
  {
   "cell_type": "markdown",
   "metadata": {
    "id": "8bFyFXezCDPl"
   },
   "source": [
    "## Leveraging a pretrained model"
   ]
  },
  {
   "cell_type": "markdown",
   "metadata": {
    "id": "aDxQM0teCDPm"
   },
   "source": [
    "### Feature extraction with a pretrained model"
   ]
  },
  {
   "cell_type": "markdown",
   "metadata": {
    "id": "iZTotrdxCDPn"
   },
   "source": [
    "**Instantiating the VGG16 convolutional base**"
   ]
  },
  {
   "cell_type": "code",
   "execution_count": 21,
   "metadata": {
    "execution": {
     "iopub.execute_input": "2023-10-21T22:44:08.448195Z",
     "iopub.status.busy": "2023-10-21T22:44:08.447478Z",
     "iopub.status.idle": "2023-10-21T22:44:09.139134Z",
     "shell.execute_reply": "2023-10-21T22:44:09.139899Z"
    },
    "id": "GBR2XOJNCDPn"
   },
   "outputs": [],
   "source": [
    "from tensorflow import keras # import keras\n",
    "from tensorflow.keras import layers \n",
    "conv_base = keras.applications.vgg16.VGG16(\n",
    "    weights=\"imagenet\",\n",
    "    include_top=False,\n",
    "    input_shape=(180, 180, 3))"
   ]
  },
  {
   "cell_type": "code",
   "execution_count": 22,
   "metadata": {
    "execution": {
     "iopub.execute_input": "2023-10-21T22:44:09.151055Z",
     "iopub.status.busy": "2023-10-21T22:44:09.147516Z",
     "iopub.status.idle": "2023-10-21T22:44:09.168399Z",
     "shell.execute_reply": "2023-10-21T22:44:09.167195Z"
    },
    "id": "Q3NijRLeCDPn"
   },
   "outputs": [
    {
     "name": "stdout",
     "output_type": "stream",
     "text": [
      "Model: \"vgg16\"\n",
      "_________________________________________________________________\n",
      "Layer (type)                 Output Shape              Param #   \n",
      "=================================================================\n",
      "input_1 (InputLayer)         [(None, 180, 180, 3)]     0         \n",
      "_________________________________________________________________\n",
      "block1_conv1 (Conv2D)        (None, 180, 180, 64)      1792      \n",
      "_________________________________________________________________\n",
      "block1_conv2 (Conv2D)        (None, 180, 180, 64)      36928     \n",
      "_________________________________________________________________\n",
      "block1_pool (MaxPooling2D)   (None, 90, 90, 64)        0         \n",
      "_________________________________________________________________\n",
      "block2_conv1 (Conv2D)        (None, 90, 90, 128)       73856     \n",
      "_________________________________________________________________\n",
      "block2_conv2 (Conv2D)        (None, 90, 90, 128)       147584    \n",
      "_________________________________________________________________\n",
      "block2_pool (MaxPooling2D)   (None, 45, 45, 128)       0         \n",
      "_________________________________________________________________\n",
      "block3_conv1 (Conv2D)        (None, 45, 45, 256)       295168    \n",
      "_________________________________________________________________\n",
      "block3_conv2 (Conv2D)        (None, 45, 45, 256)       590080    \n",
      "_________________________________________________________________\n",
      "block3_conv3 (Conv2D)        (None, 45, 45, 256)       590080    \n",
      "_________________________________________________________________\n",
      "block3_pool (MaxPooling2D)   (None, 22, 22, 256)       0         \n",
      "_________________________________________________________________\n",
      "block4_conv1 (Conv2D)        (None, 22, 22, 512)       1180160   \n",
      "_________________________________________________________________\n",
      "block4_conv2 (Conv2D)        (None, 22, 22, 512)       2359808   \n",
      "_________________________________________________________________\n",
      "block4_conv3 (Conv2D)        (None, 22, 22, 512)       2359808   \n",
      "_________________________________________________________________\n",
      "block4_pool (MaxPooling2D)   (None, 11, 11, 512)       0         \n",
      "_________________________________________________________________\n",
      "block5_conv1 (Conv2D)        (None, 11, 11, 512)       2359808   \n",
      "_________________________________________________________________\n",
      "block5_conv2 (Conv2D)        (None, 11, 11, 512)       2359808   \n",
      "_________________________________________________________________\n",
      "block5_conv3 (Conv2D)        (None, 11, 11, 512)       2359808   \n",
      "_________________________________________________________________\n",
      "block5_pool (MaxPooling2D)   (None, 5, 5, 512)         0         \n",
      "=================================================================\n",
      "Total params: 14,714,688\n",
      "Trainable params: 14,714,688\n",
      "Non-trainable params: 0\n",
      "_________________________________________________________________\n"
     ]
    }
   ],
   "source": [
    "conv_base.summary()"
   ]
  },
  {
   "cell_type": "markdown",
   "metadata": {
    "id": "opOCS5pJCDPn",
    "tags": []
   },
   "source": [
    "#### Fast feature extraction without data augmentation"
   ]
  },
  {
   "cell_type": "markdown",
   "metadata": {
    "id": "FMW9QZSrCDPo"
   },
   "source": [
    "**Extracting the VGG16 features and corresponding labels**"
   ]
  },
  {
   "cell_type": "code",
   "execution_count": 23,
   "metadata": {
    "execution": {
     "iopub.execute_input": "2023-10-21T22:44:09.178322Z",
     "iopub.status.busy": "2023-10-21T22:44:09.177486Z",
     "iopub.status.idle": "2023-10-21T22:44:51.767032Z",
     "shell.execute_reply": "2023-10-21T22:44:51.768215Z"
    },
    "id": "6TwjB6rKCDPo"
   },
   "outputs": [],
   "source": [
    "import numpy as np\n",
    "\n",
    "def get_features_and_labels(dataset):\n",
    "    all_features = []\n",
    "    all_labels = []\n",
    "    for images, labels in dataset:\n",
    "        preprocessed_images = keras.applications.vgg16.preprocess_input(images)\n",
    "        features = conv_base.predict(preprocessed_images)\n",
    "        all_features.append(features)\n",
    "        all_labels.append(labels)\n",
    "    return np.concatenate(all_features), np.concatenate(all_labels)\n",
    "\n",
    "train_features, train_labels =  get_features_and_labels(train_dataset)\n",
    "val_features, val_labels =  get_features_and_labels(validation_dataset)\n",
    "test_features, test_labels =  get_features_and_labels(test_dataset)"
   ]
  },
  {
   "cell_type": "code",
   "execution_count": 24,
   "metadata": {
    "execution": {
     "iopub.execute_input": "2023-10-21T22:44:51.776977Z",
     "iopub.status.busy": "2023-10-21T22:44:51.775699Z",
     "iopub.status.idle": "2023-10-21T22:44:51.781828Z",
     "shell.execute_reply": "2023-10-21T22:44:51.780720Z"
    },
    "id": "ZshtzB-ZCDPo"
   },
   "outputs": [
    {
     "data": {
      "text/plain": [
       "(9998, 5, 5, 512)"
      ]
     },
     "execution_count": 1,
     "metadata": {},
     "output_type": "execute_result"
    }
   ],
   "source": [
    "train_features.shape"
   ]
  },
  {
   "cell_type": "markdown",
   "metadata": {
    "id": "IqTBM2rBCDPo"
   },
   "source": [
    "**Defining and training the densely connected classifier**"
   ]
  },
  {
   "cell_type": "code",
   "execution_count": 25,
   "metadata": {
    "execution": {
     "iopub.execute_input": "2023-10-21T22:44:51.797166Z",
     "iopub.status.busy": "2023-10-21T22:44:51.795947Z",
     "iopub.status.idle": "2023-10-21T22:45:05.604088Z",
     "shell.execute_reply": "2023-10-21T22:45:05.604575Z"
    },
    "id": "aMU01CJvCDPo"
   },
   "outputs": [
    {
     "name": "stdout",
     "output_type": "stream",
     "text": [
      "Epoch 1/20\n",
      "313/313 [==============================] - 1s 3ms/step - loss: 7.6790 - accuracy: 0.9564 - val_loss: 5.2808 - val_accuracy: 0.9719\n",
      "Epoch 2/20\n",
      "313/313 [==============================] - 1s 2ms/step - loss: 3.6543 - accuracy: 0.9779 - val_loss: 5.5756 - val_accuracy: 0.9699\n",
      "Epoch 3/20\n",
      "313/313 [==============================] - 1s 2ms/step - loss: 1.9265 - accuracy: 0.9849 - val_loss: 5.5961 - val_accuracy: 0.9749\n",
      "Epoch 4/20\n",
      "313/313 [==============================] - 1s 2ms/step - loss: 1.5110 - accuracy: 0.9883 - val_loss: 4.9416 - val_accuracy: 0.9749\n",
      "Epoch 5/20\n",
      "313/313 [==============================] - 1s 2ms/step - loss: 0.9044 - accuracy: 0.9915 - val_loss: 5.3424 - val_accuracy: 0.9729\n",
      "Epoch 6/20\n",
      "313/313 [==============================] - 1s 2ms/step - loss: 0.7547 - accuracy: 0.9947 - val_loss: 4.7005 - val_accuracy: 0.9699\n",
      "Epoch 7/20\n",
      "313/313 [==============================] - 1s 2ms/step - loss: 0.4912 - accuracy: 0.9940 - val_loss: 5.3495 - val_accuracy: 0.9719\n",
      "Epoch 8/20\n",
      "313/313 [==============================] - 1s 2ms/step - loss: 0.3394 - accuracy: 0.9956 - val_loss: 5.9827 - val_accuracy: 0.9749\n",
      "Epoch 9/20\n",
      "313/313 [==============================] - 1s 2ms/step - loss: 0.3428 - accuracy: 0.9956 - val_loss: 6.8560 - val_accuracy: 0.9719\n",
      "Epoch 10/20\n",
      "313/313 [==============================] - 1s 2ms/step - loss: 0.2664 - accuracy: 0.9964 - val_loss: 7.2837 - val_accuracy: 0.9689\n",
      "Epoch 11/20\n",
      "313/313 [==============================] - 1s 2ms/step - loss: 0.3664 - accuracy: 0.9964 - val_loss: 5.8309 - val_accuracy: 0.9780\n",
      "Epoch 12/20\n",
      "313/313 [==============================] - 1s 2ms/step - loss: 0.2396 - accuracy: 0.9973 - val_loss: 5.6674 - val_accuracy: 0.9780\n",
      "Epoch 13/20\n",
      "313/313 [==============================] - 1s 2ms/step - loss: 0.2081 - accuracy: 0.9976 - val_loss: 5.8744 - val_accuracy: 0.9739\n",
      "Epoch 14/20\n",
      "313/313 [==============================] - 1s 2ms/step - loss: 0.2907 - accuracy: 0.9966 - val_loss: 5.7072 - val_accuracy: 0.9729\n",
      "Epoch 15/20\n",
      "313/313 [==============================] - 1s 2ms/step - loss: 0.1788 - accuracy: 0.9980 - val_loss: 9.6363 - val_accuracy: 0.9569\n",
      "Epoch 16/20\n",
      "313/313 [==============================] - 1s 2ms/step - loss: 0.1805 - accuracy: 0.9971 - val_loss: 7.4781 - val_accuracy: 0.9699\n",
      "Epoch 17/20\n",
      "313/313 [==============================] - 1s 2ms/step - loss: 0.1058 - accuracy: 0.9982 - val_loss: 6.7146 - val_accuracy: 0.9729\n",
      "Epoch 18/20\n",
      "313/313 [==============================] - 1s 2ms/step - loss: 0.0558 - accuracy: 0.9994 - val_loss: 6.8548 - val_accuracy: 0.9699\n",
      "Epoch 19/20\n",
      "313/313 [==============================] - 1s 2ms/step - loss: 0.0696 - accuracy: 0.9990 - val_loss: 7.1342 - val_accuracy: 0.9719\n",
      "Epoch 20/20\n",
      "313/313 [==============================] - 1s 2ms/step - loss: 0.0474 - accuracy: 0.9989 - val_loss: 7.2712 - val_accuracy: 0.9709\n"
     ]
    }
   ],
   "source": [
    "inputs = keras.Input(shape=(5, 5, 512))\n",
    "x = layers.Flatten()(inputs)\n",
    "x = layers.Dense(256)(x)\n",
    "x = layers.Dropout(0.5)(x)\n",
    "outputs = layers.Dense(1, activation=\"sigmoid\")(x)\n",
    "model = keras.Model(inputs, outputs)\n",
    "model.compile(loss=\"binary_crossentropy\",\n",
    "              optimizer=\"rmsprop\",\n",
    "              metrics=[\"accuracy\"])\n",
    "\n",
    "callbacks = [\n",
    "    keras.callbacks.ModelCheckpoint(\n",
    "      filepath=\"feature_extraction.keras\",\n",
    "      save_best_only=True,\n",
    "      monitor=\"val_loss\")\n",
    "]\n",
    "history = model.fit(\n",
    "    train_features, train_labels,\n",
    "    epochs=20,\n",
    "    validation_data=(val_features, val_labels),\n",
    "    callbacks=callbacks)"
   ]
  },
  {
   "cell_type": "markdown",
   "metadata": {
    "id": "Rni2lbdnCDPp"
   },
   "source": [
    "**Plotting the results**"
   ]
  },
  {
   "cell_type": "code",
   "execution_count": 26,
   "metadata": {
    "execution": {
     "iopub.execute_input": "2023-10-21T22:45:05.613138Z",
     "iopub.status.busy": "2023-10-21T22:45:05.612580Z",
     "iopub.status.idle": "2023-10-21T22:45:08.309122Z",
     "shell.execute_reply": "2023-10-21T22:45:08.310251Z"
    },
    "id": "liYT21N8CDPp"
   },
   "outputs": [
    {
     "data": {
      "image/png": "[encoded data removed]",
      "text/plain": [
       "<Figure size 432x288 with 1 Axes>"
      ]
     },
     "metadata": {
      "needs_background": "light"
     },
     "output_type": "display_data"
    },
    {
     "data": {
      "image/png": "[encoded data removed]",
      "text/plain": [
       "<Figure size 432x288 with 1 Axes>"
      ]
     },
     "metadata": {
      "needs_background": "light"
     },
     "output_type": "display_data"
    }
   ],
   "source": [
    "import matplotlib.pyplot as plt\n",
    "acc = history.history[\"accuracy\"]\n",
    "val_acc = history.history[\"val_accuracy\"]\n",
    "loss = history.history[\"loss\"]\n",
    "val_loss = history.history[\"val_loss\"]\n",
    "epochs = range(1, len(acc) + 1)\n",
    "plt.plot(epochs, acc, \"bo\", label=\"Training accuracy\")\n",
    "plt.plot(epochs, val_acc, \"b\", label=\"Validation accuracy\")\n",
    "plt.title(\"Training and validation accuracy\")\n",
    "plt.legend()\n",
    "plt.figure()\n",
    "plt.plot(epochs, loss, \"bo\", label=\"Training loss\")\n",
    "plt.plot(epochs, val_loss, \"b\", label=\"Validation loss\")\n",
    "plt.title(\"Training and validation loss\")\n",
    "plt.legend()\n",
    "plt.show()"
   ]
  },
  {
   "cell_type": "markdown",
   "metadata": {
    "id": "esS3CubxCDPp"
   },
   "source": [
    "#### Feature extraction together with data augmentation"
   ]
  },
  {
   "cell_type": "markdown",
   "metadata": {
    "id": "yM8OUkXuCDPp"
   },
   "source": [
    "**Instantiating and freezing the VGG16 convolutional base**"
   ]
  },
  {
   "cell_type": "code",
   "execution_count": 27,
   "metadata": {
    "execution": {
     "iopub.execute_input": "2023-10-21T22:45:08.319053Z",
     "iopub.status.busy": "2023-10-21T22:45:08.317746Z",
     "iopub.status.idle": "2023-10-21T22:45:08.590048Z",
     "shell.execute_reply": "2023-10-21T22:45:08.589088Z"
    },
    "id": "Ir6Ke9NGCDPp"
   },
   "outputs": [],
   "source": [
    "conv_base  = keras.applications.vgg16.VGG16(\n",
    "    weights=\"imagenet\",\n",
    "    include_top=False)\n",
    "conv_base.trainable = False"
   ]
  },
  {
   "cell_type": "markdown",
   "metadata": {
    "id": "PZ9xp-jBCDPp"
   },
   "source": [
    "**Printing the list of trainable weights before and after freezing**"
   ]
  },
  {
   "cell_type": "code",
   "execution_count": 28,
   "metadata": {
    "execution": {
     "iopub.execute_input": "2023-10-21T22:45:08.597180Z",
     "iopub.status.busy": "2023-10-21T22:45:08.596190Z",
     "iopub.status.idle": "2023-10-21T22:45:08.600900Z",
     "shell.execute_reply": "2023-10-21T22:45:08.600071Z"
    },
    "id": "VIm7-3xICDPq"
   },
   "outputs": [
    {
     "name": "stdout",
     "output_type": "stream",
     "text": [
      "This is the number of trainable weights before freezing the conv base: 26\n"
     ]
    }
   ],
   "source": [
    "conv_base.trainable = True\n",
    "print(\"This is the number of trainable weights \"\n",
    "      \"before freezing the conv base:\", len(conv_base.trainable_weights))"
   ]
  },
  {
   "cell_type": "code",
   "execution_count": 29,
   "metadata": {
    "execution": {
     "iopub.execute_input": "2023-10-21T22:45:08.607081Z",
     "iopub.status.busy": "2023-10-21T22:45:08.606114Z",
     "iopub.status.idle": "2023-10-21T22:45:08.610186Z",
     "shell.execute_reply": "2023-10-21T22:45:08.609397Z"
    },
    "id": "zWQJW7DUCDPq"
   },
   "outputs": [
    {
     "name": "stdout",
     "output_type": "stream",
     "text": [
      "This is the number of trainable weights after freezing the conv base: 0\n"
     ]
    }
   ],
   "source": [
    "conv_base.trainable = False\n",
    "print(\"This is the number of trainable weights \"\n",
    "      \"after freezing the conv base:\", len(conv_base.trainable_weights))"
   ]
  },
  {
   "cell_type": "markdown",
   "metadata": {
    "id": "7jO3DwerCDPq"
   },
   "source": [
    "**Adding a data augmentation stage and a classifier to the convolutional base**"
   ]
  },
  {
   "cell_type": "code",
   "execution_count": 30,
   "metadata": {
    "execution": {
     "iopub.execute_input": "2023-10-21T22:45:08.619000Z",
     "iopub.status.busy": "2023-10-21T22:45:08.614078Z",
     "iopub.status.idle": "2023-10-21T22:45:08.932237Z",
     "shell.execute_reply": "2023-10-21T22:45:08.930857Z"
    },
    "id": "roDIyEA3CDPq"
   },
   "outputs": [],
   "source": [
    "data_augmentation = keras.Sequential(\n",
    "    [\n",
    "        layers.RandomFlip(\"horizontal\"),\n",
    "        layers.RandomRotation(0.1),\n",
    "        layers.RandomZoom(0.2),\n",
    "    ]\n",
    ")\n",
    "\n",
    "inputs = keras.Input(shape=(180, 180, 3))\n",
    "x = data_augmentation(inputs)\n",
    "x = keras.applications.vgg16.preprocess_input(x)\n",
    "x = conv_base(x)\n",
    "x = layers.Flatten()(x)\n",
    "x = layers.Dense(256)(x)\n",
    "x = layers.Dropout(0.5)(x)\n",
    "outputs = layers.Dense(1, activation=\"sigmoid\")(x)\n",
    "model = keras.Model(inputs, outputs)\n",
    "model.compile(loss=\"binary_crossentropy\",\n",
    "              optimizer=\"rmsprop\",\n",
    "              metrics=[\"accuracy\"])"
   ]
  },
  {
   "cell_type": "code",
   "execution_count": 31,
   "metadata": {
    "execution": {
     "iopub.execute_input": "2023-10-21T22:45:08.938617Z",
     "iopub.status.busy": "2023-10-21T22:45:08.937321Z",
     "iopub.status.idle": "2023-10-21T22:54:24.233961Z",
     "shell.execute_reply": "2023-10-21T22:54:24.232512Z"
    },
    "id": "EQtMjU26CDPq"
   },
   "outputs": [
    {
     "name": "stdout",
     "output_type": "stream",
     "text": [
      "Epoch 1/50\n",
      "313/313 [==============================] - 12s 35ms/step - loss: 9.6923 - accuracy: 0.9346 - val_loss: 5.2397 - val_accuracy: 0.9679\n",
      "Epoch 2/50\n",
      "313/313 [==============================] - 11s 34ms/step - loss: 4.9260 - accuracy: 0.9525 - val_loss: 2.3895 - val_accuracy: 0.9749\n",
      "Epoch 3/50\n",
      "313/313 [==============================] - 11s 34ms/step - loss: 2.4564 - accuracy: 0.9564 - val_loss: 1.5804 - val_accuracy: 0.9729\n",
      "Epoch 4/50\n",
      "313/313 [==============================] - 11s 35ms/step - loss: 1.1197 - accuracy: 0.9556 - val_loss: 0.9224 - val_accuracy: 0.9689\n",
      "Epoch 5/50\n",
      "313/313 [==============================] - 11s 35ms/step - loss: 0.6696 - accuracy: 0.9590 - val_loss: 0.8900 - val_accuracy: 0.9639\n",
      "Epoch 6/50\n",
      "313/313 [==============================] - 11s 35ms/step - loss: 0.6269 - accuracy: 0.9626 - val_loss: 0.7655 - val_accuracy: 0.9699\n",
      "Epoch 7/50\n",
      "313/313 [==============================] - 11s 35ms/step - loss: 0.6374 - accuracy: 0.9633 - val_loss: 0.7202 - val_accuracy: 0.9719\n",
      "Epoch 8/50\n",
      "313/313 [==============================] - 11s 35ms/step - loss: 0.6553 - accuracy: 0.9650 - val_loss: 1.2151 - val_accuracy: 0.9629\n",
      "Epoch 9/50\n",
      "313/313 [==============================] - 11s 35ms/step - loss: 0.6400 - accuracy: 0.9677 - val_loss: 1.3147 - val_accuracy: 0.9689\n",
      "Epoch 10/50\n",
      "313/313 [==============================] - 11s 35ms/step - loss: 0.7644 - accuracy: 0.9653 - val_loss: 1.2588 - val_accuracy: 0.9709\n",
      "Epoch 11/50\n",
      "313/313 [==============================] - 11s 35ms/step - loss: 0.7015 - accuracy: 0.9664 - val_loss: 1.0466 - val_accuracy: 0.9739\n",
      "Epoch 12/50\n",
      "313/313 [==============================] - 11s 35ms/step - loss: 0.7859 - accuracy: 0.9679 - val_loss: 0.8831 - val_accuracy: 0.9770\n",
      "Epoch 13/50\n",
      "313/313 [==============================] - 11s 35ms/step - loss: 0.7914 - accuracy: 0.9659 - val_loss: 1.3361 - val_accuracy: 0.9689\n",
      "Epoch 14/50\n",
      "313/313 [==============================] - 11s 35ms/step - loss: 0.7501 - accuracy: 0.9682 - val_loss: 1.0085 - val_accuracy: 0.9699\n",
      "Epoch 15/50\n",
      "313/313 [==============================] - 11s 35ms/step - loss: 0.7335 - accuracy: 0.9687 - val_loss: 1.1531 - val_accuracy: 0.9729\n",
      "Epoch 16/50\n",
      "313/313 [==============================] - 11s 35ms/step - loss: 0.7070 - accuracy: 0.9715 - val_loss: 1.2293 - val_accuracy: 0.9689\n",
      "Epoch 17/50\n",
      "313/313 [==============================] - 11s 35ms/step - loss: 0.8132 - accuracy: 0.9698 - val_loss: 1.2263 - val_accuracy: 0.9719\n",
      "Epoch 18/50\n",
      "313/313 [==============================] - 11s 35ms/step - loss: 0.8423 - accuracy: 0.9700 - val_loss: 2.0989 - val_accuracy: 0.9589\n",
      "Epoch 19/50\n",
      "313/313 [==============================] - 11s 35ms/step - loss: 0.7331 - accuracy: 0.9714 - val_loss: 2.0393 - val_accuracy: 0.9609\n",
      "Epoch 20/50\n",
      "313/313 [==============================] - 11s 35ms/step - loss: 0.7890 - accuracy: 0.9707 - val_loss: 1.2456 - val_accuracy: 0.9760\n",
      "Epoch 21/50\n",
      "313/313 [==============================] - 11s 35ms/step - loss: 0.7665 - accuracy: 0.9715 - val_loss: 1.3908 - val_accuracy: 0.9719\n",
      "Epoch 22/50\n",
      "313/313 [==============================] - 11s 35ms/step - loss: 0.7519 - accuracy: 0.9734 - val_loss: 1.5127 - val_accuracy: 0.9719\n",
      "Epoch 23/50\n",
      "313/313 [==============================] - 11s 35ms/step - loss: 0.7151 - accuracy: 0.9741 - val_loss: 1.7963 - val_accuracy: 0.9639\n",
      "Epoch 24/50\n",
      "313/313 [==============================] - 11s 35ms/step - loss: 0.8171 - accuracy: 0.9725 - val_loss: 1.5686 - val_accuracy: 0.9739\n",
      "Epoch 25/50\n",
      "313/313 [==============================] - 11s 35ms/step - loss: 0.8799 - accuracy: 0.9714 - val_loss: 1.5058 - val_accuracy: 0.9719\n",
      "Epoch 26/50\n",
      "313/313 [==============================] - 11s 35ms/step - loss: 0.8031 - accuracy: 0.9740 - val_loss: 1.7395 - val_accuracy: 0.9679\n",
      "Epoch 27/50\n",
      "313/313 [==============================] - 11s 35ms/step - loss: 0.8709 - accuracy: 0.9710 - val_loss: 1.6984 - val_accuracy: 0.9689\n",
      "Epoch 28/50\n",
      "313/313 [==============================] - 11s 35ms/step - loss: 0.7026 - accuracy: 0.9765 - val_loss: 2.1059 - val_accuracy: 0.9739\n",
      "Epoch 29/50\n",
      "313/313 [==============================] - 11s 35ms/step - loss: 0.9013 - accuracy: 0.9723 - val_loss: 3.1759 - val_accuracy: 0.9549\n",
      "Epoch 30/50\n",
      "313/313 [==============================] - 11s 35ms/step - loss: 0.8879 - accuracy: 0.9715 - val_loss: 2.2850 - val_accuracy: 0.9669\n",
      "Epoch 31/50\n",
      "313/313 [==============================] - 11s 35ms/step - loss: 0.7657 - accuracy: 0.9762 - val_loss: 2.2964 - val_accuracy: 0.9619\n",
      "Epoch 32/50\n",
      "313/313 [==============================] - 11s 35ms/step - loss: 0.8014 - accuracy: 0.9751 - val_loss: 1.7148 - val_accuracy: 0.9699\n",
      "Epoch 33/50\n",
      "313/313 [==============================] - 11s 35ms/step - loss: 0.8062 - accuracy: 0.9731 - val_loss: 1.8675 - val_accuracy: 0.9739\n",
      "Epoch 34/50\n",
      "313/313 [==============================] - 11s 35ms/step - loss: 0.8036 - accuracy: 0.9761 - val_loss: 2.8071 - val_accuracy: 0.9609\n",
      "Epoch 35/50\n",
      "313/313 [==============================] - 11s 35ms/step - loss: 0.8583 - accuracy: 0.9745 - val_loss: 1.7494 - val_accuracy: 0.9709\n",
      "Epoch 36/50\n",
      "313/313 [==============================] - 11s 35ms/step - loss: 0.8375 - accuracy: 0.9755 - val_loss: 2.0629 - val_accuracy: 0.9729\n",
      "Epoch 37/50\n",
      "313/313 [==============================] - 11s 35ms/step - loss: 0.7910 - accuracy: 0.9764 - val_loss: 2.2334 - val_accuracy: 0.9679\n",
      "Epoch 38/50\n",
      "313/313 [==============================] - 11s 35ms/step - loss: 0.8255 - accuracy: 0.9767 - val_loss: 1.9966 - val_accuracy: 0.9689\n",
      "Epoch 39/50\n",
      "313/313 [==============================] - 11s 35ms/step - loss: 0.8527 - accuracy: 0.9763 - val_loss: 2.7698 - val_accuracy: 0.9609\n",
      "Epoch 40/50\n",
      "313/313 [==============================] - 11s 35ms/step - loss: 0.7939 - accuracy: 0.9778 - val_loss: 2.7091 - val_accuracy: 0.9679\n",
      "Epoch 41/50\n",
      "313/313 [==============================] - 11s 35ms/step - loss: 0.8483 - accuracy: 0.9771 - val_loss: 2.7788 - val_accuracy: 0.9679\n",
      "Epoch 42/50\n",
      "313/313 [==============================] - 11s 35ms/step - loss: 0.9186 - accuracy: 0.9747 - val_loss: 1.8424 - val_accuracy: 0.9719\n",
      "Epoch 43/50\n",
      "313/313 [==============================] - 11s 35ms/step - loss: 0.8484 - accuracy: 0.9773 - val_loss: 3.0520 - val_accuracy: 0.9589\n",
      "Epoch 44/50\n",
      "313/313 [==============================] - 11s 35ms/step - loss: 0.8122 - accuracy: 0.9754 - val_loss: 1.7815 - val_accuracy: 0.9709\n",
      "Epoch 45/50\n",
      "313/313 [==============================] - 11s 35ms/step - loss: 0.8498 - accuracy: 0.9762 - val_loss: 1.9218 - val_accuracy: 0.9699\n",
      "Epoch 46/50\n",
      "313/313 [==============================] - 11s 35ms/step - loss: 0.8169 - accuracy: 0.9775 - val_loss: 2.2869 - val_accuracy: 0.9689\n",
      "Epoch 47/50\n",
      "313/313 [==============================] - 11s 35ms/step - loss: 0.9346 - accuracy: 0.9753 - val_loss: 2.1793 - val_accuracy: 0.9699\n",
      "Epoch 48/50\n",
      "313/313 [==============================] - 11s 35ms/step - loss: 0.8180 - accuracy: 0.9790 - val_loss: 4.1362 - val_accuracy: 0.9539\n",
      "Epoch 49/50\n",
      "313/313 [==============================] - 11s 35ms/step - loss: 0.8713 - accuracy: 0.9769 - val_loss: 2.7774 - val_accuracy: 0.9619\n",
      "Epoch 50/50\n",
      "313/313 [==============================] - 11s 35ms/step - loss: 0.9165 - accuracy: 0.9767 - val_loss: 2.1626 - val_accuracy: 0.9739\n"
     ]
    }
   ],
   "source": [
    "callbacks = [\n",
    "    keras.callbacks.ModelCheckpoint(\n",
    "        filepath=\"feature_extraction_with_data_augmentation.keras\",\n",
    "        save_best_only=True,\n",
    "        monitor=\"val_loss\")\n",
    "]\n",
    "history = model.fit(\n",
    "    train_dataset,\n",
    "    epochs=50,\n",
    "    validation_data=validation_dataset,\n",
    "    callbacks=callbacks)"
   ]
  },
  {
   "cell_type": "markdown",
   "metadata": {
    "id": "Mc7jIguOCDPq"
   },
   "source": [
    "**Evaluating the model on the test set**"
   ]
  },
  {
   "cell_type": "code",
   "execution_count": 32,
   "metadata": {
    "execution": {
     "iopub.execute_input": "2023-10-21T22:54:24.239541Z",
     "iopub.status.busy": "2023-10-21T22:54:24.238930Z",
     "iopub.status.idle": "2023-10-21T22:54:26.750219Z",
     "shell.execute_reply": "2023-10-21T22:54:26.751078Z"
    },
    "id": "vE3IA6DeCDPr"
   },
   "outputs": [
    {
     "name": "stdout",
     "output_type": "stream",
     "text": [
      "32/32 [==============================] - 1s 30ms/step - loss: 0.4685 - accuracy: 0.9850\n",
      "Test accuracy: 0.985\n"
     ]
    }
   ],
   "source": [
    "test_model = keras.models.load_model(\n",
    "    \"feature_extraction_with_data_augmentation.keras\")\n",
    "test_loss, test_acc = test_model.evaluate(test_dataset)\n",
    "print(f\"Test accuracy: {test_acc:.3f}\")"
   ]
  },
  {
   "cell_type": "markdown",
   "metadata": {
    "id": "IwoaUGYDCDPr"
   },
   "source": [
    "### Fine-tuning a pretrained model"
   ]
  },
  {
   "cell_type": "code",
   "execution_count": 33,
   "metadata": {
    "execution": {
     "iopub.execute_input": "2023-10-21T22:54:26.759901Z",
     "iopub.status.busy": "2023-10-21T22:54:26.757019Z",
     "iopub.status.idle": "2023-10-21T22:54:26.773587Z",
     "shell.execute_reply": "2023-10-21T22:54:26.772829Z"
    },
    "id": "ea0oRsFNCDPr"
   },
   "outputs": [
    {
     "name": "stdout",
     "output_type": "stream",
     "text": [
      "Model: \"vgg16\"\n",
      "_________________________________________________________________\n",
      "Layer (type)                 Output Shape              Param #   \n",
      "=================================================================\n",
      "input_3 (InputLayer)         [(None, None, None, 3)]   0         \n",
      "_________________________________________________________________\n",
      "block1_conv1 (Conv2D)        (None, None, None, 64)    1792      \n",
      "_________________________________________________________________\n",
      "block1_conv2 (Conv2D)        (None, None, None, 64)    36928     \n",
      "_________________________________________________________________\n",
      "block1_pool (MaxPooling2D)   (None, None, None, 64)    0         \n",
      "_________________________________________________________________\n",
      "block2_conv1 (Conv2D)        (None, None, None, 128)   73856     \n",
      "_________________________________________________________________\n",
      "block2_conv2 (Conv2D)        (None, None, None, 128)   147584    \n",
      "_________________________________________________________________\n",
      "block2_pool (MaxPooling2D)   (None, None, None, 128)   0         \n",
      "_________________________________________________________________\n",
      "block3_conv1 (Conv2D)        (None, None, None, 256)   295168    \n",
      "_________________________________________________________________\n",
      "block3_conv2 (Conv2D)        (None, None, None, 256)   590080    \n",
      "_________________________________________________________________\n",
      "block3_conv3 (Conv2D)        (None, None, None, 256)   590080    \n",
      "_________________________________________________________________\n",
      "block3_pool (MaxPooling2D)   (None, None, None, 256)   0         \n",
      "_________________________________________________________________\n",
      "block4_conv1 (Conv2D)        (None, None, None, 512)   1180160   \n",
      "_________________________________________________________________\n",
      "block4_conv2 (Conv2D)        (None, None, None, 512)   2359808   \n",
      "_________________________________________________________________\n",
      "block4_conv3 (Conv2D)        (None, None, None, 512)   2359808   \n",
      "_________________________________________________________________\n",
      "block4_pool (MaxPooling2D)   (None, None, None, 512)   0         \n",
      "_________________________________________________________________\n",
      "block5_conv1 (Conv2D)        (None, None, None, 512)   2359808   \n",
      "_________________________________________________________________\n",
      "block5_conv2 (Conv2D)        (None, None, None, 512)   2359808   \n",
      "_________________________________________________________________\n",
      "block5_conv3 (Conv2D)        (None, None, None, 512)   2359808   \n",
      "_________________________________________________________________\n",
      "block5_pool (MaxPooling2D)   (None, None, None, 512)   0         \n",
      "=================================================================\n",
      "Total params: 14,714,688\n",
      "Trainable params: 0\n",
      "Non-trainable params: 14,714,688\n",
      "_________________________________________________________________\n"
     ]
    }
   ],
   "source": [
    "conv_base.summary()"
   ]
  },
  {
   "cell_type": "markdown",
   "metadata": {
    "id": "t0-rO_h4CDPr"
   },
   "source": [
    "**Freezing all layers until the fourth from the last**"
   ]
  },
  {
   "cell_type": "code",
   "execution_count": 34,
   "metadata": {
    "execution": {
     "iopub.execute_input": "2023-10-21T22:54:26.781035Z",
     "iopub.status.busy": "2023-10-21T22:54:26.780100Z",
     "iopub.status.idle": "2023-10-21T22:54:26.783665Z",
     "shell.execute_reply": "2023-10-21T22:54:26.782862Z"
    },
    "id": "Imk9UeGUCDPr"
   },
   "outputs": [],
   "source": [
    "conv_base.trainable = True\n",
    "for layer in conv_base.layers[:-4]:\n",
    "    layer.trainable = False"
   ]
  },
  {
   "cell_type": "markdown",
   "metadata": {
    "id": "SDlYA6aBCDPr"
   },
   "source": [
    "**Fine-tuning the model**"
   ]
  },
  {
   "cell_type": "code",
   "execution_count": 35,
   "metadata": {
    "execution": {
     "iopub.execute_input": "2023-10-21T22:54:26.791116Z",
     "iopub.status.busy": "2023-10-21T22:54:26.790348Z",
     "iopub.status.idle": "2023-10-21T23:00:36.471371Z",
     "shell.execute_reply": "2023-10-21T23:00:36.472239Z"
    },
    "id": "biJcRYHzCDPr"
   },
   "outputs": [
    {
     "name": "stdout",
     "output_type": "stream",
     "text": [
      "Epoch 1/30\n",
      "313/313 [==============================] - 14s 39ms/step - loss: 0.7166 - accuracy: 0.9767 - val_loss: 1.6411 - val_accuracy: 0.9749\n",
      "Epoch 2/30\n",
      "313/313 [==============================] - 12s 38ms/step - loss: 0.4809 - accuracy: 0.9794 - val_loss: 1.8219 - val_accuracy: 0.9729\n",
      "Epoch 3/30\n",
      "313/313 [==============================] - 12s 38ms/step - loss: 0.4577 - accuracy: 0.9802 - val_loss: 1.4528 - val_accuracy: 0.9709\n",
      "Epoch 4/30\n",
      "313/313 [==============================] - 12s 38ms/step - loss: 0.2875 - accuracy: 0.9846 - val_loss: 1.2672 - val_accuracy: 0.9719\n",
      "Epoch 5/30\n",
      "313/313 [==============================] - 12s 38ms/step - loss: 0.2989 - accuracy: 0.9837 - val_loss: 0.9301 - val_accuracy: 0.9780\n",
      "Epoch 6/30\n",
      "313/313 [==============================] - 12s 38ms/step - loss: 0.2356 - accuracy: 0.9844 - val_loss: 0.9989 - val_accuracy: 0.9719\n",
      "Epoch 7/30\n",
      "313/313 [==============================] - 12s 39ms/step - loss: 0.2032 - accuracy: 0.9842 - val_loss: 1.1434 - val_accuracy: 0.9739\n",
      "Epoch 8/30\n",
      "313/313 [==============================] - 12s 38ms/step - loss: 0.1712 - accuracy: 0.9864 - val_loss: 1.0423 - val_accuracy: 0.9729\n",
      "Epoch 9/30\n",
      "313/313 [==============================] - 12s 39ms/step - loss: 0.1669 - accuracy: 0.9870 - val_loss: 0.6818 - val_accuracy: 0.9719\n",
      "Epoch 10/30\n",
      "313/313 [==============================] - 12s 38ms/step - loss: 0.1539 - accuracy: 0.9859 - val_loss: 0.8058 - val_accuracy: 0.9729\n",
      "Epoch 11/30\n",
      "313/313 [==============================] - 12s 39ms/step - loss: 0.1168 - accuracy: 0.9881 - val_loss: 0.7075 - val_accuracy: 0.9790\n",
      "Epoch 12/30\n",
      "313/313 [==============================] - 12s 38ms/step - loss: 0.1092 - accuracy: 0.9900 - val_loss: 0.7504 - val_accuracy: 0.9770\n",
      "Epoch 13/30\n",
      "313/313 [==============================] - 12s 38ms/step - loss: 0.0905 - accuracy: 0.9914 - val_loss: 0.9088 - val_accuracy: 0.9719\n",
      "Epoch 14/30\n",
      "313/313 [==============================] - 12s 39ms/step - loss: 0.1122 - accuracy: 0.9895 - val_loss: 0.5597 - val_accuracy: 0.9760\n",
      "Epoch 15/30\n",
      "313/313 [==============================] - 12s 38ms/step - loss: 0.0837 - accuracy: 0.9897 - val_loss: 0.9406 - val_accuracy: 0.9709\n",
      "Epoch 16/30\n",
      "313/313 [==============================] - 12s 39ms/step - loss: 0.0726 - accuracy: 0.9915 - val_loss: 0.9343 - val_accuracy: 0.9669\n",
      "Epoch 17/30\n",
      "313/313 [==============================] - 12s 39ms/step - loss: 0.0771 - accuracy: 0.9914 - val_loss: 1.0177 - val_accuracy: 0.9689\n",
      "Epoch 18/30\n",
      "313/313 [==============================] - 12s 38ms/step - loss: 0.0694 - accuracy: 0.9932 - val_loss: 0.7923 - val_accuracy: 0.9749\n",
      "Epoch 19/30\n",
      "313/313 [==============================] - 12s 39ms/step - loss: 0.0497 - accuracy: 0.9949 - val_loss: 0.7644 - val_accuracy: 0.9749\n",
      "Epoch 20/30\n",
      "313/313 [==============================] - 12s 39ms/step - loss: 0.0601 - accuracy: 0.9934 - val_loss: 0.7196 - val_accuracy: 0.9749\n",
      "Epoch 21/30\n",
      "313/313 [==============================] - 12s 38ms/step - loss: 0.0532 - accuracy: 0.9943 - val_loss: 0.6580 - val_accuracy: 0.9760\n",
      "Epoch 22/30\n",
      "313/313 [==============================] - 12s 39ms/step - loss: 0.0531 - accuracy: 0.9933 - val_loss: 0.9021 - val_accuracy: 0.9739\n",
      "Epoch 23/30\n",
      "313/313 [==============================] - 12s 38ms/step - loss: 0.0663 - accuracy: 0.9918 - val_loss: 0.6082 - val_accuracy: 0.9770\n",
      "Epoch 24/30\n",
      "313/313 [==============================] - 12s 38ms/step - loss: 0.0533 - accuracy: 0.9943 - val_loss: 0.6947 - val_accuracy: 0.9770\n",
      "Epoch 25/30\n",
      "313/313 [==============================] - 12s 38ms/step - loss: 0.0404 - accuracy: 0.9949 - val_loss: 0.5410 - val_accuracy: 0.9760\n",
      "Epoch 26/30\n",
      "313/313 [==============================] - 12s 39ms/step - loss: 0.0479 - accuracy: 0.9942 - val_loss: 0.7172 - val_accuracy: 0.9760\n",
      "Epoch 27/30\n",
      "313/313 [==============================] - 12s 39ms/step - loss: 0.0333 - accuracy: 0.9953 - val_loss: 0.5674 - val_accuracy: 0.9820\n",
      "Epoch 28/30\n",
      "313/313 [==============================] - 12s 38ms/step - loss: 0.0354 - accuracy: 0.9957 - val_loss: 0.5682 - val_accuracy: 0.9770\n",
      "Epoch 29/30\n",
      "313/313 [==============================] - 12s 39ms/step - loss: 0.0309 - accuracy: 0.9961 - val_loss: 0.6533 - val_accuracy: 0.9790\n",
      "Epoch 30/30\n",
      "313/313 [==============================] - 12s 39ms/step - loss: 0.0487 - accuracy: 0.9945 - val_loss: 0.6744 - val_accuracy: 0.9770\n"
     ]
    }
   ],
   "source": [
    "model.compile(loss=\"binary_crossentropy\",\n",
    "              optimizer=keras.optimizers.RMSprop(learning_rate=1e-5),\n",
    "              metrics=[\"accuracy\"])\n",
    "\n",
    "callbacks = [\n",
    "    keras.callbacks.ModelCheckpoint(\n",
    "        filepath=\"fine_tuning.keras\",\n",
    "        save_best_only=True,\n",
    "        monitor=\"val_loss\")\n",
    "]\n",
    "history = model.fit(\n",
    "    train_dataset,\n",
    "    epochs=30,\n",
    "    validation_data=validation_dataset,\n",
    "    callbacks=callbacks)"
   ]
  },
  {
   "cell_type": "code",
   "execution_count": 36,
   "metadata": {
    "execution": {
     "iopub.execute_input": "2023-10-21T23:00:36.478923Z",
     "iopub.status.busy": "2023-10-21T23:00:36.477927Z",
     "iopub.status.idle": "2023-10-21T23:00:39.196923Z",
     "shell.execute_reply": "2023-10-21T23:00:39.195871Z"
    },
    "id": "-5WMjJDBCDPs"
   },
   "outputs": [
    {
     "name": "stdout",
     "output_type": "stream",
     "text": [
      "32/32 [==============================] - 1s 30ms/step - loss: 0.3557 - accuracy: 0.9810\n",
      "Test accuracy: 0.981\n"
     ]
    }
   ],
   "source": [
    "model = keras.models.load_model(\"fine_tuning.keras\")\n",
    "test_loss, test_acc = model.evaluate(test_dataset)\n",
    "print(f\"Test accuracy: {test_acc:.3f}\")"
   ]
  },
  {
   "cell_type": "markdown",
   "metadata": {
    "id": "v_QxUVQNCDPs",
    "jp-MarkdownHeadingCollapsed": true,
    "tags": []
   },
   "source": [
    "## Summary"
   ]
  }
 ],
 "metadata": {
  "colab": {
   "provenance": [
    {
     "file_id": "https://github.com/fchollet/deep-learning-with-python-notebooks/blob/master/chapter08_intro-to-dl-for-computer-vision.ipynb",
     "timestamp": 1697604276120
    }
   ],
   "toc_visible": true
  },
  "kernelspec": {
   "display_name": "Python 3",
   "language": "python",
   "name": "python3"
  },
  "language_info": {
   "codemirror_mode": {
    "name": "ipython",
    "version": 3
   },
   "file_extension": ".py",
   "mimetype": "text/x-python",
   "name": "python",
   "nbconvert_exporter": "python",
   "pygments_lexer": "ipython3",
   "version": "3.6.8"
  }
 },
 "nbformat": 4,
 "nbformat_minor": 4
}
