{
 "cells": [
  {
   "cell_type": "markdown",
   "metadata": {
    "id": "wAEYst82CDPR",
    "tags": []
   },
   "source": [
    "## Using a pretrained network with training sample of 1000, a validation sample of 500, and a test sample of 500"
   ]
  },
  {
   "cell_type": "markdown",
   "metadata": {
    "id": "b8wI8jDeCDPR",
    "tags": []
   },
   "source": [
    "### Downloading the data"
   ]
  },
  {
   "cell_type": "code",
   "execution_count": 1,
   "metadata": {
    "execution": {
     "iopub.execute_input": "2023-10-21T19:59:25.649490Z",
     "iopub.status.busy": "2023-10-21T19:59:25.646353Z",
     "iopub.status.idle": "2023-10-21T19:59:25.650958Z",
     "shell.execute_reply": "2023-10-21T19:59:25.651965Z"
    },
    "id": "53GKP3NWCDPS",
    "tags": []
   },
   "outputs": [],
   "source": [
    "#!unzip -qq '/fs/ess/PGS0333/BA_64061_KSU/data/dogs-vs-cats.zip'"
   ]
  },
  {
   "cell_type": "code",
   "execution_count": 2,
   "metadata": {
    "execution": {
     "iopub.execute_input": "2023-10-21T19:59:25.658648Z",
     "iopub.status.busy": "2023-10-21T19:59:25.657456Z",
     "iopub.status.idle": "2023-10-21T19:59:25.661230Z",
     "shell.execute_reply": "2023-10-21T19:59:25.662175Z"
    },
    "id": "ZfGEQ2r_CDPT"
   },
   "outputs": [],
   "source": [
    "#!unzip -qq train.zip"
   ]
  },
  {
   "cell_type": "markdown",
   "metadata": {
    "id": "QC5cZm4DCDPT",
    "tags": []
   },
   "source": [
    "**Copying images to training, validation, and test directories**"
   ]
  },
  {
   "cell_type": "code",
   "execution_count": 3,
   "metadata": {
    "execution": {
     "iopub.execute_input": "2023-10-21T19:59:25.687683Z",
     "iopub.status.busy": "2023-10-21T19:59:25.686563Z",
     "iopub.status.idle": "2023-10-21T19:59:45.006740Z",
     "shell.execute_reply": "2023-10-21T19:59:45.005038Z"
    },
    "id": "Z8dqOCnvCDPT",
    "tags": []
   },
   "outputs": [],
   "source": [
    "import os, shutil, pathlib\n",
    "\n",
    "original_dir = pathlib.Path(\"train\")\n",
    "new_base_dir = pathlib.Path(\"cats_vs_dogs_small\")\n",
    "\n",
    "def make_subset(subset_name, start_index, end_index):\n",
    "    for category in (\"cat\", \"dog\"):\n",
    "        dir = new_base_dir / subset_name / category\n",
    "        os.makedirs(dir)\n",
    "        fnames = [f\"{category}.{i}.jpg\" for i in range(start_index, end_index)]\n",
    "        for fname in fnames:\n",
    "            shutil.copyfile(src=original_dir / fname,\n",
    "                            dst=dir / fname)\n",
    "\n",
    "make_subset(\"train\", start_index=0, end_index=1000)\n",
    "make_subset(\"validation\", start_index=1000, end_index=1500)\n",
    "make_subset(\"test\", start_index=1500, end_index=2000)"
   ]
  },
  {
   "cell_type": "markdown",
   "metadata": {
    "id": "zPybxeH3CDPT",
    "tags": []
   },
   "source": [
    "### Building the model"
   ]
  },
  {
   "cell_type": "markdown",
   "metadata": {
    "id": "KE0mXcPvCDPU"
   },
   "source": [
    "**Instantiating a small convnet for dogs vs. cats classification**"
   ]
  },
  {
   "cell_type": "code",
   "execution_count": 4,
   "metadata": {
    "execution": {
     "iopub.execute_input": "2023-10-21T19:59:45.021734Z",
     "iopub.status.busy": "2023-10-21T19:59:45.020208Z",
     "iopub.status.idle": "2023-10-21T19:59:45.052968Z",
     "shell.execute_reply": "2023-10-21T19:59:45.054313Z"
    },
    "id": "TIDD8c0VCDPU"
   },
   "outputs": [
    {
     "data": {
      "text/plain": [
       "'\\nfrom tensorflow import keras\\nfrom tensorflow.keras import layers\\ninputs = keras.Input(shape=(180, 180, 3))\\nx = layers.Rescaling(1./255)(inputs)\\nx = layers.Conv2D(filters=32, kernel_size=3, activation=\"relu\")(x)\\nx = layers.MaxPooling2D(pool_size=2)(x)\\nx = layers.Conv2D(filters=64, kernel_size=3, activation=\"relu\")(x)\\nx = layers.MaxPooling2D(pool_size=2)(x)\\nx = layers.Conv2D(filters=128, kernel_size=3, activation=\"relu\")(x)\\nx = layers.MaxPooling2D(pool_size=2)(x)\\nx = layers.Conv2D(filters=256, kernel_size=3, activation=\"relu\")(x)\\nx = layers.MaxPooling2D(pool_size=2)(x)\\nx = layers.Conv2D(filters=256, kernel_size=3, activation=\"relu\")(x)\\nx = layers.Flatten()(x)\\noutputs = layers.Dense(1, activation=\"sigmoid\")(x)\\nmodel = keras.Model(inputs=inputs, outputs=outputs)\\n'"
      ]
     },
     "execution_count": 1,
     "metadata": {},
     "output_type": "execute_result"
    }
   ],
   "source": [
    "\"\"\"\n",
    "from tensorflow import keras\n",
    "from tensorflow.keras import layers\n",
    "inputs = keras.Input(shape=(180, 180, 3))\n",
    "x = layers.Rescaling(1./255)(inputs)\n",
    "x = layers.Conv2D(filters=32, kernel_size=3, activation=\"relu\")(x)\n",
    "x = layers.MaxPooling2D(pool_size=2)(x)\n",
    "x = layers.Conv2D(filters=64, kernel_size=3, activation=\"relu\")(x)\n",
    "x = layers.MaxPooling2D(pool_size=2)(x)\n",
    "x = layers.Conv2D(filters=128, kernel_size=3, activation=\"relu\")(x)\n",
    "x = layers.MaxPooling2D(pool_size=2)(x)\n",
    "x = layers.Conv2D(filters=256, kernel_size=3, activation=\"relu\")(x)\n",
    "x = layers.MaxPooling2D(pool_size=2)(x)\n",
    "x = layers.Conv2D(filters=256, kernel_size=3, activation=\"relu\")(x)\n",
    "x = layers.Flatten()(x)\n",
    "outputs = layers.Dense(1, activation=\"sigmoid\")(x)\n",
    "model = keras.Model(inputs=inputs, outputs=outputs)\n",
    "\"\"\""
   ]
  },
  {
   "cell_type": "code",
   "execution_count": 5,
   "metadata": {
    "execution": {
     "iopub.execute_input": "2023-10-21T19:59:45.061948Z",
     "iopub.status.busy": "2023-10-21T19:59:45.060269Z",
     "iopub.status.idle": "2023-10-21T19:59:45.065217Z",
     "shell.execute_reply": "2023-10-21T19:59:45.063892Z"
    },
    "id": "pcBTjksSCDPU"
   },
   "outputs": [],
   "source": [
    "# model.summary()"
   ]
  },
  {
   "cell_type": "markdown",
   "metadata": {
    "id": "jKCFKNAVCDPV"
   },
   "source": [
    "**Configuring the model for training**"
   ]
  },
  {
   "cell_type": "code",
   "execution_count": 6,
   "metadata": {
    "execution": {
     "iopub.execute_input": "2023-10-21T19:59:45.073164Z",
     "iopub.status.busy": "2023-10-21T19:59:45.071648Z",
     "iopub.status.idle": "2023-10-21T19:59:45.076921Z",
     "shell.execute_reply": "2023-10-21T19:59:45.078017Z"
    },
    "id": "SXDcTiDKCDPV"
   },
   "outputs": [
    {
     "data": {
      "text/plain": [
       "'\\nmodel.compile(loss=\"binary_crossentropy\",\\n              optimizer=\"rmsprop\",\\n              metrics=[\"accuracy\"])\\n'"
      ]
     },
     "execution_count": 1,
     "metadata": {},
     "output_type": "execute_result"
    }
   ],
   "source": [
    "\"\"\"\n",
    "model.compile(loss=\"binary_crossentropy\",\n",
    "              optimizer=\"rmsprop\",\n",
    "              metrics=[\"accuracy\"])\n",
    "\"\"\""
   ]
  },
  {
   "cell_type": "markdown",
   "metadata": {
    "id": "dyB79XdQCDPV"
   },
   "source": [
    "### Data preprocessing"
   ]
  },
  {
   "cell_type": "markdown",
   "metadata": {
    "id": "xuadPMYcCDPV"
   },
   "source": [
    "**Using `image_dataset_from_directory` to read images**"
   ]
  },
  {
   "cell_type": "code",
   "execution_count": 7,
   "metadata": {
    "execution": {
     "iopub.execute_input": "2023-10-21T19:59:45.087252Z",
     "iopub.status.busy": "2023-10-21T19:59:45.086258Z",
     "iopub.status.idle": "2023-10-21T20:00:12.954441Z",
     "shell.execute_reply": "2023-10-21T20:00:12.955695Z"
    },
    "id": "-2sPJf98CDPW"
   },
   "outputs": [
    {
     "name": "stdout",
     "output_type": "stream",
     "text": [
      "Found 2000 files belonging to 2 classes.\n",
      "Found 1000 files belonging to 2 classes.\n",
      "Found 1000 files belonging to 2 classes.\n"
     ]
    }
   ],
   "source": [
    "from tensorflow import keras\n",
    "from tensorflow.keras import layers\n",
    "from tensorflow.keras.utils import image_dataset_from_directory\n",
    "\n",
    "train_dataset = image_dataset_from_directory(\n",
    "    new_base_dir / \"train\",\n",
    "    image_size=(180, 180),\n",
    "    batch_size=32)\n",
    "validation_dataset = image_dataset_from_directory(\n",
    "    new_base_dir / \"validation\",\n",
    "    image_size=(180, 180),\n",
    "    batch_size=32)\n",
    "test_dataset = image_dataset_from_directory(\n",
    "    new_base_dir / \"test\",\n",
    "    image_size=(180, 180),\n",
    "    batch_size=32)"
   ]
  },
  {
   "cell_type": "code",
   "execution_count": 8,
   "metadata": {
    "execution": {
     "iopub.execute_input": "2023-10-21T20:00:12.964805Z",
     "iopub.status.busy": "2023-10-21T20:00:12.963415Z",
     "iopub.status.idle": "2023-10-21T20:00:12.968993Z",
     "shell.execute_reply": "2023-10-21T20:00:12.970021Z"
    },
    "id": "xaOvG3kRCDPW"
   },
   "outputs": [
    {
     "data": {
      "text/plain": [
       "'\\nimport numpy as np\\nimport tensorflow as tf\\nrandom_numbers = np.random.normal(size=(1000, 16))\\ndataset = tf.data.Dataset.from_tensor_slices(random_numbers)\\n'"
      ]
     },
     "execution_count": 1,
     "metadata": {},
     "output_type": "execute_result"
    }
   ],
   "source": [
    "\"\"\"\n",
    "import numpy as np\n",
    "import tensorflow as tf\n",
    "random_numbers = np.random.normal(size=(1000, 16))\n",
    "dataset = tf.data.Dataset.from_tensor_slices(random_numbers)\n",
    "\"\"\""
   ]
  },
  {
   "cell_type": "code",
   "execution_count": 9,
   "metadata": {
    "execution": {
     "iopub.execute_input": "2023-10-21T20:00:12.978155Z",
     "iopub.status.busy": "2023-10-21T20:00:12.976888Z",
     "iopub.status.idle": "2023-10-21T20:00:12.983038Z",
     "shell.execute_reply": "2023-10-21T20:00:12.981919Z"
    },
    "id": "VOJjVIR1CDPW"
   },
   "outputs": [
    {
     "data": {
      "text/plain": [
       "'\\nfor i, element in enumerate(dataset):\\n    print(element.shape)\\n    if i >= 2:\\n        break\\n'"
      ]
     },
     "execution_count": 1,
     "metadata": {},
     "output_type": "execute_result"
    }
   ],
   "source": [
    "\"\"\"\n",
    "for i, element in enumerate(dataset):\n",
    "    print(element.shape)\n",
    "    if i >= 2:\n",
    "        break\n",
    "\"\"\""
   ]
  },
  {
   "cell_type": "code",
   "execution_count": 10,
   "metadata": {
    "execution": {
     "iopub.execute_input": "2023-10-21T20:00:12.990487Z",
     "iopub.status.busy": "2023-10-21T20:00:12.989288Z",
     "iopub.status.idle": "2023-10-21T20:00:12.993892Z",
     "shell.execute_reply": "2023-10-21T20:00:12.994786Z"
    },
    "id": "GuRLcC71CDPe"
   },
   "outputs": [
    {
     "data": {
      "text/plain": [
       "'\\nbatched_dataset = dataset.batch(32)\\nfor i, element in enumerate(batched_dataset):\\n    print(element.shape)\\n    if i >= 2:\\n        break\\n'"
      ]
     },
     "execution_count": 1,
     "metadata": {},
     "output_type": "execute_result"
    }
   ],
   "source": [
    "\"\"\"\n",
    "batched_dataset = dataset.batch(32)\n",
    "for i, element in enumerate(batched_dataset):\n",
    "    print(element.shape)\n",
    "    if i >= 2:\n",
    "        break\n",
    "\"\"\""
   ]
  },
  {
   "cell_type": "code",
   "execution_count": 11,
   "metadata": {
    "execution": {
     "iopub.execute_input": "2023-10-21T20:00:13.001578Z",
     "iopub.status.busy": "2023-10-21T20:00:13.000550Z",
     "iopub.status.idle": "2023-10-21T20:00:13.004581Z",
     "shell.execute_reply": "2023-10-21T20:00:13.005340Z"
    },
    "id": "oQDZXyr8CDPf"
   },
   "outputs": [
    {
     "data": {
      "text/plain": [
       "'\\nreshaped_dataset = dataset.map(lambda x: tf.reshape(x, (4, 4)))\\nfor i, element in enumerate(reshaped_dataset):\\n    print(element.shape)\\n    if i >= 2:\\n        break\\n'"
      ]
     },
     "execution_count": 1,
     "metadata": {},
     "output_type": "execute_result"
    }
   ],
   "source": [
    "\"\"\"\n",
    "reshaped_dataset = dataset.map(lambda x: tf.reshape(x, (4, 4)))\n",
    "for i, element in enumerate(reshaped_dataset):\n",
    "    print(element.shape)\n",
    "    if i >= 2:\n",
    "        break\n",
    "\"\"\""
   ]
  },
  {
   "cell_type": "markdown",
   "metadata": {
    "id": "RZP6KKa3CDPf"
   },
   "source": [
    "**Displaying the shapes of the data and labels yielded by the `Dataset`**"
   ]
  },
  {
   "cell_type": "code",
   "execution_count": 12,
   "metadata": {
    "execution": {
     "iopub.execute_input": "2023-10-21T20:00:13.011755Z",
     "iopub.status.busy": "2023-10-21T20:00:13.010733Z",
     "iopub.status.idle": "2023-10-21T20:00:13.014660Z",
     "shell.execute_reply": "2023-10-21T20:00:13.015366Z"
    },
    "id": "1oQxuCKTCDPf"
   },
   "outputs": [
    {
     "data": {
      "text/plain": [
       "'\\nfor data_batch, labels_batch in train_dataset:\\n    print(\"data batch shape:\", data_batch.shape)\\n    print(\"labels batch shape:\", labels_batch.shape)\\n    break\\n'"
      ]
     },
     "execution_count": 1,
     "metadata": {},
     "output_type": "execute_result"
    }
   ],
   "source": [
    "\"\"\"\n",
    "for data_batch, labels_batch in train_dataset:\n",
    "    print(\"data batch shape:\", data_batch.shape)\n",
    "    print(\"labels batch shape:\", labels_batch.shape)\n",
    "    break\n",
    "\"\"\""
   ]
  },
  {
   "cell_type": "markdown",
   "metadata": {
    "id": "nB5vOQlBCDPg"
   },
   "source": [
    "**Fitting the model using a `Dataset`**"
   ]
  },
  {
   "cell_type": "code",
   "execution_count": 13,
   "metadata": {
    "execution": {
     "iopub.execute_input": "2023-10-21T20:00:13.022155Z",
     "iopub.status.busy": "2023-10-21T20:00:13.021089Z",
     "iopub.status.idle": "2023-10-21T20:00:13.026138Z",
     "shell.execute_reply": "2023-10-21T20:00:13.025239Z"
    },
    "id": "948qTTk7CDPg"
   },
   "outputs": [
    {
     "data": {
      "text/plain": [
       "'\\ncallbacks = [\\n    keras.callbacks.ModelCheckpoint(\\n        filepath=\"convnet_from_scratch.keras\",\\n        save_best_only=True,\\n        monitor=\"val_loss\")\\n]\\nhistory = model.fit(\\n    train_dataset,\\n    epochs=30,\\n    validation_data=validation_dataset,\\n    callbacks=callbacks)\\n'"
      ]
     },
     "execution_count": 1,
     "metadata": {},
     "output_type": "execute_result"
    }
   ],
   "source": [
    "\"\"\"\n",
    "callbacks = [\n",
    "    keras.callbacks.ModelCheckpoint(\n",
    "        filepath=\"convnet_from_scratch.keras\",\n",
    "        save_best_only=True,\n",
    "        monitor=\"val_loss\")\n",
    "]\n",
    "history = model.fit(\n",
    "    train_dataset,\n",
    "    epochs=30,\n",
    "    validation_data=validation_dataset,\n",
    "    callbacks=callbacks)\n",
    "\"\"\""
   ]
  },
  {
   "cell_type": "markdown",
   "metadata": {
    "id": "gAT29S8pCDPg"
   },
   "source": [
    "**Displaying curves of loss and accuracy during training**"
   ]
  },
  {
   "cell_type": "code",
   "execution_count": 14,
   "metadata": {
    "execution": {
     "iopub.execute_input": "2023-10-21T20:00:13.032842Z",
     "iopub.status.busy": "2023-10-21T20:00:13.031856Z",
     "iopub.status.idle": "2023-10-21T20:00:13.035860Z",
     "shell.execute_reply": "2023-10-21T20:00:13.036679Z"
    },
    "id": "BV339wOHCDPg"
   },
   "outputs": [
    {
     "data": {
      "text/plain": [
       "'\\nimport matplotlib.pyplot as plt\\naccuracy = history.history[\"accuracy\"]\\nval_accuracy = history.history[\"val_accuracy\"]\\nloss = history.history[\"loss\"]\\nval_loss = history.history[\"val_loss\"]\\nepochs = range(1, len(accuracy) + 1)\\nplt.plot(epochs, accuracy, \"bo\", label=\"Training accuracy\")\\nplt.plot(epochs, val_accuracy, \"b\", label=\"Validation accuracy\")\\nplt.title(\"Training and validation accuracy\")\\nplt.legend()\\nplt.figure()\\nplt.plot(epochs, loss, \"bo\", label=\"Training loss\")\\nplt.plot(epochs, val_loss, \"b\", label=\"Validation loss\")\\nplt.title(\"Training and validation loss\")\\nplt.legend()\\nplt.show()\\n'"
      ]
     },
     "execution_count": 1,
     "metadata": {},
     "output_type": "execute_result"
    }
   ],
   "source": [
    "\"\"\"\n",
    "import matplotlib.pyplot as plt\n",
    "accuracy = history.history[\"accuracy\"]\n",
    "val_accuracy = history.history[\"val_accuracy\"]\n",
    "loss = history.history[\"loss\"]\n",
    "val_loss = history.history[\"val_loss\"]\n",
    "epochs = range(1, len(accuracy) + 1)\n",
    "plt.plot(epochs, accuracy, \"bo\", label=\"Training accuracy\")\n",
    "plt.plot(epochs, val_accuracy, \"b\", label=\"Validation accuracy\")\n",
    "plt.title(\"Training and validation accuracy\")\n",
    "plt.legend()\n",
    "plt.figure()\n",
    "plt.plot(epochs, loss, \"bo\", label=\"Training loss\")\n",
    "plt.plot(epochs, val_loss, \"b\", label=\"Validation loss\")\n",
    "plt.title(\"Training and validation loss\")\n",
    "plt.legend()\n",
    "plt.show()\n",
    "\"\"\""
   ]
  },
  {
   "cell_type": "markdown",
   "metadata": {
    "id": "x2biw2rcCDPh"
   },
   "source": [
    "**Evaluating the model on the test set**"
   ]
  },
  {
   "cell_type": "code",
   "execution_count": 15,
   "metadata": {
    "execution": {
     "iopub.execute_input": "2023-10-21T20:00:13.042531Z",
     "iopub.status.busy": "2023-10-21T20:00:13.041559Z",
     "iopub.status.idle": "2023-10-21T20:00:13.045362Z",
     "shell.execute_reply": "2023-10-21T20:00:13.046108Z"
    },
    "id": "Kw2HQvKqCDPh"
   },
   "outputs": [
    {
     "data": {
      "text/plain": [
       "'\\ntest_model = keras.models.load_model(\"convnet_from_scratch.keras\")\\ntest_loss, test_acc = test_model.evaluate(test_dataset)\\nprint(f\"Test accuracy: {test_acc:.3f}\")\\n'"
      ]
     },
     "execution_count": 1,
     "metadata": {},
     "output_type": "execute_result"
    }
   ],
   "source": [
    "\"\"\"\n",
    "test_model = keras.models.load_model(\"convnet_from_scratch.keras\")\n",
    "test_loss, test_acc = test_model.evaluate(test_dataset)\n",
    "print(f\"Test accuracy: {test_acc:.3f}\")\n",
    "\"\"\""
   ]
  },
  {
   "cell_type": "markdown",
   "metadata": {
    "id": "59JIBMkeCDPh"
   },
   "source": [
    "### Using data augmentation"
   ]
  },
  {
   "cell_type": "markdown",
   "metadata": {
    "id": "I4Mf-qDmCDPi"
   },
   "source": [
    "**Define a data augmentation stage to add to an image model**"
   ]
  },
  {
   "cell_type": "code",
   "execution_count": 16,
   "metadata": {
    "execution": {
     "iopub.execute_input": "2023-10-21T20:00:13.052144Z",
     "iopub.status.busy": "2023-10-21T20:00:13.051210Z",
     "iopub.status.idle": "2023-10-21T20:00:13.054766Z",
     "shell.execute_reply": "2023-10-21T20:00:13.055377Z"
    },
    "id": "SbEnboYqCDPi"
   },
   "outputs": [
    {
     "data": {
      "text/plain": [
       "'\\ndata_augmentation = keras.Sequential(\\n    [\\n        layers.RandomFlip(\"horizontal\"),\\n        layers.RandomRotation(0.1),\\n        layers.RandomZoom(0.2),\\n    ]\\n)\\n'"
      ]
     },
     "execution_count": 1,
     "metadata": {},
     "output_type": "execute_result"
    }
   ],
   "source": [
    "\"\"\"\n",
    "data_augmentation = keras.Sequential(\n",
    "    [\n",
    "        layers.RandomFlip(\"horizontal\"),\n",
    "        layers.RandomRotation(0.1),\n",
    "        layers.RandomZoom(0.2),\n",
    "    ]\n",
    ")\n",
    "\"\"\""
   ]
  },
  {
   "cell_type": "markdown",
   "metadata": {
    "id": "oCMayLeOCDPi"
   },
   "source": [
    "**Displaying some randomly augmented training images**"
   ]
  },
  {
   "cell_type": "code",
   "execution_count": 17,
   "metadata": {
    "execution": {
     "iopub.execute_input": "2023-10-21T20:00:13.060931Z",
     "iopub.status.busy": "2023-10-21T20:00:13.060042Z",
     "iopub.status.idle": "2023-10-21T20:00:13.063339Z",
     "shell.execute_reply": "2023-10-21T20:00:13.063928Z"
    },
    "id": "A8aj4vANCDPj"
   },
   "outputs": [
    {
     "data": {
      "text/plain": [
       "'\\nplt.figure(figsize=(10, 10))\\nfor images, _ in train_dataset.take(1):\\n    for i in range(9):\\n        augmented_images = data_augmentation(images)\\n        ax = plt.subplot(3, 3, i + 1)\\n        plt.imshow(augmented_images[0].numpy().astype(\"uint8\"))\\n        plt.axis(\"off\")\\n'"
      ]
     },
     "execution_count": 1,
     "metadata": {},
     "output_type": "execute_result"
    }
   ],
   "source": [
    "\"\"\"\n",
    "plt.figure(figsize=(10, 10))\n",
    "for images, _ in train_dataset.take(1):\n",
    "    for i in range(9):\n",
    "        augmented_images = data_augmentation(images)\n",
    "        ax = plt.subplot(3, 3, i + 1)\n",
    "        plt.imshow(augmented_images[0].numpy().astype(\"uint8\"))\n",
    "        plt.axis(\"off\")\n",
    "\"\"\""
   ]
  },
  {
   "cell_type": "markdown",
   "metadata": {
    "id": "nNziOokECDPj"
   },
   "source": [
    "**Defining a new convnet that includes image augmentation and dropout**"
   ]
  },
  {
   "cell_type": "code",
   "execution_count": 18,
   "metadata": {
    "execution": {
     "iopub.execute_input": "2023-10-21T20:00:13.069105Z",
     "iopub.status.busy": "2023-10-21T20:00:13.068368Z",
     "iopub.status.idle": "2023-10-21T20:00:13.072002Z",
     "shell.execute_reply": "2023-10-21T20:00:13.073109Z"
    },
    "id": "MyWACP8CCDPk"
   },
   "outputs": [
    {
     "data": {
      "text/plain": [
       "'\\ninputs = keras.Input(shape=(180, 180, 3))\\nx = data_augmentation(inputs)\\nx = layers.Rescaling(1./255)(x)\\nx = layers.Conv2D(filters=32, kernel_size=3, activation=\"relu\")(x)\\nx = layers.MaxPooling2D(pool_size=2)(x)\\nx = layers.Conv2D(filters=64, kernel_size=3, activation=\"relu\")(x)\\nx = layers.MaxPooling2D(pool_size=2)(x)\\nx = layers.Conv2D(filters=128, kernel_size=3, activation=\"relu\")(x)\\nx = layers.MaxPooling2D(pool_size=2)(x)\\nx = layers.Conv2D(filters=256, kernel_size=3, activation=\"relu\")(x)\\nx = layers.MaxPooling2D(pool_size=2)(x)\\nx = layers.Conv2D(filters=256, kernel_size=3, activation=\"relu\")(x)\\nx = layers.Flatten()(x)\\nx = layers.Dropout(0.5)(x)\\noutputs = layers.Dense(1, activation=\"sigmoid\")(x)\\nmodel = keras.Model(inputs=inputs, outputs=outputs)\\n\\nmodel.compile(loss=\"binary_crossentropy\",\\n              optimizer=\"rmsprop\",\\n              metrics=[\"accuracy\"])\\n'"
      ]
     },
     "execution_count": 1,
     "metadata": {},
     "output_type": "execute_result"
    }
   ],
   "source": [
    "\"\"\"\n",
    "inputs = keras.Input(shape=(180, 180, 3))\n",
    "x = data_augmentation(inputs)\n",
    "x = layers.Rescaling(1./255)(x)\n",
    "x = layers.Conv2D(filters=32, kernel_size=3, activation=\"relu\")(x)\n",
    "x = layers.MaxPooling2D(pool_size=2)(x)\n",
    "x = layers.Conv2D(filters=64, kernel_size=3, activation=\"relu\")(x)\n",
    "x = layers.MaxPooling2D(pool_size=2)(x)\n",
    "x = layers.Conv2D(filters=128, kernel_size=3, activation=\"relu\")(x)\n",
    "x = layers.MaxPooling2D(pool_size=2)(x)\n",
    "x = layers.Conv2D(filters=256, kernel_size=3, activation=\"relu\")(x)\n",
    "x = layers.MaxPooling2D(pool_size=2)(x)\n",
    "x = layers.Conv2D(filters=256, kernel_size=3, activation=\"relu\")(x)\n",
    "x = layers.Flatten()(x)\n",
    "x = layers.Dropout(0.5)(x)\n",
    "outputs = layers.Dense(1, activation=\"sigmoid\")(x)\n",
    "model = keras.Model(inputs=inputs, outputs=outputs)\n",
    "\n",
    "model.compile(loss=\"binary_crossentropy\",\n",
    "              optimizer=\"rmsprop\",\n",
    "              metrics=[\"accuracy\"])\n",
    "\"\"\""
   ]
  },
  {
   "cell_type": "markdown",
   "metadata": {
    "id": "TT51jSbLCDPk"
   },
   "source": [
    "**Training the regularized convnet**"
   ]
  },
  {
   "cell_type": "code",
   "execution_count": 19,
   "metadata": {
    "execution": {
     "iopub.execute_input": "2023-10-21T20:00:13.078266Z",
     "iopub.status.busy": "2023-10-21T20:00:13.077461Z",
     "iopub.status.idle": "2023-10-21T20:00:13.081146Z",
     "shell.execute_reply": "2023-10-21T20:00:13.081827Z"
    },
    "id": "fZL5nFXuCDPk"
   },
   "outputs": [
    {
     "data": {
      "text/plain": [
       "'\\ncallbacks = [\\n    keras.callbacks.ModelCheckpoint(\\n        filepath=\"convnet_from_scratch_with_augmentation.keras\",\\n        save_best_only=True,\\n        monitor=\"val_loss\")\\n]\\nhistory = model.fit(\\n    train_dataset,\\n    epochs=100,\\n    validation_data=validation_dataset,\\n    callbacks=callbacks)\\n'"
      ]
     },
     "execution_count": 1,
     "metadata": {},
     "output_type": "execute_result"
    }
   ],
   "source": [
    "\"\"\"\n",
    "callbacks = [\n",
    "    keras.callbacks.ModelCheckpoint(\n",
    "        filepath=\"convnet_from_scratch_with_augmentation.keras\",\n",
    "        save_best_only=True,\n",
    "        monitor=\"val_loss\")\n",
    "]\n",
    "history = model.fit(\n",
    "    train_dataset,\n",
    "    epochs=100,\n",
    "    validation_data=validation_dataset,\n",
    "    callbacks=callbacks)\n",
    "\"\"\""
   ]
  },
  {
   "cell_type": "markdown",
   "metadata": {
    "id": "07jIY-3yCDPl"
   },
   "source": [
    "**Evaluating the model on the test set**"
   ]
  },
  {
   "cell_type": "code",
   "execution_count": 20,
   "metadata": {
    "execution": {
     "iopub.execute_input": "2023-10-21T20:00:13.086920Z",
     "iopub.status.busy": "2023-10-21T20:00:13.086111Z",
     "iopub.status.idle": "2023-10-21T20:00:13.089274Z",
     "shell.execute_reply": "2023-10-21T20:00:13.089848Z"
    },
    "id": "4_WMA5i4CDPl"
   },
   "outputs": [
    {
     "data": {
      "text/plain": [
       "'\\ntest_model = keras.models.load_model(\\n    \"convnet_from_scratch_with_augmentation.keras\")\\ntest_loss, test_acc = test_model.evaluate(test_dataset)\\nprint(f\"Test accuracy: {test_acc:.3f}\")\\n'"
      ]
     },
     "execution_count": 1,
     "metadata": {},
     "output_type": "execute_result"
    }
   ],
   "source": [
    "\"\"\"\n",
    "test_model = keras.models.load_model(\n",
    "    \"convnet_from_scratch_with_augmentation.keras\")\n",
    "test_loss, test_acc = test_model.evaluate(test_dataset)\n",
    "print(f\"Test accuracy: {test_acc:.3f}\")\n",
    "\"\"\""
   ]
  },
  {
   "cell_type": "markdown",
   "metadata": {
    "id": "8bFyFXezCDPl"
   },
   "source": [
    "## Leveraging a pretrained model"
   ]
  },
  {
   "cell_type": "markdown",
   "metadata": {
    "id": "aDxQM0teCDPm"
   },
   "source": [
    "### Feature extraction with a pretrained model"
   ]
  },
  {
   "cell_type": "markdown",
   "metadata": {
    "id": "iZTotrdxCDPn"
   },
   "source": [
    "**Instantiating the VGG16 convolutional base**"
   ]
  },
  {
   "cell_type": "code",
   "execution_count": 21,
   "metadata": {
    "execution": {
     "iopub.execute_input": "2023-10-21T20:00:13.098568Z",
     "iopub.status.busy": "2023-10-21T20:00:13.097818Z",
     "iopub.status.idle": "2023-10-21T20:00:14.061015Z",
     "shell.execute_reply": "2023-10-21T20:00:14.059669Z"
    },
    "id": "GBR2XOJNCDPn"
   },
   "outputs": [],
   "source": [
    "from tensorflow import keras # import keras\n",
    "from tensorflow.keras import layers \n",
    "conv_base = keras.applications.vgg16.VGG16(\n",
    "    weights=\"imagenet\",\n",
    "    include_top=False,\n",
    "    input_shape=(180, 180, 3))"
   ]
  },
  {
   "cell_type": "code",
   "execution_count": 22,
   "metadata": {
    "execution": {
     "iopub.execute_input": "2023-10-21T20:00:14.069686Z",
     "iopub.status.busy": "2023-10-21T20:00:14.066005Z",
     "iopub.status.idle": "2023-10-21T20:00:14.082316Z",
     "shell.execute_reply": "2023-10-21T20:00:14.082759Z"
    },
    "id": "Q3NijRLeCDPn"
   },
   "outputs": [
    {
     "name": "stdout",
     "output_type": "stream",
     "text": [
      "Model: \"vgg16\"\n",
      "_________________________________________________________________\n",
      "Layer (type)                 Output Shape              Param #   \n",
      "=================================================================\n",
      "input_1 (InputLayer)         [(None, 180, 180, 3)]     0         \n",
      "_________________________________________________________________\n",
      "block1_conv1 (Conv2D)        (None, 180, 180, 64)      1792      \n",
      "_________________________________________________________________\n",
      "block1_conv2 (Conv2D)        (None, 180, 180, 64)      36928     \n",
      "_________________________________________________________________\n",
      "block1_pool (MaxPooling2D)   (None, 90, 90, 64)        0         \n",
      "_________________________________________________________________\n",
      "block2_conv1 (Conv2D)        (None, 90, 90, 128)       73856     \n",
      "_________________________________________________________________\n",
      "block2_conv2 (Conv2D)        (None, 90, 90, 128)       147584    \n",
      "_________________________________________________________________\n",
      "block2_pool (MaxPooling2D)   (None, 45, 45, 128)       0         \n",
      "_________________________________________________________________\n",
      "block3_conv1 (Conv2D)        (None, 45, 45, 256)       295168    \n",
      "_________________________________________________________________\n",
      "block3_conv2 (Conv2D)        (None, 45, 45, 256)       590080    \n",
      "_________________________________________________________________\n",
      "block3_conv3 (Conv2D)        (None, 45, 45, 256)       590080    \n",
      "_________________________________________________________________\n",
      "block3_pool (MaxPooling2D)   (None, 22, 22, 256)       0         \n",
      "_________________________________________________________________\n",
      "block4_conv1 (Conv2D)        (None, 22, 22, 512)       1180160   \n",
      "_________________________________________________________________\n",
      "block4_conv2 (Conv2D)        (None, 22, 22, 512)       2359808   \n",
      "_________________________________________________________________\n",
      "block4_conv3 (Conv2D)        (None, 22, 22, 512)       2359808   \n",
      "_________________________________________________________________\n",
      "block4_pool (MaxPooling2D)   (None, 11, 11, 512)       0         \n",
      "_________________________________________________________________\n",
      "block5_conv1 (Conv2D)        (None, 11, 11, 512)       2359808   \n",
      "_________________________________________________________________\n",
      "block5_conv2 (Conv2D)        (None, 11, 11, 512)       2359808   \n",
      "_________________________________________________________________\n",
      "block5_conv3 (Conv2D)        (None, 11, 11, 512)       2359808   \n",
      "_________________________________________________________________\n",
      "block5_pool (MaxPooling2D)   (None, 5, 5, 512)         0         \n",
      "=================================================================\n",
      "Total params: 14,714,688\n",
      "Trainable params: 14,714,688\n",
      "Non-trainable params: 0\n",
      "_________________________________________________________________\n"
     ]
    }
   ],
   "source": [
    "conv_base.summary()"
   ]
  },
  {
   "cell_type": "markdown",
   "metadata": {
    "id": "opOCS5pJCDPn",
    "tags": []
   },
   "source": [
    "#### Fast feature extraction without data augmentation"
   ]
  },
  {
   "cell_type": "markdown",
   "metadata": {
    "id": "FMW9QZSrCDPo"
   },
   "source": [
    "**Extracting the VGG16 features and corresponding labels**"
   ]
  },
  {
   "cell_type": "code",
   "execution_count": 23,
   "metadata": {
    "execution": {
     "iopub.execute_input": "2023-10-21T20:00:14.093087Z",
     "iopub.status.busy": "2023-10-21T20:00:14.091224Z",
     "iopub.status.idle": "2023-10-21T20:00:34.985233Z",
     "shell.execute_reply": "2023-10-21T20:00:34.983548Z"
    },
    "id": "6TwjB6rKCDPo"
   },
   "outputs": [],
   "source": [
    "import numpy as np\n",
    "\n",
    "def get_features_and_labels(dataset):\n",
    "    all_features = []\n",
    "    all_labels = []\n",
    "    for images, labels in dataset:\n",
    "        preprocessed_images = keras.applications.vgg16.preprocess_input(images)\n",
    "        features = conv_base.predict(preprocessed_images)\n",
    "        all_features.append(features)\n",
    "        all_labels.append(labels)\n",
    "    return np.concatenate(all_features), np.concatenate(all_labels)\n",
    "\n",
    "train_features, train_labels =  get_features_and_labels(train_dataset)\n",
    "val_features, val_labels =  get_features_and_labels(validation_dataset)\n",
    "test_features, test_labels =  get_features_and_labels(test_dataset)"
   ]
  },
  {
   "cell_type": "code",
   "execution_count": 24,
   "metadata": {
    "execution": {
     "iopub.execute_input": "2023-10-21T20:00:34.992388Z",
     "iopub.status.busy": "2023-10-21T20:00:34.990907Z",
     "iopub.status.idle": "2023-10-21T20:00:34.996141Z",
     "shell.execute_reply": "2023-10-21T20:00:34.997240Z"
    },
    "id": "ZshtzB-ZCDPo"
   },
   "outputs": [
    {
     "data": {
      "text/plain": [
       "(2000, 5, 5, 512)"
      ]
     },
     "execution_count": 1,
     "metadata": {},
     "output_type": "execute_result"
    }
   ],
   "source": [
    "train_features.shape"
   ]
  },
  {
   "cell_type": "markdown",
   "metadata": {
    "id": "IqTBM2rBCDPo"
   },
   "source": [
    "**Defining and training the densely connected classifier**"
   ]
  },
  {
   "cell_type": "code",
   "execution_count": 25,
   "metadata": {
    "execution": {
     "iopub.execute_input": "2023-10-21T20:00:35.007625Z",
     "iopub.status.busy": "2023-10-21T20:00:35.006274Z",
     "iopub.status.idle": "2023-10-21T20:00:39.747661Z",
     "shell.execute_reply": "2023-10-21T20:00:39.748396Z"
    },
    "id": "aMU01CJvCDPo"
   },
   "outputs": [
    {
     "name": "stdout",
     "output_type": "stream",
     "text": [
      "Epoch 1/20\n",
      "63/63 [==============================] - 1s 6ms/step - loss: 13.5073 - accuracy: 0.9210 - val_loss: 4.7467 - val_accuracy: 0.9660\n",
      "Epoch 2/20\n",
      "63/63 [==============================] - 0s 4ms/step - loss: 3.0386 - accuracy: 0.9770 - val_loss: 12.0533 - val_accuracy: 0.9430\n",
      "Epoch 3/20\n",
      "63/63 [==============================] - 0s 3ms/step - loss: 2.1036 - accuracy: 0.9850 - val_loss: 3.2843 - val_accuracy: 0.9750\n",
      "Epoch 4/20\n",
      "63/63 [==============================] - 0s 4ms/step - loss: 1.9179 - accuracy: 0.9875 - val_loss: 7.3282 - val_accuracy: 0.9700\n",
      "Epoch 5/20\n",
      "63/63 [==============================] - 0s 3ms/step - loss: 0.9677 - accuracy: 0.9900 - val_loss: 6.0118 - val_accuracy: 0.9650\n",
      "Epoch 6/20\n",
      "63/63 [==============================] - 0s 3ms/step - loss: 1.2342 - accuracy: 0.9935 - val_loss: 6.0537 - val_accuracy: 0.9710\n",
      "Epoch 7/20\n",
      "63/63 [==============================] - 0s 3ms/step - loss: 0.2122 - accuracy: 0.9975 - val_loss: 6.1084 - val_accuracy: 0.9700\n",
      "Epoch 8/20\n",
      "63/63 [==============================] - 0s 3ms/step - loss: 0.4881 - accuracy: 0.9970 - val_loss: 5.7784 - val_accuracy: 0.9710\n",
      "Epoch 9/20\n",
      "63/63 [==============================] - 0s 3ms/step - loss: 0.0937 - accuracy: 0.9985 - val_loss: 8.9953 - val_accuracy: 0.9640\n",
      "Epoch 10/20\n",
      "63/63 [==============================] - 0s 3ms/step - loss: 0.4623 - accuracy: 0.9970 - val_loss: 5.5047 - val_accuracy: 0.9730\n",
      "Epoch 11/20\n",
      "63/63 [==============================] - 0s 3ms/step - loss: 0.2748 - accuracy: 0.9965 - val_loss: 5.4949 - val_accuracy: 0.9760\n",
      "Epoch 12/20\n",
      "63/63 [==============================] - 0s 3ms/step - loss: 0.4063 - accuracy: 0.9975 - val_loss: 5.0313 - val_accuracy: 0.9740\n",
      "Epoch 13/20\n",
      "63/63 [==============================] - 0s 3ms/step - loss: 0.2805 - accuracy: 0.9965 - val_loss: 6.3703 - val_accuracy: 0.9710\n",
      "Epoch 14/20\n",
      "63/63 [==============================] - 0s 3ms/step - loss: 0.5061 - accuracy: 0.9975 - val_loss: 5.6572 - val_accuracy: 0.9760\n",
      "Epoch 15/20\n",
      "63/63 [==============================] - 0s 3ms/step - loss: 0.0828 - accuracy: 0.9990 - val_loss: 5.7342 - val_accuracy: 0.9750\n",
      "Epoch 16/20\n",
      "63/63 [==============================] - 0s 3ms/step - loss: 0.2083 - accuracy: 0.9975 - val_loss: 5.3191 - val_accuracy: 0.9750\n",
      "Epoch 17/20\n",
      "63/63 [==============================] - 0s 3ms/step - loss: 0.2813 - accuracy: 0.9965 - val_loss: 5.0407 - val_accuracy: 0.9760\n",
      "Epoch 18/20\n",
      "63/63 [==============================] - 0s 3ms/step - loss: 0.0779 - accuracy: 0.9990 - val_loss: 5.0738 - val_accuracy: 0.9770\n",
      "Epoch 19/20\n",
      "63/63 [==============================] - 0s 3ms/step - loss: 0.0072 - accuracy: 0.9990 - val_loss: 5.6584 - val_accuracy: 0.9770\n",
      "Epoch 20/20\n",
      "63/63 [==============================] - 0s 3ms/step - loss: 3.5128e-17 - accuracy: 1.0000 - val_loss: 5.6584 - val_accuracy: 0.9770\n"
     ]
    }
   ],
   "source": [
    "inputs = keras.Input(shape=(5, 5, 512))\n",
    "x = layers.Flatten()(inputs)\n",
    "x = layers.Dense(256)(x)\n",
    "x = layers.Dropout(0.5)(x)\n",
    "outputs = layers.Dense(1, activation=\"sigmoid\")(x)\n",
    "model = keras.Model(inputs, outputs)\n",
    "model.compile(loss=\"binary_crossentropy\",\n",
    "              optimizer=\"rmsprop\",\n",
    "              metrics=[\"accuracy\"])\n",
    "\n",
    "callbacks = [\n",
    "    keras.callbacks.ModelCheckpoint(\n",
    "      filepath=\"feature_extraction.keras\",\n",
    "      save_best_only=True,\n",
    "      monitor=\"val_loss\")\n",
    "]\n",
    "history = model.fit(\n",
    "    train_features, train_labels,\n",
    "    epochs=20,\n",
    "    validation_data=(val_features, val_labels),\n",
    "    callbacks=callbacks)"
   ]
  },
  {
   "cell_type": "markdown",
   "metadata": {
    "id": "Rni2lbdnCDPp"
   },
   "source": [
    "**Plotting the results**"
   ]
  },
  {
   "cell_type": "code",
   "execution_count": 26,
   "metadata": {
    "execution": {
     "iopub.execute_input": "2023-10-21T20:00:39.756307Z",
     "iopub.status.busy": "2023-10-21T20:00:39.755773Z",
     "iopub.status.idle": "2023-10-21T20:00:42.188005Z",
     "shell.execute_reply": "2023-10-21T20:00:42.189478Z"
    },
    "id": "liYT21N8CDPp"
   },
   "outputs": [
    {
     "data": {
      "image/png": "[encoded data removed]",
      "text/plain": [
       "<Figure size 432x288 with 1 Axes>"
      ]
     },
     "metadata": {
      "needs_background": "light"
     },
     "output_type": "display_data"
    },
    {
     "data": {
      "image/png": "[encoded data removed]",
      "text/plain": [
       "<Figure size 432x288 with 1 Axes>"
      ]
     },
     "metadata": {
      "needs_background": "light"
     },
     "output_type": "display_data"
    }
   ],
   "source": [
    "import matplotlib.pyplot as plt\n",
    "acc = history.history[\"accuracy\"]\n",
    "val_acc = history.history[\"val_accuracy\"]\n",
    "loss = history.history[\"loss\"]\n",
    "val_loss = history.history[\"val_loss\"]\n",
    "epochs = range(1, len(acc) + 1)\n",
    "plt.plot(epochs, acc, \"bo\", label=\"Training accuracy\")\n",
    "plt.plot(epochs, val_acc, \"b\", label=\"Validation accuracy\")\n",
    "plt.title(\"Training and validation accuracy\")\n",
    "plt.legend()\n",
    "plt.figure()\n",
    "plt.plot(epochs, loss, \"bo\", label=\"Training loss\")\n",
    "plt.plot(epochs, val_loss, \"b\", label=\"Validation loss\")\n",
    "plt.title(\"Training and validation loss\")\n",
    "plt.legend()\n",
    "plt.show()"
   ]
  },
  {
   "cell_type": "markdown",
   "metadata": {
    "id": "esS3CubxCDPp"
   },
   "source": [
    "#### Feature extraction together with data augmentation"
   ]
  },
  {
   "cell_type": "markdown",
   "metadata": {
    "id": "yM8OUkXuCDPp"
   },
   "source": [
    "**Instantiating and freezing the VGG16 convolutional base**"
   ]
  },
  {
   "cell_type": "code",
   "execution_count": 27,
   "metadata": {
    "execution": {
     "iopub.execute_input": "2023-10-21T20:00:42.206146Z",
     "iopub.status.busy": "2023-10-21T20:00:42.204024Z",
     "iopub.status.idle": "2023-10-21T20:00:42.595550Z",
     "shell.execute_reply": "2023-10-21T20:00:42.594312Z"
    },
    "id": "Ir6Ke9NGCDPp"
   },
   "outputs": [],
   "source": [
    "conv_base  = keras.applications.vgg16.VGG16(\n",
    "    weights=\"imagenet\",\n",
    "    include_top=False)\n",
    "conv_base.trainable = False"
   ]
  },
  {
   "cell_type": "markdown",
   "metadata": {
    "id": "PZ9xp-jBCDPp"
   },
   "source": [
    "**Printing the list of trainable weights before and after freezing**"
   ]
  },
  {
   "cell_type": "code",
   "execution_count": 28,
   "metadata": {
    "execution": {
     "iopub.execute_input": "2023-10-21T20:00:42.602853Z",
     "iopub.status.busy": "2023-10-21T20:00:42.601569Z",
     "iopub.status.idle": "2023-10-21T20:00:42.607068Z",
     "shell.execute_reply": "2023-10-21T20:00:42.605822Z"
    },
    "id": "VIm7-3xICDPq"
   },
   "outputs": [
    {
     "name": "stdout",
     "output_type": "stream",
     "text": [
      "This is the number of trainable weights before freezing the conv base: 26\n"
     ]
    }
   ],
   "source": [
    "conv_base.trainable = True\n",
    "print(\"This is the number of trainable weights \"\n",
    "      \"before freezing the conv base:\", len(conv_base.trainable_weights))"
   ]
  },
  {
   "cell_type": "code",
   "execution_count": 29,
   "metadata": {
    "execution": {
     "iopub.execute_input": "2023-10-21T20:00:42.613322Z",
     "iopub.status.busy": "2023-10-21T20:00:42.612130Z",
     "iopub.status.idle": "2023-10-21T20:00:42.617816Z",
     "shell.execute_reply": "2023-10-21T20:00:42.616636Z"
    },
    "id": "zWQJW7DUCDPq"
   },
   "outputs": [
    {
     "name": "stdout",
     "output_type": "stream",
     "text": [
      "This is the number of trainable weights after freezing the conv base: 0\n"
     ]
    }
   ],
   "source": [
    "conv_base.trainable = False\n",
    "print(\"This is the number of trainable weights \"\n",
    "      \"after freezing the conv base:\", len(conv_base.trainable_weights))"
   ]
  },
  {
   "cell_type": "markdown",
   "metadata": {
    "id": "7jO3DwerCDPq"
   },
   "source": [
    "**Adding a data augmentation stage and a classifier to the convolutional base**"
   ]
  },
  {
   "cell_type": "code",
   "execution_count": 30,
   "metadata": {
    "execution": {
     "iopub.execute_input": "2023-10-21T20:00:42.625689Z",
     "iopub.status.busy": "2023-10-21T20:00:42.622043Z",
     "iopub.status.idle": "2023-10-21T20:00:42.906468Z",
     "shell.execute_reply": "2023-10-21T20:00:42.907784Z"
    },
    "id": "roDIyEA3CDPq"
   },
   "outputs": [],
   "source": [
    "data_augmentation = keras.Sequential(\n",
    "    [\n",
    "        layers.RandomFlip(\"horizontal\"),\n",
    "        layers.RandomRotation(0.1),\n",
    "        layers.RandomZoom(0.2),\n",
    "    ]\n",
    ")\n",
    "\n",
    "inputs = keras.Input(shape=(180, 180, 3))\n",
    "x = data_augmentation(inputs)\n",
    "x = keras.applications.vgg16.preprocess_input(x)\n",
    "x = conv_base(x)\n",
    "x = layers.Flatten()(x)\n",
    "x = layers.Dense(256)(x)\n",
    "x = layers.Dropout(0.5)(x)\n",
    "outputs = layers.Dense(1, activation=\"sigmoid\")(x)\n",
    "model = keras.Model(inputs, outputs)\n",
    "model.compile(loss=\"binary_crossentropy\",\n",
    "              optimizer=\"rmsprop\",\n",
    "              metrics=[\"accuracy\"])"
   ]
  },
  {
   "cell_type": "code",
   "execution_count": 31,
   "metadata": {
    "execution": {
     "iopub.execute_input": "2023-10-21T20:00:42.915560Z",
     "iopub.status.busy": "2023-10-21T20:00:42.913948Z",
     "iopub.status.idle": "2023-10-21T20:03:39.524776Z",
     "shell.execute_reply": "2023-10-21T20:03:39.525756Z"
    },
    "id": "EQtMjU26CDPq"
   },
   "outputs": [
    {
     "name": "stdout",
     "output_type": "stream",
     "text": [
      "Epoch 1/50\n",
      "63/63 [==============================] - 5s 56ms/step - loss: 21.2061 - accuracy: 0.8910 - val_loss: 22.9828 - val_accuracy: 0.8940\n",
      "Epoch 2/50\n",
      "63/63 [==============================] - 3s 52ms/step - loss: 7.0033 - accuracy: 0.9445 - val_loss: 5.7581 - val_accuracy: 0.9620\n",
      "Epoch 3/50\n",
      "63/63 [==============================] - 3s 53ms/step - loss: 6.5587 - accuracy: 0.9570 - val_loss: 5.6807 - val_accuracy: 0.9590\n",
      "Epoch 4/50\n",
      "63/63 [==============================] - 4s 56ms/step - loss: 4.4935 - accuracy: 0.9605 - val_loss: 6.0700 - val_accuracy: 0.9640\n",
      "Epoch 5/50\n",
      "63/63 [==============================] - 4s 56ms/step - loss: 3.2817 - accuracy: 0.9675 - val_loss: 6.1735 - val_accuracy: 0.9650\n",
      "Epoch 6/50\n",
      "63/63 [==============================] - 3s 52ms/step - loss: 5.4043 - accuracy: 0.9590 - val_loss: 7.8655 - val_accuracy: 0.9640\n",
      "Epoch 7/50\n",
      "63/63 [==============================] - 3s 53ms/step - loss: 4.8845 - accuracy: 0.9620 - val_loss: 2.8868 - val_accuracy: 0.9760\n",
      "Epoch 8/50\n",
      "63/63 [==============================] - 3s 53ms/step - loss: 2.2545 - accuracy: 0.9765 - val_loss: 5.1264 - val_accuracy: 0.9700\n",
      "Epoch 9/50\n",
      "63/63 [==============================] - 3s 52ms/step - loss: 2.3987 - accuracy: 0.9770 - val_loss: 4.8956 - val_accuracy: 0.9740\n",
      "Epoch 10/50\n",
      "63/63 [==============================] - 4s 57ms/step - loss: 2.7642 - accuracy: 0.9730 - val_loss: 4.4262 - val_accuracy: 0.9770\n",
      "Epoch 11/50\n",
      "63/63 [==============================] - 3s 52ms/step - loss: 2.7902 - accuracy: 0.9755 - val_loss: 3.1060 - val_accuracy: 0.9770\n",
      "Epoch 12/50\n",
      "63/63 [==============================] - 3s 53ms/step - loss: 2.5042 - accuracy: 0.9755 - val_loss: 4.9537 - val_accuracy: 0.9680\n",
      "Epoch 13/50\n",
      "63/63 [==============================] - 3s 52ms/step - loss: 1.4807 - accuracy: 0.9795 - val_loss: 3.4375 - val_accuracy: 0.9790\n",
      "Epoch 14/50\n",
      "63/63 [==============================] - 3s 52ms/step - loss: 1.5025 - accuracy: 0.9840 - val_loss: 3.9441 - val_accuracy: 0.9740\n",
      "Epoch 15/50\n",
      "63/63 [==============================] - 3s 52ms/step - loss: 1.9034 - accuracy: 0.9805 - val_loss: 3.6990 - val_accuracy: 0.9730\n",
      "Epoch 16/50\n",
      "63/63 [==============================] - 3s 52ms/step - loss: 2.0529 - accuracy: 0.9770 - val_loss: 4.0766 - val_accuracy: 0.9780\n",
      "Epoch 17/50\n",
      "63/63 [==============================] - 3s 52ms/step - loss: 1.4646 - accuracy: 0.9790 - val_loss: 3.3099 - val_accuracy: 0.9770\n",
      "Epoch 18/50\n",
      "63/63 [==============================] - 3s 52ms/step - loss: 1.4809 - accuracy: 0.9820 - val_loss: 3.2118 - val_accuracy: 0.9720\n",
      "Epoch 19/50\n",
      "63/63 [==============================] - 3s 52ms/step - loss: 1.1507 - accuracy: 0.9815 - val_loss: 2.6941 - val_accuracy: 0.9750\n",
      "Epoch 20/50\n",
      "63/63 [==============================] - 3s 53ms/step - loss: 1.6299 - accuracy: 0.9805 - val_loss: 2.7439 - val_accuracy: 0.9760\n",
      "Epoch 21/50\n",
      "63/63 [==============================] - 3s 53ms/step - loss: 1.1083 - accuracy: 0.9845 - val_loss: 3.9618 - val_accuracy: 0.9790\n",
      "Epoch 22/50\n",
      "63/63 [==============================] - 3s 52ms/step - loss: 1.3424 - accuracy: 0.9835 - val_loss: 3.0976 - val_accuracy: 0.9810\n",
      "Epoch 23/50\n",
      "63/63 [==============================] - 3s 52ms/step - loss: 1.3167 - accuracy: 0.9795 - val_loss: 3.8232 - val_accuracy: 0.9720\n",
      "Epoch 24/50\n",
      "63/63 [==============================] - 3s 53ms/step - loss: 1.3782 - accuracy: 0.9810 - val_loss: 2.3537 - val_accuracy: 0.9780\n",
      "Epoch 25/50\n",
      "63/63 [==============================] - 3s 53ms/step - loss: 0.9867 - accuracy: 0.9845 - val_loss: 2.9392 - val_accuracy: 0.9770\n",
      "Epoch 26/50\n",
      "63/63 [==============================] - 3s 53ms/step - loss: 0.9766 - accuracy: 0.9825 - val_loss: 2.4336 - val_accuracy: 0.9780\n",
      "Epoch 27/50\n",
      "63/63 [==============================] - 3s 52ms/step - loss: 1.0308 - accuracy: 0.9830 - val_loss: 3.6002 - val_accuracy: 0.9720\n",
      "Epoch 28/50\n",
      "63/63 [==============================] - 3s 52ms/step - loss: 0.6114 - accuracy: 0.9850 - val_loss: 2.4190 - val_accuracy: 0.9810\n",
      "Epoch 29/50\n",
      "63/63 [==============================] - 3s 52ms/step - loss: 0.7387 - accuracy: 0.9855 - val_loss: 4.1295 - val_accuracy: 0.9660\n",
      "Epoch 30/50\n",
      "63/63 [==============================] - 3s 52ms/step - loss: 0.5670 - accuracy: 0.9845 - val_loss: 3.4808 - val_accuracy: 0.9740\n",
      "Epoch 31/50\n",
      "63/63 [==============================] - 3s 53ms/step - loss: 0.7438 - accuracy: 0.9855 - val_loss: 2.7265 - val_accuracy: 0.9750\n",
      "Epoch 32/50\n",
      "63/63 [==============================] - 3s 52ms/step - loss: 0.6358 - accuracy: 0.9880 - val_loss: 4.9777 - val_accuracy: 0.9630\n",
      "Epoch 33/50\n",
      "63/63 [==============================] - 3s 52ms/step - loss: 1.0329 - accuracy: 0.9845 - val_loss: 2.0601 - val_accuracy: 0.9770\n",
      "Epoch 34/50\n",
      "63/63 [==============================] - 3s 52ms/step - loss: 0.5896 - accuracy: 0.9895 - val_loss: 2.1925 - val_accuracy: 0.9800\n",
      "Epoch 35/50\n",
      "63/63 [==============================] - 3s 52ms/step - loss: 0.9808 - accuracy: 0.9855 - val_loss: 2.6108 - val_accuracy: 0.9790\n",
      "Epoch 36/50\n",
      "63/63 [==============================] - 4s 53ms/step - loss: 0.8450 - accuracy: 0.9850 - val_loss: 2.7040 - val_accuracy: 0.9710\n",
      "Epoch 37/50\n",
      "63/63 [==============================] - 3s 53ms/step - loss: 0.5562 - accuracy: 0.9875 - val_loss: 2.3025 - val_accuracy: 0.9730\n",
      "Epoch 38/50\n",
      "63/63 [==============================] - 3s 51ms/step - loss: 1.2197 - accuracy: 0.9820 - val_loss: 2.5752 - val_accuracy: 0.9760\n",
      "Epoch 39/50\n",
      "63/63 [==============================] - 3s 52ms/step - loss: 0.6530 - accuracy: 0.9890 - val_loss: 3.0409 - val_accuracy: 0.9690\n",
      "Epoch 40/50\n",
      "63/63 [==============================] - 3s 52ms/step - loss: 0.3301 - accuracy: 0.9940 - val_loss: 2.8597 - val_accuracy: 0.9800\n",
      "Epoch 41/50\n",
      "63/63 [==============================] - 3s 52ms/step - loss: 0.5592 - accuracy: 0.9895 - val_loss: 2.3041 - val_accuracy: 0.9750\n",
      "Epoch 42/50\n",
      "63/63 [==============================] - 3s 52ms/step - loss: 0.5874 - accuracy: 0.9920 - val_loss: 2.4542 - val_accuracy: 0.9760\n",
      "Epoch 43/50\n",
      "63/63 [==============================] - 3s 52ms/step - loss: 0.3692 - accuracy: 0.9905 - val_loss: 2.3337 - val_accuracy: 0.9780\n",
      "Epoch 44/50\n",
      "63/63 [==============================] - 3s 53ms/step - loss: 0.9109 - accuracy: 0.9860 - val_loss: 2.7692 - val_accuracy: 0.9780\n",
      "Epoch 45/50\n",
      "63/63 [==============================] - 3s 52ms/step - loss: 0.8140 - accuracy: 0.9860 - val_loss: 2.4054 - val_accuracy: 0.9750\n",
      "Epoch 46/50\n",
      "63/63 [==============================] - 3s 53ms/step - loss: 0.7053 - accuracy: 0.9885 - val_loss: 2.5727 - val_accuracy: 0.9790\n",
      "Epoch 47/50\n",
      "63/63 [==============================] - 3s 53ms/step - loss: 0.6289 - accuracy: 0.9865 - val_loss: 2.2830 - val_accuracy: 0.9760\n",
      "Epoch 48/50\n",
      "63/63 [==============================] - 3s 52ms/step - loss: 0.5192 - accuracy: 0.9885 - val_loss: 2.3128 - val_accuracy: 0.9780\n",
      "Epoch 49/50\n",
      "63/63 [==============================] - 3s 52ms/step - loss: 0.5046 - accuracy: 0.9905 - val_loss: 2.6822 - val_accuracy: 0.9770\n",
      "Epoch 50/50\n",
      "63/63 [==============================] - 3s 53ms/step - loss: 0.8204 - accuracy: 0.9860 - val_loss: 2.0805 - val_accuracy: 0.9790\n"
     ]
    }
   ],
   "source": [
    "callbacks = [\n",
    "    keras.callbacks.ModelCheckpoint(\n",
    "        filepath=\"feature_extraction_with_data_augmentation.keras\",\n",
    "        save_best_only=True,\n",
    "        monitor=\"val_loss\")\n",
    "]\n",
    "history = model.fit(\n",
    "    train_dataset,\n",
    "    epochs=50,\n",
    "    validation_data=validation_dataset,\n",
    "    callbacks=callbacks)"
   ]
  },
  {
   "cell_type": "markdown",
   "metadata": {
    "id": "Mc7jIguOCDPq"
   },
   "source": [
    "**Evaluating the model on the test set**"
   ]
  },
  {
   "cell_type": "code",
   "execution_count": 32,
   "metadata": {
    "execution": {
     "iopub.execute_input": "2023-10-21T20:03:39.533440Z",
     "iopub.status.busy": "2023-10-21T20:03:39.530418Z",
     "iopub.status.idle": "2023-10-21T20:03:41.841379Z",
     "shell.execute_reply": "2023-10-21T20:03:41.840362Z"
    },
    "id": "vE3IA6DeCDPr"
   },
   "outputs": [
    {
     "name": "stdout",
     "output_type": "stream",
     "text": [
      "32/32 [==============================] - 1s 32ms/step - loss: 2.4537 - accuracy: 0.9770\n",
      "Test accuracy: 0.977\n"
     ]
    }
   ],
   "source": [
    "test_model = keras.models.load_model(\n",
    "    \"feature_extraction_with_data_augmentation.keras\")\n",
    "test_loss, test_acc = test_model.evaluate(test_dataset)\n",
    "print(f\"Test accuracy: {test_acc:.3f}\")"
   ]
  },
  {
   "cell_type": "markdown",
   "metadata": {
    "id": "IwoaUGYDCDPr"
   },
   "source": [
    "### Fine-tuning a pretrained model"
   ]
  },
  {
   "cell_type": "code",
   "execution_count": 33,
   "metadata": {
    "execution": {
     "iopub.execute_input": "2023-10-21T20:03:41.848941Z",
     "iopub.status.busy": "2023-10-21T20:03:41.847834Z",
     "iopub.status.idle": "2023-10-21T20:03:41.866098Z",
     "shell.execute_reply": "2023-10-21T20:03:41.867060Z"
    },
    "id": "ea0oRsFNCDPr"
   },
   "outputs": [
    {
     "name": "stdout",
     "output_type": "stream",
     "text": [
      "Model: \"vgg16\"\n",
      "_________________________________________________________________\n",
      "Layer (type)                 Output Shape              Param #   \n",
      "=================================================================\n",
      "input_3 (InputLayer)         [(None, None, None, 3)]   0         \n",
      "_________________________________________________________________\n",
      "block1_conv1 (Conv2D)        (None, None, None, 64)    1792      \n",
      "_________________________________________________________________\n",
      "block1_conv2 (Conv2D)        (None, None, None, 64)    36928     \n",
      "_________________________________________________________________\n",
      "block1_pool (MaxPooling2D)   (None, None, None, 64)    0         \n",
      "_________________________________________________________________\n",
      "block2_conv1 (Conv2D)        (None, None, None, 128)   73856     \n",
      "_________________________________________________________________\n",
      "block2_conv2 (Conv2D)        (None, None, None, 128)   147584    \n",
      "_________________________________________________________________\n",
      "block2_pool (MaxPooling2D)   (None, None, None, 128)   0         \n",
      "_________________________________________________________________\n",
      "block3_conv1 (Conv2D)        (None, None, None, 256)   295168    \n",
      "_________________________________________________________________\n",
      "block3_conv2 (Conv2D)        (None, None, None, 256)   590080    \n",
      "_________________________________________________________________\n",
      "block3_conv3 (Conv2D)        (None, None, None, 256)   590080    \n",
      "_________________________________________________________________\n",
      "block3_pool (MaxPooling2D)   (None, None, None, 256)   0         \n",
      "_________________________________________________________________\n",
      "block4_conv1 (Conv2D)        (None, None, None, 512)   1180160   \n",
      "_________________________________________________________________\n",
      "block4_conv2 (Conv2D)        (None, None, None, 512)   2359808   \n",
      "_________________________________________________________________\n",
      "block4_conv3 (Conv2D)        (None, None, None, 512)   2359808   \n",
      "_________________________________________________________________\n",
      "block4_pool (MaxPooling2D)   (None, None, None, 512)   0         \n",
      "_________________________________________________________________\n",
      "block5_conv1 (Conv2D)        (None, None, None, 512)   2359808   \n",
      "_________________________________________________________________\n",
      "block5_conv2 (Conv2D)        (None, None, None, 512)   2359808   \n",
      "_________________________________________________________________\n",
      "block5_conv3 (Conv2D)        (None, None, None, 512)   2359808   \n",
      "_________________________________________________________________\n",
      "block5_pool (MaxPooling2D)   (None, None, None, 512)   0         \n",
      "=================================================================\n",
      "Total params: 14,714,688\n",
      "Trainable params: 0\n",
      "Non-trainable params: 14,714,688\n",
      "_________________________________________________________________\n"
     ]
    }
   ],
   "source": [
    "conv_base.summary()"
   ]
  },
  {
   "cell_type": "markdown",
   "metadata": {
    "id": "t0-rO_h4CDPr"
   },
   "source": [
    "**Freezing all layers until the fourth from the last**"
   ]
  },
  {
   "cell_type": "code",
   "execution_count": 34,
   "metadata": {
    "execution": {
     "iopub.execute_input": "2023-10-21T20:03:41.876330Z",
     "iopub.status.busy": "2023-10-21T20:03:41.875230Z",
     "iopub.status.idle": "2023-10-21T20:03:41.878379Z",
     "shell.execute_reply": "2023-10-21T20:03:41.879231Z"
    },
    "id": "Imk9UeGUCDPr"
   },
   "outputs": [],
   "source": [
    "conv_base.trainable = True\n",
    "for layer in conv_base.layers[:-4]:\n",
    "    layer.trainable = False"
   ]
  },
  {
   "cell_type": "markdown",
   "metadata": {
    "id": "SDlYA6aBCDPr"
   },
   "source": [
    "**Fine-tuning the model**"
   ]
  },
  {
   "cell_type": "code",
   "execution_count": 35,
   "metadata": {
    "execution": {
     "iopub.execute_input": "2023-10-21T20:03:41.888762Z",
     "iopub.status.busy": "2023-10-21T20:03:41.887689Z",
     "iopub.status.idle": "2023-10-21T20:05:37.678577Z",
     "shell.execute_reply": "2023-10-21T20:05:37.679738Z"
    },
    "id": "biJcRYHzCDPr"
   },
   "outputs": [
    {
     "name": "stdout",
     "output_type": "stream",
     "text": [
      "Epoch 1/30\n",
      "63/63 [==============================] - 5s 61ms/step - loss: 0.3013 - accuracy: 0.9920 - val_loss: 2.3283 - val_accuracy: 0.9720\n",
      "Epoch 2/30\n",
      "63/63 [==============================] - 4s 56ms/step - loss: 0.4117 - accuracy: 0.9850 - val_loss: 2.0034 - val_accuracy: 0.9790\n",
      "Epoch 3/30\n",
      "63/63 [==============================] - 4s 56ms/step - loss: 0.4557 - accuracy: 0.9890 - val_loss: 2.1317 - val_accuracy: 0.9780\n",
      "Epoch 4/30\n",
      "63/63 [==============================] - 4s 56ms/step - loss: 0.3864 - accuracy: 0.9875 - val_loss: 2.2103 - val_accuracy: 0.9800\n",
      "Epoch 5/30\n",
      "63/63 [==============================] - 4s 57ms/step - loss: 0.2877 - accuracy: 0.9920 - val_loss: 2.3774 - val_accuracy: 0.9760\n",
      "Epoch 6/30\n",
      "63/63 [==============================] - 4s 57ms/step - loss: 0.2910 - accuracy: 0.9890 - val_loss: 2.4382 - val_accuracy: 0.9740\n",
      "Epoch 7/30\n",
      "63/63 [==============================] - 4s 56ms/step - loss: 0.1776 - accuracy: 0.9930 - val_loss: 2.0192 - val_accuracy: 0.9780\n",
      "Epoch 8/30\n",
      "63/63 [==============================] - 4s 56ms/step - loss: 0.3179 - accuracy: 0.9915 - val_loss: 2.1185 - val_accuracy: 0.9750\n",
      "Epoch 9/30\n",
      "63/63 [==============================] - 4s 56ms/step - loss: 0.2422 - accuracy: 0.9930 - val_loss: 1.8964 - val_accuracy: 0.9770\n",
      "Epoch 10/30\n",
      "63/63 [==============================] - 4s 56ms/step - loss: 0.2623 - accuracy: 0.9940 - val_loss: 1.5055 - val_accuracy: 0.9820\n",
      "Epoch 11/30\n",
      "63/63 [==============================] - 4s 56ms/step - loss: 0.2996 - accuracy: 0.9920 - val_loss: 1.2986 - val_accuracy: 0.9820\n",
      "Epoch 12/30\n",
      "63/63 [==============================] - 4s 56ms/step - loss: 0.0817 - accuracy: 0.9975 - val_loss: 1.7039 - val_accuracy: 0.9800\n",
      "Epoch 13/30\n",
      "63/63 [==============================] - 4s 56ms/step - loss: 0.2091 - accuracy: 0.9940 - val_loss: 1.7767 - val_accuracy: 0.9820\n",
      "Epoch 14/30\n",
      "63/63 [==============================] - 4s 56ms/step - loss: 0.2408 - accuracy: 0.9940 - val_loss: 1.6753 - val_accuracy: 0.9810\n",
      "Epoch 15/30\n",
      "63/63 [==============================] - 4s 56ms/step - loss: 0.2389 - accuracy: 0.9950 - val_loss: 1.4084 - val_accuracy: 0.9800\n",
      "Epoch 16/30\n",
      "63/63 [==============================] - 4s 56ms/step - loss: 0.1064 - accuracy: 0.9955 - val_loss: 1.6390 - val_accuracy: 0.9790\n",
      "Epoch 17/30\n",
      "63/63 [==============================] - 4s 56ms/step - loss: 0.0449 - accuracy: 0.9990 - val_loss: 1.6157 - val_accuracy: 0.9790\n",
      "Epoch 18/30\n",
      "63/63 [==============================] - 4s 56ms/step - loss: 0.1464 - accuracy: 0.9930 - val_loss: 1.7780 - val_accuracy: 0.9770\n",
      "Epoch 19/30\n",
      "63/63 [==============================] - 4s 56ms/step - loss: 0.2795 - accuracy: 0.9955 - val_loss: 1.5480 - val_accuracy: 0.9780\n",
      "Epoch 20/30\n",
      "63/63 [==============================] - 4s 56ms/step - loss: 0.0916 - accuracy: 0.9970 - val_loss: 1.7212 - val_accuracy: 0.9760\n",
      "Epoch 21/30\n",
      "63/63 [==============================] - 4s 57ms/step - loss: 0.0743 - accuracy: 0.9965 - val_loss: 1.1029 - val_accuracy: 0.9800\n",
      "Epoch 22/30\n",
      "63/63 [==============================] - 4s 56ms/step - loss: 0.1037 - accuracy: 0.9960 - val_loss: 1.8676 - val_accuracy: 0.9760\n",
      "Epoch 23/30\n",
      "63/63 [==============================] - 4s 57ms/step - loss: 0.1488 - accuracy: 0.9940 - val_loss: 1.5035 - val_accuracy: 0.9810\n",
      "Epoch 24/30\n",
      "63/63 [==============================] - 4s 56ms/step - loss: 0.0420 - accuracy: 0.9970 - val_loss: 1.4502 - val_accuracy: 0.9810\n",
      "Epoch 25/30\n",
      "63/63 [==============================] - 4s 56ms/step - loss: 0.0781 - accuracy: 0.9965 - val_loss: 1.5331 - val_accuracy: 0.9810\n",
      "Epoch 26/30\n",
      "63/63 [==============================] - 4s 57ms/step - loss: 0.1049 - accuracy: 0.9955 - val_loss: 1.3614 - val_accuracy: 0.9800\n",
      "Epoch 27/30\n",
      "63/63 [==============================] - 4s 56ms/step - loss: 0.0205 - accuracy: 0.9985 - val_loss: 1.2473 - val_accuracy: 0.9820\n",
      "Epoch 28/30\n",
      "63/63 [==============================] - 4s 56ms/step - loss: 0.1799 - accuracy: 0.9940 - val_loss: 1.7278 - val_accuracy: 0.9790\n",
      "Epoch 29/30\n",
      "63/63 [==============================] - 4s 56ms/step - loss: 0.0545 - accuracy: 0.9980 - val_loss: 1.5502 - val_accuracy: 0.9820\n",
      "Epoch 30/30\n",
      "63/63 [==============================] - 4s 57ms/step - loss: 0.0587 - accuracy: 0.9950 - val_loss: 2.0134 - val_accuracy: 0.9760\n"
     ]
    }
   ],
   "source": [
    "model.compile(loss=\"binary_crossentropy\",\n",
    "              optimizer=keras.optimizers.RMSprop(learning_rate=1e-5),\n",
    "              metrics=[\"accuracy\"])\n",
    "\n",
    "callbacks = [\n",
    "    keras.callbacks.ModelCheckpoint(\n",
    "        filepath=\"fine_tuning.keras\",\n",
    "        save_best_only=True,\n",
    "        monitor=\"val_loss\")\n",
    "]\n",
    "history = model.fit(\n",
    "    train_dataset,\n",
    "    epochs=30,\n",
    "    validation_data=validation_dataset,\n",
    "    callbacks=callbacks)"
   ]
  },
  {
   "cell_type": "code",
   "execution_count": 36,
   "metadata": {
    "execution": {
     "iopub.execute_input": "2023-10-21T20:05:37.688199Z",
     "iopub.status.busy": "2023-10-21T20:05:37.686795Z",
     "iopub.status.idle": "2023-10-21T20:05:40.534204Z",
     "shell.execute_reply": "2023-10-21T20:05:40.535164Z"
    },
    "id": "-5WMjJDBCDPs"
   },
   "outputs": [
    {
     "name": "stdout",
     "output_type": "stream",
     "text": [
      "32/32 [==============================] - 1s 33ms/step - loss: 1.5191 - accuracy: 0.9810\n",
      "Test accuracy: 0.981\n"
     ]
    }
   ],
   "source": [
    "model = keras.models.load_model(\"fine_tuning.keras\")\n",
    "test_loss, test_acc = model.evaluate(test_dataset)\n",
    "print(f\"Test accuracy: {test_acc:.3f}\")"
   ]
  },
  {
   "cell_type": "markdown",
   "metadata": {
    "id": "v_QxUVQNCDPs",
    "jp-MarkdownHeadingCollapsed": true,
    "tags": []
   },
   "source": [
    "## Summary"
   ]
  }
 ],
 "metadata": {
  "colab": {
   "provenance": [
    {
     "file_id": "https://github.com/fchollet/deep-learning-with-python-notebooks/blob/master/chapter08_intro-to-dl-for-computer-vision.ipynb",
     "timestamp": 1697604276120
    }
   ],
   "toc_visible": true
  },
  "kernelspec": {
   "display_name": "Python 3",
   "language": "python",
   "name": "python3"
  },
  "language_info": {
   "codemirror_mode": {
    "name": "ipython",
    "version": 3
   },
   "file_extension": ".py",
   "mimetype": "text/x-python",
   "name": "python",
   "nbconvert_exporter": "python",
   "pygments_lexer": "ipython3",
   "version": "3.6.8"
  }
 },
 "nbformat": 4,
 "nbformat_minor": 4
}
